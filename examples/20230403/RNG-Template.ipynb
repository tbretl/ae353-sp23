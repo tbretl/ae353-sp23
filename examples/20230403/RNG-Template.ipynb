{
 "cells": [
  {
   "cell_type": "markdown",
   "id": "f5c59304",
   "metadata": {},
   "source": [
    "Do imports."
   ]
  },
  {
   "cell_type": "code",
   "execution_count": null,
   "id": "c40f15e3",
   "metadata": {},
   "outputs": [],
   "source": [
    "import numpy as np\n",
    "import matplotlib.pyplot as plt\n",
    "np.set_printoptions(suppress=True)"
   ]
  },
  {
   "cell_type": "markdown",
   "id": "33fc3d7b",
   "metadata": {},
   "source": [
    "Create a random number generator."
   ]
  },
  {
   "cell_type": "code",
   "execution_count": null,
   "id": "4f412ce6",
   "metadata": {},
   "outputs": [],
   "source": [
    "rng = np.random.default_rng()"
   ]
  },
  {
   "cell_type": "markdown",
   "id": "95676f10",
   "metadata": {},
   "source": [
    "Sample items uniformly at random from a list."
   ]
  },
  {
   "cell_type": "code",
   "execution_count": null,
   "id": "326e05c2",
   "metadata": {},
   "outputs": [],
   "source": [
    "rng.choice(['heads', 'tails'], size=1)"
   ]
  },
  {
   "cell_type": "markdown",
   "id": "a5e8a7e9",
   "metadata": {},
   "source": [
    "Count items that were sampled."
   ]
  },
  {
   "cell_type": "code",
   "execution_count": null,
   "id": "719ac03d",
   "metadata": {},
   "outputs": [],
   "source": [
    "items = rng.choice(['heads', 'tails'], size=10)\n",
    "unique, counts = np.unique(items, return_counts=True)\n",
    "sampled = dict(zip(unique, counts))\n",
    "print(sampled)"
   ]
  },
  {
   "cell_type": "markdown",
   "id": "4388c39f",
   "metadata": {},
   "source": [
    "Sample integers uniformly at random."
   ]
  },
  {
   "cell_type": "code",
   "execution_count": null,
   "id": "84892873",
   "metadata": {},
   "outputs": [],
   "source": [
    "rng.integers(1, 6, endpoint=True, size=1)"
   ]
  },
  {
   "cell_type": "markdown",
   "id": "97a90721",
   "metadata": {},
   "source": [
    "Sample floating-point numbers uniformly at random from the unit interval."
   ]
  },
  {
   "cell_type": "code",
   "execution_count": null,
   "id": "735bc588",
   "metadata": {},
   "outputs": [],
   "source": [
    "rng.uniform(size=1)"
   ]
  },
  {
   "cell_type": "markdown",
   "id": "ca25f2fc",
   "metadata": {},
   "source": [
    "Sample floating-point numbers from the standard normal distribution."
   ]
  },
  {
   "cell_type": "code",
   "execution_count": null,
   "id": "64917015",
   "metadata": {},
   "outputs": [],
   "source": [
    "rng.standard_normal(size=1)"
   ]
  },
  {
   "cell_type": "markdown",
   "id": "6f4d58da",
   "metadata": {},
   "source": [
    "Create a histogram of numbers."
   ]
  },
  {
   "cell_type": "code",
   "execution_count": null,
   "id": "f7635c58",
   "metadata": {},
   "outputs": [],
   "source": [
    "nums = rng.uniform(size=100)\n",
    "fig, ax = plt.subplots(1, 1, figsize=(5, 3))\n",
    "ax.hist(nums, np.linspace(0, 1, 10))\n",
    "fig.tight_layout()\n",
    "plt.show()"
   ]
  }
 ],
 "metadata": {
  "kernelspec": {
   "display_name": "Python 3 (ipykernel)",
   "language": "python",
   "name": "python3"
  },
  "language_info": {
   "codemirror_mode": {
    "name": "ipython",
    "version": 3
   },
   "file_extension": ".py",
   "mimetype": "text/x-python",
   "name": "python",
   "nbconvert_exporter": "python",
   "pygments_lexer": "ipython3",
   "version": "3.11.0"
  }
 },
 "nbformat": 4,
 "nbformat_minor": 5
}
