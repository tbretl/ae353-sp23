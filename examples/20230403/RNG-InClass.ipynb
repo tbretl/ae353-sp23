{
 "cells": [
  {
   "cell_type": "markdown",
   "id": "f5c59304",
   "metadata": {},
   "source": [
    "Do imports."
   ]
  },
  {
   "cell_type": "code",
   "execution_count": 1,
   "id": "c40f15e3",
   "metadata": {},
   "outputs": [],
   "source": [
    "import numpy as np\n",
    "import matplotlib.pyplot as plt\n",
    "np.set_printoptions(suppress=True)"
   ]
  },
  {
   "cell_type": "markdown",
   "id": "33fc3d7b",
   "metadata": {},
   "source": [
    "Create a random number generator."
   ]
  },
  {
   "cell_type": "code",
   "execution_count": 17,
   "id": "4f412ce6",
   "metadata": {},
   "outputs": [],
   "source": [
    "rng = np.random.default_rng(7)"
   ]
  },
  {
   "cell_type": "code",
   "execution_count": null,
   "id": "984ee37b",
   "metadata": {},
   "outputs": [],
   "source": []
  },
  {
   "cell_type": "code",
   "execution_count": null,
   "id": "9bb4de07",
   "metadata": {},
   "outputs": [],
   "source": []
  },
  {
   "cell_type": "code",
   "execution_count": null,
   "id": "d513a75f",
   "metadata": {},
   "outputs": [],
   "source": []
  },
  {
   "cell_type": "code",
   "execution_count": 41,
   "id": "6d9e9e04",
   "metadata": {},
   "outputs": [
    {
     "name": "stdout",
     "output_type": "stream",
     "text": [
      "['heads' 'heads' 'heads' 'heads' 'heads' 'heads' 'heads' 'heads' 'heads'\n",
      " 'heads']\n"
     ]
    }
   ],
   "source": [
    "rng = np.random.default_rng(4303)\n",
    "print(rng.choice(['heads', 'tails'], size=10))"
   ]
  },
  {
   "cell_type": "code",
   "execution_count": null,
   "id": "76bcf147",
   "metadata": {},
   "outputs": [],
   "source": []
  },
  {
   "cell_type": "code",
   "execution_count": null,
   "id": "1a2e1548",
   "metadata": {},
   "outputs": [],
   "source": []
  },
  {
   "cell_type": "markdown",
   "id": "95676f10",
   "metadata": {},
   "source": [
    "Sample items uniformly at random from a list."
   ]
  },
  {
   "cell_type": "code",
   "execution_count": 18,
   "id": "5727a9f0",
   "metadata": {},
   "outputs": [
    {
     "name": "stdout",
     "output_type": "stream",
     "text": [
      "['tails' 'tails' 'tails' 'tails' 'tails' 'tails' 'tails' 'heads' 'heads'\n",
      " 'heads']\n"
     ]
    }
   ],
   "source": [
    "print(rng.choice(['heads', 'tails'], size=10))"
   ]
  },
  {
   "cell_type": "code",
   "execution_count": 20,
   "id": "d547ccf3",
   "metadata": {},
   "outputs": [
    {
     "name": "stdout",
     "output_type": "stream",
     "text": [
      "['tails' 'tails' 'tails' 'tails' 'tails' 'tails' 'tails' 'heads' 'heads'\n",
      " 'heads']\n"
     ]
    }
   ],
   "source": [
    "rng7 = np.random.default_rng(7)\n",
    "print(rng7.choice(['heads', 'tails'], size=10))"
   ]
  },
  {
   "cell_type": "code",
   "execution_count": 21,
   "id": "5a1f8fc9",
   "metadata": {},
   "outputs": [
    {
     "name": "stdout",
     "output_type": "stream",
     "text": [
      "['tails' 'tails' 'tails' 'tails' 'tails' 'tails' 'tails' 'heads' 'heads'\n",
      " 'heads']\n"
     ]
    }
   ],
   "source": [
    "rng7_again = np.random.default_rng(7)\n",
    "print(rng7_again.choice(['heads', 'tails'], size=10))"
   ]
  },
  {
   "cell_type": "code",
   "execution_count": 22,
   "id": "69c4501d",
   "metadata": {},
   "outputs": [
    {
     "name": "stdout",
     "output_type": "stream",
     "text": [
      "['tails' 'tails' 'tails' 'tails' 'tails']\n"
     ]
    }
   ],
   "source": [
    "rng7_yetagain = np.random.default_rng(7)\n",
    "print(rng7_yetagain.choice(['heads', 'tails'], size=5))"
   ]
  },
  {
   "cell_type": "code",
   "execution_count": 23,
   "id": "f6ec7602",
   "metadata": {},
   "outputs": [
    {
     "name": "stdout",
     "output_type": "stream",
     "text": [
      "['tails' 'heads' 'tails' 'heads' 'tails' 'heads' 'heads' 'tails' 'heads'\n",
      " 'heads']\n"
     ]
    }
   ],
   "source": [
    "rng22 = np.random.default_rng(22)\n",
    "print(rng22.choice(['heads', 'tails'], size=10))"
   ]
  },
  {
   "cell_type": "code",
   "execution_count": 24,
   "id": "73a1341d",
   "metadata": {},
   "outputs": [
    {
     "name": "stdout",
     "output_type": "stream",
     "text": [
      "['tails' 'heads' 'tails' 'heads' 'tails' 'heads' 'heads' 'tails' 'heads'\n",
      " 'heads']\n"
     ]
    }
   ],
   "source": [
    "rng22 = np.random.default_rng(22)\n",
    "print(rng22.choice(['heads', 'tails'], size=10))"
   ]
  },
  {
   "cell_type": "code",
   "execution_count": 26,
   "id": "a5af5a06",
   "metadata": {},
   "outputs": [
    {
     "name": "stdout",
     "output_type": "stream",
     "text": [
      "['tails' 'tails' 'heads' 'tails' 'tails' 'heads' 'tails' 'heads' 'tails'\n",
      " 'heads']\n"
     ]
    }
   ],
   "source": [
    "rng = np.random.default_rng()\n",
    "print(rng.choice(['heads', 'tails'], size=10))"
   ]
  },
  {
   "cell_type": "code",
   "execution_count": 27,
   "id": "d088075d",
   "metadata": {},
   "outputs": [
    {
     "name": "stdout",
     "output_type": "stream",
     "text": [
      "['tails' 'heads' 'tails' 'heads' 'heads' 'tails' 'heads' 'heads' 'tails'\n",
      " 'heads']\n"
     ]
    }
   ],
   "source": [
    "rng = np.random.default_rng()\n",
    "print(rng.choice(['heads', 'tails'], size=10))"
   ]
  },
  {
   "cell_type": "markdown",
   "id": "a5e8a7e9",
   "metadata": {},
   "source": [
    "Count items that were sampled."
   ]
  },
  {
   "cell_type": "code",
   "execution_count": 31,
   "id": "719ac03d",
   "metadata": {},
   "outputs": [
    {
     "name": "stdout",
     "output_type": "stream",
     "text": [
      "{'heads': 499394, 'tails': 500606}\n"
     ]
    }
   ],
   "source": [
    "rng = np.random.default_rng(7)\n",
    "items = rng.choice(['heads', 'tails'], size=1000000)\n",
    "unique, counts = np.unique(items, return_counts=True)\n",
    "sampled = dict(zip(unique, counts))\n",
    "print(sampled)"
   ]
  },
  {
   "cell_type": "code",
   "execution_count": 32,
   "id": "c2569718",
   "metadata": {},
   "outputs": [
    {
     "name": "stdout",
     "output_type": "stream",
     "text": [
      "{'heads': 499394, 'tails': 500606}\n"
     ]
    }
   ],
   "source": [
    "rng = np.random.default_rng(7)\n",
    "items = rng.choice(['heads', 'tails'], size=1000000)\n",
    "unique, counts = np.unique(items, return_counts=True)\n",
    "sampled = dict(zip(unique, counts))\n",
    "print(sampled)"
   ]
  },
  {
   "cell_type": "code",
   "execution_count": 33,
   "id": "7a6828e5",
   "metadata": {},
   "outputs": [
    {
     "name": "stdout",
     "output_type": "stream",
     "text": [
      "{'heads': 500058, 'tails': 499942}\n"
     ]
    }
   ],
   "source": [
    "items = rng.choice(['heads', 'tails'], size=1000000)\n",
    "unique, counts = np.unique(items, return_counts=True)\n",
    "sampled = dict(zip(unique, counts))\n",
    "print(sampled)"
   ]
  },
  {
   "cell_type": "code",
   "execution_count": null,
   "id": "593a4d5f",
   "metadata": {},
   "outputs": [],
   "source": []
  },
  {
   "cell_type": "code",
   "execution_count": null,
   "id": "3a05f703",
   "metadata": {},
   "outputs": [],
   "source": []
  },
  {
   "cell_type": "code",
   "execution_count": 35,
   "id": "d2ac84d1",
   "metadata": {},
   "outputs": [],
   "source": [
    "rng = np.random.default_rng(7)"
   ]
  },
  {
   "cell_type": "code",
   "execution_count": 36,
   "id": "10470ac4",
   "metadata": {},
   "outputs": [
    {
     "name": "stdout",
     "output_type": "stream",
     "text": [
      "{'heads': 484, 'tails': 516}\n"
     ]
    }
   ],
   "source": [
    "items = rng.choice(['heads', 'tails'], size=1000)\n",
    "unique, counts = np.unique(items, return_counts=True)\n",
    "sampled = dict(zip(unique, counts))\n",
    "print(sampled)"
   ]
  },
  {
   "cell_type": "code",
   "execution_count": 37,
   "id": "0f8f36d9",
   "metadata": {},
   "outputs": [
    {
     "name": "stdout",
     "output_type": "stream",
     "text": [
      "{'heads': 499402, 'tails': 500598}\n"
     ]
    }
   ],
   "source": [
    "items = rng.choice(['heads', 'tails'], size=1000000)\n",
    "unique, counts = np.unique(items, return_counts=True)\n",
    "sampled = dict(zip(unique, counts))\n",
    "print(sampled)"
   ]
  },
  {
   "cell_type": "code",
   "execution_count": 38,
   "id": "2201d8ef",
   "metadata": {},
   "outputs": [
    {
     "name": "stdout",
     "output_type": "stream",
     "text": [
      "{'heads': 500042, 'tails': 499958}\n"
     ]
    }
   ],
   "source": [
    "items = rng.choice(['heads', 'tails'], size=1000000)\n",
    "unique, counts = np.unique(items, return_counts=True)\n",
    "sampled = dict(zip(unique, counts))\n",
    "print(sampled)"
   ]
  },
  {
   "cell_type": "code",
   "execution_count": null,
   "id": "a72dba96",
   "metadata": {},
   "outputs": [],
   "source": []
  },
  {
   "cell_type": "code",
   "execution_count": null,
   "id": "106a6099",
   "metadata": {},
   "outputs": [],
   "source": []
  },
  {
   "cell_type": "code",
   "execution_count": 39,
   "id": "8dfc5284",
   "metadata": {},
   "outputs": [],
   "source": [
    "rng = np.random.default_rng(7)"
   ]
  },
  {
   "cell_type": "code",
   "execution_count": 40,
   "id": "a95281ac",
   "metadata": {},
   "outputs": [
    {
     "name": "stdout",
     "output_type": "stream",
     "text": [
      "{'heads': 484, 'tails': 516}\n"
     ]
    }
   ],
   "source": [
    "items = rng.choice(['heads', 'tails'], size=1000)\n",
    "unique, counts = np.unique(items, return_counts=True)\n",
    "sampled = dict(zip(unique, counts))\n",
    "print(sampled)"
   ]
  },
  {
   "cell_type": "code",
   "execution_count": null,
   "id": "648d2f78",
   "metadata": {},
   "outputs": [],
   "source": []
  },
  {
   "cell_type": "markdown",
   "id": "4388c39f",
   "metadata": {},
   "source": [
    "Sample integers uniformly at random."
   ]
  },
  {
   "cell_type": "code",
   "execution_count": null,
   "id": "84892873",
   "metadata": {},
   "outputs": [],
   "source": [
    "rng.integers(1, 6, endpoint=True, size=1)"
   ]
  },
  {
   "cell_type": "markdown",
   "id": "97a90721",
   "metadata": {},
   "source": [
    "Sample floating-point numbers uniformly at random from the unit interval."
   ]
  },
  {
   "cell_type": "code",
   "execution_count": null,
   "id": "735bc588",
   "metadata": {},
   "outputs": [],
   "source": [
    "rng.uniform(size=1)"
   ]
  },
  {
   "cell_type": "markdown",
   "id": "ca25f2fc",
   "metadata": {},
   "source": [
    "Sample floating-point numbers from the standard normal distribution."
   ]
  },
  {
   "cell_type": "code",
   "execution_count": null,
   "id": "64917015",
   "metadata": {},
   "outputs": [],
   "source": [
    "rng.standard_normal(size=1)"
   ]
  },
  {
   "cell_type": "markdown",
   "id": "6f4d58da",
   "metadata": {},
   "source": [
    "Create a histogram of numbers."
   ]
  },
  {
   "cell_type": "code",
   "execution_count": null,
   "id": "f7635c58",
   "metadata": {},
   "outputs": [],
   "source": [
    "nums = rng.uniform(size=100)\n",
    "fig, ax = plt.subplots(1, 1, figsize=(5, 3))\n",
    "ax.hist(nums, np.linspace(0, 1, 10))\n",
    "fig.tight_layout()\n",
    "plt.show()"
   ]
  }
 ],
 "metadata": {
  "kernelspec": {
   "display_name": "Python 3 (ipykernel)",
   "language": "python",
   "name": "python3"
  },
  "language_info": {
   "codemirror_mode": {
    "name": "ipython",
    "version": 3
   },
   "file_extension": ".py",
   "mimetype": "text/x-python",
   "name": "python",
   "nbconvert_exporter": "python",
   "pygments_lexer": "ipython3",
   "version": "3.11.0"
  }
 },
 "nbformat": 4,
 "nbformat_minor": 5
}
