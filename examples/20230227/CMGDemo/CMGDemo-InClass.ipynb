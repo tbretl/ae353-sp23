{
 "cells": [
  {
   "cell_type": "markdown",
   "id": "middle-acoustic",
   "metadata": {},
   "source": [
    "# Control moment gyroscope"
   ]
  },
  {
   "cell_type": "markdown",
   "id": "working-minority",
   "metadata": {},
   "source": [
    "Import modules and configure the notebook."
   ]
  },
  {
   "cell_type": "code",
   "execution_count": 1,
   "id": "dimensional-contamination",
   "metadata": {},
   "outputs": [
    {
     "name": "stderr",
     "output_type": "stream",
     "text": [
      "pybullet build time: Oct 28 2022 16:21:09\n"
     ]
    }
   ],
   "source": [
    "# This module is part of the python standard library\n",
    "import time\n",
    "\n",
    "# These modules are part of other existing libraries\n",
    "import numpy as np\n",
    "import matplotlib.pyplot as plt\n",
    "from scipy import linalg\n",
    "from scipy import signal\n",
    "\n",
    "# These are my own scripts\n",
    "import ae353_cmg           # <-- interface to simulator\n",
    "import ae353_cmg_analysis  # <-- derives state-space model"
   ]
  },
  {
   "cell_type": "markdown",
   "id": "661ba3c7",
   "metadata": {},
   "source": [
    "Choose equilibrium point."
   ]
  },
  {
   "cell_type": "code",
   "execution_count": 2,
   "id": "bbf12ffe",
   "metadata": {},
   "outputs": [],
   "source": [
    "q1e = np.pi\n",
    "q2e = 0.\n",
    "v1e = 0.\n",
    "v2e = 0.\n",
    "taue = 0."
   ]
  },
  {
   "cell_type": "markdown",
   "id": "b27ad87f",
   "metadata": {},
   "source": [
    "Get state-space model."
   ]
  },
  {
   "cell_type": "code",
   "execution_count": 3,
   "id": "8307f5ab",
   "metadata": {},
   "outputs": [
    {
     "name": "stdout",
     "output_type": "stream",
     "text": [
      "A =\n",
      "[[   0.            0.            1.            0.        ]\n",
      " [   0.            0.            0.            1.        ]\n",
      " [   4.34936821    0.            0.            1.10840168]\n",
      " [   0.            0.         -454.54545455    0.        ]]\n",
      "\n",
      "B =\n",
      "[[ 0.        ]\n",
      " [ 0.        ]\n",
      " [ 0.        ]\n",
      " [90.90909091]]\n"
     ]
    }
   ],
   "source": [
    "A, B = ae353_cmg_analysis.get_model({\n",
    "    'g': 9.81,\n",
    "    'q1e': q1e,\n",
    "    'q2e': q2e,\n",
    "    'v1e': v1e,\n",
    "    'v2e': v2e,\n",
    "    'taue': taue,\n",
    "})\n",
    "\n",
    "print(f'A =\\n{A}\\n\\nB =\\n{B}')"
   ]
  },
  {
   "cell_type": "markdown",
   "id": "708563dd",
   "metadata": {},
   "source": [
    "Check if the system is controllable."
   ]
  },
  {
   "cell_type": "code",
   "execution_count": 4,
   "id": "0d018473",
   "metadata": {},
   "outputs": [
    {
     "name": "stdout",
     "output_type": "stream",
     "text": [
      "W =\n",
      "[[     0.              0.            100.76378952      0.        ]\n",
      " [     0.             90.90909091      0.         -45801.72251118]\n",
      " [     0.            100.76378952      0.         -50328.4475738 ]\n",
      " [    90.90909091      0.         -45801.72251118      0.        ]]\n",
      "\n",
      "rank(W) = 4\n"
     ]
    }
   ],
   "source": [
    "W = np.block([B, A @ B, A @ A @ B, A @ A @ A @ B])\n",
    "print(f'W =\\n{W}\\n')\n",
    "print(f'rank(W) = {np.linalg.matrix_rank(W)}')"
   ]
  },
  {
   "cell_type": "markdown",
   "id": "aaf3d53e",
   "metadata": {},
   "source": [
    "This function returns the solution to the LQR problem\n",
    "\n",
    "$$\\begin{align*} \\underset{u_{[t_0,\\infty]}}{\\text{minimize}} &\\qquad\\int_{t_0}^{\\infty} \\left( x(t)^T Q x(t) + u(t)^T R u(t) \\right) dt\\\\ \\text{subject to} &\\qquad\\dot{x}(t)=Ax(t)+Bu(t) \\\\ &\\qquad x(t_0)=x_0. \\end{align*}$$"
   ]
  },
  {
   "cell_type": "code",
   "execution_count": 5,
   "id": "8b038f11",
   "metadata": {},
   "outputs": [],
   "source": [
    "def lqr(A, B, Q, R):\n",
    "    P = linalg.solve_continuous_are(A, B, Q, R)\n",
    "    K = linalg.inv(R) @  B.T @ P\n",
    "    return K, P"
   ]
  },
  {
   "cell_type": "markdown",
   "id": "7bfe87c5",
   "metadata": {},
   "source": [
    "Choose weights."
   ]
  },
  {
   "cell_type": "code",
   "execution_count": 6,
   "id": "cb5dcb02",
   "metadata": {},
   "outputs": [],
   "source": [
    "Q = np.diag([1., 1., 1., 1.])\n",
    "R = np.diag([1.])"
   ]
  },
  {
   "cell_type": "markdown",
   "id": "a3feb66f",
   "metadata": {},
   "source": [
    "Find optimal gain matrix (and cost matrix)."
   ]
  },
  {
   "cell_type": "code",
   "execution_count": 7,
   "id": "ca289e80",
   "metadata": {},
   "outputs": [
    {
     "name": "stdout",
     "output_type": "stream",
     "text": [
      "K =\n",
      "[[12.90416849 -1.          3.00347062  1.02529954]]\n",
      "\n"
     ]
    }
   ],
   "source": [
    "K, P = lqr(A, B, Q, R)\n",
    "print(f'K =\\n{K}\\n')"
   ]
  },
  {
   "cell_type": "markdown",
   "id": "00474dd4",
   "metadata": {},
   "source": [
    "Find closed-loop eigenvalues."
   ]
  },
  {
   "cell_type": "code",
   "execution_count": 8,
   "id": "717f22a2",
   "metadata": {},
   "outputs": [
    {
     "name": "stdout",
     "output_type": "stream",
     "text": [
      "p = [-84.96150598+0.j          -6.80911273+0.j\n",
      "  -0.71921508+0.40767846j  -0.71921508-0.40767846j]\n"
     ]
    }
   ],
   "source": [
    "# Show closed-loop eigenvalues\n",
    "print(f'p = {linalg.eigvals(A - B @ K)}')"
   ]
  },
  {
   "cell_type": "markdown",
   "id": "protective-retreat",
   "metadata": {},
   "source": [
    "Create an instance of the `Simulator` class, which is an interface to the [pybullet](http://pybullet.org) simulation engine.\n",
    "\n",
    "There are several optional arguments:\n",
    "\n",
    "* `display` (`True` or `False`) is whether or not to show the simulation window;\n",
    "* `damping` (a non-negative floating-point number, default `0.`) is the coefficient of viscous friction at each joint;\n",
    "* `load_mass` (a non-negative floating-point number, default `1.`) is the mass of the sphere attached to the platform;\n",
    "* `roll` (an angle in radians, default `np.pi / 2`) is the roll angle of the ground."
   ]
  },
  {
   "cell_type": "code",
   "execution_count": 9,
   "id": "placed-messenger",
   "metadata": {},
   "outputs": [
    {
     "name": "stdout",
     "output_type": "stream",
     "text": [
      "You can open the visualizer by visiting the following URL:\n",
      "http://127.0.0.1:7002/static/\n"
     ]
    }
   ],
   "source": [
    "simulator = ae353_cmg.Simulator(\n",
    "    display=True,\n",
    "    damping=0.,\n",
    "    load_mass=1.,\n",
    "    roll=np.pi / 2,\n",
    ")"
   ]
  },
  {
   "cell_type": "markdown",
   "id": "fa8737fb",
   "metadata": {},
   "source": [
    "Choose a default camera view (could also be `simulator.camera_topview()`)."
   ]
  },
  {
   "cell_type": "code",
   "execution_count": 10,
   "id": "2d921b42",
   "metadata": {},
   "outputs": [],
   "source": [
    "simulator.camera_sideview()"
   ]
  },
  {
   "cell_type": "markdown",
   "id": "3f9ebffb",
   "metadata": {},
   "source": [
    "Define a controller that maps sensor measurements to actuator commands. By default, it chooses to apply zero torque to the gimbal. Modify the `run` function to make the controller behave differently. This function will be called 100 times per second (i.e., at 100 Hz) by the simulator."
   ]
  },
  {
   "cell_type": "code",
   "execution_count": 11,
   "id": "bf439d71",
   "metadata": {},
   "outputs": [],
   "source": [
    "class Controller:\n",
    "    def __init__(self, K, q1e, q2e, v1e, v2e, taue):\n",
    "        self.K = K\n",
    "        self.q1e = q1e\n",
    "        self.q2e = q2e\n",
    "        self.v1e = v1e\n",
    "        self.v2e = v2e\n",
    "        self.taue = taue\n",
    "    \n",
    "    def reset(self):\n",
    "        pass\n",
    "    \n",
    "    def run(\n",
    "            self,\n",
    "            t,\n",
    "            platform_angle,\n",
    "            platform_velocity,\n",
    "            gimbal_angle,\n",
    "            gimbal_velocity,\n",
    "        ):\n",
    "        \n",
    "        x = np.array([\n",
    "            platform_angle - self.q1e,\n",
    "            gimbal_angle - self.q2e,\n",
    "            platform_velocity - self.v1e,\n",
    "            gimbal_velocity - self.v2e,\n",
    "        ])\n",
    "        u = - self.K @ x\n",
    "        gimbal_torque = u[0] + self.taue\n",
    "        \n",
    "        return gimbal_torque"
   ]
  },
  {
   "cell_type": "markdown",
   "id": "40059b98",
   "metadata": {},
   "source": [
    "Create an instance of the controller."
   ]
  },
  {
   "cell_type": "code",
   "execution_count": 12,
   "id": "1168ff65",
   "metadata": {},
   "outputs": [],
   "source": [
    "controller = Controller(K, q1e, q2e, v1e, v2e, taue)"
   ]
  },
  {
   "cell_type": "markdown",
   "id": "19c52b8d",
   "metadata": {},
   "source": [
    "Reset the simulator with given initial conditions. A separate PID controller, which you don't have to implement, will keep the rotor velocity constant."
   ]
  },
  {
   "cell_type": "code",
   "execution_count": 13,
   "id": "e9fc6510",
   "metadata": {},
   "outputs": [],
   "source": [
    "simulator.reset(\n",
    "    platform_angle=np.pi + 0.2,\n",
    "    platform_velocity=0.,\n",
    "    gimbal_angle=0.,\n",
    "    gimbal_velocity=0.,\n",
    "    rotor_velocity=500.,\n",
    ")"
   ]
  },
  {
   "cell_type": "markdown",
   "id": "a0c7b67a",
   "metadata": {},
   "source": [
    "Reset the controller."
   ]
  },
  {
   "cell_type": "code",
   "execution_count": 14,
   "id": "d169e3c4",
   "metadata": {},
   "outputs": [],
   "source": [
    "controller.reset()"
   ]
  },
  {
   "cell_type": "markdown",
   "id": "5cb3dacd",
   "metadata": {},
   "source": [
    "Run the simulator."
   ]
  },
  {
   "cell_type": "code",
   "execution_count": 15,
   "id": "8e649e63",
   "metadata": {},
   "outputs": [],
   "source": [
    "data = simulator.run(\n",
    "    controller,           # <-- required (an instance of your Controller class)\n",
    "    max_time=10.0,         # <-- optional (how long you want to run the simulation in seconds)\n",
    "    data_filename=None,   # <-- optional (name of file to which you want data saved, e.g., 'my_data.json')\n",
    "    video_filename=None,  # <-- optional (name of file to which you want video saved, e.g., 'my_video.mov')\n",
    ")"
   ]
  },
  {
   "cell_type": "markdown",
   "id": "38a9c4a6",
   "metadata": {},
   "source": [
    "Plot results."
   ]
  },
  {
   "cell_type": "code",
   "execution_count": 16,
   "id": "0cce775b",
   "metadata": {},
   "outputs": [
    {
     "data": {
      "image/png": "[encoded data removed]",
      "text/plain": [
       "<Figure size 800x600 with 3 Axes>"
      ]
     },
     "metadata": {},
     "output_type": "display_data"
    }
   ],
   "source": [
    "# Create a figure with three subplots, all of which share the same x-axis\n",
    "fig, (ax_platform, ax_gimbal, ax_torque) = plt.subplots(3, 1, figsize=(8, 6), sharex=True)\n",
    "\n",
    "# Plot platform angle\n",
    "ax_platform.plot(\n",
    "    data['t'], data['platform_angle'],\n",
    "    label=r'$q_{1}$', linewidth=4,\n",
    ")\n",
    "ax_platform.plot(\n",
    "    data['t'], q1e * np.ones_like(data['t']),\n",
    "    '--', label=r'$q_{1e}$', linewidth=2,\n",
    ")\n",
    "ax_platform.grid()\n",
    "ax_platform.legend(fontsize=12, ncol=2, loc='upper right')\n",
    "ax_platform.tick_params(labelsize=14)\n",
    "ax_platform.set_ylim(q1e - 0.75, q1e + 0.75)\n",
    "\n",
    "# Plot gimbal angle and velocity\n",
    "ax_gimbal.plot(\n",
    "    data['t'], data['gimbal_angle'],\n",
    "    label=r'$q_{2}$', linewidth=4,\n",
    ")\n",
    "ax_gimbal.plot(\n",
    "    data['t'], q2e * np.ones_like(data['t']),\n",
    "    '--', label=r'$q_{2e}$', linewidth=2,\n",
    ")\n",
    "ax_gimbal.grid()\n",
    "ax_gimbal.legend(fontsize=12, ncol=2, loc='upper right')\n",
    "ax_gimbal.tick_params(labelsize=14)\n",
    "ax_gimbal.set_ylim(q2e - 0.75, q2e + 0.75)\n",
    "\n",
    "# Plot torques\n",
    "ax_torque.plot(\n",
    "    data['t'], data['gimbal_torque'],\n",
    "    label=r'$\\tau$', linewidth=4,\n",
    ")\n",
    "ax_torque.plot(\n",
    "    data['t'], data['gimbal_torque_command'],\n",
    "    '--', label=r'$\\tau$ (commanded)', linewidth=2,\n",
    ")\n",
    "ax_torque.plot(\n",
    "    data['t'], np.ones_like(data['t']) * simulator.tau_max,\n",
    "    ':', label=r'$\\tau$ (max)', linewidth=4, color='C4', zorder=0,\n",
    ")\n",
    "ax_torque.plot(\n",
    "    data['t'], -np.ones_like(data['t']) * simulator.tau_max,\n",
    "    ':', linewidth=4, color='C4', zorder=0,\n",
    ")\n",
    "ax_torque.grid()\n",
    "ax_torque.legend(fontsize=12, ncol=3, loc='upper right')\n",
    "ax_torque.tick_params(labelsize=14)\n",
    "\n",
    "# Set x-axis properties (only need to do this on the last\n",
    "# subplot since all subplots share the same x-axis)\n",
    "ax_torque.set_xlabel('time (s)', fontsize=14)\n",
    "ax_torque.set_xlim([data['t'][0], data['t'][-1]])\n",
    "ax_torque.set_ylim(-1.2 * simulator.tau_max, 1.2 * simulator.tau_max)\n",
    "\n",
    "# Make the arrangement of subplots look nice\n",
    "fig.tight_layout()"
   ]
  },
  {
   "cell_type": "code",
   "execution_count": null,
   "id": "0b896c6b",
   "metadata": {},
   "outputs": [],
   "source": []
  },
  {
   "cell_type": "code",
   "execution_count": null,
   "id": "d96b1f87",
   "metadata": {},
   "outputs": [],
   "source": []
  }
 ],
 "metadata": {
  "kernelspec": {
   "display_name": "Python 3 (ipykernel)",
   "language": "python",
   "name": "python3"
  },
  "language_info": {
   "codemirror_mode": {
    "name": "ipython",
    "version": 3
   },
   "file_extension": ".py",
   "mimetype": "text/x-python",
   "name": "python",
   "nbconvert_exporter": "python",
   "pygments_lexer": "ipython3",
   "version": "3.11.0"
  }
 },
 "nbformat": 4,
 "nbformat_minor": 5
}
