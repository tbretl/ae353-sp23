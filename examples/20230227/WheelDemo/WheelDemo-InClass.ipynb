{
 "cells": [
  {
   "cell_type": "markdown",
   "id": "middle-acoustic",
   "metadata": {},
   "source": [
    "# Demo: Control of a wheel (with example of LQR)"
   ]
  },
  {
   "cell_type": "markdown",
   "id": "working-minority",
   "metadata": {},
   "source": [
    "Import modules and configure the notebook."
   ]
  },
  {
   "cell_type": "code",
   "execution_count": 1,
   "id": "dimensional-contamination",
   "metadata": {},
   "outputs": [
    {
     "name": "stderr",
     "output_type": "stream",
     "text": [
      "pybullet build time: Oct 28 2022 16:21:09\n"
     ]
    }
   ],
   "source": [
    "# These are standard modules\n",
    "import time\n",
    "import numpy as np\n",
    "import sympy as sym\n",
    "from scipy.signal import place_poles\n",
    "from scipy import linalg\n",
    "from scipy import signal\n",
    "import matplotlib.pyplot as plt\n",
    "from IPython.display import display, Latex, Markdown\n",
    "\n",
    "# This is a custom interface to the pybullet simulator\n",
    "import ae353_wheel\n",
    "\n",
    "# Suppress the use of scientific notation when printing small numbers\n",
    "np.set_printoptions(suppress=True)"
   ]
  },
  {
   "cell_type": "markdown",
   "id": "f3e9a663",
   "metadata": {},
   "source": [
    "#### Choose parameter values"
   ]
  },
  {
   "cell_type": "markdown",
   "id": "2ab48494",
   "metadata": {},
   "source": [
    "The equation of motion is\n",
    "\n",
    "$$c_1 \\ddot{q} = \\tau - c_2\\sin q$$\n",
    "\n",
    "where\n",
    "\n",
    "* $q$ is the wheel angle\n",
    "* $\\tau$ is the wheel torque, i.e., the torque applied to the wheel by a motor on the ground\n",
    "\n",
    "and where the values of $c_1$ and $c_2$ are given as follows:"
   ]
  },
  {
   "cell_type": "code",
   "execution_count": 2,
   "id": "2680ee94",
   "metadata": {},
   "outputs": [
    {
     "name": "stdout",
     "output_type": "stream",
     "text": [
      "m = 0.582495995340032\n",
      "J = 0.928644240570846\n"
     ]
    }
   ],
   "source": [
    "# Values of c1 and c2 for the example (do not change)\n",
    "c1 = 1.0\n",
    "c2 = 2.0\n",
    "\n",
    "# Values of other parameters that are given\n",
    "g = 9.81 # <-- acceleration of gravity\n",
    "r = 0.35 # <-- distance from wheel axis to marker (i.e., to the mass)\n",
    "\n",
    "# Values of other parameters that correspond to the coefficients c1 and c2 that we chose\n",
    "m = c2 / (g * r)   # <-- set in code\n",
    "J = c1 - m * r**2  # <-- set in URDF\n",
    "print(f'm = {m}\\nJ = {J}')"
   ]
  },
  {
   "cell_type": "markdown",
   "id": "8944e68d",
   "metadata": {},
   "source": [
    "#### Find state space model"
   ]
  },
  {
   "cell_type": "markdown",
   "id": "e0ab1e54",
   "metadata": {},
   "source": [
    "Define symbolic variables:"
   ]
  },
  {
   "cell_type": "code",
   "execution_count": 3,
   "id": "4ce1b515",
   "metadata": {},
   "outputs": [],
   "source": [
    "q, v, tau = sym.symbols('q, v, tau')"
   ]
  },
  {
   "cell_type": "markdown",
   "id": "68f409c6",
   "metadata": {},
   "source": [
    "Define ODEs:"
   ]
  },
  {
   "cell_type": "code",
   "execution_count": 4,
   "id": "d37500b2",
   "metadata": {},
   "outputs": [],
   "source": [
    "f = sym.Matrix([\n",
    "    v,\n",
    "    (tau - c2 * sym.sin(q)) / c1,\n",
    "])"
   ]
  },
  {
   "cell_type": "markdown",
   "id": "f12852e6",
   "metadata": {},
   "source": [
    "Convert floats to rationals:"
   ]
  },
  {
   "cell_type": "code",
   "execution_count": 5,
   "id": "4c828f58",
   "metadata": {},
   "outputs": [],
   "source": [
    "f = sym.nsimplify(f, rational=True)"
   ]
  },
  {
   "cell_type": "markdown",
   "id": "99cd4f90",
   "metadata": {},
   "source": [
    "See the result:"
   ]
  },
  {
   "cell_type": "code",
   "execution_count": 6,
   "id": "e718fd7c",
   "metadata": {},
   "outputs": [
    {
     "data": {
      "text/latex": [
       "$\\displaystyle \\left[\\begin{matrix}v\\\\\\tau - 2 \\sin{\\left(q \\right)}\\end{matrix}\\right]$"
      ],
      "text/plain": [
       "Matrix([\n",
       "[             v],\n",
       "[tau - 2*sin(q)]])"
      ]
     },
     "execution_count": 6,
     "metadata": {},
     "output_type": "execute_result"
    }
   ],
   "source": [
    "f"
   ]
  },
  {
   "cell_type": "markdown",
   "id": "58fe787c",
   "metadata": {},
   "source": [
    "Choose equilibrium point:"
   ]
  },
  {
   "cell_type": "code",
   "execution_count": 7,
   "id": "d98bfdc4",
   "metadata": {},
   "outputs": [],
   "source": [
    "q_e = np.pi\n",
    "v_e = 0.\n",
    "tau_e = 0."
   ]
  },
  {
   "cell_type": "markdown",
   "id": "32041bc0",
   "metadata": {},
   "source": [
    "Linearize:"
   ]
  },
  {
   "cell_type": "code",
   "execution_count": 8,
   "id": "8ab83098",
   "metadata": {},
   "outputs": [
    {
     "name": "stdout",
     "output_type": "stream",
     "text": [
      "A =\n",
      "[[0. 1.]\n",
      " [2. 0.]]\n",
      "\n",
      "B =\n",
      "[[0.]\n",
      " [1.]]\n"
     ]
    }
   ],
   "source": [
    "A_num = sym.lambdify([q, v, tau], f.jacobian([q, v]))\n",
    "A = A_num(q_e, v_e, tau_e).astype(float)\n",
    "print(f'A =\\n{A}')\n",
    "\n",
    "print('')\n",
    "\n",
    "B_num = sym.lambdify([q, v, tau], f.jacobian([tau]))\n",
    "B = B_num(q_e, v_e, tau_e).astype(float)\n",
    "print(f'B =\\n{B}')"
   ]
  },
  {
   "cell_type": "markdown",
   "id": "71aa2ee7",
   "metadata": {},
   "source": [
    "The state-space model is\n",
    "\n",
    "$$\\dot{x} = Ax+Bu$$\n",
    "\n",
    "with $A$ and $B$ computed as above and with the state and input defined as\n",
    "\n",
    "$$x = \\begin{bmatrix} q - q_e \\\\ v - v_e \\end{bmatrix} \\qquad\\qquad u = \\begin{bmatrix} \\tau - \\tau_e \\end{bmatrix}.$$"
   ]
  },
  {
   "cell_type": "markdown",
   "id": "aa3f8f7f",
   "metadata": {},
   "source": [
    "#### Check if the system is controllable"
   ]
  },
  {
   "cell_type": "markdown",
   "id": "34cbf248",
   "metadata": {},
   "source": [
    "Find controllability matrix."
   ]
  },
  {
   "cell_type": "code",
   "execution_count": 9,
   "id": "4211f43b",
   "metadata": {},
   "outputs": [
    {
     "name": "stdout",
     "output_type": "stream",
     "text": [
      "[[0. 1.]\n",
      " [1. 0.]]\n"
     ]
    }
   ],
   "source": [
    "W = np.block([B, A @ B])\n",
    "print(W)"
   ]
  },
  {
   "cell_type": "markdown",
   "id": "c366fd72",
   "metadata": {},
   "source": [
    "Find rank of controllability matrix (\"full rank\" means rank 2 in this case, since $W$ has two rows, or equivalently since $x$ is a vector of length 2)."
   ]
  },
  {
   "cell_type": "code",
   "execution_count": 10,
   "id": "1a564ad7",
   "metadata": {},
   "outputs": [
    {
     "data": {
      "text/plain": [
       "2"
      ]
     },
     "execution_count": 10,
     "metadata": {},
     "output_type": "execute_result"
    }
   ],
   "source": [
    "np.linalg.matrix_rank(W)"
   ]
  },
  {
   "cell_type": "markdown",
   "id": "b6f1d60c",
   "metadata": {},
   "source": [
    "#### Do control design by eigenvalue placement"
   ]
  },
  {
   "cell_type": "markdown",
   "id": "486aff7d",
   "metadata": {},
   "source": [
    "Choose eigenvalue locations."
   ]
  },
  {
   "cell_type": "code",
   "execution_count": 11,
   "id": "6eb56fcc",
   "metadata": {},
   "outputs": [],
   "source": [
    "p = [-2., -3.]"
   ]
  },
  {
   "cell_type": "markdown",
   "id": "c2b22fb1",
   "metadata": {},
   "source": [
    "Find gain matrix."
   ]
  },
  {
   "cell_type": "code",
   "execution_count": 12,
   "id": "26ae2a8e",
   "metadata": {},
   "outputs": [
    {
     "name": "stdout",
     "output_type": "stream",
     "text": [
      "K =\n",
      "[[8. 5.]]\n",
      "\n"
     ]
    }
   ],
   "source": [
    "K = signal.place_poles(A, B, p).gain_matrix\n",
    "print(f'K =\\n{K}\\n')"
   ]
  },
  {
   "cell_type": "markdown",
   "id": "dff5ec3f",
   "metadata": {},
   "source": [
    "Find closed-loop eigenvalues."
   ]
  },
  {
   "cell_type": "code",
   "execution_count": 13,
   "id": "26f002dc",
   "metadata": {},
   "outputs": [
    {
     "name": "stdout",
     "output_type": "stream",
     "text": [
      "p = [-2.+0.j -3.+0.j]\n"
     ]
    }
   ],
   "source": [
    "# Show closed-loop eigenvalues\n",
    "print(f'p = {linalg.eigvals(A - B @ K)}')"
   ]
  },
  {
   "cell_type": "markdown",
   "id": "3c21f7f2",
   "metadata": {},
   "source": [
    "#### Do control design by LQR"
   ]
  },
  {
   "cell_type": "markdown",
   "id": "aaf3d53e",
   "metadata": {},
   "source": [
    "This function returns the solution to the LQR problem\n",
    "\n",
    "$$\\begin{align*} \\underset{u_{[t_0,\\infty]}}{\\text{minimize}} &\\qquad\\int_{t_0}^{\\infty} \\left( x(t)^T Q x(t) + u(t)^T R u(t) \\right) dt\\\\ \\text{subject to} &\\qquad\\dot{x}(t)=Ax(t)+Bu(t) \\\\ &\\qquad x(t_0)=x_0. \\end{align*}$$"
   ]
  },
  {
   "cell_type": "code",
   "execution_count": 14,
   "id": "8b038f11",
   "metadata": {},
   "outputs": [],
   "source": [
    "def lqr(A, B, Q, R):\n",
    "    P = linalg.solve_continuous_are(A, B, Q, R)\n",
    "    K = linalg.inv(R) @  B.T @ P\n",
    "    return K, P"
   ]
  },
  {
   "cell_type": "markdown",
   "id": "7bfe87c5",
   "metadata": {},
   "source": [
    "Choose weights."
   ]
  },
  {
   "cell_type": "code",
   "execution_count": 16,
   "id": "cb5dcb02",
   "metadata": {},
   "outputs": [],
   "source": [
    "Q = np.diag([1., 1.])\n",
    "R = np.diag([1.])"
   ]
  },
  {
   "cell_type": "markdown",
   "id": "a3feb66f",
   "metadata": {},
   "source": [
    "Find optimal gain matrix (and cost matrix)."
   ]
  },
  {
   "cell_type": "code",
   "execution_count": 17,
   "id": "ca289e80",
   "metadata": {},
   "outputs": [
    {
     "name": "stdout",
     "output_type": "stream",
     "text": [
      "K =\n",
      "[[4.23606798 3.07768354]]\n",
      "\n"
     ]
    }
   ],
   "source": [
    "K, P = lqr(A, B, Q, R)\n",
    "print(f'K =\\n{K}\\n')"
   ]
  },
  {
   "cell_type": "markdown",
   "id": "00474dd4",
   "metadata": {},
   "source": [
    "Find closed-loop eigenvalues."
   ]
  },
  {
   "cell_type": "code",
   "execution_count": 18,
   "id": "717f22a2",
   "metadata": {},
   "outputs": [
    {
     "name": "stdout",
     "output_type": "stream",
     "text": [
      "p = [-1.1755705 +0.j -1.90211303+0.j]\n"
     ]
    }
   ],
   "source": [
    "# Show closed-loop eigenvalues\n",
    "print(f'p = {linalg.eigvals(A - B @ K)}')"
   ]
  },
  {
   "cell_type": "markdown",
   "id": "10f0a32d",
   "metadata": {},
   "source": [
    "#### Do simulations"
   ]
  },
  {
   "cell_type": "markdown",
   "id": "protective-retreat",
   "metadata": {},
   "source": [
    "Create an instance of the `Simulator` class with particular values of `roll` and `mass`."
   ]
  },
  {
   "cell_type": "code",
   "execution_count": 19,
   "id": "placed-messenger",
   "metadata": {},
   "outputs": [
    {
     "name": "stdout",
     "output_type": "stream",
     "text": [
      "You can open the visualizer by visiting the following URL:\n",
      "http://127.0.0.1:7001/static/\n"
     ]
    }
   ],
   "source": [
    "simulator = ae353_wheel.Simulator(\n",
    "    display=True,\n",
    "    roll=(np.pi / 2),\n",
    "    mass=m,\n",
    ")"
   ]
  },
  {
   "cell_type": "markdown",
   "id": "f89278b0",
   "metadata": {},
   "source": [
    "Define a function to plot results."
   ]
  },
  {
   "cell_type": "code",
   "execution_count": 20,
   "id": "980cff94",
   "metadata": {},
   "outputs": [],
   "source": [
    "def show_results(\n",
    "        data,\n",
    "        qe, ve, taue,\n",
    "        x1_num=None, x2_num=None, u1_num=None,\n",
    "        q_num=None, v_num=None, tau_num=None,\n",
    "    ):\n",
    "    \n",
    "    t = data['t']\n",
    "    q = data['wheel_angle']\n",
    "    v = data['wheel_velocity']\n",
    "    tau = data['wheel_torque']\n",
    "    tau_cmd = data['wheel_torque_command']\n",
    "    x1 = q - qe\n",
    "    x2 = v - ve\n",
    "    u1 = tau - taue\n",
    "    u1_cmd = tau_cmd - taue\n",
    "    \n",
    "    fig, ((ax_q, ax_x1), (ax_v, ax_x2), (ax_tau, ax_u1)) = plt.subplots(\n",
    "        3, 2, figsize=(15, 10), sharex=True,\n",
    "    )\n",
    "\n",
    "    ax_q.plot(t, q, label='$q$', linewidth=4)\n",
    "    ax_q.plot(t, np.ones_like(t) * qe, '--', label='$q_e$', linewidth=4)\n",
    "    \n",
    "    ax_v.plot(t, v, label='$v$', linewidth=4)\n",
    "    ax_v.plot(t, np.ones_like(t) * ve, '--', label='$v_e$', linewidth=4)\n",
    "    \n",
    "    ax_tau.plot(t, tau, label=r'$\\tau$', linewidth=4)\n",
    "    ax_tau.plot(t, np.ones_like(t) * taue, '--', label=r'$\\tau_e$', linewidth=4)\n",
    "    \n",
    "    ax_x1.plot(t, x1, label='$x_1$', linewidth=4)\n",
    "    ax_x2.plot(t, x2, label='$x_2$', linewidth=4)\n",
    "    ax_u1.plot(t, u1, label='$u_1$', linewidth=4)\n",
    "    \n",
    "    ax_tau.plot(t, tau_cmd, '-.', label=r'$\\tau$ (command)', linewidth=3, color='C6')\n",
    "    ax_u1.plot(t, u1_cmd, '-.', label='$u_1$ (command)', linewidth=3, color='C6')\n",
    "    \n",
    "    if q_num is not None: # <-- should really check if all *_num are not None!\n",
    "        ax_q.plot(t, q_num, ':', label='$q$ (linear)', linewidth=6, color='C3')\n",
    "        ax_v.plot(t, v_num, ':', label='$v$ (linear)', linewidth=6, color='C3')\n",
    "        ax_tau.plot(t, tau_num, ':', label=r'$\\tau$ (linear)', linewidth=6, color='C3')\n",
    "        ax_x1.plot(t, x1_num, ':', label='$x_1$ (linear)', linewidth=6, color='C3')\n",
    "        ax_x2.plot(t, x2_num, ':', label='$x_2$ (linear)', linewidth=6, color='C3')\n",
    "        ax_u1.plot(t, u1_num, ':', label='$u_1$ (linear)', linewidth=6, color='C3')\n",
    "    \n",
    "    tau_max = np.ones_like(t) * simulator.tau_max\n",
    "    ax_tau.plot(t, tau_max, '--', label=r'$\\tau$ (max)', linewidth=2, color='C2', zorder=0)\n",
    "    ax_tau.plot(t, - tau_max, '--', linewidth=2, color='C2', zorder=0)\n",
    "    ax_u1.plot(t, tau_max - tau_e, '--', label=r'$u_1$ (max)', linewidth=2, color='C2', zorder=0)\n",
    "    ax_u1.plot(t, - tau_max - tau_e, '--', linewidth=2, color='C2', zorder=0)\n",
    "            \n",
    "    ax_q.grid()\n",
    "    ax_q.legend(fontsize=16)\n",
    "    ax_q.tick_params(labelsize=14)\n",
    "    ax_q.set_ylim(np.pi - 0.25, np.pi + 0.25)\n",
    "    \n",
    "    ax_v.grid()\n",
    "    ax_v.legend(fontsize=16)\n",
    "    ax_v.tick_params(labelsize=14)\n",
    "    ax_v.set_ylim(-1, 1)\n",
    "    \n",
    "    ax_tau.grid()\n",
    "    ax_tau.legend(fontsize=16, loc='upper right')\n",
    "    ax_tau.tick_params(labelsize=14)\n",
    "    ax_tau.set_ylim(-1.2 * simulator.tau_max, 1.2 * simulator.tau_max)\n",
    "\n",
    "    ax_x1.grid()\n",
    "    ax_x1.legend(fontsize=16)\n",
    "    ax_x1.tick_params(labelsize=14)\n",
    "    ax_x1.set_ylim(-0.25, 0.25)\n",
    "        \n",
    "    ax_x2.grid()\n",
    "    ax_x2.legend(fontsize=16)\n",
    "    ax_x2.tick_params(labelsize=14)\n",
    "    ax_x2.set_ylim(-1, 1)\n",
    "    \n",
    "    ax_u1.grid()\n",
    "    ax_u1.legend(fontsize=16, loc='upper right')\n",
    "    ax_u1.tick_params(labelsize=14)\n",
    "    ax_u1.set_ylim(taue + -1.2 * simulator.tau_max, taue + 1.2 * simulator.tau_max)\n",
    "    \n",
    "    ax_tau.set_xlabel('time (s)', fontsize=20)\n",
    "    ax_tau.set_xlim([data['t'][0], data['t'][-1]])\n",
    "    ax_u1.set_xlabel('time (s)', fontsize=20)\n",
    "    ax_u1.set_xlim([data['t'][0], data['t'][-1]])\n",
    "    \n",
    "    fig.tight_layout()\n",
    "    plt.show()"
   ]
  },
  {
   "cell_type": "markdown",
   "id": "3f9ebffb",
   "metadata": {},
   "source": [
    "Define a controller that maps sensor measurements (`wheel_angle` and `wheel_velocity`) to actuator commands (`wheel_torque`). By default, it chooses to apply zero torque to the wheel. Modify the `run` function to make the controller behave differently. This function will be called 100 times per second (i.e., at 100 Hz) by the simulator."
   ]
  },
  {
   "cell_type": "code",
   "execution_count": 21,
   "id": "bf439d71",
   "metadata": {},
   "outputs": [],
   "source": [
    "class Controller:\n",
    "    def __init__(self, K, q_e, v_e, tau_e):\n",
    "        self.K = K\n",
    "        self.q_e = q_e\n",
    "        self.v_e = v_e\n",
    "        self.tau_e = tau_e\n",
    "    \n",
    "    def reset(self):\n",
    "        pass\n",
    "    \n",
    "    def run(self, t, wheel_angle, wheel_velocity):\n",
    "        \"\"\"\n",
    "        INPUTS\n",
    "         t = current time (s)\n",
    "         wheel_angle = angle of wheel (rad)\n",
    "         wheel_velocity = angular of wheel (rad / s)\n",
    "        \n",
    "        OUTPUTS\n",
    "         wheel_torque = torque applied to wheel by motor on ground (N m)\n",
    "        \"\"\"\n",
    "        \n",
    "        # FIXME: replace the following line\n",
    "        x = np.array([\n",
    "            wheel_angle - self.q_e,\n",
    "            wheel_velocity - self.v_e,\n",
    "        ])\n",
    "        u = - self.K @ x\n",
    "        wheel_torque = u[0] + self.tau_e\n",
    "        \n",
    "        return wheel_torque"
   ]
  },
  {
   "cell_type": "markdown",
   "id": "40059b98",
   "metadata": {},
   "source": [
    "Create an instance of the controller."
   ]
  },
  {
   "cell_type": "code",
   "execution_count": 22,
   "id": "1168ff65",
   "metadata": {},
   "outputs": [],
   "source": [
    "controller = Controller(K, q_e, v_e, tau_e)"
   ]
  },
  {
   "cell_type": "markdown",
   "id": "7bba2aaa",
   "metadata": {},
   "source": [
    "Choose initial conditions."
   ]
  },
  {
   "cell_type": "code",
   "execution_count": 23,
   "id": "a61e1ae6",
   "metadata": {},
   "outputs": [],
   "source": [
    "q_i = np.pi - 0.2\n",
    "v_i = 0."
   ]
  },
  {
   "cell_type": "markdown",
   "id": "19c52b8d",
   "metadata": {},
   "source": [
    "Reset the simulator. Optional arguments allow you to specify the initial wheel angle and velocity. If the value of either argument is `None` (or if the argument is left unspecified), then its value will be chosen at random."
   ]
  },
  {
   "cell_type": "code",
   "execution_count": 24,
   "id": "e9fc6510",
   "metadata": {},
   "outputs": [],
   "source": [
    "simulator.reset(\n",
    "    wheel_angle=q_i,\n",
    "    wheel_velocity=v_i,\n",
    ")"
   ]
  },
  {
   "cell_type": "markdown",
   "id": "a0c7b67a",
   "metadata": {},
   "source": [
    "Reset the controller."
   ]
  },
  {
   "cell_type": "code",
   "execution_count": 25,
   "id": "d169e3c4",
   "metadata": {},
   "outputs": [],
   "source": [
    "controller.reset()"
   ]
  },
  {
   "cell_type": "markdown",
   "id": "5cb3dacd",
   "metadata": {},
   "source": [
    "Run the simulator."
   ]
  },
  {
   "cell_type": "code",
   "execution_count": 26,
   "id": "8e649e63",
   "metadata": {},
   "outputs": [],
   "source": [
    "data = simulator.run(\n",
    "    controller,           # <-- required (an instance of your Controller class)\n",
    "    max_time=5.0,         # <-- optional (how long you want to run the simulation in seconds)\n",
    "    data_filename=None,   # <-- optional (name of file to which you want data saved, e.g., 'my_data.json')\n",
    "    video_filename=None,  # <-- optional (name of file to which you want video saved, e.g., 'my_video.mov')\n",
    ")"
   ]
  },
  {
   "cell_type": "markdown",
   "id": "ca611db8",
   "metadata": {},
   "source": [
    "Find the solution\n",
    "\n",
    "$$x(t) = e^{(A - BK) t}x(0)$$\n",
    "\n",
    "to\n",
    "\n",
    "$$\\dot{x} = (A - BK) x$$\n",
    "\n",
    "with numeric computation so we can compare the result to what was obtained in simulation."
   ]
  },
  {
   "cell_type": "code",
   "execution_count": 27,
   "id": "a6e2a36b",
   "metadata": {},
   "outputs": [],
   "source": [
    "# Define initial conditions\n",
    "x0 = np.array([\n",
    "    q_i - q_e,\n",
    "    v_i - v_e,\n",
    "])\n",
    "\n",
    "# Create empty arrays to hold state and input at each time\n",
    "x = []\n",
    "u = []\n",
    "\n",
    "# Compute (linear) state and input at each time\n",
    "for t in data['t']:\n",
    "    xt = linalg.expm((A - B @ K) * t) @ x0\n",
    "    ut = - K @ xt\n",
    "    x.append(xt)\n",
    "    u.append(ut)\n",
    "x = np.array(x)\n",
    "u = np.array(u)\n",
    "\n",
    "# Get components of x(t) and u(t)\n",
    "x1_num = x[:, 0]\n",
    "x2_num = x[:, 1]\n",
    "u1_num = u[:, 0]\n",
    "\n",
    "# Compute q(t), v(t), and tau(t) from x1(t), x2(t), and u1(t)\n",
    "q_num = x1_num + q_e\n",
    "v_num = x2_num + v_e\n",
    "tau_num = u1_num + tau_e"
   ]
  },
  {
   "cell_type": "markdown",
   "id": "6cbf550e",
   "metadata": {},
   "source": [
    "Plot the results again, this time comparing what we get from simulation to what we get from solving the closed-loop linear system."
   ]
  },
  {
   "cell_type": "code",
   "execution_count": 28,
   "id": "d893e374",
   "metadata": {},
   "outputs": [
    {
     "data": {
      "image/png": "[encoded data removed]",
      "text/plain": [
       "<Figure size 1500x1000 with 6 Axes>"
      ]
     },
     "metadata": {},
     "output_type": "display_data"
    }
   ],
   "source": [
    "show_results(\n",
    "    data,                       # <-- data from simulation\n",
    "    q_e, v_e, tau_e,            # <-- equilibrium point\n",
    "    x1_num, x2_num, u1_num,     # <-- solution to (closed-loop) linear system\n",
    "    q_num, v_num, tau_num,      # <-- equivalent, approximate solution to (closed-loop) nonlinear system\n",
    ")"
   ]
  },
  {
   "cell_type": "code",
   "execution_count": null,
   "id": "54032a1d",
   "metadata": {},
   "outputs": [],
   "source": []
  }
 ],
 "metadata": {
  "kernelspec": {
   "display_name": "Python 3 (ipykernel)",
   "language": "python",
   "name": "python3"
  },
  "language_info": {
   "codemirror_mode": {
    "name": "ipython",
    "version": 3
   },
   "file_extension": ".py",
   "mimetype": "text/x-python",
   "name": "python",
   "nbconvert_exporter": "python",
   "pygments_lexer": "ipython3",
   "version": "3.11.0"
  }
 },
 "nbformat": 4,
 "nbformat_minor": 5
}
