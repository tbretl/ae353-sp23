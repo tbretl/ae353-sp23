{
 "cells": [
  {
   "cell_type": "markdown",
   "id": "middle-acoustic",
   "metadata": {},
   "source": [
    "# Demo: Control of wheel angle with partial state feedback"
   ]
  },
  {
   "cell_type": "markdown",
   "id": "working-minority",
   "metadata": {},
   "source": [
    "#### Import modules and configure the notebook."
   ]
  },
  {
   "cell_type": "code",
   "execution_count": 1,
   "id": "dimensional-contamination",
   "metadata": {},
   "outputs": [
    {
     "name": "stderr",
     "output_type": "stream",
     "text": [
      "pybullet build time: Oct 28 2022 16:21:09\n"
     ]
    }
   ],
   "source": [
    "# These are standard modules\n",
    "import time\n",
    "import numpy as np\n",
    "import sympy as sym\n",
    "from scipy.signal import place_poles\n",
    "from scipy import linalg\n",
    "from scipy import signal\n",
    "import matplotlib.pyplot as plt\n",
    "from IPython.display import display, Latex, Markdown\n",
    "\n",
    "# This is a custom interface to the pybullet simulator\n",
    "import ae353_wheel_sensors\n",
    "\n",
    "# Suppress the use of scientific notation when printing small numbers\n",
    "np.set_printoptions(suppress=True)"
   ]
  },
  {
   "cell_type": "markdown",
   "id": "f3e9a663",
   "metadata": {},
   "source": [
    "#### Choose parameter values"
   ]
  },
  {
   "cell_type": "markdown",
   "id": "2ab48494",
   "metadata": {},
   "source": [
    "The equation of motion is\n",
    "\n",
    "$$c_1 \\ddot{q} = \\tau - c_2\\sin q$$\n",
    "\n",
    "where\n",
    "\n",
    "* $q$ is the wheel angle\n",
    "* $\\tau$ is the wheel torque, i.e., the torque applied to the wheel by a motor on the ground\n",
    "\n",
    "and where the values of $c_1$ and $c_2$ are given as follows:"
   ]
  },
  {
   "cell_type": "code",
   "execution_count": 2,
   "id": "2680ee94",
   "metadata": {},
   "outputs": [
    {
     "name": "stdout",
     "output_type": "stream",
     "text": [
      "m = 0.582495995340032\n",
      "J = 0.928644240570846\n"
     ]
    }
   ],
   "source": [
    "# Values of c1 and c2 for the example (do not change)\n",
    "c1 = 1.0\n",
    "c2 = 2.0\n",
    "\n",
    "# Values of other parameters that are given\n",
    "g = 9.81 # <-- acceleration of gravity\n",
    "r = 0.35 # <-- distance from wheel axis to marker (i.e., to the mass)\n",
    "\n",
    "# Values of other parameters that correspond to the coefficients c1 and c2 that we chose\n",
    "m = c2 / (g * r)   # <-- set in code\n",
    "J = c1 - m * r**2  # <-- set in URDF\n",
    "print(f'm = {m}\\nJ = {J}')"
   ]
  },
  {
   "cell_type": "markdown",
   "id": "95f4f02c",
   "metadata": {},
   "source": [
    "#### Set up simulations"
   ]
  },
  {
   "cell_type": "markdown",
   "id": "cbf2330b",
   "metadata": {},
   "source": [
    "Create an instance of the `Simulator` class with particular values of `roll` and `mass`."
   ]
  },
  {
   "cell_type": "code",
   "execution_count": 3,
   "id": "ca539a71",
   "metadata": {},
   "outputs": [
    {
     "name": "stdout",
     "output_type": "stream",
     "text": [
      "You can open the visualizer by visiting the following URL:\n",
      "http://127.0.0.1:7002/static/\n"
     ]
    }
   ],
   "source": [
    "simulator = ae353_wheel_sensors.Simulator(\n",
    "    display=True,\n",
    "    roll=(np.pi / 2),\n",
    "    mass=m,\n",
    ")"
   ]
  },
  {
   "cell_type": "markdown",
   "id": "f9be5a9f",
   "metadata": {},
   "source": [
    "#### Define functions to plot results"
   ]
  },
  {
   "cell_type": "markdown",
   "id": "f3cd8226",
   "metadata": {},
   "source": [
    "This function plots results in terms of nonlinear states and inputs."
   ]
  },
  {
   "cell_type": "code",
   "execution_count": 4,
   "id": "ce88e4a9",
   "metadata": {},
   "outputs": [],
   "source": [
    "def show_results(data, q_e, v_e, tau_e):\n",
    "    t = data['t']\n",
    "    q = data['wheel_angle']\n",
    "    v = data['wheel_velocity']\n",
    "    tau = data['wheel_torque']\n",
    "    tau_cmd = data['wheel_torque_command']\n",
    "    q_meas = data['wheel_angle_measurement']\n",
    "    xhat = data['xhat']\n",
    "    q_est = xhat[:, 0] + q_e\n",
    "    v_est = xhat[:, 1] + v_e\n",
    "\n",
    "    fig, (ax_q, ax_v, ax_tau) = plt.subplots(\n",
    "        3, 1, figsize=(10, 8), sharex=True,\n",
    "    )\n",
    "\n",
    "    ax_q.plot(t, q, label=r'$q$', linewidth=4)\n",
    "    ax_q.plot(t, q_est, '--', label=r'$q$ (estimated)', linewidth=4)\n",
    "    ax_q.plot(t, q_meas, '.', markersize=3, label=r'$q$ (measured)')\n",
    "    ax_q.plot(t, q_e * np.ones_like(t), ':', label=r'$q_e$', linewidth=3, color='C3')\n",
    "    ax_v.plot(t, v, label=r'$v$', linewidth=4)\n",
    "    ax_v.plot(t, v_est, '--', label=r'$v$ (estimated)', linewidth=4)\n",
    "    ax_v.plot(t, v_e * np.ones_like(t), ':', label=r'$v_e$', linewidth=3, color='C3')\n",
    "    ax_tau.plot(t, tau, label=r'$\\tau$', linewidth=4)\n",
    "    ax_tau.plot(t, tau_cmd, '-.', label=r'$\\tau$ (command)', linewidth=3, color='C6')\n",
    "    tau_max = np.ones_like(t) * simulator.tau_max\n",
    "    ax_tau.plot(t, tau_max,\n",
    "                '--', label=r'$\\tau$ (max)', linewidth=2, color='C2', zorder=0)\n",
    "    ax_tau.plot(t, - tau_max,\n",
    "                '--', linewidth=2, color='C2', zorder=0)\n",
    "\n",
    "    ax_q.grid()\n",
    "    ax_q.legend(fontsize=16, ncol=4, loc='upper right')\n",
    "    ax_q.tick_params(labelsize=14)\n",
    "    ax_q.set_ylim(q_e - 0.5, q_e + 0.5)\n",
    "\n",
    "    ax_v.grid()\n",
    "    ax_v.legend(fontsize=16, ncol=3, loc='upper right')\n",
    "    ax_v.tick_params(labelsize=14)\n",
    "    ax_v.set_ylim(v_e - 1., v_e + 1.)\n",
    "\n",
    "    ax_tau.grid()\n",
    "    ax_tau.legend(fontsize=16, ncol=3, loc='upper right')\n",
    "    ax_tau.tick_params(labelsize=14)\n",
    "    ax_tau.set_ylim(-1.2 * simulator.tau_max, 1.2 * simulator.tau_max)\n",
    "\n",
    "    ax_tau.set_xlabel('time (s)', fontsize=20)\n",
    "    ax_tau.set_xlim([data['t'][0], data['t'][-1]])\n",
    "\n",
    "    fig.tight_layout()\n",
    "    plt.show()"
   ]
  },
  {
   "cell_type": "markdown",
   "id": "164e495a",
   "metadata": {},
   "source": [
    "This function plots results in terms of linear states and inputs."
   ]
  },
  {
   "cell_type": "code",
   "execution_count": 5,
   "id": "123f332e",
   "metadata": {},
   "outputs": [],
   "source": [
    "def show_results_xuy(data, q_e, v_e, tau_e):\n",
    "    t = data['t']\n",
    "    q = data['wheel_angle']\n",
    "    v = data['wheel_velocity']\n",
    "    tau = data['wheel_torque']\n",
    "    tau_cmd = data['wheel_torque_command']\n",
    "    q_meas = data['wheel_angle_measurement']\n",
    "    xhat = data['xhat']\n",
    "    x1 = q - q_e\n",
    "    x2 = v - v_e\n",
    "    u1 = tau - tau_e\n",
    "    u1_cmd = tau_cmd - tau_e\n",
    "    y1 = q_meas - q_e\n",
    "    \n",
    "    fig, (ax_x1, ax_x2, ax_u1) = plt.subplots(\n",
    "        3, 1, figsize=(10, 8), sharex=True,\n",
    "    )\n",
    "\n",
    "    ax_x1.plot(t, x1, label=r'$x_1$', linewidth=4)\n",
    "    ax_x1.plot(t, xhat[:, 0], '--', label=r'$x_1$ (estimated)', linewidth=4)\n",
    "    ax_x1.plot(t, y1, '.', markersize=3, label=r'$y_1$')\n",
    "    ax_x2.plot(t, x2, label=r'$x_2$', linewidth=4)\n",
    "    ax_x2.plot(t, xhat[:, 1], '--', label=r'$x_2$ (estimated)', linewidth=4)\n",
    "    ax_u1.plot(t, u1, label=r'$u_1$', linewidth=4)\n",
    "    ax_u1.plot(t, u1_cmd, '-.', label=r'$u_1$ (command)', linewidth=3, color='C6')\n",
    "    tau_max = np.ones_like(t) * simulator.tau_max\n",
    "    ax_u1.plot(t, tau_max - tau_e,\n",
    "               '--', label=r'$u_1$ (max)', linewidth=2, color='C2', zorder=0)\n",
    "    ax_u1.plot(t, - tau_max - tau_e,\n",
    "               '--', linewidth=2, color='C2', zorder=0)\n",
    "            \n",
    "    ax_x1.grid()\n",
    "    ax_x1.legend(fontsize=16, ncol=3, loc='upper right')\n",
    "    ax_x1.tick_params(labelsize=14)\n",
    "    ax_x1.set_ylim(-0.5, 0.5)\n",
    "        \n",
    "    ax_x2.grid()\n",
    "    ax_x2.legend(fontsize=16, ncol=2, loc='upper right')\n",
    "    ax_x2.tick_params(labelsize=14)\n",
    "    ax_x2.set_ylim(-1., 1.)\n",
    "    \n",
    "    ax_u1.grid()\n",
    "    ax_u1.legend(fontsize=16, ncol=3, loc='upper right')\n",
    "    ax_u1.tick_params(labelsize=14)\n",
    "    ax_u1.set_ylim(tau_e + -1.2 * simulator.tau_max, tau_e + 1.2 * simulator.tau_max)\n",
    "    \n",
    "    ax_u1.set_xlabel('time (s)', fontsize=20)\n",
    "    ax_u1.set_xlim([data['t'][0], data['t'][-1]])\n",
    "    \n",
    "    fig.tight_layout()\n",
    "    plt.show()"
   ]
  },
  {
   "cell_type": "markdown",
   "id": "efd80fd2",
   "metadata": {},
   "source": [
    "#### Do control design"
   ]
  },
  {
   "cell_type": "markdown",
   "id": "a62353e1",
   "metadata": {},
   "source": [
    "Derive state-space model."
   ]
  },
  {
   "cell_type": "code",
   "execution_count": 6,
   "id": "c7bc02cd",
   "metadata": {},
   "outputs": [
    {
     "name": "stdout",
     "output_type": "stream",
     "text": [
      "A =\n",
      "[[0. 1.]\n",
      " [2. 0.]]\n",
      "\n",
      "B =\n",
      "[[0.]\n",
      " [1.]]\n"
     ]
    }
   ],
   "source": [
    "# Define symbolic variables\n",
    "q, v, tau = sym.symbols('q, v, tau')\n",
    "\n",
    "# Define ODEs\n",
    "f = sym.Matrix([\n",
    "    v,\n",
    "    (tau - c2 * sym.sin(q)) / c1,\n",
    "])\n",
    "\n",
    "# Convert floats to rationals\n",
    "f = sym.nsimplify(f, rational=True)\n",
    "\n",
    "# Choose equilibrium point\n",
    "(q_e, v_e, tau_e) = (np.pi, 0., 0.)\n",
    "\n",
    "# Linearize\n",
    "A_num = sym.lambdify([q, v, tau], f.jacobian([q, v]))\n",
    "A = A_num(q_e, v_e, tau_e).astype(float)\n",
    "B_num = sym.lambdify([q, v, tau], f.jacobian([tau]))\n",
    "B = B_num(q_e, v_e, tau_e).astype(float)\n",
    "\n",
    "# Show result\n",
    "print(f'A =\\n{A}\\n\\nB =\\n{B}')"
   ]
  },
  {
   "cell_type": "markdown",
   "id": "711d9388",
   "metadata": {},
   "source": [
    "Verify the system is controllable."
   ]
  },
  {
   "cell_type": "code",
   "execution_count": 7,
   "id": "2589a062",
   "metadata": {},
   "outputs": [
    {
     "name": "stdout",
     "output_type": "stream",
     "text": [
      "rank(W_c) = 2\n"
     ]
    }
   ],
   "source": [
    "W_c = np.block([B, A @ B])\n",
    "print(f'rank(W_c) = {np.linalg.matrix_rank(W_c)}')"
   ]
  },
  {
   "cell_type": "markdown",
   "id": "120c5027",
   "metadata": {},
   "source": [
    "Design controller by eigenvalue placement."
   ]
  },
  {
   "cell_type": "code",
   "execution_count": 8,
   "id": "92ad85aa",
   "metadata": {},
   "outputs": [
    {
     "name": "stdout",
     "output_type": "stream",
     "text": [
      "K =\n",
      "[[12.  7.]]\n"
     ]
    }
   ],
   "source": [
    "K = signal.place_poles(A, B, [-2., -5.]).gain_matrix\n",
    "print(f'K =\\n{K}')"
   ]
  },
  {
   "cell_type": "markdown",
   "id": "2d3ec6cf",
   "metadata": {},
   "source": [
    "#### Do observer design"
   ]
  },
  {
   "cell_type": "markdown",
   "id": "44f2e7b0",
   "metadata": {},
   "source": [
    "Derive state-space model. In particular, given a nonlinear model\n",
    "\n",
    "$$o = g\\left(\\begin{bmatrix} q \\\\ v \\end{bmatrix}, \\begin{bmatrix} \\tau \\end{bmatrix}\\right) = \\begin{bmatrix} q \\end{bmatrix}$$\n",
    "\n",
    "of sensor measurements, linearize the function $g$ about the equilibrium point $q_e, v_e, \\tau_e$ to produce a state-space model\n",
    "\n",
    "$$y = Cx + Du$$\n",
    "\n",
    "where\n",
    "\n",
    "$$\n",
    "\\begin{aligned}\n",
    "y\n",
    "&= o - g\\left(\\begin{bmatrix} q \\\\ v \\end{bmatrix}, \\begin{bmatrix} \\tau \\end{bmatrix}\\right) \\\\\n",
    "&= \\begin{bmatrix} q \\end{bmatrix} - \\begin{bmatrix} q_e \\end{bmatrix} \\\\\n",
    "&= \\begin{bmatrix} q - q_e \\end{bmatrix}\n",
    "\\end{aligned}\n",
    "$$\n",
    "\n",
    "and\n",
    "\n",
    "$$\n",
    "C = \\frac{\\partial g}{\\partial \\begin{bmatrix} q \\\\ v \\end{bmatrix}}\\Biggr\\rvert_{\\left(\\begin{bmatrix} q_e \\\\ v_e \\end{bmatrix}, \\begin{bmatrix} \\tau_e \\end{bmatrix}\\right)}\n",
    "\\qquad\\qquad\n",
    "D = \\frac{\\partial g}{\\partial \\begin{bmatrix} \\tau \\end{bmatrix}}\\Biggr\\rvert_{\\left(\\begin{bmatrix} q_e \\\\ v_e \\end{bmatrix}, \\begin{bmatrix} \\tau_e \\end{bmatrix}\\right)}.\n",
    "$$"
   ]
  },
  {
   "cell_type": "code",
   "execution_count": 9,
   "id": "9c3f69fa",
   "metadata": {},
   "outputs": [
    {
     "name": "stdout",
     "output_type": "stream",
     "text": [
      "C =\n",
      "[[1. 0.]]\n",
      "\n",
      "D =\n",
      "[[0.]]\n"
     ]
    }
   ],
   "source": [
    "# Define nonlinear model\n",
    "g = sym.Matrix([q])\n",
    "\n",
    "# Convert floats to rationals\n",
    "g = sym.nsimplify(g, rational=True)\n",
    "\n",
    "# Linearize\n",
    "C_num = sym.lambdify([q, v, tau], g.jacobian([q, v]))\n",
    "C = C_num(q_e, v_e, tau_e).astype(float)\n",
    "D_num = sym.lambdify([q, v, tau], g.jacobian([tau]))\n",
    "D = D_num(q_e, v_e, tau_e).astype(float)\n",
    "\n",
    "# Show result\n",
    "print(f'C =\\n{C}\\n\\nD =\\n{D}')"
   ]
  },
  {
   "cell_type": "markdown",
   "id": "f71a853a",
   "metadata": {},
   "source": [
    "Verify the system is observable."
   ]
  },
  {
   "cell_type": "code",
   "execution_count": 10,
   "id": "b3c0a879",
   "metadata": {},
   "outputs": [
    {
     "name": "stdout",
     "output_type": "stream",
     "text": [
      "rank(W_o) = 2\n"
     ]
    }
   ],
   "source": [
    "W_o = np.block([[C], [C @ A]])\n",
    "print(f'rank(W_o) = {np.linalg.matrix_rank(W_o)}')"
   ]
  },
  {
   "cell_type": "markdown",
   "id": "91b66ec9",
   "metadata": {},
   "source": [
    "Design observer by eigenvalue placement."
   ]
  },
  {
   "cell_type": "code",
   "execution_count": 11,
   "id": "32657755",
   "metadata": {},
   "outputs": [
    {
     "name": "stdout",
     "output_type": "stream",
     "text": [
      "[[10.]\n",
      " [26.]]\n"
     ]
    }
   ],
   "source": [
    "L = signal.place_poles(A.T, C.T, [-4., -6.]).gain_matrix.T\n",
    "print(L)"
   ]
  },
  {
   "cell_type": "markdown",
   "id": "59371342",
   "metadata": {},
   "source": [
    "Find closed-loop eigenvalues."
   ]
  },
  {
   "cell_type": "code",
   "execution_count": 12,
   "id": "615dcc9d",
   "metadata": {},
   "outputs": [
    {
     "data": {
      "text/plain": [
       "array([-6.+0.j, -4.+0.j])"
      ]
     },
     "execution_count": 12,
     "metadata": {},
     "output_type": "execute_result"
    }
   ],
   "source": [
    "linalg.eigvals(A - L @ C)"
   ]
  },
  {
   "cell_type": "markdown",
   "id": "b076eba5",
   "metadata": {},
   "source": [
    "Define a function to solve the continuous-time, infinite-horizon LQR problem."
   ]
  },
  {
   "cell_type": "code",
   "execution_count": 13,
   "id": "103e51c5",
   "metadata": {},
   "outputs": [],
   "source": [
    "def lqr(A, B, Q, R):\n",
    "    P = linalg.solve_continuous_are(A, B, Q, R)\n",
    "    K = linalg.inv(R) @  B.T @ P\n",
    "    return K"
   ]
  },
  {
   "cell_type": "markdown",
   "id": "8f14128b",
   "metadata": {},
   "source": [
    "Design observer by solving an LQR problem."
   ]
  },
  {
   "cell_type": "code",
   "execution_count": 18,
   "id": "fefd3cc3",
   "metadata": {},
   "outputs": [
    {
     "name": "stdout",
     "output_type": "stream",
     "text": [
      "[[3.07768354]\n",
      " [4.23606798]]\n"
     ]
    }
   ],
   "source": [
    "Qo = 1e3 * np.eye(1)\n",
    "Ro = 1e3 * np.eye(2)\n",
    "L = lqr(A.T, C.T, np.linalg.inv(Ro), np.linalg.inv(Qo)).T\n",
    "print(L)"
   ]
  },
  {
   "cell_type": "markdown",
   "id": "c0c71802",
   "metadata": {},
   "source": [
    "Find closed-loop eigenvalues."
   ]
  },
  {
   "cell_type": "code",
   "execution_count": null,
   "id": "8de27dc4",
   "metadata": {},
   "outputs": [],
   "source": []
  },
  {
   "cell_type": "markdown",
   "id": "43adc875",
   "metadata": {},
   "source": [
    "Verify that the full, closed-loop system — with both the controller and the observer — is asymptotically stable."
   ]
  },
  {
   "cell_type": "code",
   "execution_count": 19,
   "id": "f794dd13",
   "metadata": {},
   "outputs": [],
   "source": [
    "# F = ...\n",
    "# print(linalg.eigvals(F))"
   ]
  },
  {
   "cell_type": "markdown",
   "id": "75c5ee87",
   "metadata": {},
   "source": [
    "What were the eigenvalues of $A - BK$?"
   ]
  },
  {
   "cell_type": "code",
   "execution_count": 20,
   "id": "613738b6",
   "metadata": {},
   "outputs": [
    {
     "name": "stdout",
     "output_type": "stream",
     "text": [
      "[-2.+0.j -5.+0.j]\n"
     ]
    }
   ],
   "source": [
    "print(linalg.eigvals(A - B @ K))"
   ]
  },
  {
   "cell_type": "markdown",
   "id": "6910c058",
   "metadata": {},
   "source": [
    "What were the eigenvalues of $A - LC$?"
   ]
  },
  {
   "cell_type": "code",
   "execution_count": 21,
   "id": "63efa03c",
   "metadata": {},
   "outputs": [
    {
     "name": "stdout",
     "output_type": "stream",
     "text": [
      "[-1.90211303+0.j -1.1755705 +0.j]\n"
     ]
    }
   ],
   "source": [
    "print(linalg.eigvals(A - L @ C))"
   ]
  },
  {
   "cell_type": "markdown",
   "id": "041cf6a1",
   "metadata": {},
   "source": [
    "#### Implement controller and observer"
   ]
  },
  {
   "cell_type": "code",
   "execution_count": 22,
   "id": "60574a56",
   "metadata": {},
   "outputs": [],
   "source": [
    "class Controller:\n",
    "    def __init__(self, A, B, C, K, L, q_e, v_e, tau_e):\n",
    "        self.A = A\n",
    "        self.B = B\n",
    "        self.C = C\n",
    "        self.K = K\n",
    "        self.L = L\n",
    "        self.q_e = q_e\n",
    "        self.v_e = v_e\n",
    "        self.tau_e = tau_e\n",
    "        \n",
    "        self.dt = 0.01\n",
    "        \n",
    "        self.variables_to_log = ['xhat']\n",
    "    \n",
    "    def reset(self):\n",
    "        self.xhat = np.array([\n",
    "            0.,\n",
    "            0.,\n",
    "        ])\n",
    "    \n",
    "    def run(self, t, wheel_angle_measurement):\n",
    "        \"\"\"\n",
    "        INPUTS\n",
    "         t = current time (s)\n",
    "         wheel_angle_measurement = measured angle of wheel from sensors (rad)\n",
    "         \n",
    "        OUTPUTS\n",
    "         wheel_torque = torque applied to wheel by motor on ground (N m)\n",
    "        \"\"\"\n",
    "        \n",
    "        # Get input\n",
    "        u = - self.K @ self.xhat\n",
    "        \n",
    "        # Get measured wheel angle (sensors)\n",
    "        q = wheel_angle_measurement\n",
    "        \n",
    "        # Get output\n",
    "        y = np.array([\n",
    "            q - self.q_e,\n",
    "        ])\n",
    "        \n",
    "        # Get state estimate\n",
    "        self.xhat += self.dt * (\n",
    "            self.A @ self.xhat + self.B @ u - self.L @ (self.C @ self.xhat - y)\n",
    "        )\n",
    "        \n",
    "        # Get torque (actuators)\n",
    "        wheel_torque = u[0] + self.tau_e\n",
    "        \n",
    "        return wheel_torque"
   ]
  },
  {
   "cell_type": "markdown",
   "id": "5783c1f1",
   "metadata": {},
   "source": [
    "Test controller."
   ]
  },
  {
   "cell_type": "code",
   "execution_count": 23,
   "id": "7c91c5b7",
   "metadata": {},
   "outputs": [
    {
     "data": {
      "image/png": "[encoded data removed]",
      "text/plain": [
       "<Figure size 1000x800 with 3 Axes>"
      ]
     },
     "metadata": {},
     "output_type": "display_data"
    }
   ],
   "source": [
    "# Create controller\n",
    "controller = Controller(A, B, C, K, L, q_e, v_e, tau_e)\n",
    "\n",
    "# Choose initial conditions\n",
    "(q_i, v_i) = (q_e + 0.2, v_e)\n",
    "\n",
    "# Reset controller\n",
    "controller.reset()\n",
    "\n",
    "# Reset simulator\n",
    "simulator.reset(\n",
    "    wheel_angle=q_i,\n",
    "    wheel_velocity=v_i,\n",
    "    sensor_noise=0.1,\n",
    ")\n",
    "\n",
    "# Reset controller\n",
    "controller.reset()\n",
    "\n",
    "# Run simulator\n",
    "data = simulator.run(\n",
    "    controller,\n",
    "    max_time=10.0,\n",
    ")\n",
    "\n",
    "# Show results\n",
    "show_results_xuy(data, q_e, v_e, tau_e)"
   ]
  },
  {
   "cell_type": "markdown",
   "id": "1840fe8b",
   "metadata": {},
   "source": [
    "Example of how to compute RMSE in the state"
   ]
  },
  {
   "cell_type": "code",
   "execution_count": 31,
   "id": "a2b4a611",
   "metadata": {},
   "outputs": [
    {
     "data": {
      "text/plain": [
       "0.0545162499981922"
      ]
     },
     "execution_count": 31,
     "metadata": {},
     "output_type": "execute_result"
    }
   ],
   "source": [
    "np.sqrt( np.mean( (data['wheel_angle'] - q_e)**2 ) )"
   ]
  },
  {
   "cell_type": "markdown",
   "id": "63c85bb6",
   "metadata": {},
   "source": [
    "Example of how to compute RMSE in state estimate"
   ]
  },
  {
   "cell_type": "code",
   "execution_count": 30,
   "id": "d2a19e4f",
   "metadata": {},
   "outputs": [
    {
     "data": {
      "text/plain": [
       "0.026980808573363702"
      ]
     },
     "execution_count": 30,
     "metadata": {},
     "output_type": "execute_result"
    }
   ],
   "source": [
    "np.sqrt(np.mean((data['xhat'][:, 0] - (data['wheel_angle'] - q_e))**2))"
   ]
  },
  {
   "cell_type": "code",
   "execution_count": null,
   "id": "591c5bb7",
   "metadata": {},
   "outputs": [],
   "source": []
  }
 ],
 "metadata": {
  "kernelspec": {
   "display_name": "Python 3 (ipykernel)",
   "language": "python",
   "name": "python3"
  },
  "language_info": {
   "codemirror_mode": {
    "name": "ipython",
    "version": 3
   },
   "file_extension": ".py",
   "mimetype": "text/x-python",
   "name": "python",
   "nbconvert_exporter": "python",
   "pygments_lexer": "ipython3",
   "version": "3.11.0"
  }
 },
 "nbformat": 4,
 "nbformat_minor": 5
}
