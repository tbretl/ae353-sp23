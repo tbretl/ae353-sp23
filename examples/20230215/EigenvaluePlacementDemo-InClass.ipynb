{
 "cells": [
  {
   "cell_type": "markdown",
   "id": "9f7012ef",
   "metadata": {},
   "source": [
    "# How to do eigenvalue placement"
   ]
  },
  {
   "cell_type": "markdown",
   "id": "08bf85df",
   "metadata": {},
   "source": [
    "Do all imports:"
   ]
  },
  {
   "cell_type": "code",
   "execution_count": 1,
   "id": "7d9be516",
   "metadata": {},
   "outputs": [],
   "source": [
    "import numpy as np\n",
    "from scipy import linalg\n",
    "from scipy import signal # <-- NEW"
   ]
  },
  {
   "cell_type": "markdown",
   "id": "5ce843e6",
   "metadata": {},
   "source": [
    "Define state-space model:"
   ]
  },
  {
   "cell_type": "code",
   "execution_count": 2,
   "id": "22441774",
   "metadata": {},
   "outputs": [],
   "source": [
    "A = np.array([[0., 1.], [2., 0.]])\n",
    "B = np.array([[0.], [1.]])"
   ]
  },
  {
   "cell_type": "markdown",
   "id": "b7a38388",
   "metadata": {},
   "source": [
    "Choose desired locations of closed-loop eigenvalues:"
   ]
  },
  {
   "cell_type": "code",
   "execution_count": 13,
   "id": "de45131c",
   "metadata": {},
   "outputs": [],
   "source": [
    "p = [-1., -4.]"
   ]
  },
  {
   "cell_type": "markdown",
   "id": "bbebc73c",
   "metadata": {},
   "source": [
    "Choose gain matrix to place closed-loop eigenvalues at desired locations:"
   ]
  },
  {
   "cell_type": "code",
   "execution_count": 14,
   "id": "22ef37ee",
   "metadata": {},
   "outputs": [],
   "source": [
    "result = signal.place_poles(A, B, p)"
   ]
  },
  {
   "cell_type": "markdown",
   "id": "7ef94a9d",
   "metadata": {},
   "source": [
    "Use `vars` to look at what is returned by `signal.place_poles`:"
   ]
  },
  {
   "cell_type": "code",
   "execution_count": 15,
   "id": "1718bf72",
   "metadata": {},
   "outputs": [
    {
     "data": {
      "text/plain": [
       "{'gain_matrix': array([[6., 5.]]),\n",
       " 'computed_poles': array([-4., -1.]),\n",
       " 'requested_poles': array([-4., -1.]),\n",
       " 'X': array([[-0.24253563+0.j, -0.70710678+0.j],\n",
       "        [ 0.9701425 +0.j,  0.70710678+0.j]]),\n",
       " 'rtol': 0,\n",
       " 'nb_iter': 0}"
      ]
     },
     "execution_count": 15,
     "metadata": {},
     "output_type": "execute_result"
    }
   ],
   "source": [
    "vars(result)"
   ]
  },
  {
   "cell_type": "markdown",
   "id": "76b0ab42",
   "metadata": {},
   "source": [
    "Extract and show the gain matrix:"
   ]
  },
  {
   "cell_type": "code",
   "execution_count": 16,
   "id": "da3fad8e",
   "metadata": {},
   "outputs": [
    {
     "name": "stdout",
     "output_type": "stream",
     "text": [
      "[[6. 5.]]\n"
     ]
    }
   ],
   "source": [
    "K = result.gain_matrix\n",
    "\n",
    "print(K)"
   ]
  },
  {
   "cell_type": "markdown",
   "id": "d52b4f60",
   "metadata": {},
   "source": [
    "Get the gain matrix in one line if we want:"
   ]
  },
  {
   "cell_type": "code",
   "execution_count": 17,
   "id": "f2e62488",
   "metadata": {},
   "outputs": [
    {
     "name": "stdout",
     "output_type": "stream",
     "text": [
      "[[6. 5.]]\n"
     ]
    }
   ],
   "source": [
    "K = signal.place_poles(A, B, p).gain_matrix\n",
    "\n",
    "print(K)"
   ]
  },
  {
   "cell_type": "code",
   "execution_count": 11,
   "id": "c9e65170",
   "metadata": {},
   "outputs": [
    {
     "name": "stdout",
     "output_type": "stream",
     "text": [
      "[[2.e+12 3.e+06]]\n"
     ]
    }
   ],
   "source": [
    "p = [-2e6, -1e6]\n",
    "K = signal.place_poles(A, B, p).gain_matrix\n",
    "\n",
    "print(K)"
   ]
  },
  {
   "cell_type": "markdown",
   "id": "61935778",
   "metadata": {},
   "source": [
    "Verify that the gain matrix puts eigenvalues in desired locations:"
   ]
  },
  {
   "cell_type": "code",
   "execution_count": 18,
   "id": "cb1e5ce4",
   "metadata": {},
   "outputs": [
    {
     "data": {
      "text/plain": [
       "array([-1.+0.j, -4.+0.j])"
      ]
     },
     "execution_count": 18,
     "metadata": {},
     "output_type": "execute_result"
    }
   ],
   "source": [
    "linalg.eigvals(A - B @ K)"
   ]
  },
  {
   "cell_type": "markdown",
   "id": "f282dc47",
   "metadata": {},
   "source": [
    "Ask for eigenvalues with non-zero imaginary part:"
   ]
  },
  {
   "cell_type": "code",
   "execution_count": 19,
   "id": "6f5665a3",
   "metadata": {},
   "outputs": [
    {
     "name": "stdout",
     "output_type": "stream",
     "text": [
      "[[15.  4.]]\n"
     ]
    }
   ],
   "source": [
    "p = [-2. + 1j * 3., -2. - 1j * 3.]\n",
    "K = signal.place_poles(A, B, p).gain_matrix\n",
    "\n",
    "print(K)"
   ]
  },
  {
   "cell_type": "code",
   "execution_count": 20,
   "id": "e844b096",
   "metadata": {},
   "outputs": [
    {
     "data": {
      "text/plain": [
       "array([-2.+3.j, -2.-3.j])"
      ]
     },
     "execution_count": 20,
     "metadata": {},
     "output_type": "execute_result"
    }
   ],
   "source": [
    "linalg.eigvals(A - B @ K)"
   ]
  },
  {
   "cell_type": "markdown",
   "id": "1d60282b",
   "metadata": {},
   "source": [
    "You can't ask for a complex eigenvalue without also asking for it complex conjugate. (This is true for any method of eigenvalue placement.)"
   ]
  },
  {
   "cell_type": "code",
   "execution_count": 21,
   "id": "c60f3f8c",
   "metadata": {},
   "outputs": [
    {
     "ename": "ValueError",
     "evalue": "Complex poles must come with their conjugates",
     "output_type": "error",
     "traceback": [
      "\u001b[0;31m---------------------------------------------------------------------------\u001b[0m",
      "\u001b[0;31mValueError\u001b[0m                                Traceback (most recent call last)",
      "Cell \u001b[0;32mIn[21], line 2\u001b[0m\n\u001b[1;32m      1\u001b[0m p \u001b[38;5;241m=\u001b[39m [\u001b[38;5;241m-\u001b[39m\u001b[38;5;241m2.\u001b[39m \u001b[38;5;241m+\u001b[39m \u001b[38;5;241m1\u001b[39mj \u001b[38;5;241m*\u001b[39m \u001b[38;5;241m3.\u001b[39m, \u001b[38;5;241m-\u001b[39m\u001b[38;5;241m4.\u001b[39m]\n\u001b[0;32m----> 2\u001b[0m K \u001b[38;5;241m=\u001b[39m \u001b[43msignal\u001b[49m\u001b[38;5;241;43m.\u001b[39;49m\u001b[43mplace_poles\u001b[49m\u001b[43m(\u001b[49m\u001b[43mA\u001b[49m\u001b[43m,\u001b[49m\u001b[43m \u001b[49m\u001b[43mB\u001b[49m\u001b[43m,\u001b[49m\u001b[43m \u001b[49m\u001b[43mp\u001b[49m\u001b[43m)\u001b[49m\u001b[38;5;241m.\u001b[39mgain_matrix\n\u001b[1;32m      4\u001b[0m \u001b[38;5;28mprint\u001b[39m(K)\n",
      "File \u001b[0;32m~/Applications/miniconda3/envs/ae353/lib/python3.11/site-packages/scipy/signal/_ltisys.py:3239\u001b[0m, in \u001b[0;36mplace_poles\u001b[0;34m(A, B, poles, method, rtol, maxiter)\u001b[0m\n\u001b[1;32m   3059\u001b[0m \u001b[38;5;250m\u001b[39m\u001b[38;5;124;03m\"\"\"\u001b[39;00m\n\u001b[1;32m   3060\u001b[0m \u001b[38;5;124;03mCompute K such that eigenvalues (A - dot(B, K))=poles.\u001b[39;00m\n\u001b[1;32m   3061\u001b[0m \n\u001b[0;32m   (...)\u001b[0m\n\u001b[1;32m   3236\u001b[0m \n\u001b[1;32m   3237\u001b[0m \u001b[38;5;124;03m\"\"\"\u001b[39;00m\n\u001b[1;32m   3238\u001b[0m \u001b[38;5;66;03m# Move away all the inputs checking, it only adds noise to the code\u001b[39;00m\n\u001b[0;32m-> 3239\u001b[0m update_loop, poles \u001b[38;5;241m=\u001b[39m \u001b[43m_valid_inputs\u001b[49m\u001b[43m(\u001b[49m\u001b[43mA\u001b[49m\u001b[43m,\u001b[49m\u001b[43m \u001b[49m\u001b[43mB\u001b[49m\u001b[43m,\u001b[49m\u001b[43m \u001b[49m\u001b[43mpoles\u001b[49m\u001b[43m,\u001b[49m\u001b[43m \u001b[49m\u001b[43mmethod\u001b[49m\u001b[43m,\u001b[49m\u001b[43m \u001b[49m\u001b[43mrtol\u001b[49m\u001b[43m,\u001b[49m\u001b[43m \u001b[49m\u001b[43mmaxiter\u001b[49m\u001b[43m)\u001b[49m\n\u001b[1;32m   3241\u001b[0m \u001b[38;5;66;03m# The current value of the relative tolerance we achieved\u001b[39;00m\n\u001b[1;32m   3242\u001b[0m cur_rtol \u001b[38;5;241m=\u001b[39m \u001b[38;5;241m0\u001b[39m\n",
      "File \u001b[0;32m~/Applications/miniconda3/envs/ae353/lib/python3.11/site-packages/scipy/signal/_ltisys.py:2687\u001b[0m, in \u001b[0;36m_valid_inputs\u001b[0;34m(A, B, poles, method, rtol, maxiter)\u001b[0m\n\u001b[1;32m   2685\u001b[0m     \u001b[38;5;28;01mraise\u001b[39;00m \u001b[38;5;167;01mValueError\u001b[39;00m(\u001b[38;5;124m\"\u001b[39m\u001b[38;5;124mPoles must be a 1D array like.\u001b[39m\u001b[38;5;124m\"\u001b[39m)\n\u001b[1;32m   2686\u001b[0m \u001b[38;5;66;03m# Will raise ValueError if poles do not come in complex conjugates pairs\u001b[39;00m\n\u001b[0;32m-> 2687\u001b[0m poles \u001b[38;5;241m=\u001b[39m \u001b[43m_order_complex_poles\u001b[49m\u001b[43m(\u001b[49m\u001b[43mpoles\u001b[49m\u001b[43m)\u001b[49m\n\u001b[1;32m   2688\u001b[0m \u001b[38;5;28;01mif\u001b[39;00m A\u001b[38;5;241m.\u001b[39mndim \u001b[38;5;241m>\u001b[39m \u001b[38;5;241m2\u001b[39m:\n\u001b[1;32m   2689\u001b[0m     \u001b[38;5;28;01mraise\u001b[39;00m \u001b[38;5;167;01mValueError\u001b[39;00m(\u001b[38;5;124m\"\u001b[39m\u001b[38;5;124mA must be a 2D array/matrix.\u001b[39m\u001b[38;5;124m\"\u001b[39m)\n",
      "File \u001b[0;32m~/Applications/miniconda3/envs/ae353/lib/python3.11/site-packages/scipy/signal/_ltisys.py:2742\u001b[0m, in \u001b[0;36m_order_complex_poles\u001b[0;34m(poles)\u001b[0m\n\u001b[1;32m   2739\u001b[0m ordered_poles \u001b[38;5;241m=\u001b[39m np\u001b[38;5;241m.\u001b[39mhstack((ordered_poles, im_poles))\n\u001b[1;32m   2741\u001b[0m \u001b[38;5;28;01mif\u001b[39;00m poles\u001b[38;5;241m.\u001b[39mshape[\u001b[38;5;241m0\u001b[39m] \u001b[38;5;241m!=\u001b[39m \u001b[38;5;28mlen\u001b[39m(ordered_poles):\n\u001b[0;32m-> 2742\u001b[0m     \u001b[38;5;28;01mraise\u001b[39;00m \u001b[38;5;167;01mValueError\u001b[39;00m(\u001b[38;5;124m\"\u001b[39m\u001b[38;5;124mComplex poles must come with their conjugates\u001b[39m\u001b[38;5;124m\"\u001b[39m)\n\u001b[1;32m   2743\u001b[0m \u001b[38;5;28;01mreturn\u001b[39;00m ordered_poles\n",
      "\u001b[0;31mValueError\u001b[0m: Complex poles must come with their conjugates"
     ]
    }
   ],
   "source": [
    "p = [-2. + 1j * 3., -4.]\n",
    "K = signal.place_poles(A, B, p).gain_matrix\n",
    "\n",
    "print(K)"
   ]
  },
  {
   "cell_type": "markdown",
   "id": "27107c4e",
   "metadata": {},
   "source": [
    "You can't ask for multiple eigenvalues at the same location. (This is true only for `place_poles`, not in general.)"
   ]
  },
  {
   "cell_type": "code",
   "execution_count": 22,
   "id": "36d4089d",
   "metadata": {},
   "outputs": [
    {
     "ename": "ValueError",
     "evalue": "at least one of the requested pole is repeated more than rank(B) times",
     "output_type": "error",
     "traceback": [
      "\u001b[0;31m---------------------------------------------------------------------------\u001b[0m",
      "\u001b[0;31mValueError\u001b[0m                                Traceback (most recent call last)",
      "Cell \u001b[0;32mIn[22], line 2\u001b[0m\n\u001b[1;32m      1\u001b[0m p \u001b[38;5;241m=\u001b[39m [\u001b[38;5;241m-\u001b[39m\u001b[38;5;241m1.\u001b[39m, \u001b[38;5;241m-\u001b[39m\u001b[38;5;241m1.\u001b[39m]\n\u001b[0;32m----> 2\u001b[0m K \u001b[38;5;241m=\u001b[39m \u001b[43msignal\u001b[49m\u001b[38;5;241;43m.\u001b[39;49m\u001b[43mplace_poles\u001b[49m\u001b[43m(\u001b[49m\u001b[43mA\u001b[49m\u001b[43m,\u001b[49m\u001b[43m \u001b[49m\u001b[43mB\u001b[49m\u001b[43m,\u001b[49m\u001b[43m \u001b[49m\u001b[43mp\u001b[49m\u001b[43m)\u001b[49m\u001b[38;5;241m.\u001b[39mgain_matrix\n\u001b[1;32m      4\u001b[0m \u001b[38;5;28mprint\u001b[39m(K)\n",
      "File \u001b[0;32m~/Applications/miniconda3/envs/ae353/lib/python3.11/site-packages/scipy/signal/_ltisys.py:3239\u001b[0m, in \u001b[0;36mplace_poles\u001b[0;34m(A, B, poles, method, rtol, maxiter)\u001b[0m\n\u001b[1;32m   3059\u001b[0m \u001b[38;5;250m\u001b[39m\u001b[38;5;124;03m\"\"\"\u001b[39;00m\n\u001b[1;32m   3060\u001b[0m \u001b[38;5;124;03mCompute K such that eigenvalues (A - dot(B, K))=poles.\u001b[39;00m\n\u001b[1;32m   3061\u001b[0m \n\u001b[0;32m   (...)\u001b[0m\n\u001b[1;32m   3236\u001b[0m \n\u001b[1;32m   3237\u001b[0m \u001b[38;5;124;03m\"\"\"\u001b[39;00m\n\u001b[1;32m   3238\u001b[0m \u001b[38;5;66;03m# Move away all the inputs checking, it only adds noise to the code\u001b[39;00m\n\u001b[0;32m-> 3239\u001b[0m update_loop, poles \u001b[38;5;241m=\u001b[39m \u001b[43m_valid_inputs\u001b[49m\u001b[43m(\u001b[49m\u001b[43mA\u001b[49m\u001b[43m,\u001b[49m\u001b[43m \u001b[49m\u001b[43mB\u001b[49m\u001b[43m,\u001b[49m\u001b[43m \u001b[49m\u001b[43mpoles\u001b[49m\u001b[43m,\u001b[49m\u001b[43m \u001b[49m\u001b[43mmethod\u001b[49m\u001b[43m,\u001b[49m\u001b[43m \u001b[49m\u001b[43mrtol\u001b[49m\u001b[43m,\u001b[49m\u001b[43m \u001b[49m\u001b[43mmaxiter\u001b[49m\u001b[43m)\u001b[49m\n\u001b[1;32m   3241\u001b[0m \u001b[38;5;66;03m# The current value of the relative tolerance we achieved\u001b[39;00m\n\u001b[1;32m   3242\u001b[0m cur_rtol \u001b[38;5;241m=\u001b[39m \u001b[38;5;241m0\u001b[39m\n",
      "File \u001b[0;32m~/Applications/miniconda3/envs/ae353/lib/python3.11/site-packages/scipy/signal/_ltisys.py:2703\u001b[0m, in \u001b[0;36m_valid_inputs\u001b[0;34m(A, B, poles, method, rtol, maxiter)\u001b[0m\n\u001b[1;32m   2701\u001b[0m \u001b[38;5;28;01mfor\u001b[39;00m p \u001b[38;5;129;01min\u001b[39;00m poles:\n\u001b[1;32m   2702\u001b[0m     \u001b[38;5;28;01mif\u001b[39;00m \u001b[38;5;28msum\u001b[39m(p \u001b[38;5;241m==\u001b[39m poles) \u001b[38;5;241m>\u001b[39m r:\n\u001b[0;32m-> 2703\u001b[0m         \u001b[38;5;28;01mraise\u001b[39;00m \u001b[38;5;167;01mValueError\u001b[39;00m(\u001b[38;5;124m\"\u001b[39m\u001b[38;5;124mat least one of the requested pole is repeated \u001b[39m\u001b[38;5;124m\"\u001b[39m\n\u001b[1;32m   2704\u001b[0m                          \u001b[38;5;124m\"\u001b[39m\u001b[38;5;124mmore than rank(B) times\u001b[39m\u001b[38;5;124m\"\u001b[39m)\n\u001b[1;32m   2705\u001b[0m \u001b[38;5;66;03m# Choose update method\u001b[39;00m\n\u001b[1;32m   2706\u001b[0m update_loop \u001b[38;5;241m=\u001b[39m _YT_loop\n",
      "\u001b[0;31mValueError\u001b[0m: at least one of the requested pole is repeated more than rank(B) times"
     ]
    }
   ],
   "source": [
    "p = [-1., -1.]\n",
    "K = signal.place_poles(A, B, p).gain_matrix\n",
    "\n",
    "print(K)"
   ]
  },
  {
   "cell_type": "code",
   "execution_count": null,
   "id": "22ca8018",
   "metadata": {},
   "outputs": [],
   "source": []
  }
 ],
 "metadata": {
  "kernelspec": {
   "display_name": "Python 3 (ipykernel)",
   "language": "python",
   "name": "python3"
  },
  "language_info": {
   "codemirror_mode": {
    "name": "ipython",
    "version": 3
   },
   "file_extension": ".py",
   "mimetype": "text/x-python",
   "name": "python",
   "nbconvert_exporter": "python",
   "pygments_lexer": "ipython3",
   "version": "3.11.0"
  }
 },
 "nbformat": 4,
 "nbformat_minor": 5
}
