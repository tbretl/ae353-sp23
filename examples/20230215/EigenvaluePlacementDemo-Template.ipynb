{
 "cells": [
  {
   "cell_type": "markdown",
   "id": "9f7012ef",
   "metadata": {},
   "source": [
    "# How to do eigenvalue placement"
   ]
  },
  {
   "cell_type": "markdown",
   "id": "08bf85df",
   "metadata": {},
   "source": [
    "Do all imports:"
   ]
  },
  {
   "cell_type": "code",
   "execution_count": null,
   "id": "7d9be516",
   "metadata": {},
   "outputs": [],
   "source": [
    "import numpy as np\n",
    "from scipy import linalg\n",
    "from scipy import signal # <-- NEW"
   ]
  },
  {
   "cell_type": "markdown",
   "id": "5ce843e6",
   "metadata": {},
   "source": [
    "Define state-space model:"
   ]
  },
  {
   "cell_type": "code",
   "execution_count": null,
   "id": "22441774",
   "metadata": {},
   "outputs": [],
   "source": [
    "A = np.array([[0., 1.], [2., 0.]])\n",
    "B = np.array([[0.], [1.]])"
   ]
  },
  {
   "cell_type": "markdown",
   "id": "b7a38388",
   "metadata": {},
   "source": [
    "Choose desired locations of closed-loop eigenvalues:"
   ]
  },
  {
   "cell_type": "code",
   "execution_count": null,
   "id": "de45131c",
   "metadata": {},
   "outputs": [],
   "source": []
  },
  {
   "cell_type": "markdown",
   "id": "bbebc73c",
   "metadata": {},
   "source": [
    "Choose gain matrix to place closed-loop eigenvalues at desired locations:"
   ]
  },
  {
   "cell_type": "code",
   "execution_count": null,
   "id": "22ef37ee",
   "metadata": {},
   "outputs": [],
   "source": []
  },
  {
   "cell_type": "markdown",
   "id": "7ef94a9d",
   "metadata": {},
   "source": [
    "Use `vars` to look at what is returned by `signal.place_poles`:"
   ]
  },
  {
   "cell_type": "code",
   "execution_count": null,
   "id": "1718bf72",
   "metadata": {},
   "outputs": [],
   "source": []
  },
  {
   "cell_type": "markdown",
   "id": "76b0ab42",
   "metadata": {},
   "source": [
    "Extract and show the gain matrix:"
   ]
  },
  {
   "cell_type": "code",
   "execution_count": null,
   "id": "da3fad8e",
   "metadata": {},
   "outputs": [],
   "source": []
  },
  {
   "cell_type": "markdown",
   "id": "d52b4f60",
   "metadata": {},
   "source": [
    "Get the gain matrix in one line if we want:"
   ]
  },
  {
   "cell_type": "code",
   "execution_count": null,
   "id": "f2e62488",
   "metadata": {},
   "outputs": [],
   "source": []
  },
  {
   "cell_type": "markdown",
   "id": "61935778",
   "metadata": {},
   "source": [
    "Verify that the gain matrix puts eigenvalues in desired locations:"
   ]
  },
  {
   "cell_type": "code",
   "execution_count": null,
   "id": "cb1e5ce4",
   "metadata": {},
   "outputs": [],
   "source": []
  },
  {
   "cell_type": "markdown",
   "id": "f282dc47",
   "metadata": {},
   "source": [
    "Ask for eigenvalues with non-zero imaginary part:"
   ]
  },
  {
   "cell_type": "code",
   "execution_count": null,
   "id": "6f5665a3",
   "metadata": {},
   "outputs": [],
   "source": []
  }
 ],
 "metadata": {
  "kernelspec": {
   "display_name": "Python 3 (ipykernel)",
   "language": "python",
   "name": "python3"
  },
  "language_info": {
   "codemirror_mode": {
    "name": "ipython",
    "version": 3
   },
   "file_extension": ".py",
   "mimetype": "text/x-python",
   "name": "python",
   "nbconvert_exporter": "python",
   "pygments_lexer": "ipython3",
   "version": "3.11.0"
  }
 },
 "nbformat": 4,
 "nbformat_minor": 5
}
