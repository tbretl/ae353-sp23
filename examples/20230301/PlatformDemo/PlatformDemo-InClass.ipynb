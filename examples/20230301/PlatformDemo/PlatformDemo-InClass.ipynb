{
 "cells": [
  {
   "cell_type": "markdown",
   "id": "middle-acoustic",
   "metadata": {},
   "source": [
    "# Control of a \"spacecraft\" platform with a reaction wheel"
   ]
  },
  {
   "cell_type": "code",
   "execution_count": null,
   "id": "dimensional-contamination",
   "metadata": {},
   "outputs": [],
   "source": [
    "# These are standard modules\n",
    "import time\n",
    "import numpy as np\n",
    "from scipy import linalg\n",
    "import sympy as sym\n",
    "import matplotlib.pyplot as plt\n",
    "from IPython.display import display, Latex, Markdown\n",
    "\n",
    "# This is a custom interface to the pybullet simulator\n",
    "import ae353_platform\n",
    "\n",
    "# Suppress the use of scientific notation when printing small numbers\n",
    "np.set_printoptions(suppress=True)"
   ]
  },
  {
   "cell_type": "markdown",
   "id": "73b3d8cb",
   "metadata": {},
   "source": [
    "Given a choice of ground roll angle $\\phi$, the equations of motion are\n",
    "\n",
    "$$\n",
    "\\begin{aligned}\n",
    "J_1 \\ddot{q}_1 &= \\tau - m_wgl\\sin(q_1)\\sin(\\phi) \\\\\n",
    "J_2 \\dot{v}_2 &= - \\left( \\dfrac{J_1 + J_2}{J_1} \\right) \\tau + \\left( \\dfrac{J_2}{J_1} \\right) m_wgl\\sin(q_1)\\sin(\\phi)\n",
    "\\end{aligned}\n",
    "$$\n",
    "\n",
    "where\n",
    "\n",
    "* $q_1$ is the platform angle\n",
    "* $\\dot{q}_1$ is the platform velocity\n",
    "* $v_2$ is the wheel velocity\n",
    "* $\\tau$ is the torque applied *to* the platform *by* the wheel\n",
    "\n",
    "and\n",
    "\n",
    "$$\n",
    "J_1 = J_p + m_wl^2\n",
    "\\qquad\n",
    "\\qquad\n",
    "J_2 = J_w\n",
    "$$\n",
    "\n",
    "and parameter values are defined as follows:"
   ]
  },
  {
   "cell_type": "code",
   "execution_count": null,
   "id": "ecac734d",
   "metadata": {},
   "outputs": [],
   "source": [
    "# distance from platform axis to wheel axis\n",
    "l = 1.\n",
    "\n",
    "# radius of wheel\n",
    "rw = 0.5\n",
    "\n",
    "# mass of wheel\n",
    "mw = 0.25\n",
    "\n",
    "# moi of wheel\n",
    "Jw = 0.5 * mw * rw**2\n",
    "\n",
    "# mass of platform\n",
    "mp = 12. * (1. - mw * l**2) / (3.**2 + 2.**2)\n",
    "\n",
    "# moment of inertia of platform\n",
    "Jp = (1. / 12.) * mp * (3.**2 + 2.**2)\n",
    "\n",
    "# gravity\n",
    "g = 9.81\n",
    "\n",
    "# composite parameters\n",
    "J1 = Jp + mw * l**2\n",
    "J2 = Jw"
   ]
  },
  {
   "cell_type": "markdown",
   "id": "6efc62f7",
   "metadata": {},
   "source": [
    "The equations of motion when $\\phi=\\pi/2$ are\n",
    "\n",
    "$$\n",
    "\\begin{aligned}\n",
    "J_1 \\ddot{q}_1 &= \\tau - m_wgl\\sin(q_1) \\\\\n",
    "J_2 \\dot{v}_2 &= - \\left( \\dfrac{J_1 + J_2}{J_1} \\right) \\tau + \\left( \\dfrac{J_2}{J_1} \\right) m_wgl\\sin(q_1).\n",
    "\\end{aligned}\n",
    "$$\n",
    "\n",
    "We can write these equations of motion in standard form as\n",
    "\n",
    "$$\n",
    "\\begin{bmatrix} \\dot{q}_1 \\\\ \\dot{v}_1 \\\\ \\dot{v}_2 \\end{bmatrix}\n",
    "=\n",
    "f \\left( \\begin{bmatrix} q_1 \\\\ v_1 \\\\ v_2 \\end{bmatrix}, \\begin{bmatrix} \\tau \\end{bmatrix} \\right).\n",
    "$$\n",
    "\n",
    "Create a simulator for this case."
   ]
  },
  {
   "cell_type": "code",
   "execution_count": null,
   "id": "5807e0da",
   "metadata": {},
   "outputs": [],
   "source": [
    "simulator = ae353_platform.Simulator(\n",
    "    display=True,\n",
    "    roll=(np.pi / 2),\n",
    ")"
   ]
  },
  {
   "cell_type": "markdown",
   "id": "00d5667d",
   "metadata": {},
   "source": [
    "Choose a default camera view (could also be `simulator.camera_topview()`)."
   ]
  },
  {
   "cell_type": "code",
   "execution_count": null,
   "id": "8d205891",
   "metadata": {},
   "outputs": [],
   "source": [
    "simulator.camera_sideview()"
   ]
  },
  {
   "cell_type": "markdown",
   "id": "c200a16d",
   "metadata": {},
   "source": [
    "Define a function to return a state-space model for a given choice of equilibrium point."
   ]
  },
  {
   "cell_type": "code",
   "execution_count": null,
   "id": "a893330d",
   "metadata": {},
   "outputs": [],
   "source": [
    "def get_model(q1e, v1e, v2e, taue):\n",
    "    # Define variables\n",
    "    q1, v1, v2, tau = sym.symbols('q1, v1, v2, tau')\n",
    "    \n",
    "    # Define right-hand side of ODEs\n",
    "    f = sym.Matrix([\n",
    "        v1,\n",
    "        (1 / J1) * (tau - mw * g * l * sym.sin(q1)),\n",
    "        (1 / J2) * (- ((J1 + J2) / J1) * tau + (J2 / J1) * mw * g * l * sym.sin(q1))\n",
    "    ])\n",
    "\n",
    "    # Convert floating-point to rational numbers\n",
    "    f = sym.nsimplify(f, rational=True)\n",
    "    \n",
    "    # Verify equilibrium point\n",
    "    f_num = sym.lambdify([q1, v1, v2, tau], f)\n",
    "    if not np.allclose(f_num(q1e, v1e, v2e, taue), 0.):\n",
    "        raise Exception('equilibrium point is invalid')\n",
    "    \n",
    "    # Find A and B in symbolic form\n",
    "    A_sym = f.jacobian([q1, v1, v2])\n",
    "    B_sym = f.jacobian([tau])\n",
    "\n",
    "    # Create lambda functions to allow numerical evaluation of A and B\n",
    "    A_num = sym.lambdify([q1, v1, v2, tau], A_sym)\n",
    "    B_num = sym.lambdify([q1, v1, v2, tau], B_sym)\n",
    "\n",
    "    # Find A and B in numeric form (making sure the result is floating-point)\n",
    "    A = A_num(q1e, v1e, v2e, taue).astype(float)\n",
    "    B = B_num(q1e, v1e, v2e, taue).astype(float)\n",
    "\n",
    "    # Return A and B\n",
    "    return A, B"
   ]
  },
  {
   "cell_type": "markdown",
   "id": "fb661d34",
   "metadata": {},
   "source": [
    "Choose equilibrium point."
   ]
  },
  {
   "cell_type": "code",
   "execution_count": null,
   "id": "b54194c1",
   "metadata": {},
   "outputs": [],
   "source": [
    "q1e = np.pi\n",
    "v1e = 0.\n",
    "v2e = 0.\n",
    "taue = 0."
   ]
  },
  {
   "cell_type": "markdown",
   "id": "77f43f4f",
   "metadata": {},
   "source": [
    "Get state-space model."
   ]
  },
  {
   "cell_type": "code",
   "execution_count": null,
   "id": "31949734",
   "metadata": {},
   "outputs": [],
   "source": [
    "A, B = get_model(q1e, v1e, v2e, taue)\n",
    "\n",
    "print(f'A =\\n{A}\\n\\nB =\\n{B}')"
   ]
  },
  {
   "cell_type": "markdown",
   "id": "098b83b3",
   "metadata": {},
   "source": [
    "Check if the system is controllable."
   ]
  },
  {
   "cell_type": "code",
   "execution_count": null,
   "id": "2836762a",
   "metadata": {},
   "outputs": [],
   "source": [
    "W = np.block([B, A @ B, A @ A @ B])\n",
    "print(f'W =\\n{W}\\n')\n",
    "print(f'rank(W) = {np.linalg.matrix_rank(W)}')"
   ]
  },
  {
   "cell_type": "markdown",
   "id": "aaf3d53e",
   "metadata": {},
   "source": [
    "This function returns the solution to the LQR problem\n",
    "\n",
    "$$\\begin{align*} \\underset{u_{[t_0,\\infty]}}{\\text{minimize}} &\\qquad\\int_{t_0}^{\\infty} \\left( x(t)^T Q x(t) + u(t)^T R u(t) \\right) dt\\\\ \\text{subject to} &\\qquad\\dot{x}(t)=Ax(t)+Bu(t) \\\\ &\\qquad x(t_0)=x_0. \\end{align*}$$"
   ]
  },
  {
   "cell_type": "code",
   "execution_count": null,
   "id": "8b038f11",
   "metadata": {},
   "outputs": [],
   "source": [
    "def lqr(A, B, Q, R):\n",
    "    P = linalg.solve_continuous_are(A, B, Q, R)\n",
    "    K = linalg.inv(R) @  B.T @ P\n",
    "    return K, P"
   ]
  },
  {
   "cell_type": "markdown",
   "id": "7bfe87c5",
   "metadata": {},
   "source": [
    "Choose weights."
   ]
  },
  {
   "cell_type": "code",
   "execution_count": null,
   "id": "cb5dcb02",
   "metadata": {},
   "outputs": [],
   "source": [
    "Q = np.diag([1., 1., 1.])\n",
    "R = np.diag([1.])"
   ]
  },
  {
   "cell_type": "markdown",
   "id": "a3feb66f",
   "metadata": {},
   "source": [
    "Find optimal gain matrix (and cost matrix)."
   ]
  },
  {
   "cell_type": "code",
   "execution_count": null,
   "id": "ca289e80",
   "metadata": {},
   "outputs": [],
   "source": [
    "K, P = lqr(A, B, Q, R)\n",
    "print(f'K =\\n{K}\\n')"
   ]
  },
  {
   "cell_type": "markdown",
   "id": "00474dd4",
   "metadata": {},
   "source": [
    "Find closed-loop eigenvalues."
   ]
  },
  {
   "cell_type": "code",
   "execution_count": null,
   "id": "717f22a2",
   "metadata": {},
   "outputs": [],
   "source": [
    "# Show closed-loop eigenvalues\n",
    "print(f'p = {linalg.eigvals(A - B @ K)}')"
   ]
  },
  {
   "cell_type": "markdown",
   "id": "daadbbc0",
   "metadata": {},
   "source": [
    "Define a controller that maps sensor measurements to actuator commands. The `run` function will be called 100 times per second (i.e., at 100 Hz) by the simulator."
   ]
  },
  {
   "cell_type": "code",
   "execution_count": null,
   "id": "7963b6b9",
   "metadata": {},
   "outputs": [],
   "source": [
    "class Controller:\n",
    "    def __init__(self, K, q1e, v1e, v2e):\n",
    "        self.K = K\n",
    "        self.q1e = q1e\n",
    "        self.v1e = v1e\n",
    "        self.v2e = v2e\n",
    "        self.taue = taue\n",
    "    \n",
    "    def reset(self):\n",
    "        pass\n",
    "    \n",
    "    def run(\n",
    "            self,\n",
    "            t,\n",
    "            platform_angle,\n",
    "            platform_velocity,\n",
    "            wheel_angle,\n",
    "            wheel_velocity,\n",
    "        ):\n",
    "        \n",
    "        x = np.array([\n",
    "            platform_angle - self.q1e,\n",
    "            platform_velocity - self.v1e,\n",
    "            wheel_velocity - self.v2e,\n",
    "        ])\n",
    "        u = - self.K @ x\n",
    "\n",
    "        wheel_torque = - (u[0] + self.taue)\n",
    "        \n",
    "        return wheel_torque"
   ]
  },
  {
   "cell_type": "markdown",
   "id": "40059b98",
   "metadata": {},
   "source": [
    "Create an instance of the controller."
   ]
  },
  {
   "cell_type": "code",
   "execution_count": null,
   "id": "1168ff65",
   "metadata": {},
   "outputs": [],
   "source": [
    "controller = Controller(K, q1e, v1e, v2e)"
   ]
  },
  {
   "cell_type": "markdown",
   "id": "19c52b8d",
   "metadata": {},
   "source": [
    "Reset the simulator. Optional arguments allow you to specify the initial wheel angle and velocity. If the value of either argument is `None` (or if the argument is left unspecified), then its value will be chosen at random."
   ]
  },
  {
   "cell_type": "code",
   "execution_count": null,
   "id": "e9fc6510",
   "metadata": {},
   "outputs": [],
   "source": [
    "simulator.reset(\n",
    "    platform_angle=np.pi + 0.2,\n",
    "    platform_velocity=0.,\n",
    "    wheel_angle=0.,\n",
    "    wheel_velocity=5.,\n",
    ")"
   ]
  },
  {
   "cell_type": "markdown",
   "id": "a0c7b67a",
   "metadata": {},
   "source": [
    "Reset the controller."
   ]
  },
  {
   "cell_type": "code",
   "execution_count": null,
   "id": "d169e3c4",
   "metadata": {},
   "outputs": [],
   "source": [
    "controller.reset()"
   ]
  },
  {
   "cell_type": "markdown",
   "id": "5cb3dacd",
   "metadata": {},
   "source": [
    "Run the simulator."
   ]
  },
  {
   "cell_type": "code",
   "execution_count": null,
   "id": "8e649e63",
   "metadata": {},
   "outputs": [],
   "source": [
    "data = simulator.run(\n",
    "    controller,           # <-- required (an instance of your Controller class)\n",
    "    max_time=5.0,         # <-- optional (how long you want to run the simulation in seconds)\n",
    "    data_filename=None,   # <-- optional (name of file to which you want data saved, e.g., 'my_data.json')\n",
    "    video_filename=None,  # <-- optional (name of file to which you want video saved, e.g., 'my_video.mov')\n",
    ")"
   ]
  },
  {
   "cell_type": "markdown",
   "id": "38a9c4a6",
   "metadata": {},
   "source": [
    "Plot the results."
   ]
  },
  {
   "cell_type": "code",
   "execution_count": null,
   "id": "d63c5611",
   "metadata": {},
   "outputs": [],
   "source": [
    "t = data['t']\n",
    "q1 = data['platform_angle']\n",
    "v1 = data['platform_velocity']\n",
    "v2 = data['wheel_velocity']\n",
    "tau = data['wheel_torque']\n",
    "tau_command = data['wheel_torque_command']\n",
    "\n",
    "fig, (ax_q1, ax_v1, ax_v2, ax_tau) = plt.subplots(4, 1, figsize=(8, 8), sharex=True)\n",
    "\n",
    "ax_q1.plot(t, q1, label='$q_1$', linewidth=4)\n",
    "ax_q1.plot(t, q1e * np.ones_like(t), '--', label='$q_{1e}$', linewidth=4)\n",
    "ax_v1.plot(t, v1, label='$v_1$', linewidth=4)\n",
    "ax_v1.plot(t, v1e * np.ones_like(t), '--', label='$v_{1e}$', linewidth=4)\n",
    "ax_v2.plot(t, v2, label='$v_2$', linewidth=4)\n",
    "ax_v2.plot(t, v2e * np.ones_like(t), '--', label='$v_{2e}$', linewidth=4)\n",
    "ax_tau.plot(t, tau, label=r'$\\tau$', linewidth=4)\n",
    "ax_tau.plot(t, tau_command, '--', label=r'$\\tau_{commanded}$', linewidth=4)\n",
    "ax_tau.plot(t, np.ones_like(t) * simulator.tau_max, ':', label=r'$\\tau_{max}$', linewidth=4, color='C2', zorder=0)\n",
    "ax_tau.plot(t, - np.ones_like(t) * simulator.tau_max, ':', linewidth=4, color='C2', zorder=0)\n",
    "\n",
    "ax_q1.grid()\n",
    "ax_q1.legend(fontsize=16, ncol=2, loc='upper right')\n",
    "ax_q1.tick_params(labelsize=14)\n",
    "ax_q1.set_ylim(q1e - 0.5, q1e + 0.5)\n",
    "\n",
    "ax_v1.grid()\n",
    "ax_v1.legend(fontsize=16, ncol=2, loc='upper right')\n",
    "ax_v1.tick_params(labelsize=14)\n",
    "ax_v1.set_ylim(v1e - 1., v1e + 1.)\n",
    "\n",
    "ax_v2.grid()\n",
    "ax_v2.legend(fontsize=16, ncol=2, loc='upper right')\n",
    "ax_v2.tick_params(labelsize=14)\n",
    "ax_v2.set_ylim(v2e - 20., v2e + 20.)\n",
    "\n",
    "ax_tau.grid()\n",
    "ax_tau.legend(fontsize=16, ncol=3, loc='upper right')\n",
    "ax_tau.tick_params(labelsize=14)\n",
    "\n",
    "ax_tau.set_xlabel('time (s)', fontsize=20)\n",
    "ax_tau.set_xlim([data['t'][0], data['t'][-1]])\n",
    "\n",
    "fig.tight_layout()\n",
    "plt.show()"
   ]
  },
  {
   "cell_type": "code",
   "execution_count": null,
   "id": "43e2d3c6",
   "metadata": {},
   "outputs": [],
   "source": []
  }
 ],
 "metadata": {
  "kernelspec": {
   "display_name": "Python 3 (ipykernel)",
   "language": "python",
   "name": "python3"
  },
  "language_info": {
   "codemirror_mode": {
    "name": "ipython",
    "version": 3
   },
   "file_extension": ".py",
   "mimetype": "text/x-python",
   "name": "python",
   "nbconvert_exporter": "python",
   "pygments_lexer": "ipython3",
   "version": "3.11.0"
  }
 },
 "nbformat": 4,
 "nbformat_minor": 5
}
