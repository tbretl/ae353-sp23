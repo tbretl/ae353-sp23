{
 "cells": [
  {
   "cell_type": "markdown",
   "id": "middle-acoustic",
   "metadata": {},
   "source": [
    "# Demo: Collision avoidance"
   ]
  },
  {
   "cell_type": "markdown",
   "id": "14c5f853",
   "metadata": {},
   "source": [
    "## Setup"
   ]
  },
  {
   "cell_type": "markdown",
   "id": "faced-least",
   "metadata": {},
   "source": [
    "Import modules."
   ]
  },
  {
   "cell_type": "code",
   "execution_count": null,
   "id": "informed-qatar",
   "metadata": {},
   "outputs": [],
   "source": [
    "import os\n",
    "import time\n",
    "import numpy as np\n",
    "import matplotlib.pyplot as plt\n",
    "import secrets\n",
    "import ae353_drone\n",
    "\n",
    "# Suppress the use of scientific notation when printing small numbers\n",
    "np.set_printoptions(suppress=True)"
   ]
  },
  {
   "cell_type": "markdown",
   "id": "final-distinction",
   "metadata": {},
   "source": [
    "Create and print a seed for the random number generator so it is possible to reproduce the results."
   ]
  },
  {
   "cell_type": "code",
   "execution_count": null,
   "id": "ceramic-evanescence",
   "metadata": {},
   "outputs": [],
   "source": [
    "seed = secrets.randbits(32)\n",
    "print(seed)"
   ]
  },
  {
   "cell_type": "markdown",
   "id": "environmental-refrigerator",
   "metadata": {},
   "source": [
    "Create simulator with seed."
   ]
  },
  {
   "cell_type": "code",
   "execution_count": null,
   "id": "needed-motion",
   "metadata": {},
   "outputs": [],
   "source": [
    "simulator = ae353_drone.Simulator(\n",
    "    display=True,\n",
    "    display_pybullet=False,\n",
    "    seed=seed,\n",
    ")"
   ]
  },
  {
   "cell_type": "markdown",
   "id": "33442af0",
   "metadata": {},
   "source": [
    "Allow print statements and long computation times (only for development)."
   ]
  },
  {
   "cell_type": "code",
   "execution_count": null,
   "id": "442165d8",
   "metadata": {},
   "outputs": [],
   "source": [
    "simulator.set_rules(\n",
    "    error_on_print=False,\n",
    "    error_on_timeout=False,\n",
    "    check_for_inactivity=False,\n",
    ")"
   ]
  },
  {
   "cell_type": "markdown",
   "id": "ebd4c282",
   "metadata": {},
   "source": [
    "Rearrange the rings."
   ]
  },
  {
   "cell_type": "code",
   "execution_count": null,
   "id": "111d50c4",
   "metadata": {},
   "outputs": [],
   "source": [
    "simulator.place_rings()"
   ]
  },
  {
   "cell_type": "markdown",
   "id": "e1245baa",
   "metadata": {},
   "source": [
    "### Without collision avoidance"
   ]
  },
  {
   "cell_type": "markdown",
   "id": "2a163524",
   "metadata": {},
   "source": [
    "This controller is what we started with before adding collision avoidance."
   ]
  },
  {
   "cell_type": "code",
   "execution_count": null,
   "id": "3540cd56",
   "metadata": {},
   "outputs": [],
   "source": [
    "class Controller():\n",
    "    def __init__(self):\n",
    "        # Define all variables (FIXME)\n",
    "        #\n",
    "        # self.A = ...\n",
    "        # self.B = ...\n",
    "        # ...\n",
    "        # ...\n",
    "        \n",
    "        self.variables_to_log = ['xhat', 'xdes', 'ring']\n",
    "\n",
    "    def get_color(self):\n",
    "        return [1., 0., 0.]\n",
    "\n",
    "    def reset(\n",
    "            self,\n",
    "            p_x, p_y, p_z, # <-- approximate initial position of drone (meters)\n",
    "            yaw,           # <-- approximate initial yaw angle of drone (radians)\n",
    "        ):\n",
    "        \n",
    "        # Choose initial state estimate (FIXME)\n",
    "        self.xhat = np.zeros(12)\n",
    "\n",
    "    def run(\n",
    "            self,\n",
    "            pos_markers,\n",
    "            pos_ring,\n",
    "            dir_ring,\n",
    "            is_last_ring,\n",
    "            pos_others,\n",
    "        ):\n",
    "        \n",
    "        # Store position of ring for later analysis\n",
    "        self.ring = pos_ring\n",
    "        \n",
    "        # Get xdes\n",
    "        self.xdes = self.get_xdes(self.xhat, pos_ring, dir_ring, is_last_ring, pos_others)\n",
    "        \n",
    "        # Apply controller and observer... (FIXME)\n",
    "        #\n",
    "        # u = ...\n",
    "        # y = ...\n",
    "        # self.xhat += ...\n",
    "        #\n",
    "        \n",
    "        tau_x = 0.\n",
    "        tau_y = 0.\n",
    "        tau_z = 0.\n",
    "        f_z = 0.\n",
    "        \n",
    "        return tau_x, tau_y, tau_z, f_z\n",
    "    \n",
    "    def get_xdes(self, xhat, pos_ring, dir_ring, is_last_ring, pos_others):\n",
    "        # Get estimated position\n",
    "        phat = xhat[0:3]\n",
    "        \n",
    "        # Get desired position\n",
    "        pdes = pos_ring\n",
    "        \n",
    "        # Make sure desired position is not too far away\n",
    "        emax = 0.5\n",
    "        if np.linalg.norm(pdes - phat) > emax:\n",
    "            pdes = phat + emax * ((pdes - phat) / np.linalg.norm(pdes - phat))\n",
    "        \n",
    "        # Get desired state\n",
    "        xdes = np.zeros(12)\n",
    "        xdes[0:3] = pdes\n",
    "        return xdes"
   ]
  },
  {
   "cell_type": "markdown",
   "id": "7375a637",
   "metadata": {},
   "source": [
    "Clear all drones."
   ]
  },
  {
   "cell_type": "code",
   "execution_count": null,
   "id": "7ae791b6",
   "metadata": {},
   "outputs": [],
   "source": [
    "simulator.clear_drones()"
   ]
  },
  {
   "cell_type": "markdown",
   "id": "c0f2a8c4",
   "metadata": {},
   "source": [
    "Add drones to simulator."
   ]
  },
  {
   "cell_type": "code",
   "execution_count": null,
   "id": "164c306e",
   "metadata": {},
   "outputs": [],
   "source": [
    "simulator.add_drone(Controller, 'template', 'template.png')\n",
    "for i in range(25):\n",
    "    simulator.add_drone(Controller, f'other_{i + 1}', 'template.png')"
   ]
  },
  {
   "cell_type": "markdown",
   "id": "de672a01",
   "metadata": {},
   "source": [
    "Change the camera view."
   ]
  },
  {
   "cell_type": "code",
   "execution_count": null,
   "id": "dac95325",
   "metadata": {},
   "outputs": [],
   "source": [
    "simulator.camera_startview()"
   ]
  },
  {
   "cell_type": "markdown",
   "id": "basic-variance",
   "metadata": {},
   "source": [
    "Reset the simulator."
   ]
  },
  {
   "cell_type": "code",
   "execution_count": null,
   "id": "scientific-friendly",
   "metadata": {},
   "outputs": [],
   "source": [
    "simulator.reset()"
   ]
  },
  {
   "cell_type": "markdown",
   "id": "dress-product",
   "metadata": {},
   "source": [
    "Run the simulator."
   ]
  },
  {
   "cell_type": "code",
   "execution_count": null,
   "id": "streaming-narrative",
   "metadata": {},
   "outputs": [],
   "source": [
    "simulator.run(max_time=25.)"
   ]
  },
  {
   "cell_type": "markdown",
   "id": "d3d12247",
   "metadata": {},
   "source": [
    "### With collision avoidance"
   ]
  },
  {
   "cell_type": "markdown",
   "id": "b161e986",
   "metadata": {},
   "source": [
    "This controller is a template for adding collision avoidance."
   ]
  },
  {
   "cell_type": "code",
   "execution_count": null,
   "id": "f765a4cb",
   "metadata": {},
   "outputs": [],
   "source": [
    "class AvoidanceController():\n",
    "    def __init__(self):\n",
    "        # Define all variables (FIXME)\n",
    "        #\n",
    "        # self.A = ...\n",
    "        # self.B = ...\n",
    "        # ...\n",
    "        # ...\n",
    "        \n",
    "        self.variables_to_log = ['xhat', 'xdes', 'ring']\n",
    "\n",
    "    def get_color(self):\n",
    "        return [1., 0., 0.]\n",
    "\n",
    "    def reset(\n",
    "            self,\n",
    "            p_x, p_y, p_z, # <-- approximate initial position of drone (meters)\n",
    "            yaw,           # <-- approximate initial yaw angle of drone (radians)\n",
    "        ):\n",
    "        \n",
    "        # Choose initial state estimate (FIXME)\n",
    "        self.xhat = np.zeros(12)\n",
    "\n",
    "    def run(\n",
    "            self,\n",
    "            pos_markers,\n",
    "            pos_ring,\n",
    "            dir_ring,\n",
    "            is_last_ring,\n",
    "            pos_others,\n",
    "        ):\n",
    "        \n",
    "        # Store position of ring for later analysis\n",
    "        self.ring = pos_ring\n",
    "        \n",
    "        # Get xdes\n",
    "        self.xdes = self.get_xdes(self.xhat, pos_ring, dir_ring, is_last_ring, pos_others)\n",
    "        \n",
    "        # Apply controller and observer... (FIXME)\n",
    "        #\n",
    "        # u = ...\n",
    "        # y = ...\n",
    "        # self.xhat += ...\n",
    "        #\n",
    "        \n",
    "        tau_x = 0.\n",
    "        tau_y = 0.\n",
    "        tau_z = 0.\n",
    "        f_z = 0.\n",
    "        \n",
    "        return tau_x, tau_y, tau_z, f_z\n",
    "    \n",
    "    def get_xdes(self, xhat, pos_ring, dir_ring, is_last_ring, pos_others):\n",
    "        # Get estimated position\n",
    "        phat = xhat[0:3]\n",
    "        \n",
    "        ##############################\n",
    "        \n",
    "        # Define parameters\n",
    "        k_att = 1.0\n",
    "        k_rep = 1.0\n",
    "        k_des = 1.0\n",
    "        r_drone = 0.25  # <-- radius of a sphere that would completely contain each drone\n",
    "        r_ring = 1.0    # <-- radius of each small ring\n",
    "        \n",
    "        # Get attractive part\n",
    "        grad_h_att = np.zeros(3)            # <-- REPLACE WITH YOUR CODE\n",
    "        \n",
    "        # Get repulsive part\n",
    "        # - Initialize the gradient\n",
    "        grad_h_rep = np.zeros(3)\n",
    "        # - Add repulsive part for each other drone\n",
    "        for q in pos_others:\n",
    "            grad_h_rep += np.zeros(3)       # <-- REPLACE WITH YOUR CODE\n",
    "        # - Add repulsive part for next ring\n",
    "        grad_h_rep += np.zeros(3)           # <-- REPLACE WITH YOUR CODE\n",
    "        # - Add repulsive part for ground\n",
    "        grad_h_rep += np.zeros(3)           # <-- REPLACE WITH YOUR CODE\n",
    "        \n",
    "        # Get desired position\n",
    "        pdes = phat - k_des * (grad_h_att + grad_h_rep)\n",
    "        \n",
    "        ##############################\n",
    "        \n",
    "        # Make sure desired position is not too far away\n",
    "        emax = 0.5\n",
    "        if np.linalg.norm(pdes - phat) > emax:\n",
    "            pdes = phat + emax * ((pdes - phat) / np.linalg.norm(pdes - phat))\n",
    "        \n",
    "        # Get desired state\n",
    "        xdes = np.zeros(12)\n",
    "        xdes[0:3] = pdes\n",
    "        return xdes"
   ]
  },
  {
   "cell_type": "markdown",
   "id": "2ae35854",
   "metadata": {},
   "source": [
    "Clear all drones."
   ]
  },
  {
   "cell_type": "code",
   "execution_count": null,
   "id": "13ffdd16",
   "metadata": {},
   "outputs": [],
   "source": [
    "simulator.clear_drones()"
   ]
  },
  {
   "cell_type": "markdown",
   "id": "779e6c02",
   "metadata": {},
   "source": [
    "Add drones to simulator."
   ]
  },
  {
   "cell_type": "code",
   "execution_count": null,
   "id": "a6a8b8b3",
   "metadata": {},
   "outputs": [],
   "source": [
    "simulator.add_drone(AvoidanceController, 'template', 'template.png')\n",
    "for i in range(25):\n",
    "    simulator.add_drone(AvoidanceController, f'other_{i + 1}', 'template.png')"
   ]
  },
  {
   "cell_type": "markdown",
   "id": "21c4767d",
   "metadata": {},
   "source": [
    "Change the camera view."
   ]
  },
  {
   "cell_type": "code",
   "execution_count": null,
   "id": "d499bbc3",
   "metadata": {},
   "outputs": [],
   "source": [
    "simulator.camera_startview()"
   ]
  },
  {
   "cell_type": "markdown",
   "id": "3128c1c4",
   "metadata": {},
   "source": [
    "Reset the simulator."
   ]
  },
  {
   "cell_type": "code",
   "execution_count": null,
   "id": "a5ef5194",
   "metadata": {},
   "outputs": [],
   "source": [
    "simulator.reset()"
   ]
  },
  {
   "cell_type": "markdown",
   "id": "a906567e",
   "metadata": {},
   "source": [
    "Run the simulator."
   ]
  },
  {
   "cell_type": "code",
   "execution_count": null,
   "id": "bb9e9356",
   "metadata": {},
   "outputs": [],
   "source": [
    "simulator.run(max_time=25.)"
   ]
  },
  {
   "cell_type": "markdown",
   "id": "e0bde1f5",
   "metadata": {},
   "source": [
    "### Show results"
   ]
  },
  {
   "cell_type": "markdown",
   "id": "be09adad",
   "metadata": {},
   "source": [
    "Get data."
   ]
  },
  {
   "cell_type": "code",
   "execution_count": null,
   "id": "22495abe",
   "metadata": {},
   "outputs": [],
   "source": [
    "data = simulator.get_data('template')"
   ]
  },
  {
   "cell_type": "markdown",
   "id": "5a8eab87",
   "metadata": {},
   "source": [
    "Plot results (position only)."
   ]
  },
  {
   "cell_type": "code",
   "execution_count": null,
   "id": "9bfee167",
   "metadata": {},
   "outputs": [],
   "source": [
    "p_x_est = data['xhat'][:, 0]\n",
    "p_y_est = data['xhat'][:, 1]\n",
    "p_z_est = data['xhat'][:, 2]\n",
    "\n",
    "p_x_des = data['xdes'][:, 0]\n",
    "p_y_des = data['xdes'][:, 1]\n",
    "p_z_des = data['xdes'][:, 2]\n",
    "\n",
    "p_x_ring = data['ring'][:, 0]\n",
    "p_y_ring = data['ring'][:, 1]\n",
    "p_z_ring = data['ring'][:, 2]\n",
    "\n",
    "# Create a figure with subplots that all share the same x-axis\n",
    "fig, (ax_px, ax_py, ax_pz) = plt.subplots(3, 1, figsize=(12, 8), sharex=True)\n",
    "\n",
    "ax_px.plot(data['t'], data['p_x'], label='x (m)', linewidth=3)\n",
    "ax_px.plot(data['t'], p_x_est, '--', label='estimated x (m)', linewidth=4)\n",
    "ax_px.plot(data['t'], p_x_des, ':', label='desired x (m)', linewidth=4)\n",
    "ax_px.plot(data['t'], p_x_ring, '-.', label='ring x (m)', linewidth=3)\n",
    "ax_px.grid()\n",
    "ax_px.legend(fontsize=16, bbox_to_anchor=(1., 1.))\n",
    "ax_px.tick_params(labelsize=14)\n",
    "\n",
    "ax_py.plot(data['t'], data['p_y'], label='y (m)', linewidth=3)\n",
    "ax_py.plot(data['t'], p_y_est, '--', label='estimated y (m)', linewidth=4)\n",
    "ax_py.plot(data['t'], p_y_des, ':', label='desired y (m)', linewidth=4)\n",
    "ax_py.plot(data['t'], p_y_ring, '-.', label='ring y (m)', linewidth=3)\n",
    "ax_py.grid()\n",
    "ax_py.legend(fontsize=16, bbox_to_anchor=(1., 1.))\n",
    "ax_py.tick_params(labelsize=14)\n",
    "\n",
    "ax_pz.plot(data['t'], data['p_z'], label='z (m)', linewidth=3)\n",
    "ax_pz.plot(data['t'], p_z_est, '--', label='estimated z (m)', linewidth=4)\n",
    "ax_pz.plot(data['t'], p_z_des, ':', label='desired z (m)', linewidth=4)\n",
    "ax_pz.plot(data['t'], p_z_ring, '-.', label='ring z (m)', linewidth=3)\n",
    "ax_pz.grid()\n",
    "ax_pz.legend(fontsize=16, bbox_to_anchor=(1., 1.))\n",
    "ax_pz.tick_params(labelsize=14)\n",
    "\n",
    "# Set shared x-axis properties\n",
    "ax_pz.set_xlabel('time (s)', fontsize=20)\n",
    "ax_pz.set_xlim([data['t'][0], data['t'][-1]])\n",
    "\n",
    "# Make the arrangement of subplots look nice\n",
    "fig.tight_layout()\n",
    "plt.show()"
   ]
  },
  {
   "cell_type": "code",
   "execution_count": null,
   "id": "1d10c7d2",
   "metadata": {},
   "outputs": [],
   "source": []
  }
 ],
 "metadata": {
  "kernelspec": {
   "display_name": "Python 3 (ipykernel)",
   "language": "python",
   "name": "python3"
  },
  "language_info": {
   "codemirror_mode": {
    "name": "ipython",
    "version": 3
   },
   "file_extension": ".py",
   "mimetype": "text/x-python",
   "name": "python",
   "nbconvert_exporter": "python",
   "pygments_lexer": "ipython3",
   "version": "3.11.0"
  }
 },
 "nbformat": 4,
 "nbformat_minor": 5
}
