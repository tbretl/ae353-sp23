{
 "cells": [
  {
   "cell_type": "markdown",
   "id": "middle-acoustic",
   "metadata": {},
   "source": [
    "# Control of a \"spacecraft\" platform with a reaction wheel"
   ]
  },
  {
   "cell_type": "code",
   "execution_count": null,
   "id": "dimensional-contamination",
   "metadata": {},
   "outputs": [],
   "source": [
    "# These are standard modules\n",
    "import time\n",
    "import numpy as np\n",
    "from scipy import linalg\n",
    "import sympy as sym\n",
    "import matplotlib.pyplot as plt\n",
    "from IPython.display import display, Latex, Markdown\n",
    "\n",
    "# This is a custom interface to the pybullet simulator\n",
    "import ae353_platform\n",
    "\n",
    "# Suppress the use of scientific notation when printing small numbers\n",
    "np.set_printoptions(suppress=True)"
   ]
  },
  {
   "cell_type": "markdown",
   "id": "73b3d8cb",
   "metadata": {},
   "source": [
    "Given a choice of ground roll angle $\\phi$, the equations of motion are\n",
    "\n",
    "$$\n",
    "\\begin{aligned}\n",
    "J_1 \\ddot{q}_1 &= \\tau - m_wgl\\sin(q_1)\\sin(\\phi) \\\\\n",
    "J_2 \\dot{v}_2 &= - \\left( \\dfrac{J_1 + J_2}{J_1} \\right) \\tau + \\left( \\dfrac{J_2}{J_1} \\right) m_wgl\\sin(q_1)\\sin(\\phi)\n",
    "\\end{aligned}\n",
    "$$\n",
    "\n",
    "where\n",
    "\n",
    "* $q_1$ is the platform angle\n",
    "* $\\dot{q}_1$ is the platform velocity\n",
    "* $v_2$ is the wheel velocity\n",
    "* $\\tau$ is the torque applied *to* the platform *by* the wheel\n",
    "\n",
    "and\n",
    "\n",
    "$$\n",
    "J_1 = J_p + m_wl^2\n",
    "\\qquad\n",
    "\\qquad\n",
    "J_2 = J_w\n",
    "$$\n",
    "\n",
    "and parameter values are defined as follows:"
   ]
  },
  {
   "cell_type": "code",
   "execution_count": null,
   "id": "ecac734d",
   "metadata": {},
   "outputs": [],
   "source": [
    "# distance from platform axis to wheel axis\n",
    "l = 1.\n",
    "\n",
    "# radius of wheel\n",
    "rw = 0.5\n",
    "\n",
    "# mass of wheel\n",
    "mw = 0.25\n",
    "\n",
    "# moi of wheel\n",
    "Jw = 0.5 * mw * rw**2\n",
    "\n",
    "# mass of platform\n",
    "mp = 12. * (1. - mw * l**2) / (3.**2 + 2.**2)\n",
    "\n",
    "# moment of inertia of platform\n",
    "Jp = (1. / 12.) * mp * (3.**2 + 2.**2)\n",
    "\n",
    "# gravity\n",
    "g = 9.81\n",
    "\n",
    "# composite parameters\n",
    "J1 = Jp + mw * l**2\n",
    "J2 = Jw"
   ]
  },
  {
   "cell_type": "markdown",
   "id": "a681dd77",
   "metadata": {},
   "source": [
    "Create an instance of the `Simulator` class, which is an interface to the [pybullet](http://pybullet.org) simulation engine.\n",
    "\n",
    "There are two optional arguments:\n",
    "\n",
    "* `display` (`True` or `False`) is whether or not to show the simulation window;\n",
    "* `roll` (a floating-point number) is the angle of the ground.\n",
    "\n",
    "You can also change `roll` on the fly by using the function `simulator.set_roll()`. If you use this function, you **must** call `simulator.reset(...)` (with appropriate initial conditions) and `controller.reset()` before running the simulator again, or your results may be unreliable."
   ]
  },
  {
   "cell_type": "code",
   "execution_count": null,
   "id": "bfa8fdbc",
   "metadata": {},
   "outputs": [],
   "source": [
    "simulator = ae353_platform.Simulator(\n",
    "    display=True,\n",
    "    roll=(np.pi / 2),\n",
    ")"
   ]
  },
  {
   "cell_type": "markdown",
   "id": "f9d7e6b2",
   "metadata": {},
   "source": [
    "Choose a default camera view (could also be `simulator.camera_topview()`)."
   ]
  },
  {
   "cell_type": "code",
   "execution_count": null,
   "id": "bc854cf7",
   "metadata": {},
   "outputs": [],
   "source": [
    "simulator.camera_sideview()"
   ]
  },
  {
   "cell_type": "markdown",
   "id": "daadbbc0",
   "metadata": {},
   "source": [
    "Define a controller that maps sensor measurements to actuator commands. The `run` function will be called 100 times per second (i.e., at 100 Hz) by the simulator."
   ]
  },
  {
   "cell_type": "code",
   "execution_count": null,
   "id": "7963b6b9",
   "metadata": {},
   "outputs": [],
   "source": [
    "class Controller:\n",
    "    def __init__(self):\n",
    "        pass\n",
    "    \n",
    "    def reset(self):\n",
    "        pass\n",
    "    \n",
    "    def run(\n",
    "            self,\n",
    "            t,\n",
    "            platform_angle,\n",
    "            platform_velocity,\n",
    "            wheel_angle,\n",
    "            wheel_velocity,\n",
    "        ):\n",
    "        \n",
    "        wheel_torque = 0.\n",
    "        \n",
    "        return wheel_torque"
   ]
  },
  {
   "cell_type": "markdown",
   "id": "40059b98",
   "metadata": {},
   "source": [
    "Create an instance of the controller."
   ]
  },
  {
   "cell_type": "code",
   "execution_count": null,
   "id": "1168ff65",
   "metadata": {},
   "outputs": [],
   "source": [
    "controller = Controller()"
   ]
  },
  {
   "cell_type": "markdown",
   "id": "19c52b8d",
   "metadata": {},
   "source": [
    "Reset the simulator. Optional arguments allow you to specify the initial wheel angle and velocity. If the value of either argument is `None` (or if the argument is left unspecified), then its value will be chosen at random."
   ]
  },
  {
   "cell_type": "code",
   "execution_count": null,
   "id": "e9fc6510",
   "metadata": {},
   "outputs": [],
   "source": [
    "simulator.reset(\n",
    "    platform_angle=0.9,\n",
    "    platform_velocity=0.,\n",
    "    wheel_angle=0.,\n",
    "    wheel_velocity=5.,\n",
    ")"
   ]
  },
  {
   "cell_type": "markdown",
   "id": "a0c7b67a",
   "metadata": {},
   "source": [
    "Reset the controller."
   ]
  },
  {
   "cell_type": "code",
   "execution_count": null,
   "id": "d169e3c4",
   "metadata": {},
   "outputs": [],
   "source": [
    "controller.reset()"
   ]
  },
  {
   "cell_type": "markdown",
   "id": "5cb3dacd",
   "metadata": {},
   "source": [
    "Run the simulator."
   ]
  },
  {
   "cell_type": "code",
   "execution_count": null,
   "id": "8e649e63",
   "metadata": {},
   "outputs": [],
   "source": [
    "data = simulator.run(\n",
    "    controller,           # <-- required (an instance of your Controller class)\n",
    "    max_time=5.0,         # <-- optional (how long you want to run the simulation in seconds)\n",
    "    data_filename=None,   # <-- optional (name of file to which you want data saved, e.g., 'my_data.json')\n",
    "    video_filename=None,  # <-- optional (name of file to which you want video saved, e.g., 'my_video.mov')\n",
    ")"
   ]
  },
  {
   "cell_type": "markdown",
   "id": "c3e2d2d7",
   "metadata": {},
   "source": [
    "Get, show, and save a snapshot of the simulation after the last time step."
   ]
  },
  {
   "cell_type": "code",
   "execution_count": null,
   "id": "7657f10b",
   "metadata": {},
   "outputs": [],
   "source": [
    "# Get snapshot as height x width x 4 numpy array of RGBA values\n",
    "rgba = simulator.snapshot()\n",
    "\n",
    "# Display snapshot\n",
    "plt.figure(figsize=(8, 8))\n",
    "plt.imshow(rgba)\n",
    "\n",
    "# Save snapshot\n",
    "plt.imsave('my_snapshot.png', rgba)"
   ]
  },
  {
   "cell_type": "markdown",
   "id": "38a9c4a6",
   "metadata": {},
   "source": [
    "Plot the results."
   ]
  },
  {
   "cell_type": "code",
   "execution_count": null,
   "id": "d63c5611",
   "metadata": {},
   "outputs": [],
   "source": [
    "t = data['t']\n",
    "q1 = data['platform_angle']\n",
    "v1 = data['platform_velocity']\n",
    "v2 = data['wheel_velocity']\n",
    "tau = data['wheel_torque']\n",
    "tau_command = data['wheel_torque_command']\n",
    "\n",
    "fig, (ax_q1, ax_v1, ax_v2, ax_tau) = plt.subplots(4, 1, figsize=(8, 8), sharex=True)\n",
    "\n",
    "ax_q1.plot(t, q1, label='$q_1$', linewidth=4)\n",
    "ax_v1.plot(t, v1, label='$v_1$', linewidth=4)\n",
    "ax_v2.plot(t, v2, label='$v_2$', linewidth=4)\n",
    "ax_tau.plot(t, tau, label=r'$\\tau$', linewidth=4)\n",
    "ax_tau.plot(t, tau_command, '--', label=r'$\\tau_{commanded}$', linewidth=4)\n",
    "ax_tau.plot(t, np.ones_like(t) * simulator.tau_max, ':', label=r'$\\tau_{max}$', linewidth=4, color='C2', zorder=0)\n",
    "ax_tau.plot(t, - np.ones_like(t) * simulator.tau_max, ':', linewidth=4, color='C2', zorder=0)\n",
    "\n",
    "ax_q1.grid()\n",
    "ax_q1.legend(fontsize=16)\n",
    "ax_q1.tick_params(labelsize=14)\n",
    "\n",
    "ax_v1.grid()\n",
    "ax_v1.legend(fontsize=16)\n",
    "ax_v1.tick_params(labelsize=14)\n",
    "\n",
    "ax_v2.grid()\n",
    "ax_v2.legend(fontsize=16)\n",
    "ax_v2.tick_params(labelsize=14)\n",
    "\n",
    "ax_tau.grid()\n",
    "ax_tau.legend(fontsize=16)\n",
    "ax_tau.tick_params(labelsize=14)\n",
    "\n",
    "ax_tau.set_xlabel('time (s)', fontsize=20)\n",
    "ax_tau.set_xlim([data['t'][0], data['t'][-1]])\n",
    "\n",
    "fig.tight_layout()\n",
    "plt.show()"
   ]
  },
  {
   "cell_type": "markdown",
   "id": "520822de",
   "metadata": {},
   "source": [
    "Save the figure (without transparent background)."
   ]
  },
  {
   "cell_type": "code",
   "execution_count": null,
   "id": "3ce3e7cd",
   "metadata": {},
   "outputs": [],
   "source": [
    "fig.savefig('my_figure.png', facecolor='white', transparent=False)"
   ]
  }
 ],
 "metadata": {
  "kernelspec": {
   "display_name": "Python 3 (ipykernel)",
   "language": "python",
   "name": "python3"
  },
  "language_info": {
   "codemirror_mode": {
    "name": "ipython",
    "version": 3
   },
   "file_extension": ".py",
   "mimetype": "text/x-python",
   "name": "python",
   "nbconvert_exporter": "python",
   "pygments_lexer": "ipython3",
   "version": "3.11.0"
  }
 },
 "nbformat": 4,
 "nbformat_minor": 5
}
