{
 "cells": [
  {
   "cell_type": "markdown",
   "id": "25f3bc3e",
   "metadata": {},
   "source": [
    "# Demo: Frequency response of wheel"
   ]
  },
  {
   "cell_type": "markdown",
   "id": "0b086652",
   "metadata": {},
   "source": [
    "## Setup"
   ]
  },
  {
   "cell_type": "markdown",
   "id": "working-minority",
   "metadata": {},
   "source": [
    "#### Import modules and configure the notebook"
   ]
  },
  {
   "cell_type": "code",
   "execution_count": 1,
   "id": "dimensional-contamination",
   "metadata": {},
   "outputs": [
    {
     "name": "stdout",
     "output_type": "stream",
     "text": [
      "Using matplotlib backend: <object object at 0x166444430>\n"
     ]
    },
    {
     "name": "stderr",
     "output_type": "stream",
     "text": [
      "pybullet build time: Oct 28 2022 16:21:09\n"
     ]
    }
   ],
   "source": [
    "# These are standard modules\n",
    "import time\n",
    "import numpy as np\n",
    "import sympy as sym\n",
    "from scipy.signal import place_poles\n",
    "from scipy import linalg\n",
    "from scipy import signal\n",
    "import matplotlib.pyplot as plt\n",
    "from matplotlib.ticker import MultipleLocator\n",
    "from IPython.display import display, Latex, Markdown\n",
    "\n",
    "# Stupid hack because tornado is broken in jupyter\n",
    "%matplotlib\n",
    "plt.ioff()\n",
    "plt.ion()\n",
    "\n",
    "# This is a custom interface to the pybullet simulator\n",
    "import ae353_wheel_tracking\n",
    "\n",
    "# Suppress the use of scientific notation when printing small numbers\n",
    "np.set_printoptions(suppress=True)"
   ]
  },
  {
   "cell_type": "markdown",
   "id": "f3e9a663",
   "metadata": {},
   "source": [
    "#### Choose parameter values"
   ]
  },
  {
   "cell_type": "markdown",
   "id": "2ab48494",
   "metadata": {},
   "source": [
    "The equation of motion is\n",
    "\n",
    "$$c_1 \\ddot{q} = \\tau - (c_2 \\sin \\phi) \\sin q$$\n",
    "\n",
    "where\n",
    "\n",
    "* $q$ is the wheel angle\n",
    "* $\\tau$ is the wheel torque, i.e., the torque applied to the wheel by a motor on the ground\n",
    "* $\\phi$ is the \"roll angle\" of the ground with respect to horizontal\n",
    "\n",
    "and where the values of $c_1$ and $c_2$ are given as follows:"
   ]
  },
  {
   "cell_type": "code",
   "execution_count": 2,
   "id": "2680ee94",
   "metadata": {},
   "outputs": [
    {
     "name": "stdout",
     "output_type": "stream",
     "text": [
      "m = 0.582495995340032\n",
      "J = 0.928644240570846\n"
     ]
    }
   ],
   "source": [
    "# Values of c1 and c2 for the example (do not change)\n",
    "c1 = 1.0\n",
    "c2 = 2.0\n",
    "\n",
    "# Values of other parameters that are given\n",
    "g = 9.81 # <-- acceleration of gravity\n",
    "r = 0.35 # <-- distance from wheel axis to marker (i.e., to the mass)\n",
    "\n",
    "# Values of other parameters that correspond to the coefficients c1 and c2 that we chose\n",
    "m = c2 / (g * r)   # <-- set in code\n",
    "J = c1 - m * r**2  # <-- set in URDF\n",
    "print(f'm = {m}\\nJ = {J}')"
   ]
  },
  {
   "cell_type": "markdown",
   "id": "95f4f02c",
   "metadata": {},
   "source": [
    "#### Create simulator"
   ]
  },
  {
   "cell_type": "markdown",
   "id": "cbf2330b",
   "metadata": {},
   "source": [
    "Create an instance of the `Simulator` class with particular values of `roll` and `mass`."
   ]
  },
  {
   "cell_type": "code",
   "execution_count": 3,
   "id": "ca539a71",
   "metadata": {},
   "outputs": [],
   "source": [
    "simulator = ae353_wheel_tracking.Simulator(\n",
    "    display=False,\n",
    "    roll=0.,\n",
    "    mass=m,\n",
    "    seed=None,\n",
    ")"
   ]
  },
  {
   "cell_type": "markdown",
   "id": "aa527e49",
   "metadata": {},
   "source": [
    "#### Define functions to plot results"
   ]
  },
  {
   "cell_type": "markdown",
   "id": "b99805f8",
   "metadata": {},
   "source": [
    "This function plots results in terms of nonlinear states and inputs."
   ]
  },
  {
   "cell_type": "code",
   "execution_count": 4,
   "id": "f2ebcb7b",
   "metadata": {},
   "outputs": [],
   "source": [
    "def show_results(data, q_e, v_e, tau_e):\n",
    "    t = data['t']\n",
    "    q = data['wheel_angle']\n",
    "    v = data['wheel_velocity']\n",
    "    tau = data['wheel_torque']\n",
    "    tau_cmd = data['wheel_torque_command']\n",
    "    q_meas = data['measured_wheel_angle']\n",
    "    q_des = data['desired_wheel_angle']\n",
    "    xhat = data['xhat']\n",
    "    q_est = xhat[:, 0] + q_e\n",
    "    v_est = xhat[:, 1] + v_e\n",
    "\n",
    "    fig, (ax_q, ax_v, ax_tau) = plt.subplots(\n",
    "        3, 1, figsize=(10, 8), sharex=True,\n",
    "    )\n",
    "\n",
    "    ax_q.plot(t, q, label=r'$q$', linewidth=4)\n",
    "    ax_q.plot(t, q_est, '--', label=r'$q$ (estimated)', linewidth=4)\n",
    "    ax_q.plot(t, q_meas, '.', markersize=1, label=r'$q$ (measured)')\n",
    "    ax_q.plot(t, q_des, ':', label=r'$q$ (desired)')\n",
    "    ax_q.plot(t, q_e * np.ones_like(t), ':', label=r'$q_e$', linewidth=3, color='C3')\n",
    "    ax_v.plot(t, v, label=r'$v$', linewidth=4)\n",
    "    ax_v.plot(t, v_est, '--', label=r'$v$ (estimated)', linewidth=4)\n",
    "    ax_v.plot(t, v_e * np.ones_like(t), ':', label=r'$v_e$', linewidth=3, color='C3')\n",
    "    ax_tau.plot(t, tau, label=r'$\\tau$', linewidth=4)\n",
    "    ax_tau.plot(t, tau_cmd, '-.', label=r'$\\tau$ (command)', linewidth=3, color='C6')\n",
    "    tau_max = np.ones_like(t) * simulator.tau_max\n",
    "    ax_tau.plot(t, tau_max,\n",
    "                '--', label=r'$\\tau$ (max)', linewidth=2, color='C2', zorder=0)\n",
    "    ax_tau.plot(t, - tau_max,\n",
    "                '--', linewidth=2, color='C2', zorder=0)\n",
    "\n",
    "    ax_q.grid()\n",
    "    ax_q.legend(fontsize=14, ncol=4, loc='upper right')\n",
    "    ax_q.tick_params(labelsize=14)\n",
    "    ax_q.set_ylim(np.min(q_des) - 0.5, np.max(q_des) + 0.5)\n",
    "\n",
    "    ax_v.grid()\n",
    "    ax_v.legend(fontsize=14, ncol=3, loc='upper right')\n",
    "    ax_v.tick_params(labelsize=14)\n",
    "    ax_v.set_ylim(v_e - 1., v_e + 1.)\n",
    "\n",
    "    ax_tau.grid()\n",
    "    ax_tau.legend(fontsize=14, ncol=3, loc='upper right')\n",
    "    ax_tau.tick_params(labelsize=14)\n",
    "    ax_tau.set_ylim(-1.2 * simulator.tau_max, 1.2 * simulator.tau_max)\n",
    "\n",
    "    ax_tau.set_xlabel('time (s)', fontsize=14)\n",
    "    ax_tau.set_xlim([data['t'][0], data['t'][-1]])\n",
    "\n",
    "    fig.tight_layout()\n",
    "    plt.show()"
   ]
  },
  {
   "cell_type": "markdown",
   "id": "d2323e71",
   "metadata": {},
   "source": [
    "This function plots only $q$ and $q_\\text{des}$."
   ]
  },
  {
   "cell_type": "code",
   "execution_count": 5,
   "id": "3eb4a00d",
   "metadata": {},
   "outputs": [],
   "source": [
    "def show_results_q(data, q_e, v_e, tau_e, omega=None, mag=None, ang=None, linewidth=6):\n",
    "    t = data['t']\n",
    "    q = data['wheel_angle']\n",
    "    q_des = data['desired_wheel_angle']\n",
    "    q_est = data['xhat'][:, 0] + q_e\n",
    "    if mag is not None:\n",
    "        q_pre = mag * np.sin(omega * data['t'] + ang)\n",
    "    fig, ax_q = plt.subplots(\n",
    "        1, 1, figsize=(8, 4), sharex=True,\n",
    "    )\n",
    "\n",
    "    ax_q.plot(t, q, label=r'$q$', linewidth=linewidth, color='C0')\n",
    "    ax_q.plot(t, q_des, '--', label=r'$q$ (desired)', linewidth=linewidth, color='C1')\n",
    "    ax_q.plot(t, q_est, '-.', label=r'$q$ (estimated)', linewidth=linewidth-2, color='C2')\n",
    "    if mag is not None:\n",
    "        ax_q.plot(t, q_pre, ':', label=r'$q$ (predicted)', linewidth=linewidth-1, color='C6')\n",
    "    ax_q.grid()\n",
    "    ax_q.legend(fontsize=14, ncol=4, loc='upper right')\n",
    "    ax_q.tick_params(labelsize=14)\n",
    "    ax_q.set_ylim(-0.2, 0.2)\n",
    "    ax_q.set_xlabel('time (s)', fontsize=14)\n",
    "    ax_q.set_xlim([data['t'][0], data['t'][-1]])\n",
    "\n",
    "    fig.tight_layout()\n",
    "    plt.show()"
   ]
  },
  {
   "cell_type": "markdown",
   "id": "0c45d913",
   "metadata": {},
   "source": [
    "#### Define functions to print numerical results nicely"
   ]
  },
  {
   "cell_type": "code",
   "execution_count": 6,
   "id": "36f58ef4",
   "metadata": {},
   "outputs": [],
   "source": [
    "def show_matrix(key, val):\n",
    "    latex = sym.latex(sym.nsimplify(sym.Matrix(val), rational=True))\n",
    "    display(Markdown(f'$${key} = {latex}$$'))\n",
    "    \n",
    "def show_transfer_function(key, val):\n",
    "    latex = sym.latex(sym.nsimplify(val, rational=True))\n",
    "    display(Markdown(f'$${key}(s) = {latex}$$'))"
   ]
  },
  {
   "cell_type": "markdown",
   "id": "789965cc",
   "metadata": {},
   "source": [
    "## Design and analysis"
   ]
  },
  {
   "cell_type": "markdown",
   "id": "fee62e3d",
   "metadata": {},
   "source": [
    "#### Do control design"
   ]
  },
  {
   "cell_type": "markdown",
   "id": "bc693175",
   "metadata": {},
   "source": [
    "Derive state-space model."
   ]
  },
  {
   "cell_type": "code",
   "execution_count": 7,
   "id": "b433bfd4",
   "metadata": {},
   "outputs": [
    {
     "data": {
      "text/markdown": [
       "$$A = \\left[\\begin{matrix}0 & 1\\\\0 & 0\\end{matrix}\\right]$$"
      ],
      "text/plain": [
       "<IPython.core.display.Markdown object>"
      ]
     },
     "metadata": {},
     "output_type": "display_data"
    },
    {
     "data": {
      "text/markdown": [
       "$$B = \\left[\\begin{matrix}0\\\\1\\end{matrix}\\right]$$"
      ],
      "text/plain": [
       "<IPython.core.display.Markdown object>"
      ]
     },
     "metadata": {},
     "output_type": "display_data"
    }
   ],
   "source": [
    "# Define symbolic variables\n",
    "q, v, tau = sym.symbols('q, v, tau')\n",
    "\n",
    "# Define ODEs\n",
    "f = sym.Matrix([\n",
    "    v,\n",
    "    tau / c1,\n",
    "])\n",
    "\n",
    "# Convert floats to rationals\n",
    "f = sym.nsimplify(f, rational=True)\n",
    "\n",
    "# Choose equilibrium point\n",
    "(q_e, v_e, tau_e) = (0., 0., 0.)\n",
    "\n",
    "# Linearize\n",
    "A_num = sym.lambdify([q, v, tau], f.jacobian([q, v]))\n",
    "A = A_num(q_e, v_e, tau_e).astype(float)\n",
    "B_num = sym.lambdify([q, v, tau], f.jacobian([tau]))\n",
    "B = B_num(q_e, v_e, tau_e).astype(float)\n",
    "\n",
    "# Show result\n",
    "show_matrix('A', A)\n",
    "show_matrix('B', B)"
   ]
  },
  {
   "cell_type": "markdown",
   "id": "0831b993",
   "metadata": {},
   "source": [
    "Design controller by eigenvalue placement."
   ]
  },
  {
   "cell_type": "code",
   "execution_count": null,
   "id": "ff3ce026",
   "metadata": {},
   "outputs": [],
   "source": [
    "K = signal.place_poles(A, B, [-1.+1j*4., -1.-1j*4.]).gain_matrix\n",
    "show_matrix('K', K)"
   ]
  },
  {
   "cell_type": "markdown",
   "id": "b076eba5",
   "metadata": {},
   "source": [
    "Define a function to solve the continuous-time, infinite-horizon LQR problem."
   ]
  },
  {
   "cell_type": "code",
   "execution_count": 8,
   "id": "103e51c5",
   "metadata": {},
   "outputs": [],
   "source": [
    "def lqr(A, B, Q, R):\n",
    "    P = linalg.solve_continuous_are(A, B, Q, R)\n",
    "    K = linalg.inv(R) @  B.T @ P\n",
    "    return K"
   ]
  },
  {
   "cell_type": "markdown",
   "id": "3b654574",
   "metadata": {},
   "source": [
    "Design controller by LQR."
   ]
  },
  {
   "cell_type": "code",
   "execution_count": 18,
   "id": "9c370a7f",
   "metadata": {},
   "outputs": [
    {
     "data": {
      "text/markdown": [
       "$$K = \\left[\\begin{matrix}\\frac{158113883008419}{50000000000000} & \\frac{270639156818387}{100000000000000}\\end{matrix}\\right]$$"
      ],
      "text/plain": [
       "<IPython.core.display.Markdown object>"
      ]
     },
     "metadata": {},
     "output_type": "display_data"
    }
   ],
   "source": [
    "K = lqr(A, B, np.diag([10., 1.]), np.diag([1.]))\n",
    "show_matrix('K', K)"
   ]
  },
  {
   "cell_type": "markdown",
   "id": "87866984",
   "metadata": {},
   "source": [
    "#### Do observer design"
   ]
  },
  {
   "cell_type": "markdown",
   "id": "81f63d46",
   "metadata": {},
   "source": [
    "Derive state-space model."
   ]
  },
  {
   "cell_type": "code",
   "execution_count": 19,
   "id": "7178b267",
   "metadata": {},
   "outputs": [
    {
     "data": {
      "text/markdown": [
       "$$C = \\left[\\begin{matrix}1 & 0\\end{matrix}\\right]$$"
      ],
      "text/plain": [
       "<IPython.core.display.Markdown object>"
      ]
     },
     "metadata": {},
     "output_type": "display_data"
    },
    {
     "data": {
      "text/markdown": [
       "$$D = \\left[\\begin{matrix}0\\end{matrix}\\right]$$"
      ],
      "text/plain": [
       "<IPython.core.display.Markdown object>"
      ]
     },
     "metadata": {},
     "output_type": "display_data"
    }
   ],
   "source": [
    "# Define nonlinear model\n",
    "g = sym.Matrix([q])\n",
    "\n",
    "# Convert floats to rationals\n",
    "g = sym.nsimplify(g, rational=True)\n",
    "\n",
    "# Linearize\n",
    "C_num = sym.lambdify([q, v, tau], g.jacobian([q, v]))\n",
    "C = C_num(q_e, v_e, tau_e).astype(float)\n",
    "D_num = sym.lambdify([q, v, tau], g.jacobian([tau]))\n",
    "D = D_num(q_e, v_e, tau_e).astype(float)\n",
    "\n",
    "# Show result\n",
    "show_matrix('C', C)\n",
    "show_matrix('D', D)"
   ]
  },
  {
   "cell_type": "markdown",
   "id": "612431cd",
   "metadata": {},
   "source": [
    "Design observer by eigenvalue placement."
   ]
  },
  {
   "cell_type": "code",
   "execution_count": 20,
   "id": "0e26b562",
   "metadata": {},
   "outputs": [
    {
     "data": {
      "text/markdown": [
       "$$L = \\left[\\begin{matrix}13\\\\42\\end{matrix}\\right]$$"
      ],
      "text/plain": [
       "<IPython.core.display.Markdown object>"
      ]
     },
     "metadata": {},
     "output_type": "display_data"
    }
   ],
   "source": [
    "L = signal.place_poles(A.T, C.T, [-6., -7.]).gain_matrix.T\n",
    "show_matrix('L', L)"
   ]
  },
  {
   "cell_type": "markdown",
   "id": "f6009768",
   "metadata": {},
   "source": [
    "#### Find the transfer function from $q_\\text{des}$ to $q$"
   ]
  },
  {
   "cell_type": "markdown",
   "id": "4026f34a",
   "metadata": {},
   "source": [
    "Define a matrix that picks the only element of $x_\\text{des}$ that varies."
   ]
  },
  {
   "cell_type": "code",
   "execution_count": 21,
   "id": "f95b4452",
   "metadata": {},
   "outputs": [
    {
     "data": {
      "text/markdown": [
       "$$e_1 = \\left[\\begin{matrix}1\\\\0\\end{matrix}\\right]$$"
      ],
      "text/plain": [
       "<IPython.core.display.Markdown object>"
      ]
     },
     "metadata": {},
     "output_type": "display_data"
    }
   ],
   "source": [
    "e_1 = np.array([[1.], [0.]])\n",
    "\n",
    "show_matrix('e_1', e_1)"
   ]
  },
  {
   "cell_type": "markdown",
   "id": "d01e5c68",
   "metadata": {},
   "source": [
    "Define closed-loop model."
   ]
  },
  {
   "cell_type": "code",
   "execution_count": 22,
   "id": "e180bd39",
   "metadata": {},
   "outputs": [
    {
     "data": {
      "text/markdown": [
       "$$A_m = \\left[\\begin{matrix}0 & 1 & 0 & 0\\\\0 & 0 & - \\frac{158113883008419}{50000000000000} & - \\frac{270639156818387}{100000000000000}\\\\13 & 0 & -13 & 1\\\\42 & 0 & - \\frac{225811388300847}{5000000000000} & - \\frac{270639156818387}{100000000000000}\\end{matrix}\\right]$$"
      ],
      "text/plain": [
       "<IPython.core.display.Markdown object>"
      ]
     },
     "metadata": {},
     "output_type": "display_data"
    },
    {
     "data": {
      "text/markdown": [
       "$$B_m = \\left[\\begin{matrix}0\\\\\\frac{158113883008419}{50000000000000}\\\\0\\\\\\frac{158113883008419}{50000000000000}\\end{matrix}\\right]$$"
      ],
      "text/plain": [
       "<IPython.core.display.Markdown object>"
      ]
     },
     "metadata": {},
     "output_type": "display_data"
    },
    {
     "data": {
      "text/markdown": [
       "$$C_m = \\left[\\begin{matrix}1 & 0 & 0 & 0\\end{matrix}\\right]$$"
      ],
      "text/plain": [
       "<IPython.core.display.Markdown object>"
      ]
     },
     "metadata": {},
     "output_type": "display_data"
    }
   ],
   "source": [
    "Am = np.block([[A    , -B @ K           ],\n",
    "               [L @ C, A - B @ K - L @ C]])\n",
    "\n",
    "Bm = np.block([[B @ K @ e_1],\n",
    "               [B @ K @ e_1]])\n",
    "\n",
    "Cm = np.block([[e_1.T, np.zeros((1, A.shape[0]))]])\n",
    "\n",
    "show_matrix('A_m', Am)\n",
    "show_matrix('B_m', Bm)\n",
    "show_matrix('C_m', Cm)"
   ]
  },
  {
   "cell_type": "markdown",
   "id": "8ba45258",
   "metadata": {},
   "source": [
    "Define the **transfer function**\n",
    "\n",
    "$$H(s) = C_m (s - A_m)^{-1} B_m$$\n",
    "\n",
    "where $s\\in\\mathbb{C}$ is a complex number.\n",
    "\n",
    "First, do this symbolically."
   ]
  },
  {
   "cell_type": "code",
   "execution_count": 23,
   "id": "f705e4d8",
   "metadata": {},
   "outputs": [
    {
     "data": {
      "text/markdown": [
       "$$H(s) = \\frac{316227766016838 \\cdot \\left(50000000000000 s^{2} + 650000000000000 s + 2100000000000051\\right)}{5000000000000000000000000000 s^{4} + 78531957840919350000000000000 s^{3} + 401726840232798550000000000000 s^{2} + 773890277229557400000000000000 s + 664078308635180366239029409419}$$"
      ],
      "text/plain": [
       "<IPython.core.display.Markdown object>"
      ]
     },
     "metadata": {},
     "output_type": "display_data"
    }
   ],
   "source": [
    "# Create symbolic variable\n",
    "s = sym.symbols('s')\n",
    "\n",
    "# Convert A, B, C from numeric to symbolic\n",
    "Am_sym = sym.nsimplify(sym.Matrix(Am), rational=True)\n",
    "Bm_sym = sym.nsimplify(sym.Matrix(Bm), rational=True)\n",
    "Cm_sym = sym.nsimplify(sym.Matrix(Cm), rational=True)\n",
    "\n",
    "# Derive transfer function\n",
    "H_sym = sym.simplify(Cm_sym @ (s * sym.eye(Am_sym.shape[0]) - Am_sym).inv() @ Bm_sym)[0, 0]\n",
    "\n",
    "# Show result\n",
    "show_transfer_function('H', H_sym)"
   ]
  },
  {
   "cell_type": "markdown",
   "id": "bcfee228",
   "metadata": {},
   "source": [
    "Then, do this numerically."
   ]
  },
  {
   "cell_type": "code",
   "execution_count": 24,
   "id": "897f28b2",
   "metadata": {},
   "outputs": [],
   "source": [
    "H = lambda s: (Cm @ linalg.inv(s * np.eye(Am.shape[0]) - Am) @ Bm).item()"
   ]
  },
  {
   "cell_type": "markdown",
   "id": "fcf79e68",
   "metadata": {},
   "source": [
    "#### Show Bode Plot"
   ]
  },
  {
   "cell_type": "markdown",
   "id": "9805e799",
   "metadata": {},
   "source": [
    "Create Bode plot (i.e., plot magnitude and angle of $H(jw)$ as $w$ varies)."
   ]
  },
  {
   "cell_type": "code",
   "execution_count": null,
   "id": "b972c0a4",
   "metadata": {},
   "outputs": [],
   "source": [
    "omega = np.logspace(-2, 2, 250)\n",
    "H_at_jomega = np.empty_like(omega, dtype=complex)\n",
    "for i in range(len(omega)):\n",
    "    H_at_jomega[i] = H(1j * omega[i])\n",
    "mag = np.absolute(H_at_jomega)\n",
    "ang = np.angle(H_at_jomega)\n",
    "\n",
    "fig, (ax_mag, ax_ang) = plt.subplots(2, 1, figsize=(10, 5), sharex=True)\n",
    "ax_mag.loglog(omega, mag, linewidth=2)\n",
    "ax_mag.grid(visible=True, which='both', axis='both')\n",
    "ax_mag.tick_params(labelsize=14)\n",
    "ax_mag.yaxis.set_minor_locator(MultipleLocator(1e-1))\n",
    "ax_mag.set_yticklabels([], minor=True)\n",
    "ax_mag.set_ylabel('magnitude', fontsize=16)\n",
    "ax_ang.semilogx(omega, ang, linewidth=2)\n",
    "ax_ang.grid(visible=True, which='both', axis='both')\n",
    "ax_ang.tick_params(labelsize=14)\n",
    "ax_ang.yaxis.set_minor_locator(MultipleLocator(0.25))\n",
    "ax_ang.set_yticklabels([], minor=True)\n",
    "ax_ang.set_ylabel('angle (radians)', fontsize=16)\n",
    "ax_ang.set_ylim([-np.pi, np.pi])\n",
    "ax_ang.set_xlim([min(omega), max(omega)])\n",
    "ax_ang.set_xlabel(r'$\\omega$ (radians / second)')\n",
    "fig.suptitle('BODE PLOT')\n",
    "plt.show()"
   ]
  },
  {
   "cell_type": "markdown",
   "id": "a7fefb51",
   "metadata": {},
   "source": [
    "Create Bode plot again, with magnitude in dB and angle in degrees."
   ]
  },
  {
   "cell_type": "code",
   "execution_count": null,
   "id": "8821118c",
   "metadata": {},
   "outputs": [],
   "source": [
    "omega = np.logspace(-2, 2, 250)\n",
    "H_at_jomega = np.empty_like(omega, dtype=complex)\n",
    "for i in range(len(omega)):\n",
    "    H_at_jomega[i] = H(1j * omega[i])\n",
    "mag = np.absolute(H_at_jomega)\n",
    "ang = np.angle(H_at_jomega)\n",
    "\n",
    "mag_in_dB = 20. * np.log10(mag)\n",
    "ang_in_deg = np.rad2deg(ang)\n",
    "\n",
    "fig, (ax_mag, ax_ang) = plt.subplots(2, 1, figsize=(10, 5), sharex=True)\n",
    "ax_mag.semilogx(omega, mag_in_dB, linewidth=2)\n",
    "ax_mag.grid(visible=True, which='both', axis='both')\n",
    "ax_mag.tick_params(labelsize=12)\n",
    "ax_mag.yaxis.set_major_locator(MultipleLocator(20))\n",
    "ax_mag.set_ylabel('magnitude (dB)', fontsize=16)\n",
    "ax_ang.semilogx(omega, ang_in_deg, linewidth=2)\n",
    "ax_ang.grid(visible=True, which='both', axis='both')\n",
    "ax_ang.tick_params(labelsize=12)\n",
    "ax_ang.yaxis.set_major_locator(MultipleLocator(45))\n",
    "ax_ang.set_ylabel('angle (degrees)', fontsize=16)\n",
    "ax_ang.set_ylim([-180, 180])\n",
    "ax_ang.set_xlim([min(omega), max(omega)])\n",
    "ax_ang.set_xlabel(r'$\\omega$ (radians / second)')\n",
    "fig.suptitle('BODE PLOT')\n",
    "plt.show()"
   ]
  },
  {
   "cell_type": "markdown",
   "id": "b23aed37",
   "metadata": {},
   "source": [
    "Create Bode plot yet again, showing the $-3\\;\\text{dB}$ line to compute bandwidth."
   ]
  },
  {
   "cell_type": "code",
   "execution_count": 25,
   "id": "0892d9da",
   "metadata": {},
   "outputs": [],
   "source": [
    "omega = np.logspace(-2, 2, 250)\n",
    "H_at_jomega = np.empty_like(omega, dtype=complex)\n",
    "for i in range(len(omega)):\n",
    "    H_at_jomega[i] = H(1j * omega[i])\n",
    "mag = np.absolute(H_at_jomega)\n",
    "ang = np.angle(H_at_jomega)\n",
    "\n",
    "mag_in_dB = 20. * np.log10(mag)\n",
    "ang_in_deg = np.rad2deg(ang)\n",
    "\n",
    "fig, ax_mag = plt.subplots(1, 1, figsize=(8, 4), sharex=True)\n",
    "ax_mag.semilogx(omega, mag_in_dB, linewidth=2)\n",
    "ax_mag.semilogx(omega, -3. * np.ones_like(omega), '--', linewidth=2)\n",
    "ax_mag.grid(visible=True, which='both', axis='both')\n",
    "# ax_mag.tick_params(labelsize=12)\n",
    "# ax_mag.yaxis.set_major_locator(MultipleLocator(20))\n",
    "ax_mag.set_ylabel('magnitude (dB)', fontsize=16)\n",
    "# ax_mag.set_ylim([-4, 4])\n",
    "ax_mag.set_xlim([min(omega), max(omega)])\n",
    "# ax_mag.set_xlim([1, 10])\n",
    "ax_mag.set_xlabel(r'$\\omega$ (radians / second)')\n",
    "fig.suptitle('BODE PLOT')\n",
    "plt.show()"
   ]
  },
  {
   "cell_type": "code",
   "execution_count": null,
   "id": "da5e35bb",
   "metadata": {},
   "outputs": [],
   "source": [
    "# omega_bnds = [0., 1.]\n",
    "omega_bnds[1] = omega_mid\n",
    "omega_mid = np.mean(omega_bnds)\n",
    "print(omega_bnds)\n",
    "print(omega_mid)\n",
    "\n",
    "omega = np.logspace(omega_bnds[0], omega_bnds[1], 250)\n",
    "H_at_jomega = np.empty_like(omega, dtype=complex)\n",
    "for i in range(len(omega)):\n",
    "    H_at_jomega[i] = H(1j * omega[i])\n",
    "mag = np.absolute(H_at_jomega)\n",
    "ang = np.angle(H_at_jomega)\n",
    "\n",
    "mag_in_dB = 20. * np.log10(mag)\n",
    "ang_in_deg = np.rad2deg(ang)\n",
    "\n",
    "fig, ax_mag = plt.subplots(1, 1, figsize=(8, 4), sharex=True)\n",
    "ax_mag.semilogx(omega, mag_in_dB, linewidth=2)\n",
    "ax_mag.semilogx(omega, -3. * np.ones_like(omega), '--', linewidth=2)\n",
    "ax_mag.grid(visible=True, which='both', axis='both')\n",
    "# ax_mag.tick_params(labelsize=12)\n",
    "# ax_mag.yaxis.set_major_locator(MultipleLocator(20))\n",
    "ax_mag.set_ylabel('magnitude (dB)', fontsize=16)\n",
    "ax_mag.set_ylim([-4, 4])\n",
    "ax_mag.set_xlim([min(omega), max(omega)])\n",
    "# ax_mag.set_xlim([1, 10])\n",
    "ax_mag.set_xlabel(r'$\\omega$ (radians / second)')\n",
    "fig.suptitle('BODE PLOT')\n",
    "plt.show()"
   ]
  },
  {
   "cell_type": "code",
   "execution_count": null,
   "id": "48161272",
   "metadata": {},
   "outputs": [],
   "source": [
    "10**(omega_mid)"
   ]
  },
  {
   "cell_type": "code",
   "execution_count": null,
   "id": "7dff31b1",
   "metadata": {},
   "outputs": [],
   "source": []
  },
  {
   "cell_type": "code",
   "execution_count": null,
   "id": "51cf0fc8",
   "metadata": {},
   "outputs": [],
   "source": []
  },
  {
   "cell_type": "code",
   "execution_count": null,
   "id": "056bf6d2",
   "metadata": {},
   "outputs": [],
   "source": []
  },
  {
   "cell_type": "code",
   "execution_count": null,
   "id": "3b991c10",
   "metadata": {},
   "outputs": [],
   "source": []
  },
  {
   "cell_type": "markdown",
   "id": "78ffa077",
   "metadata": {},
   "source": [
    "## Implementation and testing"
   ]
  },
  {
   "cell_type": "markdown",
   "id": "82218221",
   "metadata": {},
   "source": [
    "Implement controller and observer (with tracking)."
   ]
  },
  {
   "cell_type": "code",
   "execution_count": null,
   "id": "07d4efd6",
   "metadata": {},
   "outputs": [],
   "source": [
    "class Controller:\n",
    "    def __init__(self, A, B, C, K, L, q_e, v_e, tau_e, get_desired_wheel_angle):\n",
    "        self.A = A\n",
    "        self.B = B\n",
    "        self.C = C\n",
    "        self.K = K\n",
    "        self.L = L\n",
    "        self.q_e = q_e\n",
    "        self.v_e = v_e\n",
    "        self.tau_e = tau_e\n",
    "        \n",
    "        self.dt = 0.01\n",
    "        \n",
    "        self.get_desired_wheel_angle = get_desired_wheel_angle\n",
    "        \n",
    "        self.variables_to_log = ['xhat', 'desired_wheel_angle']\n",
    "    \n",
    "    def reset(self):\n",
    "        self.desired_wheel_angle = self.get_desired_wheel_angle(0.)\n",
    "        \n",
    "        self.xhat = np.array([\n",
    "            self.desired_wheel_angle - self.q_e,\n",
    "            0.,\n",
    "        ])\n",
    "    \n",
    "    def run(self, t, measured_wheel_angle):\n",
    "        \"\"\"\n",
    "        INPUTS\n",
    "         t = current time (s)\n",
    "         measured_wheel_angle = measured angle of wheel from sensors (rad)\n",
    "         \n",
    "        OUTPUTS\n",
    "         wheel_torque = torque applied to wheel by motor on ground (N m)\n",
    "        \"\"\"\n",
    "        \n",
    "        # Get desired wheel angle\n",
    "        self.desired_wheel_angle = self.get_desired_wheel_angle(t)\n",
    "        \n",
    "        # Get desired state\n",
    "        xdes = np.array([\n",
    "            self.desired_wheel_angle - self.q_e,\n",
    "            self.v_e                 - self.v_e,\n",
    "        ])\n",
    "        \n",
    "        # Get input\n",
    "        u = - self.K @ (self.xhat - xdes)\n",
    "        \n",
    "        # Get measured wheel angle (sensors)\n",
    "        q = measured_wheel_angle\n",
    "        \n",
    "        # Get output\n",
    "        y = np.array([\n",
    "            q - self.q_e,\n",
    "        ])\n",
    "        \n",
    "        # Get state estimate\n",
    "        self.xhat += self.dt * (\n",
    "            self.A @ self.xhat + self.B @ u - self.L @ (self.C @ self.xhat - y)\n",
    "        )\n",
    "        \n",
    "        # Get torque (actuators)\n",
    "        wheel_torque = u[0] + self.tau_e\n",
    "        \n",
    "        return wheel_torque"
   ]
  },
  {
   "cell_type": "markdown",
   "id": "95c6ef80",
   "metadata": {},
   "source": [
    "Test controller and observer (with tracking), given a desired wheel angle of the form\n",
    "\n",
    "$$q_\\text{des}(t) = a \\sin(\\omega t)$$\n",
    "\n",
    "where $a$ is chosen small enough so that our state-space model is still accurate. The response should be\n",
    "\n",
    "$$q(t) = a |H(j\\omega)| \\sin\\left(\\omega t + \\angle H(j\\omega)\\right).$$\n",
    "\n",
    "Remember that any complex number $z\\in\\mathbb{C}$ can be written as\n",
    "\n",
    "$$z = |z|e^{\\angle z} = |z| \\left( \\cos(\\angle z) + j \\sin(\\angle z) \\right)$$\n",
    "\n",
    "and that the period $T$ (in seconds) of a sinusoid with frequency $\\omega$ (in radians / second) is\n",
    "\n",
    "$$T = \\dfrac{2\\pi}{\\omega}.$$"
   ]
  },
  {
   "cell_type": "code",
   "execution_count": null,
   "id": "3007e189",
   "metadata": {},
   "outputs": [],
   "source": [
    "# Choose amplitude of oscillation\n",
    "a = 0.1\n",
    "\n",
    "# Choose period of oscillation\n",
    "T = 1.\n",
    "omega = 2 * np.pi / T\n",
    "\n",
    "# # Choose frequency of oscillation\n",
    "# omega = 1.\n",
    "# T = 2 * np.pi / omega\n",
    "\n",
    "# Define function to get desired wheel angle\n",
    "get_desired_wheel_angle = lambda t: a * np.sin(omega * t)\n",
    "\n",
    "# Create controller\n",
    "controller = Controller(A, B, C, K, L, q_e, v_e, tau_e, get_desired_wheel_angle)\n",
    "\n",
    "# Choose initial conditions\n",
    "(q_i, v_i) = (get_desired_wheel_angle(0.), v_e)\n",
    "\n",
    "# Reset controller\n",
    "controller.reset()\n",
    "\n",
    "# Reset simulator\n",
    "simulator.reset(\n",
    "    wheel_angle=q_i,\n",
    "    wheel_velocity=v_i,\n",
    "    sensor_noise=0.,\n",
    ")\n",
    "\n",
    "# Reset controller\n",
    "controller.reset()\n",
    "\n",
    "# Run simulator\n",
    "data = simulator.run(\n",
    "    controller,\n",
    "    max_time=10 * T,\n",
    ")\n",
    "\n",
    "# Predict results\n",
    "omega = (2 * np.pi) / T\n",
    "H_of_jomega = H(1j * omega)\n",
    "magH = np.absolute(H_of_jomega)\n",
    "angH = np.angle(H_of_jomega)\n",
    "\n",
    "print(f'omega = {omega} (T = {2 * np.pi / omega:.3f})')\n",
    "print(f'H(j omega) = {H_of_jomega:.4f}')\n",
    "print(f'mag = {magH:.4f}')\n",
    "print(f'ang = {angH:.4f}')\n",
    "\n",
    "# Show results\n",
    "#\n",
    "#  Could also do...\n",
    "#\n",
    "#    show_results(data, q_e, v_e, tau_e)\n",
    "#\n",
    "#  ...if you want to see everything and not just wheel angle.\n",
    "#\n",
    "show_results_q(\n",
    "    data,\n",
    "    q_e, v_e, tau_e,\n",
    "    omega, a * np.absolute(H(1j * omega)), np.angle(H(1j * omega)),\n",
    "    linewidth=4,\n",
    ")"
   ]
  },
  {
   "cell_type": "code",
   "execution_count": null,
   "id": "9cf1b630",
   "metadata": {},
   "outputs": [],
   "source": []
  }
 ],
 "metadata": {
  "kernelspec": {
   "display_name": "Python 3 (ipykernel)",
   "language": "python",
   "name": "python3"
  },
  "language_info": {
   "codemirror_mode": {
    "name": "ipython",
    "version": 3
   },
   "file_extension": ".py",
   "mimetype": "text/x-python",
   "name": "python",
   "nbconvert_exporter": "python",
   "pygments_lexer": "ipython3",
   "version": "3.11.0"
  }
 },
 "nbformat": 4,
 "nbformat_minor": 5
}
