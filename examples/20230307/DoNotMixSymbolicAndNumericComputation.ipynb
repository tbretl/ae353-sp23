{
 "cells": [
  {
   "cell_type": "code",
   "execution_count": 1,
   "id": "c0ec9da0",
   "metadata": {},
   "outputs": [],
   "source": [
    "import numpy as np\n",
    "import sympy as sym\n",
    "from scipy import linalg"
   ]
  },
  {
   "cell_type": "markdown",
   "id": "ab499c3d",
   "metadata": {},
   "source": [
    "### Bad things can happen when you apply symbolic operations to floating-point numbers."
   ]
  },
  {
   "cell_type": "markdown",
   "id": "a4588f57",
   "metadata": {},
   "source": [
    "Create a matrix with floating-point numbers."
   ]
  },
  {
   "cell_type": "code",
   "execution_count": null,
   "id": "92eb21a9",
   "metadata": {},
   "outputs": [],
   "source": [
    "M = np.random.standard_normal(size=(3, 3))\n",
    "print(M)"
   ]
  },
  {
   "cell_type": "markdown",
   "id": "fb7320c0",
   "metadata": {},
   "source": [
    "Try to find the matrix exponential using numeric computation (correct)."
   ]
  },
  {
   "cell_type": "code",
   "execution_count": null,
   "id": "bb982477",
   "metadata": {},
   "outputs": [],
   "source": [
    "print(linalg.expm(M))"
   ]
  },
  {
   "cell_type": "markdown",
   "id": "cdf1834c",
   "metadata": {},
   "source": [
    "Try to find the matrix exponential using symbolic computation (incorrect)."
   ]
  },
  {
   "cell_type": "code",
   "execution_count": null,
   "id": "22bf15e5",
   "metadata": {},
   "outputs": [],
   "source": [
    "# Convert M to symbolic matrix\n",
    "M_sym = sym.Matrix(M)\n",
    "print(M_sym)\n",
    "\n",
    "# Find the matrix exponential\n",
    "expM = sym.exp(M_sym)\n",
    "print(expM)"
   ]
  },
  {
   "cell_type": "markdown",
   "id": "0ba31b55",
   "metadata": {},
   "source": [
    "### Bad things can happen when you apply numeric operations to symbolic variables."
   ]
  },
  {
   "cell_type": "markdown",
   "id": "3333e661",
   "metadata": {},
   "source": [
    "Create a symbolic variable."
   ]
  },
  {
   "cell_type": "code",
   "execution_count": 2,
   "id": "58ef9b74",
   "metadata": {},
   "outputs": [],
   "source": [
    "t = sym.symbols('t')"
   ]
  },
  {
   "cell_type": "markdown",
   "id": "994e70ee",
   "metadata": {},
   "source": [
    "Try to find the sine of this variable using symbolic computation (correct)."
   ]
  },
  {
   "cell_type": "code",
   "execution_count": 3,
   "id": "be52a55a",
   "metadata": {},
   "outputs": [
    {
     "data": {
      "text/latex": [
       "$\\displaystyle \\sin{\\left(t \\right)}$"
      ],
      "text/plain": [
       "sin(t)"
      ]
     },
     "execution_count": 3,
     "metadata": {},
     "output_type": "execute_result"
    }
   ],
   "source": [
    "sym.sin(t)"
   ]
  },
  {
   "cell_type": "markdown",
   "id": "5519ff91",
   "metadata": {},
   "source": [
    "Try to find the sine of this variable using numeric computation (incorrect)."
   ]
  },
  {
   "cell_type": "code",
   "execution_count": 4,
   "id": "f1c0bff0",
   "metadata": {},
   "outputs": [
    {
     "ename": "TypeError",
     "evalue": "loop of ufunc does not support argument 0 of type Symbol which has no callable sin method",
     "output_type": "error",
     "traceback": [
      "\u001b[0;31m---------------------------------------------------------------------------\u001b[0m",
      "\u001b[0;31mAttributeError\u001b[0m                            Traceback (most recent call last)",
      "\u001b[0;31mAttributeError\u001b[0m: 'Symbol' object has no attribute 'sin'",
      "\nThe above exception was the direct cause of the following exception:\n",
      "\u001b[0;31mTypeError\u001b[0m                                 Traceback (most recent call last)",
      "Cell \u001b[0;32mIn[4], line 1\u001b[0m\n\u001b[0;32m----> 1\u001b[0m \u001b[43mnp\u001b[49m\u001b[38;5;241;43m.\u001b[39;49m\u001b[43msin\u001b[49m\u001b[43m(\u001b[49m\u001b[43mt\u001b[49m\u001b[43m)\u001b[49m\n",
      "\u001b[0;31mTypeError\u001b[0m: loop of ufunc does not support argument 0 of type Symbol which has no callable sin method"
     ]
    }
   ],
   "source": [
    "np.sin(t)"
   ]
  },
  {
   "cell_type": "code",
   "execution_count": null,
   "id": "93a62a3e",
   "metadata": {},
   "outputs": [],
   "source": []
  }
 ],
 "metadata": {
  "kernelspec": {
   "display_name": "Python 3 (ipykernel)",
   "language": "python",
   "name": "python3"
  },
  "language_info": {
   "codemirror_mode": {
    "name": "ipython",
    "version": 3
   },
   "file_extension": ".py",
   "mimetype": "text/x-python",
   "name": "python",
   "nbconvert_exporter": "python",
   "pygments_lexer": "ipython3",
   "version": "3.11.0"
  }
 },
 "nbformat": 4,
 "nbformat_minor": 5
}
