{
 "cells": [
  {
   "cell_type": "markdown",
   "id": "middle-acoustic",
   "metadata": {},
   "source": [
    "# Demo: PID Control of a Wheel"
   ]
  },
  {
   "cell_type": "markdown",
   "id": "working-minority",
   "metadata": {},
   "source": [
    "Import modules and configure the notebook."
   ]
  },
  {
   "cell_type": "code",
   "execution_count": 1,
   "id": "dimensional-contamination",
   "metadata": {},
   "outputs": [
    {
     "name": "stderr",
     "output_type": "stream",
     "text": [
      "pybullet build time: Oct 28 2022 16:21:09\n"
     ]
    }
   ],
   "source": [
    "# These are standard modules\n",
    "import time\n",
    "import numpy as np\n",
    "import matplotlib.pyplot as plt\n",
    "\n",
    "# This is a custom interface to the pybullet simulator\n",
    "import ae353_wheel"
   ]
  },
  {
   "cell_type": "markdown",
   "id": "protective-retreat",
   "metadata": {},
   "source": [
    "Create an instance of the `Simulator` class, which is an interface to the [pybullet](http://pybullet.org) simulation engine.\n",
    "\n",
    "There are two optional arguments:\n",
    "\n",
    "* `display` (`True` or `False`) is whether or not to show the simulation window;\n",
    "* `damping` (a non-negative floating-point number) is the coefficient of viscous friction at the wheel joint;\n",
    "* `roll` (a floating-point number) is the angle of the ground;\n",
    "* `mass` (a non-negative floating-point number) is the mass in kilograms of the orange marker that is attached to the wheel.\n",
    "\n",
    "You can also change `damping`, `roll`, or `mass` on the fly by using the functions `simulator.set_damping()`, `simulator.set_roll()`, and `simulator.set_mass()`."
   ]
  },
  {
   "cell_type": "code",
   "execution_count": 2,
   "id": "placed-messenger",
   "metadata": {},
   "outputs": [
    {
     "name": "stdout",
     "output_type": "stream",
     "text": [
      "You can open the visualizer by visiting the following URL:\n",
      "http://127.0.0.1:7001/static/\n"
     ]
    }
   ],
   "source": [
    "simulator = ae353_wheel.Simulator(\n",
    "    display=True,\n",
    "    damping=0.5,\n",
    "    roll=0.,\n",
    "    mass=0.,\n",
    ")"
   ]
  },
  {
   "cell_type": "code",
   "execution_count": 31,
   "id": "0d1fa6a2",
   "metadata": {},
   "outputs": [],
   "source": [
    "simulator.set_damping(0.)\n",
    "simulator.set_roll(np.pi / 2)\n",
    "simulator.set_mass(0.1)"
   ]
  },
  {
   "cell_type": "markdown",
   "id": "3f9ebffb",
   "metadata": {},
   "source": [
    "Define a controller that maps sensor measurements (`wheel_angle`) to actuator commands (`wheel_torque`). By default, it chooses to apply zero torque to the wheel. Modify the `run` function to make the controller behave differently. This function will be called 100 times per second (i.e., at 100 Hz) by the simulator."
   ]
  },
  {
   "cell_type": "code",
   "execution_count": 42,
   "id": "bf439d71",
   "metadata": {},
   "outputs": [],
   "source": [
    "class Controller:\n",
    "    def __init__(self):\n",
    "        self.r = 1.\n",
    "        print('init')\n",
    "    \n",
    "    def reset(self):\n",
    "        print('reset')\n",
    "        self.old_e = 0.\n",
    "        self.int_e = 0.\n",
    "    \n",
    "    def run(self, t, wheel_angle):\n",
    "        \"\"\"\n",
    "        INPUTS\n",
    "         t = current time (s)\n",
    "         wheel_angle = angle of wheel (rad)\n",
    "        \n",
    "        OUTPUTS\n",
    "         wheel_torque = torque applied to wheel by motor on ground (N m)\n",
    "        \"\"\"\n",
    "        \n",
    "        y = wheel_angle\n",
    "        #r = 1.\n",
    "        e = y - self.r\n",
    "        der_e = (e - self.old_e) / 0.01\n",
    "        self.old_e = e\n",
    "        \n",
    "        self.int_e += 0.01 * e\n",
    "        \n",
    "        \n",
    "        k_p = 7.\n",
    "        k_d = 1.\n",
    "        k_i = 1.\n",
    "        u = - k_p * e - k_d * der_e - k_i * self.int_e\n",
    "        \n",
    "        wheel_torque = u\n",
    "        \n",
    "        return wheel_torque"
   ]
  },
  {
   "cell_type": "markdown",
   "id": "40059b98",
   "metadata": {},
   "source": [
    "Create an instance of the controller."
   ]
  },
  {
   "cell_type": "code",
   "execution_count": 43,
   "id": "1168ff65",
   "metadata": {},
   "outputs": [
    {
     "name": "stdout",
     "output_type": "stream",
     "text": [
      "init\n"
     ]
    }
   ],
   "source": [
    "controller = Controller()"
   ]
  },
  {
   "cell_type": "markdown",
   "id": "19c52b8d",
   "metadata": {},
   "source": [
    "Reset the simulator. Optional arguments allow you to specify the initial wheel angle and velocity. If the value of either argument is `None` (or if the argument is left unspecified), then its value will be chosen at random."
   ]
  },
  {
   "cell_type": "code",
   "execution_count": 44,
   "id": "e9fc6510",
   "metadata": {},
   "outputs": [],
   "source": [
    "simulator.reset(\n",
    "    wheel_angle=0.,\n",
    "    wheel_velocity=0.,\n",
    ")"
   ]
  },
  {
   "cell_type": "markdown",
   "id": "a0c7b67a",
   "metadata": {},
   "source": [
    "Reset the controller."
   ]
  },
  {
   "cell_type": "code",
   "execution_count": 45,
   "id": "d169e3c4",
   "metadata": {},
   "outputs": [
    {
     "name": "stdout",
     "output_type": "stream",
     "text": [
      "reset\n"
     ]
    }
   ],
   "source": [
    "controller.reset()"
   ]
  },
  {
   "cell_type": "markdown",
   "id": "5cb3dacd",
   "metadata": {},
   "source": [
    "Run the simulator."
   ]
  },
  {
   "cell_type": "code",
   "execution_count": 59,
   "id": "8e649e63",
   "metadata": {},
   "outputs": [],
   "source": [
    "data = simulator.run(\n",
    "    controller,           # <-- required (an instance of your Controller class)\n",
    "    max_time=1.21,         # <-- optional (how long you want to run the simulation in seconds)\n",
    "    data_filename=None,   # <-- optional (name of file to which you want data saved, e.g., 'my_data.json')\n",
    "    video_filename=None,  # <-- optional (name of file to which you want video saved, e.g., 'my_video.mov')\n",
    ")"
   ]
  },
  {
   "cell_type": "markdown",
   "id": "c3e2d2d7",
   "metadata": {},
   "source": [
    "Get, show, and save a snapshot of the simulation after the last time step."
   ]
  },
  {
   "cell_type": "code",
   "execution_count": null,
   "id": "7657f10b",
   "metadata": {},
   "outputs": [],
   "source": [
    "# Get snapshot as height x width x 4 numpy array of RGBA values\n",
    "rgba = simulator.snapshot()\n",
    "\n",
    "# Display snapshot\n",
    "plt.figure(figsize=(8, 8))\n",
    "plt.imshow(rgba)\n",
    "\n",
    "# Save snapshot\n",
    "plt.imsave('my_snapshot.png', rgba)"
   ]
  },
  {
   "cell_type": "markdown",
   "id": "38a9c4a6",
   "metadata": {},
   "source": [
    "Plot the results."
   ]
  },
  {
   "cell_type": "code",
   "execution_count": 47,
   "id": "0cce775b",
   "metadata": {},
   "outputs": [
    {
     "data": {
      "image/png": "[encoded data removed]",
      "text/plain": [
       "<Figure size 800x800 with 3 Axes>"
      ]
     },
     "metadata": {},
     "output_type": "display_data"
    }
   ],
   "source": [
    "# Create a figure with three subplots, all of which share the same x-axis\n",
    "fig, (\n",
    "    ax_angle,\n",
    "    ax_velocity,\n",
    "    ax_torque,\n",
    ") = plt.subplots(3, 1, figsize=(8, 8), sharex=True)\n",
    "\n",
    "# Plot wheel angle on first subplot\n",
    "ax_angle.plot(\n",
    "    data['t'], data['wheel_angle'],\n",
    "    label='wheel angle (rad)', linewidth=4,\n",
    ")\n",
    "ax_angle.grid()\n",
    "ax_angle.legend(fontsize=16)\n",
    "ax_angle.tick_params(labelsize=14)\n",
    "\n",
    "# Plot wheel velocity on second subplot\n",
    "ax_velocity.plot(\n",
    "    data['t'], data['wheel_velocity'],\n",
    "    label='wheel velocity (rad / s)', linewidth=4,\n",
    ")\n",
    "ax_velocity.grid()\n",
    "ax_velocity.legend(fontsize=16)\n",
    "ax_velocity.tick_params(labelsize=14)\n",
    "\n",
    "# Plot wheel torque on third subplot\n",
    "ax_torque.plot(\n",
    "    data['t'], data['wheel_torque_command'],\n",
    "    label='wheel torque command (N-m)', linewidth=4,\n",
    ")\n",
    "ax_torque.plot(\n",
    "    data['t'], data['wheel_torque'],\n",
    "    '--', label='wheel torque (N-m)', linewidth=4,\n",
    ")\n",
    "ax_torque.plot(\n",
    "    data['t'], np.ones_like(data['t']) * simulator.tau_max,\n",
    "    ':', label='max wheel torque', linewidth=4, color='C2', zorder=0,\n",
    ")\n",
    "ax_torque.plot(\n",
    "    data['t'], -np.ones_like(data['t']) * simulator.tau_max,\n",
    "    ':', linewidth=4, color='C2', zorder=0,\n",
    ")\n",
    "ax_torque.grid()\n",
    "ax_torque.legend(fontsize=16)\n",
    "ax_torque.tick_params(labelsize=14)\n",
    "\n",
    "# Set x-axis properties (only need to do this on the third\n",
    "# subplot since all three subplots share the same x-axis)\n",
    "ax_torque.set_xlabel('time (s)', fontsize=20)\n",
    "ax_torque.set_xlim([data['t'][0], data['t'][-1]])\n",
    "ax_torque.set_ylim(-1.2 * simulator.tau_max, 1.2 * simulator.tau_max)\n",
    "\n",
    "# Make the arrangement of subplots look nice\n",
    "fig.tight_layout()"
   ]
  },
  {
   "cell_type": "markdown",
   "id": "520822de",
   "metadata": {},
   "source": [
    "Save the figure (without transparent background)."
   ]
  },
  {
   "cell_type": "code",
   "execution_count": null,
   "id": "3ce3e7cd",
   "metadata": {},
   "outputs": [],
   "source": [
    "fig.savefig('my_figure.png', facecolor='white', transparent=False)"
   ]
  },
  {
   "cell_type": "code",
   "execution_count": 48,
   "id": "96e3adc2",
   "metadata": {},
   "outputs": [
    {
     "data": {
      "text/plain": [
       "dict_keys(['t', 'wheel_angle', 'wheel_velocity', 'wheel_torque', 'wheel_torque_command'])"
      ]
     },
     "execution_count": 48,
     "metadata": {},
     "output_type": "execute_result"
    }
   ],
   "source": [
    "data.keys()"
   ]
  },
  {
   "cell_type": "code",
   "execution_count": 53,
   "id": "06ff3078",
   "metadata": {},
   "outputs": [
    {
     "name": "stdout",
     "output_type": "stream",
     "text": [
      "0.9199299492064187\n"
     ]
    }
   ],
   "source": [
    "index_at_t = np.argwhere(data['t'] == 1.2).item()\n",
    "print(data['wheel_angle'][index_at_t])"
   ]
  },
  {
   "cell_type": "code",
   "execution_count": 50,
   "id": "6292726f",
   "metadata": {},
   "outputs": [
    {
     "data": {
      "text/plain": [
       "array([0.        , 0.00149806, 0.00539278, 0.01168352, 0.02036924,\n",
       "       0.03144852, 0.04491952, 0.06078004, 0.07902747, 0.09957178,\n",
       "       0.12224817, 0.1468786 , 0.17328613, 0.20129571, 0.23073479,\n",
       "       0.26143375, 0.29322641, 0.32595046, 0.35944785, 0.39356518,\n",
       "       0.428154  , 0.46307117, 0.49817905, 0.53334581, 0.56844559,\n",
       "       0.60335868, 0.63797165, 0.6721775 , 0.70587569, 0.73897221,\n",
       "       0.77137963, 0.80301707, 0.83381017, 0.86369106, 0.89259829,\n",
       "       0.92047674, 0.94727749, 0.97295769, 0.99748048, 1.02081475,\n",
       "       1.042935  , 1.0638212 , 1.08345853, 1.10183721, 1.1189523 ,\n",
       "       1.13480347, 1.1493948 , 1.16273449, 1.17483474, 1.1857114 ,\n",
       "       1.19538383, 1.20387463, 1.2112094 , 1.21741652, 1.22252691,\n",
       "       1.22657385, 1.22959268, 1.23162063, 1.23269661, 1.23286098,\n",
       "       1.23215533, 1.23062231, 1.22830545, 1.2252489 , 1.22149734,\n",
       "       1.21709575, 1.21208924, 1.20652293, 1.20044176, 1.19389037,\n",
       "       1.18691295, 1.17955311, 1.17185377, 1.16385703, 1.15560409,\n",
       "       1.14713512, 1.1384892 , 1.1297042 , 1.12081677, 1.11186219,\n",
       "       1.10287438, 1.09388582, 1.08492748, 1.07602885, 1.06721782,\n",
       "       1.05852075, 1.04996236, 1.04156578, 1.03335254, 1.02534254,\n",
       "       1.01755407, 1.01000382, 1.00270691, 0.99567688, 0.98892574,\n",
       "       0.982464  , 0.97630068, 0.97044336, 0.96489821, 0.95967007,\n",
       "       0.95476245, 0.95017758, 0.94591649, 0.94197905, 0.938364  ,\n",
       "       0.93506906, 0.93209091, 0.92942533, 0.92706717, 0.92501049,\n",
       "       0.92324857, 0.92177399, 0.92057865, 0.9196539 , 0.91899052,\n",
       "       0.91857882, 0.9184087 , 0.91846968, 0.91875095, 0.91924147,\n",
       "       0.91992995, 0.92080496, 0.92185495, 0.92306828, 0.92443331,\n",
       "       0.92593838, 0.92757192, 0.92932242, 0.93117851, 0.93312899,\n",
       "       0.93516282, 0.93726922, 0.93943763, 0.94165777, 0.94391967,\n",
       "       0.94621366, 0.9485304 , 0.95086093, 0.95319663, 0.95552928,\n",
       "       0.95785104, 0.96015447, 0.96243253, 0.96467863, 0.96688654,\n",
       "       0.96905049, 0.97116512, 0.97322548, 0.97522705, 0.9771657 ,\n",
       "       0.97903773, 0.98083983, 0.98256909, 0.98422298, 0.98579936,\n",
       "       0.98729643, 0.98871278, 0.99004732, 0.99129931, 0.99246831,\n",
       "       0.99355419, 0.99455714, 0.99547759, 0.99631625, 0.99707409,\n",
       "       0.9977523 , 0.9983523 , 0.9988757 , 0.99932431, 0.99970012,\n",
       "       1.00000526, 1.00024202, 1.00041282, 1.0005202 , 1.00056677,\n",
       "       1.00055528, 1.00048851, 1.00036932, 1.00020063, 0.99998536,\n",
       "       0.9997265 , 0.99942701, 0.99908989, 0.99871812, 0.99831464,\n",
       "       0.99788238, 0.99742425, 0.9969431 , 0.99644171, 0.99592283,\n",
       "       0.99538913, 0.99484321, 0.99428759, 0.99372471, 0.99315693,\n",
       "       0.99258649, 0.99201557, 0.99144623, 0.99088043, 0.99032005,\n",
       "       0.98976683, 0.98922243, 0.98868839, 0.98816615, 0.98765703,\n",
       "       0.98716228, 0.986683  , 0.9862202 , 0.98577479, 0.98534759,\n",
       "       0.98493929, 0.98455051, 0.98418175, 0.98383345, 0.98350593,\n",
       "       0.98319943, 0.98291411, 0.98265006, 0.98240727, 0.98218567,\n",
       "       0.98198512, 0.98180542, 0.98164628, 0.98150739, 0.98138836,\n",
       "       0.98128876, 0.9812081 , 0.98114585, 0.98110146, 0.98107432,\n",
       "       0.98106381, 0.98106926, 0.98108998, 0.98112528, 0.98117442,\n",
       "       0.98123667, 0.98131127, 0.98139748, 0.98149453, 0.98160165,\n",
       "       0.98171807, 0.98184304, 0.9819758 , 0.98211561, 0.98226171,\n",
       "       0.9824134 , 0.98256995, 0.98273066, 0.98289488, 0.98306192,\n",
       "       0.98323116, 0.98340198, 0.98357378, 0.983746  , 0.98391808,\n",
       "       0.98408952, 0.98425981, 0.9844285 , 0.98459513, 0.9847593 ,\n",
       "       0.98492063, 0.98507875, 0.98523334, 0.98538409, 0.98553072,\n",
       "       0.985673  , 0.98581069, 0.9859436 , 0.98607156, 0.98619442,\n",
       "       0.98631207, 0.9864244 , 0.98653133, 0.98663282, 0.98672883,\n",
       "       0.98681936, 0.98690439, 0.98698398, 0.98705815, 0.98712696,\n",
       "       0.9871905 , 0.98724885, 0.98730212, 0.98735042, 0.98739388,\n",
       "       0.98743265, 0.98746686, 0.98749668, 0.98752226, 0.9875438 ,\n",
       "       0.98756145, 0.98757541, 0.98758586, 0.98759299, 0.987597  ,\n",
       "       0.98759808, 0.98759642, 0.98759223, 0.9875857 , 0.98757702,\n",
       "       0.98756639, 0.98755399, 0.98754002, 0.98752466, 0.9875081 ,\n",
       "       0.9874905 , 0.98747204, 0.98745288, 0.9874332 , 0.98741314,\n",
       "       0.98739285, 0.98737248, 0.98735216, 0.98733203, 0.98731221,\n",
       "       0.98729281, 0.98727395, 0.98725573, 0.98723824, 0.98722158,\n",
       "       0.98720582, 0.98719104, 0.98717731, 0.98716469, 0.98715323,\n",
       "       0.98714298, 0.98713399, 0.98712628, 0.98711989, 0.98711484,\n",
       "       0.98711114, 0.98710881, 0.98710786, 0.98710828, 0.98711007,\n",
       "       0.98711322, 0.98711772, 0.98712356, 0.9871307 , 0.98713914,\n",
       "       0.98714883, 0.98715975, 0.98717187, 0.98718514, 0.98719954,\n",
       "       0.98721501, 0.98723151, 0.98724901, 0.98726745, 0.98728678,\n",
       "       0.98730697, 0.98732795, 0.98734968, 0.98737211, 0.98739519,\n",
       "       0.98741886, 0.98744309, 0.98746782, 0.98749299, 0.98751856,\n",
       "       0.98754449, 0.98757073, 0.98759722, 0.98762393, 0.98765081,\n",
       "       0.98767782, 0.98770492, 0.98773207, 0.98775923, 0.98778637,\n",
       "       0.98781345, 0.98784044, 0.9878673 , 0.98789401, 0.98792055,\n",
       "       0.98794688, 0.98797298, 0.98799883, 0.98802441, 0.9880497 ,\n",
       "       0.98807468, 0.98809935, 0.98812368, 0.98814766, 0.98817129,\n",
       "       0.98819455, 0.98821745, 0.98823997, 0.98826211, 0.98828387,\n",
       "       0.98830524, 0.98832624, 0.98834685, 0.98836709, 0.98838695,\n",
       "       0.98840644, 0.98842556, 0.98844433, 0.98846275, 0.98848083,\n",
       "       0.98849858, 0.988516  , 0.98853311, 0.98854993, 0.98856645,\n",
       "       0.98858269, 0.98859866, 0.98861438, 0.98862986, 0.98864511,\n",
       "       0.98866014, 0.98867497, 0.98868961, 0.98870408, 0.98871837,\n",
       "       0.98873252, 0.98874653, 0.98876041, 0.98877417, 0.98878783,\n",
       "       0.9888014 , 0.9888149 , 0.98882832, 0.98884168, 0.988855  ,\n",
       "       0.98886828, 0.98888154, 0.98889477, 0.98890799, 0.98892122,\n",
       "       0.98893444, 0.98894769, 0.98896095, 0.98897424, 0.98898756,\n",
       "       0.98900091, 0.98901432, 0.98902777, 0.98904127, 0.98905482,\n",
       "       0.98906844, 0.98908212, 0.98909586, 0.98910967, 0.98912354,\n",
       "       0.98913748, 0.9891515 , 0.98916558, 0.98917973, 0.98919396,\n",
       "       0.98920825, 0.98922262, 0.98923705, 0.98925154, 0.98926611,\n",
       "       0.98928073, 0.98929542, 0.98931016, 0.98932497, 0.98933982,\n",
       "       0.98935473, 0.98936969, 0.98938469, 0.98939974, 0.98941483,\n",
       "       0.98942995, 0.98944511, 0.9894603 , 0.98947551, 0.98949075,\n",
       "       0.98950601, 0.98952128, 0.98953657, 0.98955188, 0.98956718,\n",
       "       0.9895825 , 0.98959781, 0.98961313, 0.98962843, 0.98964374,\n",
       "       0.98965903, 0.98967431, 0.98968957, 0.98970481, 0.98972004,\n",
       "       0.98973524, 0.98975042, 0.98976557, 0.98978069, 0.98979579,\n",
       "       0.98981085, 0.98982588, 0.98984087, 0.98985582, 0.98987074,\n",
       "       0.98988562, 0.98990046, 0.98991526, 0.98993002, 0.98994473,\n",
       "       0.98995941, 0.98997404, 0.98998863, 0.99000317, 0.99001767,\n",
       "       0.99003213, 0.99004654, 0.99006091, 0.99007524, 0.99008952,\n",
       "       0.99010376, 0.99011796, 0.99013212, 0.99014623, 0.99016031,\n",
       "       0.99017434, 0.99018833, 0.99020229, 0.99021621, 0.99023009,\n",
       "       0.99024393, 0.99025774, 0.99027151, 0.99028525, 0.99029896,\n",
       "       0.99031263, 0.99032627, 0.99033988, 0.99035346, 0.99036702,\n",
       "       0.99038054, 0.99039404, 0.99040751, 0.99042096, 0.99043438,\n",
       "       0.99044777, 0.99046115, 0.9904745 , 0.99048783, 0.99050114,\n",
       "       0.99051443, 0.9905277 , 0.99054095, 0.99055418, 0.9905674 ,\n",
       "       0.99058059, 0.99059377, 0.99060694, 0.99062009, 0.99063322,\n",
       "       0.99064634, 0.99065944, 0.99067253, 0.99068561, 0.99069867,\n",
       "       0.99071172, 0.99072476, 0.99073778, 0.99075079, 0.99076378,\n",
       "       0.99077677, 0.99078974, 0.9908027 , 0.99081565, 0.99082858,\n",
       "       0.9908415 , 0.99085441, 0.99086731, 0.9908802 , 0.99089307,\n",
       "       0.99090593, 0.99091878, 0.99093161, 0.99094443, 0.99095724,\n",
       "       0.99097003, 0.99098281, 0.99099558, 0.99100833, 0.99102107,\n",
       "       0.9910338 , 0.99104651, 0.99105921, 0.99107189, 0.99108455,\n",
       "       0.99109721, 0.99110984, 0.99112246, 0.99113507, 0.99114766,\n",
       "       0.99116023, 0.99117279, 0.99118533, 0.99119785, 0.99121036,\n",
       "       0.99122285, 0.99123532, 0.99124778, 0.99126022, 0.99127264,\n",
       "       0.99128504, 0.99129743, 0.99130979, 0.99132214, 0.99133448,\n",
       "       0.99134679, 0.99135908, 0.99137136, 0.99138362, 0.99139586,\n",
       "       0.99140808, 0.99142029, 0.99143247, 0.99144464, 0.99145679,\n",
       "       0.99146892, 0.99148103, 0.99149312, 0.99150519, 0.99151725,\n",
       "       0.99152928, 0.9915413 , 0.9915533 , 0.99156528, 0.99157724,\n",
       "       0.99158918, 0.99160111, 0.99161302, 0.9916249 , 0.99163678,\n",
       "       0.99164863, 0.99166046, 0.99167228, 0.99168408, 0.99169586,\n",
       "       0.99170762, 0.99171936, 0.99173109, 0.9917428 , 0.99175449,\n",
       "       0.99176617, 0.99177783, 0.99178947, 0.99180109, 0.99181269,\n",
       "       0.99182428, 0.99183585, 0.99184741, 0.99185895, 0.99187047,\n",
       "       0.99188197, 0.99189346, 0.99190493, 0.99191639, 0.99192783,\n",
       "       0.99193925, 0.99195066, 0.99196205, 0.99197342, 0.99198478,\n",
       "       0.99199612, 0.99200745, 0.99201876, 0.99203005, 0.99204133,\n",
       "       0.9920526 , 0.99206384, 0.99207507, 0.99208629, 0.99209749,\n",
       "       0.99210868, 0.99211984, 0.992131  , 0.99214214, 0.99215326,\n",
       "       0.99216437, 0.99217546, 0.99218654, 0.9921976 , 0.99220865,\n",
       "       0.99221968, 0.99223069, 0.99224169, 0.99225268, 0.99226365,\n",
       "       0.99227461, 0.99228555, 0.99229647, 0.99230738, 0.99231828,\n",
       "       0.99232916, 0.99234002, 0.99235087, 0.9923617 , 0.99237252,\n",
       "       0.99238333, 0.99239412, 0.99240489, 0.99241565, 0.99242639,\n",
       "       0.99243712, 0.99244784, 0.99245854, 0.99246922, 0.99247989,\n",
       "       0.99249054, 0.99250118, 0.99251181, 0.99252242, 0.99253301,\n",
       "       0.99254359, 0.99255415, 0.9925647 , 0.99257524, 0.99258576,\n",
       "       0.99259626, 0.99260675, 0.99261723, 0.99262769, 0.99263813,\n",
       "       0.99264856, 0.99265898, 0.99266938, 0.99267976, 0.99269014,\n",
       "       0.99270049, 0.99271083, 0.99272116, 0.99273147, 0.99274177,\n",
       "       0.99275205, 0.99276232, 0.99277257, 0.99278281, 0.99279304,\n",
       "       0.99280325, 0.99281344, 0.99282362, 0.99283379, 0.99284394,\n",
       "       0.99285408, 0.9928642 , 0.99287431, 0.9928844 , 0.99289448,\n",
       "       0.99290455, 0.9929146 , 0.99292464, 0.99293466, 0.99294467,\n",
       "       0.99295466, 0.99296464, 0.9929746 , 0.99298456, 0.99299449,\n",
       "       0.99300442, 0.99301432, 0.99302422, 0.9930341 , 0.99304397,\n",
       "       0.99305382, 0.99306366, 0.99307348, 0.99308329, 0.99309309,\n",
       "       0.99310287, 0.99311264, 0.9931224 , 0.99313214, 0.99314186,\n",
       "       0.99315158, 0.99316128, 0.99317096, 0.99318064, 0.9931903 ,\n",
       "       0.99319994, 0.99320957, 0.99321919, 0.99322879, 0.99323838,\n",
       "       0.99324796, 0.99325753, 0.99326708, 0.99327661, 0.99328613,\n",
       "       0.99329564, 0.99330514, 0.99331462, 0.99332409, 0.99333355,\n",
       "       0.99334299, 0.99335242, 0.99336184, 0.99337124, 0.99338063,\n",
       "       0.99339   , 0.99339937, 0.99340872, 0.99341805, 0.99342738,\n",
       "       0.99343669, 0.99344598, 0.99345527, 0.99346454, 0.99347379,\n",
       "       0.99348304, 0.99349227, 0.99350149, 0.99351069, 0.99351988,\n",
       "       0.99352906, 0.99353823, 0.99354738, 0.99355652, 0.99356565,\n",
       "       0.99357476, 0.99358387, 0.99359295, 0.99360203, 0.99361109,\n",
       "       0.99362014, 0.99362918, 0.99363821, 0.99364722, 0.99365622,\n",
       "       0.9936652 , 0.99367418, 0.99368314, 0.99369208, 0.99370102,\n",
       "       0.99370994, 0.99371885, 0.99372775, 0.99373663, 0.99374551,\n",
       "       0.99375437, 0.99376321, 0.99377205, 0.99378087, 0.99378968,\n",
       "       0.99379848, 0.99380726, 0.99381603, 0.99382479, 0.99383354,\n",
       "       0.99384228, 0.993851  , 0.99385971, 0.99386841, 0.99387709,\n",
       "       0.99388577, 0.99389443, 0.99390308, 0.99391171, 0.99392034,\n",
       "       0.99392895, 0.99393755, 0.99394614, 0.99395471, 0.99396328,\n",
       "       0.99397183, 0.99398037, 0.99398889, 0.99399741, 0.99400591,\n",
       "       0.9940144 , 0.99402288, 0.99403135, 0.9940398 , 0.99404825,\n",
       "       0.99405668, 0.99406509, 0.9940735 , 0.9940819 , 0.99409028,\n",
       "       0.99409865, 0.99410701, 0.99411536, 0.99412369, 0.99413202,\n",
       "       0.99414033, 0.99414863, 0.99415692, 0.9941652 , 0.99417346,\n",
       "       0.99418171, 0.99418996, 0.99419819, 0.99420641, 0.99421461,\n",
       "       0.99422281, 0.99423099, 0.99423916, 0.99424732, 0.99425547,\n",
       "       0.99426361, 0.99427174, 0.99427985, 0.99428795, 0.99429604,\n",
       "       0.99430412, 0.99431219, 0.99432025, 0.99432829, 0.99433633,\n",
       "       0.99434435, 0.99435236, 0.99436036, 0.99436835, 0.99437633,\n",
       "       0.9943843 , 0.99439225, 0.99440019, 0.99440813, 0.99441605,\n",
       "       0.99442396, 0.99443186, 0.99443974, 0.99444762, 0.99445549,\n",
       "       0.99446334, 0.99447118, 0.99447901, 0.99448684, 0.99449465,\n",
       "       0.99450244, 0.99451023, 0.99451801, 0.99452577, 0.99453353,\n",
       "       0.99454127, 0.994549  , 0.99455673, 0.99456444, 0.99457214,\n",
       "       0.99457983, 0.9945875 , 0.99459517, 0.99460283, 0.99461047,\n",
       "       0.99461811, 0.99462573, 0.99463334, 0.99464095, 0.99464854,\n",
       "       0.99465612, 0.99466369, 0.99467125, 0.9946788 , 0.99468633,\n",
       "       0.99469386, 0.99470138, 0.99470888, 0.99471638, 0.99472386,\n",
       "       0.99473134, 0.9947388 , 0.99474625, 0.9947537 , 0.99476113,\n",
       "       0.99476855, 0.99477596, 0.99478336, 0.99479075, 0.99479813,\n",
       "       0.9948055 , 0.99481286, 0.9948202 , 0.99482754, 0.99483487,\n",
       "       0.99484219, 0.99484949, 0.99485679, 0.99486407, 0.99487135,\n",
       "       0.99487862, 0.99488587, 0.99489311, 0.99490035, 0.99490757,\n",
       "       0.99491479, 0.99492199, 0.99492918, 0.99493637, 0.99494354,\n",
       "       0.9949507 , 0.99495786, 0.994965  , 0.99497213, 0.99497925,\n",
       "       0.99498637, 0.99499347, 0.99500056, 0.99500764, 0.99501471,\n",
       "       0.99502178, 0.99502883, 0.99503587, 0.9950429 , 0.99504993])"
      ]
     },
     "execution_count": 50,
     "metadata": {},
     "output_type": "execute_result"
    }
   ],
   "source": [
    "data['wheel_angle']"
   ]
  },
  {
   "cell_type": "code",
   "execution_count": 60,
   "id": "704e42cf",
   "metadata": {},
   "outputs": [
    {
     "data": {
      "text/plain": [
       "0.9964824982191949"
      ]
     },
     "execution_count": 60,
     "metadata": {},
     "output_type": "execute_result"
    }
   ],
   "source": [
    "data['wheel_angle'][-1]"
   ]
  },
  {
   "cell_type": "code",
   "execution_count": 61,
   "id": "040975fb",
   "metadata": {},
   "outputs": [
    {
     "data": {
      "text/plain": [
       "1.2"
      ]
     },
     "execution_count": 61,
     "metadata": {},
     "output_type": "execute_result"
    }
   ],
   "source": [
    "data['t'][-1]"
   ]
  },
  {
   "cell_type": "code",
   "execution_count": 62,
   "id": "67eac65d",
   "metadata": {},
   "outputs": [
    {
     "data": {
      "text/plain": [
       "{'t': array([0.  , 0.01, 0.02, 0.03, 0.04, 0.05, 0.06, 0.07, 0.08, 0.09, 0.1 ,\n",
       "        0.11, 0.12, 0.13, 0.14, 0.15, 0.16, 0.17, 0.18, 0.19, 0.2 , 0.21,\n",
       "        0.22, 0.23, 0.24, 0.25, 0.26, 0.27, 0.28, 0.29, 0.3 , 0.31, 0.32,\n",
       "        0.33, 0.34, 0.35, 0.36, 0.37, 0.38, 0.39, 0.4 , 0.41, 0.42, 0.43,\n",
       "        0.44, 0.45, 0.46, 0.47, 0.48, 0.49, 0.5 , 0.51, 0.52, 0.53, 0.54,\n",
       "        0.55, 0.56, 0.57, 0.58, 0.59, 0.6 , 0.61, 0.62, 0.63, 0.64, 0.65,\n",
       "        0.66, 0.67, 0.68, 0.69, 0.7 , 0.71, 0.72, 0.73, 0.74, 0.75, 0.76,\n",
       "        0.77, 0.78, 0.79, 0.8 , 0.81, 0.82, 0.83, 0.84, 0.85, 0.86, 0.87,\n",
       "        0.88, 0.89, 0.9 , 0.91, 0.92, 0.93, 0.94, 0.95, 0.96, 0.97, 0.98,\n",
       "        0.99, 1.  , 1.01, 1.02, 1.03, 1.04, 1.05, 1.06, 1.07, 1.08, 1.09,\n",
       "        1.1 , 1.11, 1.12, 1.13, 1.14, 1.15, 1.16, 1.17, 1.18, 1.19, 1.2 ]),\n",
       " 'wheel_angle': array([0.99583019, 0.9958361 , 0.995842  , 0.99584789, 0.99585377,\n",
       "        0.99585964, 0.99586551, 0.99587136, 0.99587721, 0.99588305,\n",
       "        0.99588889, 0.99589471, 0.99590053, 0.99590633, 0.99591213,\n",
       "        0.99591792, 0.99592371, 0.99592948, 0.99593525, 0.99594101,\n",
       "        0.99594676, 0.9959525 , 0.99595823, 0.99596396, 0.99596967,\n",
       "        0.99597538, 0.99598109, 0.99598678, 0.99599246, 0.99599814,\n",
       "        0.99600381, 0.99600947, 0.99601513, 0.99602077, 0.99602641,\n",
       "        0.99603204, 0.99603766, 0.99604327, 0.99604888, 0.99605447,\n",
       "        0.99606006, 0.99606565, 0.99607122, 0.99607678, 0.99608234,\n",
       "        0.99608789, 0.99609343, 0.99609897, 0.99610449, 0.99611001,\n",
       "        0.99611552, 0.99612103, 0.99612652, 0.99613201, 0.99613749,\n",
       "        0.99614296, 0.99614843, 0.99615388, 0.99615933, 0.99616477,\n",
       "        0.9961702 , 0.99617563, 0.99618105, 0.99618646, 0.99619186,\n",
       "        0.99619726, 0.99620264, 0.99620802, 0.99621339, 0.99621876,\n",
       "        0.99622412, 0.99622946, 0.99623481, 0.99624014, 0.99624547,\n",
       "        0.99625079, 0.9962561 , 0.9962614 , 0.9962667 , 0.99627199,\n",
       "        0.99627727, 0.99628254, 0.99628781, 0.99629307, 0.99629832,\n",
       "        0.99630356, 0.9963088 , 0.99631403, 0.99631925, 0.99632446,\n",
       "        0.99632967, 0.99633487, 0.99634006, 0.99634525, 0.99635043,\n",
       "        0.9963556 , 0.99636076, 0.99636591, 0.99637106, 0.9963762 ,\n",
       "        0.99638134, 0.99638646, 0.99639158, 0.99639669, 0.9964018 ,\n",
       "        0.9964069 , 0.99641199, 0.99641707, 0.99642215, 0.99642721,\n",
       "        0.99643228, 0.99643733, 0.99644238, 0.99644742, 0.99645245,\n",
       "        0.99645748, 0.99646249, 0.99646751, 0.99647251, 0.99647751,\n",
       "        0.9964825 ]),\n",
       " 'wheel_velocity': array([0.00059123, 0.00059039, 0.00058956, 0.00058872, 0.00058789,\n",
       "        0.00058706, 0.00058622, 0.00058539, 0.00058456, 0.00058374,\n",
       "        0.00058291, 0.00058208, 0.00058126, 0.00058044, 0.00057961,\n",
       "        0.00057879, 0.00057797, 0.00057715, 0.00057634, 0.00057552,\n",
       "        0.00057471, 0.00057389, 0.00057308, 0.00057227, 0.00057146,\n",
       "        0.00057065, 0.00056984, 0.00056903, 0.00056823, 0.00056742,\n",
       "        0.00056662, 0.00056581, 0.00056501, 0.00056421, 0.00056341,\n",
       "        0.00056262, 0.00056182, 0.00056102, 0.00056023, 0.00055944,\n",
       "        0.00055864, 0.00055785, 0.00055706, 0.00055627, 0.00055548,\n",
       "        0.0005547 , 0.00055391, 0.00055313, 0.00055234, 0.00055156,\n",
       "        0.00055078, 0.00055   , 0.00054922, 0.00054844, 0.00054767,\n",
       "        0.00054689, 0.00054612, 0.00054534, 0.00054457, 0.0005438 ,\n",
       "        0.00054303, 0.00054226, 0.00054149, 0.00054072, 0.00053996,\n",
       "        0.00053919, 0.00053843, 0.00053767, 0.00053691, 0.00053615,\n",
       "        0.00053539, 0.00053463, 0.00053387, 0.00053311, 0.00053236,\n",
       "        0.0005316 , 0.00053085, 0.0005301 , 0.00052935, 0.0005286 ,\n",
       "        0.00052785, 0.0005271 , 0.00052636, 0.00052561, 0.00052487,\n",
       "        0.00052412, 0.00052338, 0.00052264, 0.0005219 , 0.00052116,\n",
       "        0.00052042, 0.00051968, 0.00051895, 0.00051821, 0.00051748,\n",
       "        0.00051675, 0.00051601, 0.00051528, 0.00051455, 0.00051382,\n",
       "        0.0005131 , 0.00051237, 0.00051164, 0.00051092, 0.0005102 ,\n",
       "        0.00050947, 0.00050875, 0.00050803, 0.00050731, 0.00050659,\n",
       "        0.00050587, 0.00050516, 0.00050444, 0.00050373, 0.00050301,\n",
       "        0.0005023 , 0.00050159, 0.00050088, 0.00050017, 0.00049946,\n",
       "        0.00049875]),\n",
       " 'wheel_torque': array([0.28812595, 0.28812707, 0.2881282 , 0.28812932, 0.28813044,\n",
       "        0.28813156, 0.28813268, 0.2881338 , 0.28813492, 0.28813603,\n",
       "        0.28813714, 0.28813826, 0.28813936, 0.28814047, 0.28814158,\n",
       "        0.28814268, 0.28814379, 0.28814489, 0.28814599, 0.28814709,\n",
       "        0.28814818, 0.28814928, 0.28815037, 0.28815147, 0.28815256,\n",
       "        0.28815365, 0.28815473, 0.28815582, 0.2881569 , 0.28815799,\n",
       "        0.28815907, 0.28816015, 0.28816123, 0.2881623 , 0.28816338,\n",
       "        0.28816445, 0.28816552, 0.2881666 , 0.28816766, 0.28816873,\n",
       "        0.2881698 , 0.28817086, 0.28817193, 0.28817299, 0.28817405,\n",
       "        0.28817511, 0.28817616, 0.28817722, 0.28817827, 0.28817933,\n",
       "        0.28818038, 0.28818143, 0.28818247, 0.28818352, 0.28818457,\n",
       "        0.28818561, 0.28818665, 0.28818769, 0.28818873, 0.28818977,\n",
       "        0.2881908 , 0.28819184, 0.28819287, 0.2881939 , 0.28819493,\n",
       "        0.28819596, 0.28819699, 0.28819802, 0.28819904, 0.28820006,\n",
       "        0.28820109, 0.28820211, 0.28820312, 0.28820414, 0.28820516,\n",
       "        0.28820617, 0.28820718, 0.28820819, 0.2882092 , 0.28821021,\n",
       "        0.28821122, 0.28821223, 0.28821323, 0.28821423, 0.28821523,\n",
       "        0.28821623, 0.28821723, 0.28821823, 0.28821923, 0.28822022,\n",
       "        0.28822121, 0.2882222 , 0.28822319, 0.28822418, 0.28822517,\n",
       "        0.28822615, 0.28822714, 0.28822812, 0.2882291 , 0.28823008,\n",
       "        0.28823106, 0.28823204, 0.28823302, 0.28823399, 0.28823496,\n",
       "        0.28823594, 0.28823691, 0.28823787, 0.28823884, 0.28823981,\n",
       "        0.28824077, 0.28824174, 0.2882427 , 0.28824366, 0.28824462,\n",
       "        0.28824558, 0.28824653, 0.28824749, 0.28824844, 0.2882494 ,\n",
       "        0.28825035]),\n",
       " 'wheel_torque_command': array([0.28812595, 0.28812707, 0.2881282 , 0.28812932, 0.28813044,\n",
       "        0.28813156, 0.28813268, 0.2881338 , 0.28813492, 0.28813603,\n",
       "        0.28813714, 0.28813826, 0.28813936, 0.28814047, 0.28814158,\n",
       "        0.28814268, 0.28814379, 0.28814489, 0.28814599, 0.28814709,\n",
       "        0.28814818, 0.28814928, 0.28815037, 0.28815147, 0.28815256,\n",
       "        0.28815365, 0.28815473, 0.28815582, 0.2881569 , 0.28815799,\n",
       "        0.28815907, 0.28816015, 0.28816123, 0.2881623 , 0.28816338,\n",
       "        0.28816445, 0.28816552, 0.2881666 , 0.28816766, 0.28816873,\n",
       "        0.2881698 , 0.28817086, 0.28817193, 0.28817299, 0.28817405,\n",
       "        0.28817511, 0.28817616, 0.28817722, 0.28817827, 0.28817933,\n",
       "        0.28818038, 0.28818143, 0.28818247, 0.28818352, 0.28818457,\n",
       "        0.28818561, 0.28818665, 0.28818769, 0.28818873, 0.28818977,\n",
       "        0.2881908 , 0.28819184, 0.28819287, 0.2881939 , 0.28819493,\n",
       "        0.28819596, 0.28819699, 0.28819802, 0.28819904, 0.28820006,\n",
       "        0.28820109, 0.28820211, 0.28820312, 0.28820414, 0.28820516,\n",
       "        0.28820617, 0.28820718, 0.28820819, 0.2882092 , 0.28821021,\n",
       "        0.28821122, 0.28821223, 0.28821323, 0.28821423, 0.28821523,\n",
       "        0.28821623, 0.28821723, 0.28821823, 0.28821923, 0.28822022,\n",
       "        0.28822121, 0.2882222 , 0.28822319, 0.28822418, 0.28822517,\n",
       "        0.28822615, 0.28822714, 0.28822812, 0.2882291 , 0.28823008,\n",
       "        0.28823106, 0.28823204, 0.28823302, 0.28823399, 0.28823496,\n",
       "        0.28823594, 0.28823691, 0.28823787, 0.28823884, 0.28823981,\n",
       "        0.28824077, 0.28824174, 0.2882427 , 0.28824366, 0.28824462,\n",
       "        0.28824558, 0.28824653, 0.28824749, 0.28824844, 0.2882494 ,\n",
       "        0.28825035])}"
      ]
     },
     "execution_count": 62,
     "metadata": {},
     "output_type": "execute_result"
    }
   ],
   "source": [
    "data"
   ]
  },
  {
   "cell_type": "code",
   "execution_count": 64,
   "id": "64d9bbab",
   "metadata": {},
   "outputs": [],
   "source": [
    "tmp = {\n",
    "    'x': [1, 2, 3],\n",
    "    'y': [4, 5, 6],\n",
    "}"
   ]
  },
  {
   "cell_type": "code",
   "execution_count": 65,
   "id": "67e96108",
   "metadata": {},
   "outputs": [
    {
     "data": {
      "text/plain": [
       "[1, 2, 3]"
      ]
     },
     "execution_count": 65,
     "metadata": {},
     "output_type": "execute_result"
    }
   ],
   "source": [
    "tmp['x']"
   ]
  },
  {
   "cell_type": "code",
   "execution_count": null,
   "id": "7cd93b8a",
   "metadata": {},
   "outputs": [],
   "source": []
  }
 ],
 "metadata": {
  "kernelspec": {
   "display_name": "Python 3 (ipykernel)",
   "language": "python",
   "name": "python3"
  },
  "language_info": {
   "codemirror_mode": {
    "name": "ipython",
    "version": 3
   },
   "file_extension": ".py",
   "mimetype": "text/x-python",
   "name": "python",
   "nbconvert_exporter": "python",
   "pygments_lexer": "ipython3",
   "version": "3.11.0"
  }
 },
 "nbformat": 4,
 "nbformat_minor": 5
}
