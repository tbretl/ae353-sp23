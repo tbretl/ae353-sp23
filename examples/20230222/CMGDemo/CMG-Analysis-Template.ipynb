{
 "cells": [
  {
   "cell_type": "code",
   "execution_count": null,
   "id": "eefd5cf9",
   "metadata": {},
   "outputs": [],
   "source": [
    "import sympy as sym\n",
    "import numpy as np\n",
    "from scipy import linalg\n",
    "from scipy import signal\n",
    "\n",
    "# Suppress the use of scientific notation when printing small numbers\n",
    "np.set_printoptions(suppress=True)"
   ]
  },
  {
   "cell_type": "markdown",
   "id": "occasional-george",
   "metadata": {},
   "source": [
    "# Derive equations of motion"
   ]
  },
  {
   "cell_type": "markdown",
   "id": "delayed-central",
   "metadata": {},
   "source": [
    "The `sympy.physics.mechanics` module makes it easier to work with (and display) time derivatives."
   ]
  },
  {
   "cell_type": "code",
   "execution_count": null,
   "id": "dressed-frank",
   "metadata": {},
   "outputs": [],
   "source": [
    "from sympy.physics import mechanics\n",
    "mechanics.init_vprinting()"
   ]
  },
  {
   "cell_type": "markdown",
   "id": "greater-weekend",
   "metadata": {},
   "source": [
    "Define parameters in symbolic form."
   ]
  },
  {
   "cell_type": "code",
   "execution_count": null,
   "id": "aa1f1399",
   "metadata": {},
   "outputs": [],
   "source": [
    "# Principal moments of inertia\n",
    "J_1x, J_1y, J_1z = sym.symbols('J_1x, J_1y, J_1z')\n",
    "J_2x, J_2y, J_2z = sym.symbols('J_2x, J_2y, J_2z')\n",
    "J_3x, J_3y, J_3z = sym.symbols('J_3x, J_3y, J_3z')\n",
    "\n",
    "# Moment of inertia matrices in body-fixed reference frames\n",
    "J1 = sym.Matrix.diag(J_1x, J_1y, J_1z)\n",
    "J2 = sym.Matrix.diag(J_2x, J_2y, J_2z)\n",
    "J3 = sym.Matrix.diag(J_3x, J_3y, J_3z)\n",
    "\n",
    "# Spar length\n",
    "r = sym.symbols('r')\n",
    "\n",
    "# Load mass\n",
    "m = sym.symbols('m')\n",
    "\n",
    "# Acceleration of gravity\n",
    "g = sym.symbols('g')"
   ]
  },
  {
   "cell_type": "markdown",
   "id": "mental-mileage",
   "metadata": {},
   "source": [
    "Define variables."
   ]
  },
  {
   "cell_type": "code",
   "execution_count": null,
   "id": "ordered-extra",
   "metadata": {},
   "outputs": [],
   "source": [
    "# Time\n",
    "t = sym.Symbol('t')\n",
    "\n",
    "# Joint angles:\n",
    "q1, q2, q3 = mechanics.dynamicsymbols('q1, q2, q3')\n",
    "\n",
    "# Joint velocities\n",
    "v1 = q1.diff(t)\n",
    "v2 = q2.diff(t)\n",
    "v3 = q3.diff(t)\n",
    "\n",
    "# Joint accelerations\n",
    "a1 = v1.diff(t)\n",
    "a2 = v2.diff(t)\n",
    "a3 = v3.diff(t)\n",
    "\n",
    "# Torques:\n",
    "tau2, tau3 = sym.symbols('tau2, tau3')"
   ]
  },
  {
   "cell_type": "markdown",
   "id": "distant-roman",
   "metadata": {},
   "source": [
    "Compute angular velocity of each link with respect to body-fixed reference frames (the choice of frame is very important - using a space-fixed reference frame is a common mistake)."
   ]
  },
  {
   "cell_type": "code",
   "execution_count": null,
   "id": "rental-adapter",
   "metadata": {},
   "outputs": [],
   "source": [
    "c1 = sym.cos(q1)\n",
    "s1 = sym.sin(q1)\n",
    "R_p_in_w = sym.Matrix([[c1, -s1, 0], [s1, c1, 0], [0, 0, 1]])\n",
    "\n",
    "c2 = sym.cos(q2)\n",
    "s2 = sym.sin(q2)\n",
    "R_g_in_p = sym.Matrix([[1, 0, 0], [0, c2, -s2], [0, s2, c2]])\n",
    "\n",
    "w1 = sym.Matrix([[0], [0], [v1]])\n",
    "w2 = R_p_in_w.T * w1 + sym.Matrix([[v2], [0], [0]])\n",
    "w3 = R_g_in_p.T * w2 + sym.Matrix([[0], [-v3], [0]])\n",
    "\n",
    "# Show result\n",
    "w1, w2, w3"
   ]
  },
  {
   "cell_type": "markdown",
   "id": "eff8de8e",
   "metadata": {},
   "source": [
    "Compute position and velocity of load mass."
   ]
  },
  {
   "cell_type": "code",
   "execution_count": null,
   "id": "aaac2a0f",
   "metadata": {},
   "outputs": [],
   "source": [
    "p = R_p_in_w * sym.Matrix([-r, 0, 0])\n",
    "v = p.diff(t)\n",
    "\n",
    "# Show result\n",
    "p, v"
   ]
  },
  {
   "cell_type": "markdown",
   "id": "antique-climb",
   "metadata": {},
   "source": [
    "Compute Lagrangian."
   ]
  },
  {
   "cell_type": "code",
   "execution_count": null,
   "id": "tutorial-cleaning",
   "metadata": {},
   "outputs": [],
   "source": [
    "T = ((w1.T * J1 * w1) + (w2.T * J2 * w2) + (w3.T * J3 * w3) + (v.T * m * v)) / 2\n",
    "V = m * g * (sym.Matrix([1, 0, 0]).T * p)\n",
    "L = sym.simplify(T - V)\n",
    "\n",
    "# Show result\n",
    "L"
   ]
  },
  {
   "cell_type": "markdown",
   "id": "distinguished-poultry",
   "metadata": {},
   "source": [
    "Compute equations of motion."
   ]
  },
  {
   "cell_type": "code",
   "execution_count": null,
   "id": "crude-acquisition",
   "metadata": {},
   "outputs": [],
   "source": [
    "EOM = L.jacobian([v1, v2, v3]).diff(t) - L.jacobian([q1, q2, q3]) - sym.Matrix([0, tau2, tau3]).T"
   ]
  },
  {
   "cell_type": "markdown",
   "id": "meaning-disposal",
   "metadata": {},
   "source": [
    "Simplify equations of motion by solving for accelerations."
   ]
  },
  {
   "cell_type": "code",
   "execution_count": null,
   "id": "usual-oliver",
   "metadata": {},
   "outputs": [],
   "source": [
    "sol = sym.solve(EOM, [a1, a2, a3])\n",
    "h = sym.together(sym.simplify(sym.Matrix([sol[a1], sol[a2], sol[a3]]), full=True))"
   ]
  },
  {
   "cell_type": "markdown",
   "id": "46fcb948",
   "metadata": {},
   "source": [
    "Assume $\\tau_3=0$ and look only at the equations of motion that govern the platform and the gimbal:"
   ]
  },
  {
   "cell_type": "code",
   "execution_count": null,
   "id": "4adb0509",
   "metadata": {},
   "outputs": [],
   "source": [
    "h = h[0:2, 0].subs(tau3, 0)"
   ]
  },
  {
   "cell_type": "markdown",
   "id": "bc4b6686",
   "metadata": {},
   "source": [
    "Display the vector-valued function $h$ for which the equations of motion can be written as\n",
    "\n",
    "$$\\begin{bmatrix} \\ddot{q}_1 \\\\ \\ddot{q}_2 \\end{bmatrix} = h(q_1, q_2, \\dot{q}_1, \\dot{q}_2, \\tau_2)$$\n",
    "\n",
    "where everything else (mass and inertial parameters, spar length, acceleration of gravity, and rotor velocity $\\dot{q}_3$) is assumed constant."
   ]
  },
  {
   "cell_type": "code",
   "execution_count": null,
   "id": "3b479b59",
   "metadata": {},
   "outputs": [],
   "source": [
    "h"
   ]
  },
  {
   "cell_type": "markdown",
   "id": "ab27babb",
   "metadata": {},
   "source": [
    "Put EOMs in standard form."
   ]
  },
  {
   "cell_type": "code",
   "execution_count": null,
   "id": "258b7c89",
   "metadata": {},
   "outputs": [],
   "source": [
    "# Standard form\n",
    "f_symparams = sym.Matrix.vstack(sym.Matrix([v1, v2]), h)\n",
    "\n",
    "# Standard form without dynamic symbols\n",
    "qq1, qq2, vv1, vv2, v_rotor = sym.symbols('qq1, qq2, vv1, vv2, v_rotor')\n",
    "f_symparams = mechanics.msubs(f_symparams, {\n",
    "    q1: qq1,\n",
    "    q2: qq2,\n",
    "    v1: vv1,\n",
    "    v2: vv2,\n",
    "    v3: v_rotor,\n",
    "})\n",
    "q1, q2, v1, v2 = sym.symbols('q1, q2, v1, v2')\n",
    "f_symparams = f_symparams.subs([\n",
    "    (qq1, q1),\n",
    "    (qq2, q2),\n",
    "    (vv1, v1),\n",
    "    (vv2, v2),\n",
    "])"
   ]
  },
  {
   "cell_type": "markdown",
   "id": "9f3a6ec7",
   "metadata": {},
   "source": [
    "Plug in constants and convert floating-point to rational numbers."
   ]
  },
  {
   "cell_type": "code",
   "execution_count": null,
   "id": "8a6b260c",
   "metadata": {},
   "outputs": [],
   "source": [
    "f = sym.simplify(sym.nsimplify(f_symparams.subs([\n",
    "    (J_1z, 0.5),\n",
    "    (J_2x, 0.001),\n",
    "    (J_2z, 0.001),\n",
    "    (J_3x, 0.01),\n",
    "    (J_3y, 0.01),\n",
    "    (J_3z, 0.01),\n",
    "    (m, 1.),\n",
    "    (r, 2.),\n",
    "    (g, 9.81),\n",
    "    (v_rotor, 500.),\n",
    "]), rational=True))\n",
    "\n",
    "display(f)"
   ]
  },
  {
   "cell_type": "markdown",
   "id": "c20d8505",
   "metadata": {},
   "source": [
    "# Derive a state-space model"
   ]
  },
  {
   "cell_type": "markdown",
   "id": "cceaff15",
   "metadata": {},
   "source": [
    "Choose an equilibrium point."
   ]
  },
  {
   "cell_type": "code",
   "execution_count": null,
   "id": "f5b6f436",
   "metadata": {},
   "outputs": [],
   "source": [
    "q1e = 0.\n",
    "q2e = 0.\n",
    "v1e = 0.\n",
    "v2e = 0.\n",
    "tau2e = 0.\n",
    "\n",
    "# Verify that this is actually an equilibrium point\n",
    "f_num = sym.lambdify([q1, q2, v1, v2, tau2], f)\n",
    "if np.allclose(f_num(q1e, q2e, v1e, v2e, tau2e), 0.):\n",
    "    print('Valid equilibrium point.')\n",
    "else:\n",
    "    print('INVALID EQUILIBRIUM POINT!')"
   ]
  },
  {
   "cell_type": "markdown",
   "id": "d32f7bee",
   "metadata": {},
   "source": [
    "Find $A$ and $B$."
   ]
  },
  {
   "cell_type": "code",
   "execution_count": null,
   "id": "bf0aa55e",
   "metadata": {},
   "outputs": [],
   "source": [
    "# Find A and B in symbolic form\n",
    "A_sym = f.jacobian([q1, q2, v1, v2])\n",
    "B_sym = f.jacobian([tau2])\n",
    "\n",
    "# Create lambda functions to allow numerical evaluation of A and B\n",
    "A_num = sym.lambdify([q1, q2, v1, v2, tau2], A_sym)\n",
    "B_num = sym.lambdify([q1, q2, v1, v2, tau2], B_sym)\n",
    "\n",
    "# Find A and B in numeric form (making sure the result is floating-point)\n",
    "A = A_num(q1e, q2e, v1e, v2e, tau2e).astype(float)\n",
    "B = B_num(q1e, q2e, v1e, v2e, tau2e).astype(float)\n",
    "\n",
    "# Show result\n",
    "print(f'A =\\n{A}\\n\\nB =\\n{B}')"
   ]
  },
  {
   "cell_type": "markdown",
   "id": "09feb8eb",
   "metadata": {},
   "source": [
    "# Check if the state-space model is controllable"
   ]
  },
  {
   "cell_type": "markdown",
   "id": "de6d5618",
   "metadata": {},
   "source": [
    "Find controllability matrix."
   ]
  },
  {
   "cell_type": "code",
   "execution_count": null,
   "id": "83f4ff0f",
   "metadata": {},
   "outputs": [],
   "source": []
  },
  {
   "cell_type": "markdown",
   "id": "13f0b94d",
   "metadata": {},
   "source": [
    "Find determinant of controllability matrix."
   ]
  },
  {
   "cell_type": "code",
   "execution_count": null,
   "id": "7c7cc0fd",
   "metadata": {},
   "outputs": [],
   "source": []
  },
  {
   "cell_type": "markdown",
   "id": "53e0250c",
   "metadata": {},
   "source": [
    "Find rank of controllability matrix."
   ]
  },
  {
   "cell_type": "code",
   "execution_count": null,
   "id": "a6cc38af",
   "metadata": {},
   "outputs": [],
   "source": []
  },
  {
   "cell_type": "markdown",
   "id": "d2a0c47f",
   "metadata": {},
   "source": [
    "Find condition number of controllability matrix (i.e., the ratio of the largest singular value to the smallest singular value)."
   ]
  },
  {
   "cell_type": "code",
   "execution_count": null,
   "id": "41063907",
   "metadata": {},
   "outputs": [],
   "source": []
  },
  {
   "cell_type": "markdown",
   "id": "6cba16ec",
   "metadata": {},
   "source": [
    "# Do control design by eigenvalue placement"
   ]
  },
  {
   "cell_type": "markdown",
   "id": "5f95b76f",
   "metadata": {},
   "source": [
    "Choose desired eigenvalue locations."
   ]
  },
  {
   "cell_type": "code",
   "execution_count": null,
   "id": "241374db",
   "metadata": {},
   "outputs": [],
   "source": [
    "p = [-2., -3., -4., -5.]"
   ]
  },
  {
   "cell_type": "markdown",
   "id": "b2d6d191",
   "metadata": {},
   "source": [
    "Find gain matrix by eigenvalue placement."
   ]
  },
  {
   "cell_type": "code",
   "execution_count": null,
   "id": "6e1cc0ac",
   "metadata": {},
   "outputs": [],
   "source": [
    "K = signal.place_poles(A, B, p).gain_matrix\n",
    "print(f'K = \\n{K}')"
   ]
  },
  {
   "cell_type": "code",
   "execution_count": null,
   "id": "8ec0644d",
   "metadata": {},
   "outputs": [],
   "source": [
    "K"
   ]
  },
  {
   "cell_type": "markdown",
   "id": "1ccba893",
   "metadata": {},
   "source": [
    "Check that eigenvalues are in the right location."
   ]
  },
  {
   "cell_type": "code",
   "execution_count": null,
   "id": "0eca71ec",
   "metadata": {},
   "outputs": [],
   "source": [
    "print(linalg.eigvals(A - B @ K))"
   ]
  },
  {
   "cell_type": "markdown",
   "id": "a043d93b",
   "metadata": {},
   "source": [
    "# If a system is not controllable, are we completely out of luck?"
   ]
  },
  {
   "cell_type": "markdown",
   "id": "8078b923",
   "metadata": {},
   "source": [
    "Find the eigenvalues produced by a particular choice of gain matrix."
   ]
  },
  {
   "cell_type": "code",
   "execution_count": null,
   "id": "ff20d820",
   "metadata": {},
   "outputs": [],
   "source": [
    "# Gain matrix\n",
    "K = np.array([[5., 5., 1., 1.]])\n",
    "\n",
    "# Eigenvalues\n",
    "print(linalg.eigvals(A - B @ K))"
   ]
  },
  {
   "cell_type": "markdown",
   "id": "e57e8abf",
   "metadata": {},
   "source": [
    "Find the eigenvalues produced by a different choice of gain matrix."
   ]
  },
  {
   "cell_type": "code",
   "execution_count": null,
   "id": "f3c54d59",
   "metadata": {},
   "outputs": [],
   "source": [
    "# Gain matrix\n",
    "K = np.array([[1., 10., 2., 3.]])\n",
    "\n",
    "# Eigenvalues\n",
    "print(linalg.eigvals(A - B @ K))"
   ]
  }
 ],
 "metadata": {
  "kernelspec": {
   "display_name": "Python 3 (ipykernel)",
   "language": "python",
   "name": "python3"
  },
  "language_info": {
   "codemirror_mode": {
    "name": "ipython",
    "version": 3
   },
   "file_extension": ".py",
   "mimetype": "text/x-python",
   "name": "python",
   "nbconvert_exporter": "python",
   "pygments_lexer": "ipython3",
   "version": "3.11.0"
  }
 },
 "nbformat": 4,
 "nbformat_minor": 5
}
