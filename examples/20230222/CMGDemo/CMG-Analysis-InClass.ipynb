{
 "cells": [
  {
   "cell_type": "code",
   "execution_count": 1,
   "id": "eefd5cf9",
   "metadata": {},
   "outputs": [],
   "source": [
    "import sympy as sym\n",
    "import numpy as np\n",
    "from scipy import linalg\n",
    "from scipy import signal\n",
    "\n",
    "# Suppress the use of scientific notation when printing small numbers\n",
    "np.set_printoptions(suppress=True)"
   ]
  },
  {
   "cell_type": "markdown",
   "id": "occasional-george",
   "metadata": {},
   "source": [
    "# Derive equations of motion"
   ]
  },
  {
   "cell_type": "markdown",
   "id": "delayed-central",
   "metadata": {},
   "source": [
    "The `sympy.physics.mechanics` module makes it easier to work with (and display) time derivatives."
   ]
  },
  {
   "cell_type": "code",
   "execution_count": 2,
   "id": "dressed-frank",
   "metadata": {},
   "outputs": [],
   "source": [
    "from sympy.physics import mechanics\n",
    "mechanics.init_vprinting()"
   ]
  },
  {
   "cell_type": "markdown",
   "id": "greater-weekend",
   "metadata": {},
   "source": [
    "Define parameters in symbolic form."
   ]
  },
  {
   "cell_type": "code",
   "execution_count": 3,
   "id": "aa1f1399",
   "metadata": {},
   "outputs": [],
   "source": [
    "# Principal moments of inertia\n",
    "J_1x, J_1y, J_1z = sym.symbols('J_1x, J_1y, J_1z')\n",
    "J_2x, J_2y, J_2z = sym.symbols('J_2x, J_2y, J_2z')\n",
    "J_3x, J_3y, J_3z = sym.symbols('J_3x, J_3y, J_3z')\n",
    "\n",
    "# Moment of inertia matrices in body-fixed reference frames\n",
    "J1 = sym.Matrix.diag(J_1x, J_1y, J_1z)\n",
    "J2 = sym.Matrix.diag(J_2x, J_2y, J_2z)\n",
    "J3 = sym.Matrix.diag(J_3x, J_3y, J_3z)\n",
    "\n",
    "# Spar length\n",
    "r = sym.symbols('r')\n",
    "\n",
    "# Load mass\n",
    "m = sym.symbols('m')\n",
    "\n",
    "# Acceleration of gravity\n",
    "g = sym.symbols('g')"
   ]
  },
  {
   "cell_type": "markdown",
   "id": "mental-mileage",
   "metadata": {},
   "source": [
    "Define variables."
   ]
  },
  {
   "cell_type": "code",
   "execution_count": 4,
   "id": "ordered-extra",
   "metadata": {},
   "outputs": [],
   "source": [
    "# Time\n",
    "t = sym.Symbol('t')\n",
    "\n",
    "# Joint angles:\n",
    "q1, q2, q3 = mechanics.dynamicsymbols('q1, q2, q3')\n",
    "\n",
    "# Joint velocities\n",
    "v1 = q1.diff(t)\n",
    "v2 = q2.diff(t)\n",
    "v3 = q3.diff(t)\n",
    "\n",
    "# Joint accelerations\n",
    "a1 = v1.diff(t)\n",
    "a2 = v2.diff(t)\n",
    "a3 = v3.diff(t)\n",
    "\n",
    "# Torques:\n",
    "tau2, tau3 = sym.symbols('tau2, tau3')"
   ]
  },
  {
   "cell_type": "markdown",
   "id": "distant-roman",
   "metadata": {},
   "source": [
    "Compute angular velocity of each link with respect to body-fixed reference frames (the choice of frame is very important - using a space-fixed reference frame is a common mistake)."
   ]
  },
  {
   "cell_type": "code",
   "execution_count": 5,
   "id": "rental-adapter",
   "metadata": {},
   "outputs": [
    {
     "data": {
      "image/png": "[encoded data removed]",
      "text/latex": [
       "$\\displaystyle \\left( \\left[\\begin{matrix}0\\\\0\\\\\\dot{q}_{1}\\end{matrix}\\right], \\  \\left[\\begin{matrix}\\dot{q}_{2}\\\\0\\\\\\dot{q}_{1}\\end{matrix}\\right], \\  \\left[\\begin{matrix}\\dot{q}_{2}\\\\\\sin{\\left(q_{2} \\right)} \\dot{q}_{1} - \\dot{q}_{3}\\\\\\cos{\\left(q_{2} \\right)} \\dot{q}_{1}\\end{matrix}\\right]\\right)$"
      ],
      "text/plain": [
       "⎛⎡0 ⎤  ⎡q₂̇⎤  ⎡      q₂̇       ⎤⎞\n",
       "⎜⎢  ⎥  ⎢  ⎥  ⎢               ⎥⎟\n",
       "⎜⎢0 ⎥, ⎢0 ⎥, ⎢sin(q₂)⋅q₁̇ - q₃̇⎥⎟\n",
       "⎜⎢  ⎥  ⎢  ⎥  ⎢               ⎥⎟\n",
       "⎝⎣q₁̇⎦  ⎣q₁̇⎦  ⎣  cos(q₂)⋅q₁̇   ⎦⎠"
      ]
     },
     "execution_count": 5,
     "metadata": {},
     "output_type": "execute_result"
    }
   ],
   "source": [
    "c1 = sym.cos(q1)\n",
    "s1 = sym.sin(q1)\n",
    "R_p_in_w = sym.Matrix([[c1, -s1, 0], [s1, c1, 0], [0, 0, 1]])\n",
    "\n",
    "c2 = sym.cos(q2)\n",
    "s2 = sym.sin(q2)\n",
    "R_g_in_p = sym.Matrix([[1, 0, 0], [0, c2, -s2], [0, s2, c2]])\n",
    "\n",
    "w1 = sym.Matrix([[0], [0], [v1]])\n",
    "w2 = R_p_in_w.T * w1 + sym.Matrix([[v2], [0], [0]])\n",
    "w3 = R_g_in_p.T * w2 + sym.Matrix([[0], [-v3], [0]])\n",
    "\n",
    "# Show result\n",
    "w1, w2, w3"
   ]
  },
  {
   "cell_type": "markdown",
   "id": "eff8de8e",
   "metadata": {},
   "source": [
    "Compute position and velocity of load mass."
   ]
  },
  {
   "cell_type": "code",
   "execution_count": 6,
   "id": "aaac2a0f",
   "metadata": {},
   "outputs": [
    {
     "data": {
      "image/png": "[encoded data removed]",
      "text/latex": [
       "$\\displaystyle \\left( \\left[\\begin{matrix}- r \\cos{\\left(q_{1} \\right)}\\\\- r \\sin{\\left(q_{1} \\right)}\\\\0\\end{matrix}\\right], \\  \\left[\\begin{matrix}r \\sin{\\left(q_{1} \\right)} \\dot{q}_{1}\\\\- r \\cos{\\left(q_{1} \\right)} \\dot{q}_{1}\\\\0\\end{matrix}\\right]\\right)$"
      ],
      "text/plain": [
       "⎛⎡-r⋅cos(q₁)⎤  ⎡r⋅sin(q₁)⋅q₁̇ ⎤⎞\n",
       "⎜⎢          ⎥  ⎢             ⎥⎟\n",
       "⎜⎢-r⋅sin(q₁)⎥, ⎢-r⋅cos(q₁)⋅q₁̇⎥⎟\n",
       "⎜⎢          ⎥  ⎢             ⎥⎟\n",
       "⎝⎣    0     ⎦  ⎣      0      ⎦⎠"
      ]
     },
     "execution_count": 6,
     "metadata": {},
     "output_type": "execute_result"
    }
   ],
   "source": [
    "p = R_p_in_w * sym.Matrix([-r, 0, 0])\n",
    "v = p.diff(t)\n",
    "\n",
    "# Show result\n",
    "p, v"
   ]
  },
  {
   "cell_type": "markdown",
   "id": "antique-climb",
   "metadata": {},
   "source": [
    "Compute Lagrangian."
   ]
  },
  {
   "cell_type": "code",
   "execution_count": 7,
   "id": "tutorial-cleaning",
   "metadata": {},
   "outputs": [
    {
     "data": {
      "image/png": "[encoded data removed]",
      "text/latex": [
       "$\\displaystyle \\left[\\begin{matrix}\\frac{J_{1z} \\dot{q}_{1}^{2}}{2} + \\frac{J_{2x} \\dot{q}_{2}^{2}}{2} + \\frac{J_{2z} \\dot{q}_{1}^{2}}{2} + \\frac{J_{3x} \\dot{q}_{2}^{2}}{2} + \\frac{J_{3y} \\sin^{2}{\\left(q_{2} \\right)} \\dot{q}_{1}^{2}}{2} - J_{3y} \\sin{\\left(q_{2} \\right)} \\dot{q}_{1} \\dot{q}_{3} + \\frac{J_{3y} \\dot{q}_{3}^{2}}{2} - \\frac{J_{3z} \\sin^{2}{\\left(q_{2} \\right)} \\dot{q}_{1}^{2}}{2} + \\frac{J_{3z} \\dot{q}_{1}^{2}}{2} + g m r \\cos{\\left(q_{1} \\right)} + \\frac{m r^{2} \\dot{q}_{1}^{2}}{2}\\end{matrix}\\right]$"
      ],
      "text/plain": [
       "⎡       2         2          2         2           2       2                               2           2       2          2                      2   2⎤\n",
       "⎢J_1z⋅q₁̇    J₂ₓ⋅q₂̇    J_2z⋅q₁̇    J₃ₓ⋅q₂̇    J_3y⋅sin (q₂)⋅q₁̇                         J_3y⋅q₃̇    J_3z⋅sin (q₂)⋅q₁̇    J_3z⋅q₁̇                    m⋅r ⋅q₁̇ ⎥\n",
       "⎢──────── + ─────── + ──────── + ─────── + ───────────────── - J_3y⋅sin(q₂)⋅q₁̇⋅q₃̇ + ──────── - ───────────────── + ──────── + g⋅m⋅r⋅cos(q₁) + ────────⎥\n",
       "⎣   2          2         2          2              2                                   2               2              2                          2    ⎦"
      ]
     },
     "execution_count": 7,
     "metadata": {},
     "output_type": "execute_result"
    }
   ],
   "source": [
    "T = ((w1.T * J1 * w1) + (w2.T * J2 * w2) + (w3.T * J3 * w3) + (v.T * m * v)) / 2\n",
    "V = m * g * (sym.Matrix([1, 0, 0]).T * p)\n",
    "L = sym.simplify(T - V)\n",
    "\n",
    "# Show result\n",
    "L"
   ]
  },
  {
   "cell_type": "markdown",
   "id": "distinguished-poultry",
   "metadata": {},
   "source": [
    "Compute equations of motion."
   ]
  },
  {
   "cell_type": "code",
   "execution_count": 8,
   "id": "crude-acquisition",
   "metadata": {},
   "outputs": [],
   "source": [
    "EOM = L.jacobian([v1, v2, v3]).diff(t) - L.jacobian([q1, q2, q3]) - sym.Matrix([0, tau2, tau3]).T"
   ]
  },
  {
   "cell_type": "markdown",
   "id": "meaning-disposal",
   "metadata": {},
   "source": [
    "Simplify equations of motion by solving for accelerations."
   ]
  },
  {
   "cell_type": "code",
   "execution_count": 9,
   "id": "usual-oliver",
   "metadata": {},
   "outputs": [],
   "source": [
    "sol = sym.solve(EOM, [a1, a2, a3])\n",
    "h = sym.together(sym.simplify(sym.Matrix([sol[a1], sol[a2], sol[a3]]), full=True))"
   ]
  },
  {
   "cell_type": "markdown",
   "id": "46fcb948",
   "metadata": {},
   "source": [
    "Assume $\\tau_3=0$ and look only at the equations of motion that govern the platform and the gimbal:"
   ]
  },
  {
   "cell_type": "code",
   "execution_count": 10,
   "id": "4adb0509",
   "metadata": {},
   "outputs": [],
   "source": [
    "h = h[0:2, 0].subs(tau3, 0)"
   ]
  },
  {
   "cell_type": "markdown",
   "id": "bc4b6686",
   "metadata": {},
   "source": [
    "Display the vector-valued function $h$ for which the equations of motion can be written as\n",
    "\n",
    "$$\\begin{bmatrix} \\ddot{q}_1 \\\\ \\ddot{q}_2 \\end{bmatrix} = h(q_1, q_2, \\dot{q}_1, \\dot{q}_2, \\tau_2)$$\n",
    "\n",
    "where everything else (mass and inertial parameters, spar length, acceleration of gravity, and rotor velocity $\\dot{q}_3$) is assumed constant."
   ]
  },
  {
   "cell_type": "code",
   "execution_count": 11,
   "id": "3b479b59",
   "metadata": {},
   "outputs": [
    {
     "data": {
      "image/png": "[encoded data removed]",
      "text/latex": [
       "$\\displaystyle \\left[\\begin{matrix}\\frac{- J_{3y} \\sin{\\left(2 q_{2} \\right)} \\dot{q}_{1} \\dot{q}_{2} + 2 J_{3y} \\cos{\\left(q_{2} \\right)} \\dot{q}_{2} \\dot{q}_{3} + 2 J_{3z} \\sin{\\left(2 q_{2} \\right)} \\dot{q}_{1} \\dot{q}_{2} - 2 g m r \\sin{\\left(q_{1} \\right)}}{2 \\left(J_{1z} + J_{2z} + J_{3z} \\cos^{2}{\\left(q_{2} \\right)} + m r^{2}\\right)}\\\\\\frac{J_{3y} \\sin{\\left(2 q_{2} \\right)} \\dot{q}_{1}^{2} - 2 J_{3y} \\cos{\\left(q_{2} \\right)} \\dot{q}_{1} \\dot{q}_{3} - J_{3z} \\sin{\\left(2 q_{2} \\right)} \\dot{q}_{1}^{2} + 2 \\tau_{2}}{2 \\left(J_{2x} + J_{3x}\\right)}\\end{matrix}\\right]$"
      ],
      "text/plain": [
       "⎡-J_3y⋅sin(2⋅q₂)⋅q₁̇⋅q₂̇ + 2⋅J_3y⋅cos(q₂)⋅q₂̇⋅q₃̇ + 2⋅J_3z⋅sin(2⋅q₂)⋅q₁̇⋅q₂̇ - 2⋅g⋅m⋅r⋅sin(q₁)⎤\n",
       "⎢───────────────────────────────────────────────────────────────────────────────────────⎥\n",
       "⎢                           ⎛                      2          2⎞                        ⎥\n",
       "⎢                         2⋅⎝J_1z + J_2z + J_3z⋅cos (q₂) + m⋅r ⎠                        ⎥\n",
       "⎢                                                                                       ⎥\n",
       "⎢                          2                                           2                ⎥\n",
       "⎢         J_3y⋅sin(2⋅q₂)⋅q₁̇  - 2⋅J_3y⋅cos(q₂)⋅q₁̇⋅q₃̇ - J_3z⋅sin(2⋅q₂)⋅q₁̇  + 2⋅τ₂         ⎥\n",
       "⎢         ─────────────────────────────────────────────────────────────────────         ⎥\n",
       "⎣                                     2⋅(J₂ₓ + J₃ₓ)                                     ⎦"
      ]
     },
     "execution_count": 11,
     "metadata": {},
     "output_type": "execute_result"
    }
   ],
   "source": [
    "h"
   ]
  },
  {
   "cell_type": "markdown",
   "id": "ab27babb",
   "metadata": {},
   "source": [
    "Put EOMs in standard form."
   ]
  },
  {
   "cell_type": "code",
   "execution_count": 12,
   "id": "258b7c89",
   "metadata": {},
   "outputs": [],
   "source": [
    "# Standard form\n",
    "f_symparams = sym.Matrix.vstack(sym.Matrix([v1, v2]), h)\n",
    "\n",
    "# Standard form without dynamic symbols\n",
    "qq1, qq2, vv1, vv2, v_rotor = sym.symbols('qq1, qq2, vv1, vv2, v_rotor')\n",
    "f_symparams = mechanics.msubs(f_symparams, {\n",
    "    q1: qq1,\n",
    "    q2: qq2,\n",
    "    v1: vv1,\n",
    "    v2: vv2,\n",
    "    v3: v_rotor,\n",
    "})\n",
    "q1, q2, v1, v2 = sym.symbols('q1, q2, v1, v2')\n",
    "f_symparams = f_symparams.subs([\n",
    "    (qq1, q1),\n",
    "    (qq2, q2),\n",
    "    (vv1, v1),\n",
    "    (vv2, v2),\n",
    "])"
   ]
  },
  {
   "cell_type": "markdown",
   "id": "9f3a6ec7",
   "metadata": {},
   "source": [
    "Plug in constants and convert floating-point to rational numbers."
   ]
  },
  {
   "cell_type": "code",
   "execution_count": 13,
   "id": "8a6b260c",
   "metadata": {},
   "outputs": [
    {
     "data": {
      "image/png": "[encoded data removed]",
      "text/latex": [
       "$\\displaystyle \\left[\\begin{matrix}v_{1}\\\\v_{2}\\\\\\frac{5 \\left(v_{1} v_{2} \\sin{\\left(2 q_{2} \\right)} + 1000 v_{2} \\cos{\\left(q_{2} \\right)} - 3924 \\sin{\\left(q_{1} \\right)}\\right)}{10 \\cos^{2}{\\left(q_{2} \\right)} + 4501}\\\\\\frac{909090909090909 \\tau_{2}}{10000000000000} - \\frac{90909090909091 v_{1} \\cos{\\left(q_{2} \\right)}}{200000000000}\\end{matrix}\\right]$"
      ],
      "text/plain": [
       "⎡                         v₁                         ⎤\n",
       "⎢                                                    ⎥\n",
       "⎢                         v₂                         ⎥\n",
       "⎢                                                    ⎥\n",
       "⎢5⋅(v₁⋅v₂⋅sin(2⋅q₂) + 1000⋅v₂⋅cos(q₂) - 3924⋅sin(q₁))⎥\n",
       "⎢────────────────────────────────────────────────────⎥\n",
       "⎢                       2                            ⎥\n",
       "⎢                 10⋅cos (q₂) + 4501                 ⎥\n",
       "⎢                                                    ⎥\n",
       "⎢   909090909090909⋅τ₂   90909090909091⋅v₁⋅cos(q₂)   ⎥\n",
       "⎢   ────────────────── - ─────────────────────────   ⎥\n",
       "⎣     10000000000000            200000000000         ⎦"
      ]
     },
     "metadata": {},
     "output_type": "display_data"
    }
   ],
   "source": [
    "f = sym.simplify(sym.nsimplify(f_symparams.subs([\n",
    "    (J_1z, 0.5),\n",
    "    (J_2x, 0.001),\n",
    "    (J_2z, 0.001),\n",
    "    (J_3x, 0.01),\n",
    "    (J_3y, 0.01),\n",
    "    (J_3z, 0.01),\n",
    "    (m, 1.),\n",
    "    (r, 2.),\n",
    "    (g, 9.81),\n",
    "    (v_rotor, 500.),\n",
    "]), rational=True))\n",
    "\n",
    "display(f)"
   ]
  },
  {
   "cell_type": "markdown",
   "id": "c20d8505",
   "metadata": {},
   "source": [
    "# Derive a state-space model"
   ]
  },
  {
   "cell_type": "markdown",
   "id": "cceaff15",
   "metadata": {},
   "source": [
    "Choose an equilibrium point."
   ]
  },
  {
   "cell_type": "code",
   "execution_count": 27,
   "id": "f5b6f436",
   "metadata": {},
   "outputs": [
    {
     "name": "stdout",
     "output_type": "stream",
     "text": [
      "Valid equilibrium point.\n"
     ]
    }
   ],
   "source": [
    "q1e = np.pi\n",
    "q2e = np.pi / 2\n",
    "v1e = 0.\n",
    "v2e = 0.\n",
    "tau2e = 0.\n",
    "\n",
    "# Verify that this is actually an equilibrium point\n",
    "f_num = sym.lambdify([q1, q2, v1, v2, tau2], f)\n",
    "if np.allclose(f_num(q1e, q2e, v1e, v2e, tau2e), 0.):\n",
    "    print('Valid equilibrium point.')\n",
    "else:\n",
    "    print('INVALID EQUILIBRIUM POINT!')"
   ]
  },
  {
   "cell_type": "markdown",
   "id": "d32f7bee",
   "metadata": {},
   "source": [
    "Find $A$ and $B$."
   ]
  },
  {
   "cell_type": "code",
   "execution_count": 28,
   "id": "bf0aa55e",
   "metadata": {},
   "outputs": [
    {
     "name": "stdout",
     "output_type": "stream",
     "text": [
      "A =\n",
      "[[ 0.          0.          1.          0.        ]\n",
      " [ 0.          0.          0.          1.        ]\n",
      " [ 4.35903133 -0.          0.          0.        ]\n",
      " [ 0.          0.         -0.          0.        ]]\n",
      "\n",
      "B =\n",
      "[[ 0.        ]\n",
      " [ 0.        ]\n",
      " [ 0.        ]\n",
      " [90.90909091]]\n"
     ]
    }
   ],
   "source": [
    "# Find A and B in symbolic form\n",
    "A_sym = f.jacobian([q1, q2, v1, v2])\n",
    "B_sym = f.jacobian([tau2])\n",
    "\n",
    "# Create lambda functions to allow numerical evaluation of A and B\n",
    "A_num = sym.lambdify([q1, q2, v1, v2, tau2], A_sym)\n",
    "B_num = sym.lambdify([q1, q2, v1, v2, tau2], B_sym)\n",
    "\n",
    "# Find A and B in numeric form (making sure the result is floating-point)\n",
    "A = A_num(q1e, q2e, v1e, v2e, tau2e).astype(float)\n",
    "B = B_num(q1e, q2e, v1e, v2e, tau2e).astype(float)\n",
    "\n",
    "# Show result\n",
    "print(f'A =\\n{A}\\n\\nB =\\n{B}')"
   ]
  },
  {
   "cell_type": "markdown",
   "id": "09feb8eb",
   "metadata": {},
   "source": [
    "# Check if the state-space model is controllable"
   ]
  },
  {
   "cell_type": "markdown",
   "id": "de6d5618",
   "metadata": {},
   "source": [
    "Find controllability matrix."
   ]
  },
  {
   "cell_type": "code",
   "execution_count": 29,
   "id": "83f4ff0f",
   "metadata": {},
   "outputs": [
    {
     "name": "stdout",
     "output_type": "stream",
     "text": [
      "[[ 0.          0.          0.         -0.        ]\n",
      " [ 0.         90.90909091  0.         -0.        ]\n",
      " [ 0.          0.         -0.          0.        ]\n",
      " [90.90909091  0.         -0.          0.        ]]\n"
     ]
    }
   ],
   "source": [
    "W = np.block([B, A @ B, A @ A @ B, A @ A @ A @ B])\n",
    "print(W)"
   ]
  },
  {
   "cell_type": "markdown",
   "id": "13f0b94d",
   "metadata": {},
   "source": [
    "Find determinant of controllability matrix."
   ]
  },
  {
   "cell_type": "code",
   "execution_count": 30,
   "id": "7c7cc0fd",
   "metadata": {},
   "outputs": [
    {
     "data": {
      "image/png": "[encoded data removed]",
      "text/latex": [
       "$\\displaystyle 1.37753595884286 \\cdot 10^{-24}$"
      ],
      "text/plain": [
       "1.3775359588428593e-24"
      ]
     },
     "execution_count": 30,
     "metadata": {},
     "output_type": "execute_result"
    }
   ],
   "source": [
    "np.linalg.det(W)"
   ]
  },
  {
   "cell_type": "markdown",
   "id": "53e0250c",
   "metadata": {},
   "source": [
    "Find rank of controllability matrix."
   ]
  },
  {
   "cell_type": "code",
   "execution_count": 31,
   "id": "a6cc38af",
   "metadata": {},
   "outputs": [
    {
     "data": {
      "text/plain": [
       "2"
      ]
     },
     "execution_count": 31,
     "metadata": {},
     "output_type": "execute_result"
    }
   ],
   "source": [
    "np.linalg.matrix_rank(W)"
   ]
  },
  {
   "cell_type": "markdown",
   "id": "d2a0c47f",
   "metadata": {},
   "source": [
    "Find condition number of controllability matrix (i.e., the ratio of the largest singular value to the smallest singular value)."
   ]
  },
  {
   "cell_type": "code",
   "execution_count": null,
   "id": "41063907",
   "metadata": {},
   "outputs": [],
   "source": []
  },
  {
   "cell_type": "markdown",
   "id": "6cba16ec",
   "metadata": {},
   "source": [
    "# Do control design by eigenvalue placement"
   ]
  },
  {
   "cell_type": "markdown",
   "id": "5f95b76f",
   "metadata": {},
   "source": [
    "Choose desired eigenvalue locations."
   ]
  },
  {
   "cell_type": "code",
   "execution_count": 32,
   "id": "241374db",
   "metadata": {},
   "outputs": [],
   "source": [
    "p = [-2., -3., -4., -5.]"
   ]
  },
  {
   "cell_type": "markdown",
   "id": "b2d6d191",
   "metadata": {},
   "source": [
    "Find gain matrix by eigenvalue placement."
   ]
  },
  {
   "cell_type": "code",
   "execution_count": 33,
   "id": "6e1cc0ac",
   "metadata": {},
   "outputs": [
    {
     "name": "stdout",
     "output_type": "stream",
     "text": [
      "K = \n",
      "[[-8.04002667e+13  1.07155071e-01 -9.00340649e+13  7.07887678e-02]]\n"
     ]
    }
   ],
   "source": [
    "K = signal.place_poles(A, B, p).gain_matrix\n",
    "print(f'K = \\n{K}')"
   ]
  },
  {
   "cell_type": "code",
   "execution_count": null,
   "id": "8ec0644d",
   "metadata": {},
   "outputs": [],
   "source": [
    "K"
   ]
  },
  {
   "cell_type": "markdown",
   "id": "1ccba893",
   "metadata": {},
   "source": [
    "Check that eigenvalues are in the right location."
   ]
  },
  {
   "cell_type": "code",
   "execution_count": 34,
   "id": "0eca71ec",
   "metadata": {},
   "outputs": [
    {
     "name": "stdout",
     "output_type": "stream",
     "text": [
      "[ 2.11813416+0.j         -2.1227293 +0.38407448j -2.1227293 -0.38407448j\n",
      " -4.30801809+0.j        ]\n"
     ]
    }
   ],
   "source": [
    "print(linalg.eigvals(A - B @ K))"
   ]
  },
  {
   "cell_type": "markdown",
   "id": "a043d93b",
   "metadata": {},
   "source": [
    "# If a system is not controllable, are we completely out of luck?"
   ]
  },
  {
   "cell_type": "markdown",
   "id": "8078b923",
   "metadata": {},
   "source": [
    "Find the eigenvalues produced by a particular choice of gain matrix."
   ]
  },
  {
   "cell_type": "code",
   "execution_count": null,
   "id": "ff20d820",
   "metadata": {},
   "outputs": [],
   "source": [
    "# Gain matrix\n",
    "K = np.array([[5., 5., 1., 1.]])\n",
    "\n",
    "# Eigenvalues\n",
    "print(linalg.eigvals(A - B @ K))"
   ]
  },
  {
   "cell_type": "markdown",
   "id": "e57e8abf",
   "metadata": {},
   "source": [
    "Find the eigenvalues produced by a different choice of gain matrix."
   ]
  },
  {
   "cell_type": "code",
   "execution_count": null,
   "id": "f3c54d59",
   "metadata": {},
   "outputs": [],
   "source": [
    "# Gain matrix\n",
    "K = np.array([[1., 10., 2., 3.]])\n",
    "\n",
    "# Eigenvalues\n",
    "print(linalg.eigvals(A - B @ K))"
   ]
  }
 ],
 "metadata": {
  "kernelspec": {
   "display_name": "Python 3 (ipykernel)",
   "language": "python",
   "name": "python3"
  },
  "language_info": {
   "codemirror_mode": {
    "name": "ipython",
    "version": 3
   },
   "file_extension": ".py",
   "mimetype": "text/x-python",
   "name": "python",
   "nbconvert_exporter": "python",
   "pygments_lexer": "ipython3",
   "version": "3.11.0"
  }
 },
 "nbformat": 4,
 "nbformat_minor": 5
}
