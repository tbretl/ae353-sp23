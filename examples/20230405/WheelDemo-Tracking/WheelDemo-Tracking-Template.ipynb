{
 "cells": [
  {
   "cell_type": "markdown",
   "id": "25f3bc3e",
   "metadata": {},
   "source": [
    "# Demo: Control of wheel angle with tracking"
   ]
  },
  {
   "cell_type": "markdown",
   "id": "working-minority",
   "metadata": {},
   "source": [
    "#### Import modules and configure the notebook"
   ]
  },
  {
   "cell_type": "code",
   "execution_count": null,
   "id": "dimensional-contamination",
   "metadata": {},
   "outputs": [],
   "source": [
    "# These are standard modules\n",
    "import time\n",
    "import numpy as np\n",
    "import sympy as sym\n",
    "from scipy.signal import place_poles\n",
    "from scipy import linalg\n",
    "from scipy import signal\n",
    "import matplotlib.pyplot as plt\n",
    "from IPython.display import display, Latex, Markdown\n",
    "\n",
    "# This is a custom interface to the pybullet simulator\n",
    "import ae353_wheel_tracking\n",
    "\n",
    "# Suppress the use of scientific notation when printing small numbers\n",
    "np.set_printoptions(suppress=True)"
   ]
  },
  {
   "cell_type": "markdown",
   "id": "f3e9a663",
   "metadata": {},
   "source": [
    "#### Choose parameter values"
   ]
  },
  {
   "cell_type": "markdown",
   "id": "2ab48494",
   "metadata": {},
   "source": [
    "The equation of motion is\n",
    "\n",
    "$$c_1 \\ddot{q} = \\tau - (c_2 \\sin \\phi) \\sin q$$\n",
    "\n",
    "where\n",
    "\n",
    "* $q$ is the wheel angle\n",
    "* $\\tau$ is the wheel torque, i.e., the torque applied to the wheel by a motor on the ground\n",
    "* $\\phi$ is the \"roll angle\" of the ground with respect to horizontal\n",
    "\n",
    "and where the values of $c_1$ and $c_2$ are given as follows:"
   ]
  },
  {
   "cell_type": "code",
   "execution_count": null,
   "id": "2680ee94",
   "metadata": {},
   "outputs": [],
   "source": [
    "# Values of c1 and c2 for the example (do not change)\n",
    "c1 = 1.0\n",
    "c2 = 2.0\n",
    "\n",
    "# Values of other parameters that are given\n",
    "g = 9.81 # <-- acceleration of gravity\n",
    "r = 0.35 # <-- distance from wheel axis to marker (i.e., to the mass)\n",
    "\n",
    "# Values of other parameters that correspond to the coefficients c1 and c2 that we chose\n",
    "m = c2 / (g * r)   # <-- set in code\n",
    "J = c1 - m * r**2  # <-- set in URDF\n",
    "print(f'm = {m}\\nJ = {J}')"
   ]
  },
  {
   "cell_type": "markdown",
   "id": "95f4f02c",
   "metadata": {},
   "source": [
    "#### Create simulator"
   ]
  },
  {
   "cell_type": "markdown",
   "id": "cbf2330b",
   "metadata": {},
   "source": [
    "Create an instance of the `Simulator` class with particular values of `roll` and `mass`."
   ]
  },
  {
   "cell_type": "code",
   "execution_count": null,
   "id": "ca539a71",
   "metadata": {},
   "outputs": [],
   "source": [
    "simulator = ae353_wheel_tracking.Simulator(\n",
    "    display=True,\n",
    "    roll=0.,\n",
    "    mass=m,\n",
    "    seed=None,\n",
    ")"
   ]
  },
  {
   "cell_type": "markdown",
   "id": "aa527e49",
   "metadata": {},
   "source": [
    "#### Define functions to plot results"
   ]
  },
  {
   "cell_type": "markdown",
   "id": "b99805f8",
   "metadata": {},
   "source": [
    "This function plots results in terms of nonlinear states and inputs."
   ]
  },
  {
   "cell_type": "code",
   "execution_count": null,
   "id": "f2ebcb7b",
   "metadata": {},
   "outputs": [],
   "source": [
    "def show_results(data, q_e, v_e, tau_e):\n",
    "    t = data['t']\n",
    "    q = data['wheel_angle']\n",
    "    v = data['wheel_velocity']\n",
    "    tau = data['wheel_torque']\n",
    "    tau_cmd = data['wheel_torque_command']\n",
    "    q_meas = data['measured_wheel_angle']\n",
    "    q_des = data['desired_wheel_angle']\n",
    "    xhat = data['xhat']\n",
    "    q_est = xhat[:, 0] + q_e\n",
    "    v_est = xhat[:, 1] + v_e\n",
    "\n",
    "    fig, (ax_q, ax_v, ax_tau) = plt.subplots(\n",
    "        3, 1, figsize=(10, 8), sharex=True,\n",
    "    )\n",
    "\n",
    "    ax_q.plot(t, q, label=r'$q$', linewidth=4)\n",
    "    ax_q.plot(t, q_est, '--', label=r'$q$ (estimated)', linewidth=4)\n",
    "    ax_q.plot(t, q_meas, '.', markersize=1, label=r'$q$ (measured)')\n",
    "    ax_q.plot(t, q_des, ':', label=r'$q$ (desired)')\n",
    "    ax_q.plot(t, q_e * np.ones_like(t), ':', label=r'$q_e$', linewidth=3, color='C3')\n",
    "    ax_v.plot(t, v, label=r'$v$', linewidth=4)\n",
    "    ax_v.plot(t, v_est, '--', label=r'$v$ (estimated)', linewidth=4)\n",
    "    ax_v.plot(t, v_e * np.ones_like(t), ':', label=r'$v_e$', linewidth=3, color='C3')\n",
    "    ax_tau.plot(t, tau, label=r'$\\tau$', linewidth=4)\n",
    "    ax_tau.plot(t, tau_cmd, '-.', label=r'$\\tau$ (command)', linewidth=3, color='C6')\n",
    "    tau_max = np.ones_like(t) * simulator.tau_max\n",
    "    ax_tau.plot(t, tau_max,\n",
    "                '--', label=r'$\\tau$ (max)', linewidth=2, color='C2', zorder=0)\n",
    "    ax_tau.plot(t, - tau_max,\n",
    "                '--', linewidth=2, color='C2', zorder=0)\n",
    "\n",
    "    ax_q.grid()\n",
    "    ax_q.legend(fontsize=14, ncol=4, loc='upper right')\n",
    "    ax_q.tick_params(labelsize=14)\n",
    "    ax_q.set_ylim(np.min(q_des) - 0.5, np.max(q_des) + 0.5)\n",
    "\n",
    "    ax_v.grid()\n",
    "    ax_v.legend(fontsize=14, ncol=3, loc='upper right')\n",
    "    ax_v.tick_params(labelsize=14)\n",
    "    ax_v.set_ylim(v_e - 1., v_e + 1.)\n",
    "\n",
    "    ax_tau.grid()\n",
    "    ax_tau.legend(fontsize=14, ncol=3, loc='upper right')\n",
    "    ax_tau.tick_params(labelsize=14)\n",
    "    ax_tau.set_ylim(-1.2 * simulator.tau_max, 1.2 * simulator.tau_max)\n",
    "\n",
    "    ax_tau.set_xlabel('time (s)', fontsize=14)\n",
    "    ax_tau.set_xlim([data['t'][0], data['t'][-1]])\n",
    "\n",
    "    fig.tight_layout()\n",
    "    plt.show()"
   ]
  },
  {
   "cell_type": "markdown",
   "id": "dd0dfb86",
   "metadata": {},
   "source": [
    "#### Implement controller and observer (with tracking)"
   ]
  },
  {
   "cell_type": "code",
   "execution_count": null,
   "id": "34ee43bd",
   "metadata": {},
   "outputs": [],
   "source": [
    "class Controller:\n",
    "    def __init__(self, A, B, C, K, L, q_e, v_e, tau_e, get_desired_wheel_angle):\n",
    "        self.A = A\n",
    "        self.B = B\n",
    "        self.C = C\n",
    "        self.K = K\n",
    "        self.L = L\n",
    "        self.q_e = q_e\n",
    "        self.v_e = v_e\n",
    "        self.tau_e = tau_e\n",
    "        \n",
    "        self.dt = 0.01\n",
    "        \n",
    "        self.get_desired_wheel_angle = get_desired_wheel_angle\n",
    "        \n",
    "        self.variables_to_log = ['xhat', 'desired_wheel_angle']\n",
    "    \n",
    "    def reset(self):\n",
    "        self.desired_wheel_angle = self.get_desired_wheel_angle(0.)\n",
    "        \n",
    "        self.xhat = np.array([\n",
    "            self.desired_wheel_angle - self.q_e,\n",
    "            0.,\n",
    "        ])\n",
    "    \n",
    "    def run(self, t, measured_wheel_angle):\n",
    "        \"\"\"\n",
    "        INPUTS\n",
    "         t = current time (s)\n",
    "         measured_wheel_angle = measured angle of wheel from sensors (rad)\n",
    "         \n",
    "        OUTPUTS\n",
    "         wheel_torque = torque applied to wheel by motor on ground (N m)\n",
    "        \"\"\"\n",
    "        \n",
    "        # Get desired wheel angle\n",
    "        self.desired_wheel_angle = self.get_desired_wheel_angle(t)\n",
    "        \n",
    "        # Get desired state\n",
    "        xdes = np.array([\n",
    "            self.desired_wheel_angle - self.q_e,\n",
    "            0.,\n",
    "        ])\n",
    "        \n",
    "        # Get input\n",
    "        u = - self.K @ (self.xhat - xdes)\n",
    "        \n",
    "        # Get measured wheel angle (sensors)\n",
    "        q = measured_wheel_angle\n",
    "        \n",
    "        # Get output\n",
    "        y = np.array([\n",
    "            q - self.q_e,\n",
    "        ])\n",
    "        \n",
    "        # Get state estimate\n",
    "        self.xhat += self.dt * (\n",
    "            self.A @ self.xhat + self.B @ u - self.L @ (self.C @ self.xhat - y)\n",
    "        )\n",
    "        \n",
    "        # Get torque (actuators)\n",
    "        wheel_torque = u[0] + self.tau_e\n",
    "        \n",
    "        return wheel_torque"
   ]
  },
  {
   "cell_type": "markdown",
   "id": "789965cc",
   "metadata": {},
   "source": [
    "# Results without gravity"
   ]
  },
  {
   "cell_type": "markdown",
   "id": "83b77507",
   "metadata": {},
   "source": [
    "#### Set roll angle"
   ]
  },
  {
   "cell_type": "code",
   "execution_count": null,
   "id": "1b20a42a",
   "metadata": {},
   "outputs": [],
   "source": [
    "simulator.set_roll(0.)"
   ]
  },
  {
   "cell_type": "markdown",
   "id": "fee62e3d",
   "metadata": {},
   "source": [
    "#### Do control design"
   ]
  },
  {
   "cell_type": "markdown",
   "id": "bc693175",
   "metadata": {},
   "source": [
    "Derive state-space model."
   ]
  },
  {
   "cell_type": "code",
   "execution_count": null,
   "id": "b433bfd4",
   "metadata": {},
   "outputs": [],
   "source": [
    "# Define symbolic variables\n",
    "q, v, tau = sym.symbols('q, v, tau')\n",
    "\n",
    "# Define ODEs\n",
    "f = sym.Matrix([\n",
    "    v,\n",
    "    tau / c1,\n",
    "])\n",
    "\n",
    "# Convert floats to rationals\n",
    "f = sym.nsimplify(f, rational=True)\n",
    "\n",
    "# Choose equilibrium point\n",
    "(q_e, v_e, tau_e) = (0., 0., 0.)\n",
    "\n",
    "# Linearize\n",
    "A_num = sym.lambdify([q, v, tau], f.jacobian([q, v]))\n",
    "A = A_num(q_e, v_e, tau_e).astype(float)\n",
    "B_num = sym.lambdify([q, v, tau], f.jacobian([tau]))\n",
    "B = B_num(q_e, v_e, tau_e).astype(float)\n",
    "\n",
    "# Show result\n",
    "print(f'A =\\n{A}\\n\\nB =\\n{B}')"
   ]
  },
  {
   "cell_type": "markdown",
   "id": "0831b993",
   "metadata": {},
   "source": [
    "Design controller by eigenvalue placement."
   ]
  },
  {
   "cell_type": "code",
   "execution_count": null,
   "id": "ff3ce026",
   "metadata": {},
   "outputs": [],
   "source": [
    "K = signal.place_poles(A, B, [-4., -5.]).gain_matrix\n",
    "print(f'K =\\n{K}')"
   ]
  },
  {
   "cell_type": "markdown",
   "id": "87866984",
   "metadata": {},
   "source": [
    "#### Do observer design"
   ]
  },
  {
   "cell_type": "markdown",
   "id": "81f63d46",
   "metadata": {},
   "source": [
    "Derive state-space model."
   ]
  },
  {
   "cell_type": "code",
   "execution_count": null,
   "id": "7178b267",
   "metadata": {},
   "outputs": [],
   "source": [
    "# Define nonlinear model\n",
    "g = sym.Matrix([q])\n",
    "\n",
    "# Convert floats to rationals\n",
    "g = sym.nsimplify(g, rational=True)\n",
    "\n",
    "# Linearize\n",
    "C_num = sym.lambdify([q, v, tau], g.jacobian([q, v]))\n",
    "C = C_num(q_e, v_e, tau_e).astype(float)\n",
    "D_num = sym.lambdify([q, v, tau], g.jacobian([tau]))\n",
    "D = D_num(q_e, v_e, tau_e).astype(float)\n",
    "\n",
    "# Show result\n",
    "print(f'C =\\n{C}\\n\\nD =\\n{D}')"
   ]
  },
  {
   "cell_type": "markdown",
   "id": "612431cd",
   "metadata": {},
   "source": [
    "Design observer by eigenvalue placement."
   ]
  },
  {
   "cell_type": "code",
   "execution_count": null,
   "id": "0e26b562",
   "metadata": {},
   "outputs": [],
   "source": [
    "L = signal.place_poles(A.T, C.T, [-6., -7.]).gain_matrix.T\n",
    "print(L)"
   ]
  },
  {
   "cell_type": "markdown",
   "id": "95c6ef80",
   "metadata": {},
   "source": [
    "Test controller with desired wheel angle of $q_\\text{des} = 0$."
   ]
  },
  {
   "cell_type": "code",
   "execution_count": null,
   "id": "3007e189",
   "metadata": {},
   "outputs": [],
   "source": [
    "# Define function to get desired wheel angle\n",
    "get_desired_wheel_angle = lambda t: 0.\n",
    "\n",
    "# Create controller\n",
    "controller = Controller(A, B, C, K, L, q_e, v_e, tau_e, get_desired_wheel_angle)\n",
    "\n",
    "# Choose initial conditions\n",
    "(q_i, v_i) = (get_desired_wheel_angle(0.) + 0.2, v_e)\n",
    "\n",
    "# Reset controller\n",
    "controller.reset()\n",
    "\n",
    "# Reset simulator\n",
    "simulator.reset(\n",
    "    wheel_angle=q_i,\n",
    "    wheel_velocity=v_i,\n",
    "    sensor_noise=0.01,\n",
    ")\n",
    "\n",
    "# Reset controller\n",
    "controller.reset()\n",
    "\n",
    "# Run simulator\n",
    "data = simulator.run(\n",
    "    controller,\n",
    "    max_time=5.0,\n",
    ")\n",
    "\n",
    "# Show results\n",
    "show_results(data, q_e, v_e, tau_e)"
   ]
  },
  {
   "cell_type": "markdown",
   "id": "f3db6ac9",
   "metadata": {},
   "source": [
    "Test controller with desired wheel angle of $q_\\text{des} = \\pi$."
   ]
  },
  {
   "cell_type": "code",
   "execution_count": null,
   "id": "46530dc0",
   "metadata": {},
   "outputs": [],
   "source": [
    "# Define function to get desired wheel angle\n",
    "get_desired_wheel_angle = lambda t: np.pi\n",
    "\n",
    "# Create controller\n",
    "controller = Controller(A, B, C, K, L, q_e, v_e, tau_e, get_desired_wheel_angle)\n",
    "\n",
    "# Choose initial conditions\n",
    "(q_i, v_i) = (get_desired_wheel_angle(0.) + 0.2, v_e)\n",
    "\n",
    "# Reset controller\n",
    "controller.reset()\n",
    "\n",
    "# Reset simulator\n",
    "simulator.reset(\n",
    "    wheel_angle=q_i,\n",
    "    wheel_velocity=v_i,\n",
    "    sensor_noise=0.01,\n",
    ")\n",
    "\n",
    "# Reset controller\n",
    "controller.reset()\n",
    "\n",
    "# Run simulator\n",
    "data = simulator.run(\n",
    "    controller,\n",
    "    max_time=5.0,\n",
    ")\n",
    "\n",
    "# Show results\n",
    "show_results(data, q_e, v_e, tau_e)"
   ]
  },
  {
   "cell_type": "markdown",
   "id": "a9a12b97",
   "metadata": {},
   "source": [
    "Test controller with desired wheel angle of\n",
    "\n",
    "$$q_\\text{des}(t) = (\\pi / 2) \\sin\\left((2\\pi / 20) t\\right).$$"
   ]
  },
  {
   "cell_type": "code",
   "execution_count": null,
   "id": "861de2a0",
   "metadata": {},
   "outputs": [],
   "source": [
    "# Define function to get desired wheel angle\n",
    "get_desired_wheel_angle = lambda t: (np.pi / 2) * np.sin((2 * np.pi / 20) * t)\n",
    "\n",
    "# Create controller\n",
    "controller = Controller(A, B, C, K, L, q_e, v_e, tau_e, get_desired_wheel_angle)\n",
    "\n",
    "# Choose initial conditions\n",
    "(q_i, v_i) = (get_desired_wheel_angle(0.) + 0.2, v_e)\n",
    "\n",
    "# Reset controller\n",
    "controller.reset()\n",
    "\n",
    "# Reset simulator\n",
    "simulator.reset(\n",
    "    wheel_angle=q_i,\n",
    "    wheel_velocity=v_i,\n",
    "    sensor_noise=0.01,\n",
    ")\n",
    "\n",
    "# Reset controller\n",
    "controller.reset()\n",
    "\n",
    "# Run simulator\n",
    "data = simulator.run(\n",
    "    controller,\n",
    "    max_time=20.0,\n",
    ")\n",
    "\n",
    "# Show results\n",
    "show_results(data, q_e, v_e, tau_e)"
   ]
  },
  {
   "cell_type": "markdown",
   "id": "c84bf361",
   "metadata": {},
   "source": [
    "# Results with gravity"
   ]
  },
  {
   "cell_type": "markdown",
   "id": "fe55415d",
   "metadata": {},
   "source": [
    "#### Set roll angle in simulator"
   ]
  },
  {
   "cell_type": "code",
   "execution_count": null,
   "id": "bc7dc943",
   "metadata": {},
   "outputs": [],
   "source": [
    "simulator.set_roll(np.pi / 2)"
   ]
  },
  {
   "cell_type": "markdown",
   "id": "703e8b56",
   "metadata": {},
   "source": [
    "#### Do control design"
   ]
  },
  {
   "cell_type": "markdown",
   "id": "a1c469ca",
   "metadata": {},
   "source": [
    "Derive state-space model."
   ]
  },
  {
   "cell_type": "code",
   "execution_count": null,
   "id": "03c35712",
   "metadata": {},
   "outputs": [],
   "source": [
    "# Define symbolic variables\n",
    "q, v, tau = sym.symbols('q, v, tau')\n",
    "\n",
    "# Define ODEs\n",
    "f = sym.Matrix([\n",
    "    v,\n",
    "    (tau - c2 * sym.sin(q)) / c1,\n",
    "])\n",
    "\n",
    "# Convert floats to rationals\n",
    "f = sym.nsimplify(f, rational=True)\n",
    "\n",
    "# Choose equilibrium point\n",
    "(q_e, v_e, tau_e) = (0., 0., 0.)\n",
    "\n",
    "# Linearize\n",
    "A_num = sym.lambdify([q, v, tau], f.jacobian([q, v]))\n",
    "A = A_num(q_e, v_e, tau_e).astype(float)\n",
    "B_num = sym.lambdify([q, v, tau], f.jacobian([tau]))\n",
    "B = B_num(q_e, v_e, tau_e).astype(float)\n",
    "\n",
    "# Show result\n",
    "print(f'A =\\n{A}\\n\\nB =\\n{B}')"
   ]
  },
  {
   "cell_type": "markdown",
   "id": "6d814837",
   "metadata": {},
   "source": [
    "Design controller by eigenvalue placement."
   ]
  },
  {
   "cell_type": "code",
   "execution_count": null,
   "id": "30fab5c0",
   "metadata": {},
   "outputs": [],
   "source": [
    "K = signal.place_poles(A, B, [-4., -5.]).gain_matrix\n",
    "print(f'K =\\n{K}')"
   ]
  },
  {
   "cell_type": "markdown",
   "id": "7288bfae",
   "metadata": {},
   "source": [
    "#### Do observer design"
   ]
  },
  {
   "cell_type": "markdown",
   "id": "56ce5702",
   "metadata": {},
   "source": [
    "Derive state-space model."
   ]
  },
  {
   "cell_type": "code",
   "execution_count": null,
   "id": "86f41457",
   "metadata": {},
   "outputs": [],
   "source": [
    "# Define nonlinear model\n",
    "g = sym.Matrix([q])\n",
    "\n",
    "# Convert floats to rationals\n",
    "g = sym.nsimplify(g, rational=True)\n",
    "\n",
    "# Linearize\n",
    "C_num = sym.lambdify([q, v, tau], g.jacobian([q, v]))\n",
    "C = C_num(q_e, v_e, tau_e).astype(float)\n",
    "D_num = sym.lambdify([q, v, tau], g.jacobian([tau]))\n",
    "D = D_num(q_e, v_e, tau_e).astype(float)\n",
    "\n",
    "# Show result\n",
    "print(f'C =\\n{C}\\n\\nD =\\n{D}')"
   ]
  },
  {
   "cell_type": "markdown",
   "id": "04f72caf",
   "metadata": {},
   "source": [
    "Design observer by eigenvalue placement."
   ]
  },
  {
   "cell_type": "code",
   "execution_count": null,
   "id": "ced8f08e",
   "metadata": {},
   "outputs": [],
   "source": [
    "L = signal.place_poles(A.T, C.T, [-6., -7.]).gain_matrix.T\n",
    "print(L)"
   ]
  },
  {
   "cell_type": "markdown",
   "id": "6d26d8bc",
   "metadata": {},
   "source": [
    "Test controller with desired wheel angle of $q_\\text{des} = 0$."
   ]
  },
  {
   "cell_type": "code",
   "execution_count": null,
   "id": "60fa6032",
   "metadata": {},
   "outputs": [],
   "source": [
    "# Define function to get desired wheel angle\n",
    "get_desired_wheel_angle = lambda t: 0.\n",
    "\n",
    "# Create controller\n",
    "controller = Controller(A, B, C, K, L, q_e, v_e, tau_e, get_desired_wheel_angle)\n",
    "\n",
    "# Choose initial conditions\n",
    "(q_i, v_i) = (get_desired_wheel_angle(0.) + 0.2, v_e)\n",
    "\n",
    "# Reset controller\n",
    "controller.reset()\n",
    "\n",
    "# Reset simulator\n",
    "simulator.reset(\n",
    "    wheel_angle=q_i,\n",
    "    wheel_velocity=v_i,\n",
    "    sensor_noise=0.01,\n",
    ")\n",
    "\n",
    "# Reset controller\n",
    "controller.reset()\n",
    "\n",
    "# Run simulator\n",
    "data = simulator.run(\n",
    "    controller,\n",
    "    max_time=5.0,\n",
    ")\n",
    "\n",
    "# Show results\n",
    "show_results(data, q_e, v_e, tau_e)"
   ]
  },
  {
   "cell_type": "markdown",
   "id": "68b263d4",
   "metadata": {},
   "source": [
    "Test controller with desired wheel angle of $q_\\text{des} = \\pi$."
   ]
  },
  {
   "cell_type": "code",
   "execution_count": null,
   "id": "8a6b8022",
   "metadata": {},
   "outputs": [],
   "source": [
    "# Define function to get desired wheel angle\n",
    "get_desired_wheel_angle = lambda t: np.pi\n",
    "\n",
    "# Create controller\n",
    "controller = Controller(A, B, C, K, L, q_e, v_e, tau_e, get_desired_wheel_angle)\n",
    "\n",
    "# Choose initial conditions\n",
    "(q_i, v_i) = (get_desired_wheel_angle(0.) + 0.2, v_e)\n",
    "\n",
    "# Reset controller\n",
    "controller.reset()\n",
    "\n",
    "# Reset simulator\n",
    "simulator.reset(\n",
    "    wheel_angle=q_i,\n",
    "    wheel_velocity=v_i,\n",
    "    sensor_noise=0.01,\n",
    ")\n",
    "\n",
    "# Reset controller\n",
    "controller.reset()\n",
    "\n",
    "# Run simulator\n",
    "data = simulator.run(\n",
    "    controller,\n",
    "    max_time=5.0,\n",
    ")\n",
    "\n",
    "# Show results\n",
    "show_results(data, q_e, v_e, tau_e)"
   ]
  },
  {
   "cell_type": "markdown",
   "id": "74d85a9e",
   "metadata": {},
   "source": [
    "# What was the difference between these two cases?"
   ]
  },
  {
   "cell_type": "code",
   "execution_count": null,
   "id": "0b831e4c",
   "metadata": {},
   "outputs": [],
   "source": []
  },
  {
   "cell_type": "code",
   "execution_count": null,
   "id": "ec8d5cd4",
   "metadata": {},
   "outputs": [],
   "source": []
  }
 ],
 "metadata": {
  "kernelspec": {
   "display_name": "Python 3 (ipykernel)",
   "language": "python",
   "name": "python3"
  },
  "language_info": {
   "codemirror_mode": {
    "name": "ipython",
    "version": 3
   },
   "file_extension": ".py",
   "mimetype": "text/x-python",
   "name": "python",
   "nbconvert_exporter": "python",
   "pygments_lexer": "ipython3",
   "version": "3.11.0"
  }
 },
 "nbformat": 4,
 "nbformat_minor": 5
}
