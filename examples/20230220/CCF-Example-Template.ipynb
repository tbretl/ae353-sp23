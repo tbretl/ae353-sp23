{
 "cells": [
  {
   "cell_type": "markdown",
   "id": "a7b0f1e5",
   "metadata": {},
   "source": [
    "Import modules."
   ]
  },
  {
   "cell_type": "code",
   "execution_count": null,
   "id": "05d52884",
   "metadata": {},
   "outputs": [],
   "source": [
    "import numpy as np\n",
    "import sympy as sym"
   ]
  },
  {
   "cell_type": "markdown",
   "id": "78acb4fd",
   "metadata": {},
   "source": [
    "Define symbols."
   ]
  },
  {
   "cell_type": "code",
   "execution_count": null,
   "id": "8968e087",
   "metadata": {},
   "outputs": [],
   "source": [
    "# Name of variable in characteristic equation\n",
    "s = sym.symbols('s')\n",
    "\n",
    "# Elements of gain matrix (assumed to be real numbers)\n",
    "k1, k2, k3 = sym.symbols('k1, k2, k3', real=True)"
   ]
  },
  {
   "cell_type": "markdown",
   "id": "f4d50712",
   "metadata": {},
   "source": [
    "Define a gain matrix."
   ]
  },
  {
   "cell_type": "code",
   "execution_count": null,
   "id": "68c27f26",
   "metadata": {},
   "outputs": [],
   "source": [
    "K = sym.Matrix([[k1, k2, k3]])"
   ]
  },
  {
   "cell_type": "markdown",
   "id": "44aef28e",
   "metadata": {},
   "source": [
    "Define desired eigenvalue locations."
   ]
  },
  {
   "cell_type": "code",
   "execution_count": null,
   "id": "3f2a89c6",
   "metadata": {},
   "outputs": [],
   "source": [
    "p1 = sym.nsimplify(-1. + 0. * 1j)\n",
    "p2 = sym.nsimplify(-3. + 0. * 1j)\n",
    "p3 = sym.nsimplify(-4. + 0. * 1j)"
   ]
  },
  {
   "cell_type": "markdown",
   "id": "e1c4ea07",
   "metadata": {},
   "source": [
    "#### Example"
   ]
  },
  {
   "cell_type": "markdown",
   "id": "eebe278c",
   "metadata": {},
   "source": [
    "Define a state-space model."
   ]
  },
  {
   "cell_type": "code",
   "execution_count": null,
   "id": "b27014e5",
   "metadata": {},
   "outputs": [],
   "source": [
    "A = sym.Matrix([\n",
    "    [2, 0, -5],\n",
    "    [-1, 2, 1],\n",
    "    [0, 1, 3],\n",
    "])\n",
    "\n",
    "B = sym.Matrix([\n",
    "    [0],\n",
    "    [-2],\n",
    "    [1],\n",
    "])"
   ]
  },
  {
   "cell_type": "markdown",
   "id": "39475028",
   "metadata": {},
   "source": [
    "Compute the characteristic equation that we have."
   ]
  },
  {
   "cell_type": "code",
   "execution_count": null,
   "id": "290e9e33",
   "metadata": {},
   "outputs": [],
   "source": [
    "sym.collect((s * sym.Matrix.eye(3) - (A - B @ K)).det(), s)"
   ]
  },
  {
   "cell_type": "markdown",
   "id": "4ed1bbe5",
   "metadata": {},
   "source": [
    "Compute the same thing again, more easily, and get its coefficients:"
   ]
  },
  {
   "cell_type": "code",
   "execution_count": null,
   "id": "b78e0f6d",
   "metadata": {},
   "outputs": [],
   "source": [
    "coeffs_we_have = (A - B @ K).charpoly(s).all_coeffs()\n",
    "print(coeffs_we_have)"
   ]
  },
  {
   "cell_type": "markdown",
   "id": "2b11dd16",
   "metadata": {},
   "source": [
    "Compute the characteristic equation that we want."
   ]
  },
  {
   "cell_type": "code",
   "execution_count": null,
   "id": "7f9fd500",
   "metadata": {},
   "outputs": [],
   "source": [
    "sym.expand((s - p1) * (s - p2) * (s - p3))"
   ]
  },
  {
   "cell_type": "markdown",
   "id": "1499f287",
   "metadata": {},
   "source": [
    "Compute the same thing again and get its coefficients."
   ]
  },
  {
   "cell_type": "code",
   "execution_count": null,
   "id": "bd41908e",
   "metadata": {},
   "outputs": [],
   "source": [
    "coeffs_we_want = ((s - p1) * (s - p2) * (s - p3)).as_poly(s).all_coeffs()\n",
    "print(coeffs_we_want)"
   ]
  },
  {
   "cell_type": "markdown",
   "id": "fd3a089a",
   "metadata": {},
   "source": [
    "Equate coefficients and solve for gains."
   ]
  },
  {
   "cell_type": "code",
   "execution_count": null,
   "id": "17e0bac4",
   "metadata": {},
   "outputs": [],
   "source": [
    "sym.solve(sym.Matrix(coeffs_we_have) - sym.Matrix(coeffs_we_want), (k1, k2, k3))"
   ]
  },
  {
   "cell_type": "markdown",
   "id": "722d282c",
   "metadata": {},
   "source": [
    "#### Example (when the state-space model is in controllable canonical form)"
   ]
  },
  {
   "cell_type": "markdown",
   "id": "0d8dcfde",
   "metadata": {},
   "source": [
    "Define a state-space model that is in controllable canonical form."
   ]
  },
  {
   "cell_type": "code",
   "execution_count": null,
   "id": "635408b4",
   "metadata": {},
   "outputs": [],
   "source": [
    "A = sym.Matrix([\n",
    "    [-3, -2, -5],\n",
    "    [1, 0, 0],\n",
    "    [0, 1, 0],\n",
    "])\n",
    "\n",
    "B = sym.Matrix([\n",
    "    [1],\n",
    "    [0],\n",
    "    [0],\n",
    "])"
   ]
  },
  {
   "cell_type": "markdown",
   "id": "b842fa0f",
   "metadata": {},
   "source": [
    "Compute the characteristic equation that we have."
   ]
  },
  {
   "cell_type": "code",
   "execution_count": null,
   "id": "71d98993",
   "metadata": {},
   "outputs": [],
   "source": [
    "sym.collect((s * sym.Matrix.eye(3) - (A - B @ K)).det(), s)"
   ]
  },
  {
   "cell_type": "markdown",
   "id": "cbfa8f7d",
   "metadata": {},
   "source": [
    "Compute the same thing again, more easily, and get its coefficients:"
   ]
  },
  {
   "cell_type": "code",
   "execution_count": null,
   "id": "94b4a59e",
   "metadata": {},
   "outputs": [],
   "source": [
    "coeffs_we_have = (A - B @ K).charpoly(s).all_coeffs()\n",
    "print(coeffs_we_have)"
   ]
  },
  {
   "cell_type": "markdown",
   "id": "4c585d2c",
   "metadata": {},
   "source": [
    "Compute the characteristic equation that we want."
   ]
  },
  {
   "cell_type": "code",
   "execution_count": null,
   "id": "009238e0",
   "metadata": {},
   "outputs": [],
   "source": [
    "sym.expand((s - p1) * (s - p2) * (s - p3))"
   ]
  },
  {
   "cell_type": "markdown",
   "id": "49627c71",
   "metadata": {},
   "source": [
    "Compute the same thing again and get its coefficients."
   ]
  },
  {
   "cell_type": "code",
   "execution_count": null,
   "id": "8783e36a",
   "metadata": {},
   "outputs": [],
   "source": [
    "coeffs_we_want = ((s - p1) * (s - p2) * (s - p3)).as_poly(s).all_coeffs()\n",
    "print(coeffs_we_want)"
   ]
  },
  {
   "cell_type": "markdown",
   "id": "d6ddf8cc",
   "metadata": {},
   "source": [
    "Equate coefficients and solve for gains."
   ]
  },
  {
   "cell_type": "code",
   "execution_count": null,
   "id": "89b66a28",
   "metadata": {},
   "outputs": [],
   "source": [
    "sym.solve(sym.Matrix(coeffs_we_have) - sym.Matrix(coeffs_we_want), (k1, k2, k3))"
   ]
  }
 ],
 "metadata": {
  "kernelspec": {
   "display_name": "Python 3 (ipykernel)",
   "language": "python",
   "name": "python3"
  },
  "language_info": {
   "codemirror_mode": {
    "name": "ipython",
    "version": 3
   },
   "file_extension": ".py",
   "mimetype": "text/x-python",
   "name": "python",
   "nbconvert_exporter": "python",
   "pygments_lexer": "ipython3",
   "version": "3.11.0"
  }
 },
 "nbformat": 4,
 "nbformat_minor": 5
}
