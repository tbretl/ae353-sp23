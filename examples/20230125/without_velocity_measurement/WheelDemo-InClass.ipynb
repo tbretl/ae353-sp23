{
 "cells": [
  {
   "cell_type": "markdown",
   "id": "middle-acoustic",
   "metadata": {},
   "source": [
    "# Demo: PID control of a wheel"
   ]
  },
  {
   "cell_type": "markdown",
   "id": "working-minority",
   "metadata": {},
   "source": [
    "Import modules and configure the notebook."
   ]
  },
  {
   "cell_type": "code",
   "execution_count": 1,
   "id": "dimensional-contamination",
   "metadata": {},
   "outputs": [
    {
     "name": "stderr",
     "output_type": "stream",
     "text": [
      "pybullet build time: Oct 28 2022 16:21:09\n"
     ]
    }
   ],
   "source": [
    "# These are standard modules\n",
    "import time\n",
    "import numpy as np\n",
    "import matplotlib.pyplot as plt\n",
    "\n",
    "# This is a custom interface to the pybullet simulator\n",
    "import ae353_wheel"
   ]
  },
  {
   "cell_type": "markdown",
   "id": "protective-retreat",
   "metadata": {},
   "source": [
    "Create an instance of the `Simulator` class, which is an interface to the [pybullet](http://pybullet.org) simulation engine.\n",
    "\n",
    "There are two optional arguments:\n",
    "\n",
    "* `display` (`True` or `False`) is whether or not to show the simulation window;\n",
    "* `damping` (a non-negative floating-point number) is the coefficient of viscous friction at the wheel joint;\n",
    "* `roll` (a floating-point number) is the angle of the ground;\n",
    "* `mass` (a non-negative floating-point number) is the mass in kilograms of the orange marker that is attached to the wheel.\n",
    "\n",
    "You can also change `damping`, `roll`, or `mass` on the fly by using the functions `simulator.set_damping()`, `simulator.set_roll()`, and `simulator.set_mass()`."
   ]
  },
  {
   "cell_type": "code",
   "execution_count": 2,
   "id": "placed-messenger",
   "metadata": {},
   "outputs": [
    {
     "name": "stdout",
     "output_type": "stream",
     "text": [
      "You can open the visualizer by visiting the following URL:\n",
      "http://127.0.0.1:7001/static/\n"
     ]
    }
   ],
   "source": [
    "simulator = ae353_wheel.Simulator(\n",
    "    display=True,\n",
    "    damping=0.,\n",
    "    roll=np.pi / 2,\n",
    "    mass=0.1,\n",
    ")"
   ]
  },
  {
   "cell_type": "code",
   "execution_count": null,
   "id": "0d1fa6a2",
   "metadata": {},
   "outputs": [],
   "source": [
    "simulator.set_damping(0.)\n",
    "simulator.set_roll(np.pi / 2)\n",
    "simulator.set_mass(0.1)"
   ]
  },
  {
   "cell_type": "markdown",
   "id": "3f9ebffb",
   "metadata": {},
   "source": [
    "Define a controller that maps sensor measurements (`wheel_angle`) to actuator commands (`wheel_torque`). By default, it chooses to apply zero torque to the wheel. Modify the `run` function to make the controller behave differently. This function will be called 100 times per second (i.e., at 100 Hz) by the simulator."
   ]
  },
  {
   "cell_type": "code",
   "execution_count": 4,
   "id": "bf439d71",
   "metadata": {},
   "outputs": [],
   "source": [
    "class Controller:\n",
    "    def __init__(self):\n",
    "        pass\n",
    "        \n",
    "    def reset(self):\n",
    "        self.old_e = 0.\n",
    "        self.int_e = 0.\n",
    "    \n",
    "    def run(self, t, wheel_angle):\n",
    "        \"\"\"\n",
    "        INPUTS\n",
    "         t = current time (s)\n",
    "         wheel_angle = angle of wheel (rad)\n",
    "        \n",
    "        OUTPUTS\n",
    "         wheel_torque = torque applied to wheel by motor on ground (N m)\n",
    "        \"\"\"\n",
    "        \n",
    "        # output and reference\n",
    "        y = wheel_angle\n",
    "        r = 1.\n",
    "        \n",
    "        # error\n",
    "        e = y - r\n",
    "        \n",
    "        # derivative of error\n",
    "        der_e = (e - self.old_e) / 0.01\n",
    "        self.old_e = e\n",
    "        \n",
    "        # integral of error\n",
    "        self.int_e += 0.01 * e\n",
    "        \n",
    "        # input\n",
    "        k_p = 7.\n",
    "        k_d = 1.\n",
    "        k_i = 1.\n",
    "        u = - k_p * e - k_d * der_e - k_i * self.int_e\n",
    "        \n",
    "        wheel_torque = u\n",
    "        return wheel_torque"
   ]
  },
  {
   "cell_type": "markdown",
   "id": "40059b98",
   "metadata": {},
   "source": [
    "Create an instance of the controller."
   ]
  },
  {
   "cell_type": "code",
   "execution_count": 5,
   "id": "1168ff65",
   "metadata": {},
   "outputs": [],
   "source": [
    "controller = Controller()"
   ]
  },
  {
   "cell_type": "markdown",
   "id": "19c52b8d",
   "metadata": {},
   "source": [
    "Reset the simulator. Optional arguments allow you to specify the initial wheel angle and velocity. If the value of either argument is `None` (or if the argument is left unspecified), then its value will be chosen at random."
   ]
  },
  {
   "cell_type": "code",
   "execution_count": 63,
   "id": "e9fc6510",
   "metadata": {},
   "outputs": [],
   "source": [
    "simulator.reset(\n",
    "    wheel_angle=0.,\n",
    "    wheel_velocity=0.,\n",
    ")"
   ]
  },
  {
   "cell_type": "markdown",
   "id": "a0c7b67a",
   "metadata": {},
   "source": [
    "Reset the controller."
   ]
  },
  {
   "cell_type": "code",
   "execution_count": 64,
   "id": "d169e3c4",
   "metadata": {},
   "outputs": [],
   "source": [
    "controller.reset()"
   ]
  },
  {
   "cell_type": "markdown",
   "id": "5cb3dacd",
   "metadata": {},
   "source": [
    "Run the simulator."
   ]
  },
  {
   "cell_type": "code",
   "execution_count": 65,
   "id": "8e649e63",
   "metadata": {},
   "outputs": [],
   "source": [
    "data = simulator.run(\n",
    "    controller,           # <-- required (an instance of your Controller class)\n",
    "    max_time=1.21,         # <-- optional (how long you want to run the simulation in seconds)\n",
    "    data_filename=None,   # <-- optional (name of file to which you want data saved, e.g., 'my_data.json')\n",
    "    video_filename=None,  # <-- optional (name of file to which you want video saved, e.g., 'my_video.mov')\n",
    ")"
   ]
  },
  {
   "cell_type": "code",
   "execution_count": 67,
   "id": "427dc1a4",
   "metadata": {},
   "outputs": [],
   "source": [
    "tmp = {\n",
    "    'x': [1, 2, 3],\n",
    "    'y': [4, 5, 6],\n",
    "}"
   ]
  },
  {
   "cell_type": "code",
   "execution_count": 68,
   "id": "6126b4c8",
   "metadata": {},
   "outputs": [
    {
     "data": {
      "text/plain": [
       "[1, 2, 3]"
      ]
     },
     "execution_count": 68,
     "metadata": {},
     "output_type": "execute_result"
    }
   ],
   "source": [
    "tmp['x']"
   ]
  },
  {
   "cell_type": "code",
   "execution_count": 69,
   "id": "a58da22f",
   "metadata": {},
   "outputs": [
    {
     "data": {
      "text/plain": [
       "[4, 5, 6]"
      ]
     },
     "execution_count": 69,
     "metadata": {},
     "output_type": "execute_result"
    }
   ],
   "source": [
    "tmp['y']"
   ]
  },
  {
   "cell_type": "code",
   "execution_count": 70,
   "id": "8d024a6c",
   "metadata": {},
   "outputs": [
    {
     "data": {
      "text/plain": [
       "dict_keys(['t', 'wheel_angle', 'wheel_velocity', 'wheel_torque', 'wheel_torque_command'])"
      ]
     },
     "execution_count": 70,
     "metadata": {},
     "output_type": "execute_result"
    }
   ],
   "source": [
    "data.keys()"
   ]
  },
  {
   "cell_type": "code",
   "execution_count": 72,
   "id": "56289154",
   "metadata": {},
   "outputs": [
    {
     "data": {
      "text/plain": [
       "array([0.        , 0.00149806, 0.00539278, 0.01168352, 0.02036924,\n",
       "       0.03144852, 0.04491952, 0.06078004, 0.07902747, 0.09957178,\n",
       "       0.12224817, 0.1468786 , 0.17328613, 0.20129571, 0.23073479,\n",
       "       0.26143375, 0.29322641, 0.32595046, 0.35944785, 0.39356518,\n",
       "       0.428154  , 0.46307117, 0.49817905, 0.53334581, 0.56844559,\n",
       "       0.60335868, 0.63797165, 0.6721775 , 0.70587569, 0.73897221,\n",
       "       0.77137963, 0.80301707, 0.83381017, 0.86369106, 0.89259829,\n",
       "       0.92047674, 0.94727749, 0.97295769, 0.99748048, 1.02081475,\n",
       "       1.042935  , 1.0638212 , 1.08345853, 1.10183721, 1.1189523 ,\n",
       "       1.13480347, 1.1493948 , 1.16273449, 1.17483474, 1.1857114 ,\n",
       "       1.19538383, 1.20387463, 1.2112094 , 1.21741652, 1.22252691,\n",
       "       1.22657385, 1.22959268, 1.23162063, 1.23269661, 1.23286098,\n",
       "       1.23215533, 1.23062231, 1.22830545, 1.2252489 , 1.22149734,\n",
       "       1.21709575, 1.21208924, 1.20652293, 1.20044176, 1.19389037,\n",
       "       1.18691295, 1.17955311, 1.17185377, 1.16385703, 1.15560409,\n",
       "       1.14713512, 1.1384892 , 1.1297042 , 1.12081677, 1.11186219,\n",
       "       1.10287438, 1.09388582, 1.08492748, 1.07602885, 1.06721782,\n",
       "       1.05852075, 1.04996236, 1.04156578, 1.03335254, 1.02534254,\n",
       "       1.01755407, 1.01000382, 1.00270691, 0.99567688, 0.98892574,\n",
       "       0.982464  , 0.97630068, 0.97044336, 0.96489821, 0.95967007,\n",
       "       0.95476245, 0.95017758, 0.94591649, 0.94197905, 0.938364  ,\n",
       "       0.93506906, 0.93209091, 0.92942533, 0.92706717, 0.92501049,\n",
       "       0.92324857, 0.92177399, 0.92057865, 0.9196539 , 0.91899052,\n",
       "       0.91857882, 0.9184087 , 0.91846968, 0.91875095, 0.91924147,\n",
       "       0.91992995])"
      ]
     },
     "execution_count": 72,
     "metadata": {},
     "output_type": "execute_result"
    }
   ],
   "source": [
    "data['wheel_angle']"
   ]
  },
  {
   "cell_type": "code",
   "execution_count": 71,
   "id": "48c55a62",
   "metadata": {},
   "outputs": [
    {
     "data": {
      "text/plain": [
       "array([0.  , 0.01, 0.02, 0.03, 0.04, 0.05, 0.06, 0.07, 0.08, 0.09, 0.1 ,\n",
       "       0.11, 0.12, 0.13, 0.14, 0.15, 0.16, 0.17, 0.18, 0.19, 0.2 , 0.21,\n",
       "       0.22, 0.23, 0.24, 0.25, 0.26, 0.27, 0.28, 0.29, 0.3 , 0.31, 0.32,\n",
       "       0.33, 0.34, 0.35, 0.36, 0.37, 0.38, 0.39, 0.4 , 0.41, 0.42, 0.43,\n",
       "       0.44, 0.45, 0.46, 0.47, 0.48, 0.49, 0.5 , 0.51, 0.52, 0.53, 0.54,\n",
       "       0.55, 0.56, 0.57, 0.58, 0.59, 0.6 , 0.61, 0.62, 0.63, 0.64, 0.65,\n",
       "       0.66, 0.67, 0.68, 0.69, 0.7 , 0.71, 0.72, 0.73, 0.74, 0.75, 0.76,\n",
       "       0.77, 0.78, 0.79, 0.8 , 0.81, 0.82, 0.83, 0.84, 0.85, 0.86, 0.87,\n",
       "       0.88, 0.89, 0.9 , 0.91, 0.92, 0.93, 0.94, 0.95, 0.96, 0.97, 0.98,\n",
       "       0.99, 1.  , 1.01, 1.02, 1.03, 1.04, 1.05, 1.06, 1.07, 1.08, 1.09,\n",
       "       1.1 , 1.11, 1.12, 1.13, 1.14, 1.15, 1.16, 1.17, 1.18, 1.19, 1.2 ])"
      ]
     },
     "execution_count": 71,
     "metadata": {},
     "output_type": "execute_result"
    }
   ],
   "source": [
    "data['t']"
   ]
  },
  {
   "cell_type": "code",
   "execution_count": null,
   "id": "485c4a6b",
   "metadata": {},
   "outputs": [],
   "source": []
  },
  {
   "cell_type": "code",
   "execution_count": null,
   "id": "b2986cfc",
   "metadata": {},
   "outputs": [],
   "source": []
  },
  {
   "cell_type": "code",
   "execution_count": null,
   "id": "2f993795",
   "metadata": {},
   "outputs": [],
   "source": []
  },
  {
   "cell_type": "code",
   "execution_count": null,
   "id": "ac4a53fc",
   "metadata": {},
   "outputs": [],
   "source": []
  },
  {
   "cell_type": "code",
   "execution_count": null,
   "id": "22e5f8ad",
   "metadata": {},
   "outputs": [],
   "source": []
  },
  {
   "cell_type": "code",
   "execution_count": 66,
   "id": "b6070b09",
   "metadata": {},
   "outputs": [
    {
     "data": {
      "text/plain": [
       "{'t': array([0.  , 0.01, 0.02, 0.03, 0.04, 0.05, 0.06, 0.07, 0.08, 0.09, 0.1 ,\n",
       "        0.11, 0.12, 0.13, 0.14, 0.15, 0.16, 0.17, 0.18, 0.19, 0.2 , 0.21,\n",
       "        0.22, 0.23, 0.24, 0.25, 0.26, 0.27, 0.28, 0.29, 0.3 , 0.31, 0.32,\n",
       "        0.33, 0.34, 0.35, 0.36, 0.37, 0.38, 0.39, 0.4 , 0.41, 0.42, 0.43,\n",
       "        0.44, 0.45, 0.46, 0.47, 0.48, 0.49, 0.5 , 0.51, 0.52, 0.53, 0.54,\n",
       "        0.55, 0.56, 0.57, 0.58, 0.59, 0.6 , 0.61, 0.62, 0.63, 0.64, 0.65,\n",
       "        0.66, 0.67, 0.68, 0.69, 0.7 , 0.71, 0.72, 0.73, 0.74, 0.75, 0.76,\n",
       "        0.77, 0.78, 0.79, 0.8 , 0.81, 0.82, 0.83, 0.84, 0.85, 0.86, 0.87,\n",
       "        0.88, 0.89, 0.9 , 0.91, 0.92, 0.93, 0.94, 0.95, 0.96, 0.97, 0.98,\n",
       "        0.99, 1.  , 1.01, 1.02, 1.03, 1.04, 1.05, 1.06, 1.07, 1.08, 1.09,\n",
       "        1.1 , 1.11, 1.12, 1.13, 1.14, 1.15, 1.16, 1.17, 1.18, 1.19, 1.2 ]),\n",
       " 'wheel_angle': array([0.        , 0.00149806, 0.00539278, 0.01168352, 0.02036924,\n",
       "        0.03144852, 0.04491952, 0.06078004, 0.07902747, 0.09957178,\n",
       "        0.12224817, 0.1468786 , 0.17328613, 0.20129571, 0.23073479,\n",
       "        0.26143375, 0.29322641, 0.32595046, 0.35944785, 0.39356518,\n",
       "        0.428154  , 0.46307117, 0.49817905, 0.53334581, 0.56844559,\n",
       "        0.60335868, 0.63797165, 0.6721775 , 0.70587569, 0.73897221,\n",
       "        0.77137963, 0.80301707, 0.83381017, 0.86369106, 0.89259829,\n",
       "        0.92047674, 0.94727749, 0.97295769, 0.99748048, 1.02081475,\n",
       "        1.042935  , 1.0638212 , 1.08345853, 1.10183721, 1.1189523 ,\n",
       "        1.13480347, 1.1493948 , 1.16273449, 1.17483474, 1.1857114 ,\n",
       "        1.19538383, 1.20387463, 1.2112094 , 1.21741652, 1.22252691,\n",
       "        1.22657385, 1.22959268, 1.23162063, 1.23269661, 1.23286098,\n",
       "        1.23215533, 1.23062231, 1.22830545, 1.2252489 , 1.22149734,\n",
       "        1.21709575, 1.21208924, 1.20652293, 1.20044176, 1.19389037,\n",
       "        1.18691295, 1.17955311, 1.17185377, 1.16385703, 1.15560409,\n",
       "        1.14713512, 1.1384892 , 1.1297042 , 1.12081677, 1.11186219,\n",
       "        1.10287438, 1.09388582, 1.08492748, 1.07602885, 1.06721782,\n",
       "        1.05852075, 1.04996236, 1.04156578, 1.03335254, 1.02534254,\n",
       "        1.01755407, 1.01000382, 1.00270691, 0.99567688, 0.98892574,\n",
       "        0.982464  , 0.97630068, 0.97044336, 0.96489821, 0.95967007,\n",
       "        0.95476245, 0.95017758, 0.94591649, 0.94197905, 0.938364  ,\n",
       "        0.93506906, 0.93209091, 0.92942533, 0.92706717, 0.92501049,\n",
       "        0.92324857, 0.92177399, 0.92057865, 0.9196539 , 0.91899052,\n",
       "        0.91857882, 0.9184087 , 0.91846968, 0.91875095, 0.91924147,\n",
       "        0.91992995]),\n",
       " 'wheel_velocity': array([ 0.        ,  0.23968748,  0.47933551,  0.71890464,  0.95835545,\n",
       "         1.19764856,  1.43674462,  1.67560444,  1.91418895,  2.13853416,\n",
       "         2.34505613,  2.53378565,  2.70487919,  2.85854998,  2.99506351,\n",
       "         3.11473426,  3.21792238,  3.30503036,  3.37649965,  3.43280731,\n",
       "         3.47446267,  3.50200395,  3.51599495,  3.51702179,  3.50568968,\n",
       "         3.48261973,  3.44844592,  3.40381204,  3.34936887,  3.28577133,\n",
       "         3.21367586,  3.13373785,  3.04660927,  2.95293636,  2.85335755,\n",
       "         2.74850144,  2.63898498,  2.52541182,  2.40837071,  2.28843412,\n",
       "         2.16615704,  2.04207577,  1.91670702,  1.790547  ,  1.66407073,\n",
       "         1.53773141,  1.41195993,  1.28716447,  1.16373025,  1.04201931,\n",
       "         0.92237044,  0.80509914,  0.69049772,  0.57883545,  0.47035875,\n",
       "         0.36529149,  0.26383532,  0.16617008,  0.07245426, -0.01717454,\n",
       "        -0.10259904, -0.18372172, -0.2604642 , -0.33276661, -0.40058689,\n",
       "        -0.46390013, -0.52269782, -0.57698714, -0.62679021, -0.67214332,\n",
       "        -0.71309613, -0.74971096, -0.78206192, -0.81023422, -0.83432329,\n",
       "        -0.85443407, -0.87068018, -0.88318319, -0.89207184, -0.89748126,\n",
       "        -0.89955229, -0.89843068, -0.89426645, -0.88721315, -0.87742719,\n",
       "        -0.86506721, -0.85029343, -0.83326701, -0.8141495 , -0.79310229,\n",
       "        -0.770286  , -0.74586004, -0.71998207, -0.69280758, -0.66448942,\n",
       "        -0.63517745, -0.60501808, -0.57415399, -0.54272379, -0.51086172,\n",
       "        -0.47869738, -0.44635551, -0.41395576, -0.38161254, -0.34943481,\n",
       "        -0.31752599, -0.28598385, -0.25490042, -0.22436192, -0.19444875,\n",
       "        -0.16523546, -0.13679075, -0.10917753, -0.08245292, -0.05666837,\n",
       "        -0.03186968, -0.00809716,  0.0146143 ,  0.03623511,  0.05674078,\n",
       "         0.07611185]),\n",
       " 'wheel_torque': array([ 5.        ,  5.        ,  5.        ,  5.        ,  5.        ,\n",
       "         5.        ,  5.        ,  5.        ,  4.70951371,  4.34501997,\n",
       "         3.98185437,  3.62256844,  3.2682737 ,  2.91998743,  2.57865741,\n",
       "         2.24516223,  1.92031116,  1.60484449,  1.29943395,  1.00468347,\n",
       "         0.72113016,  0.44924547,  0.18943659, -0.05795193, -0.29263647,\n",
       "        -0.51439237, -0.72305186, -0.9185019 , -1.10068186, -1.2695811 ,\n",
       "        -1.42523652, -1.56773006, -1.69718608, -1.81376879, -1.91767966,\n",
       "        -2.0091548 , -2.08846234, -2.15589992, -2.21179209, -2.25648785,\n",
       "        -2.29035822, -2.31379378, -2.32720245, -2.33100711, -2.3256435 ,\n",
       "        -2.31155806, -2.28920587, -2.25904873, -2.22155326, -2.17718908,\n",
       "        -2.1264271 , -2.06973789, -2.00759011, -1.94044907, -1.86877531,\n",
       "        -1.7930233 , -1.71364022, -1.63106484, -1.54572641, -1.45804375,\n",
       "        -1.36842426, -1.27726316, -1.18494275, -1.09183165, -0.99828432,\n",
       "        -0.90464042, -0.81122444, -0.71834524, -0.62629578, -0.53535285,\n",
       "        -0.44577685, -0.35781169, -0.27168469, -0.18760658, -0.10577155,\n",
       "        -0.02635728,  0.05047485,  0.1245796 ,  0.19582766,  0.26410534,\n",
       "         0.32931429,  0.39137112,  0.45020701,  0.50576732,  0.55801113,\n",
       "         0.60691076,  0.65245126,  0.69462991,  0.73345568,  0.76894864,\n",
       "         0.80113945,  0.83006873,  0.85578647,  0.87835149,  0.89783075,\n",
       "         0.91429885,  0.92783733,  0.93853416,  0.94648307,  0.95178302,\n",
       "         0.95453759,  0.9548544 ,  0.9528446 ,  0.94862226,  0.94230389,\n",
       "         0.93400791,  0.92385414,  0.91196333,  0.89845668,  0.88345543,\n",
       "         0.8670804 ,  0.84945162,  0.83068792,  0.81090661,  0.7902231 ,\n",
       "         0.7687506 ,  0.74659983,  0.72387876,  0.70069235,  0.67714232,\n",
       "         0.65332694]),\n",
       " 'wheel_torque_command': array([ 1.07010000e+02,  6.85969237e+00,  6.60270949e+00,  6.32895568e+00,\n",
       "         6.03845367e+00,  5.73122894e+00,  5.40730969e+00,  5.06672677e+00,\n",
       "         4.70951371e+00,  4.34501997e+00,  3.98185437e+00,  3.62256844e+00,\n",
       "         3.26827370e+00,  2.91998743e+00,  2.57865741e+00,  2.24516223e+00,\n",
       "         1.92031116e+00,  1.60484449e+00,  1.29943395e+00,  1.00468347e+00,\n",
       "         7.21130161e-01,  4.49245467e-01,  1.89436591e-01, -5.79519341e-02,\n",
       "        -2.92636473e-01, -5.14392366e-01, -7.23051859e-01, -9.18501904e-01,\n",
       "        -1.10068186e+00, -1.26958110e+00, -1.42523652e+00, -1.56773006e+00,\n",
       "        -1.69718608e+00, -1.81376879e+00, -1.91767966e+00, -2.00915480e+00,\n",
       "        -2.08846234e+00, -2.15589992e+00, -2.21179209e+00, -2.25648785e+00,\n",
       "        -2.29035822e+00, -2.31379378e+00, -2.32720245e+00, -2.33100711e+00,\n",
       "        -2.32564350e+00, -2.31155806e+00, -2.28920587e+00, -2.25904873e+00,\n",
       "        -2.22155326e+00, -2.17718908e+00, -2.12642710e+00, -2.06973789e+00,\n",
       "        -2.00759011e+00, -1.94044907e+00, -1.86877531e+00, -1.79302330e+00,\n",
       "        -1.71364022e+00, -1.63106484e+00, -1.54572641e+00, -1.45804375e+00,\n",
       "        -1.36842426e+00, -1.27726316e+00, -1.18494275e+00, -1.09183165e+00,\n",
       "        -9.98284320e-01, -9.04640422e-01, -8.11224436e-01, -7.18345237e-01,\n",
       "        -6.26295781e-01, -5.35352848e-01, -4.45776849e-01, -3.57811686e-01,\n",
       "        -2.71684688e-01, -1.87606584e-01, -1.05771547e-01, -2.63572791e-02,\n",
       "         5.04748460e-02,  1.24579598e-01,  1.95827658e-01,  2.64105344e-01,\n",
       "         3.29314294e-01,  3.91371117e-01,  4.50207007e-01,  5.05767321e-01,\n",
       "         5.58011134e-01,  6.06910761e-01,  6.52451260e-01,  6.94629911e-01,\n",
       "         7.33455676e-01,  7.68948641e-01,  8.01139451e-01,  8.30068726e-01,\n",
       "         8.55786473e-01,  8.78351486e-01,  8.97830753e-01,  9.14298848e-01,\n",
       "         9.27837334e-01,  9.38534161e-01,  9.46483074e-01,  9.51783024e-01,\n",
       "         9.54537589e-01,  9.54854402e-01,  9.52844596e-01,  9.48622257e-01,\n",
       "         9.42303892e-01,  9.34007915e-01,  9.23854145e-01,  9.11963330e-01,\n",
       "         8.98456680e-01,  8.83455426e-01,  8.67080396e-01,  8.49451616e-01,\n",
       "         8.30687924e-01,  8.10906615e-01,  7.90223101e-01,  7.68750597e-01,\n",
       "         7.46599829e-01,  7.23878763e-01,  7.00692352e-01,  6.77142319e-01,\n",
       "         6.53326941e-01])}"
      ]
     },
     "execution_count": 66,
     "metadata": {},
     "output_type": "execute_result"
    }
   ],
   "source": [
    "data"
   ]
  },
  {
   "cell_type": "markdown",
   "id": "c3e2d2d7",
   "metadata": {},
   "source": [
    "Get, show, and save a snapshot of the simulation after the last time step."
   ]
  },
  {
   "cell_type": "code",
   "execution_count": null,
   "id": "7657f10b",
   "metadata": {},
   "outputs": [],
   "source": [
    "# Get snapshot as height x width x 4 numpy array of RGBA values\n",
    "rgba = simulator.snapshot()\n",
    "\n",
    "# Display snapshot\n",
    "plt.figure(figsize=(8, 8))\n",
    "plt.imshow(rgba)\n",
    "\n",
    "# Save snapshot\n",
    "plt.imsave('my_snapshot.png', rgba)"
   ]
  },
  {
   "cell_type": "markdown",
   "id": "38a9c4a6",
   "metadata": {},
   "source": [
    "Plot the results."
   ]
  },
  {
   "cell_type": "code",
   "execution_count": null,
   "id": "0cce775b",
   "metadata": {},
   "outputs": [],
   "source": [
    "# Create a figure with three subplots, all of which share the same x-axis\n",
    "fig, (\n",
    "    ax_angle,\n",
    "    ax_velocity,\n",
    "    ax_torque,\n",
    ") = plt.subplots(3, 1, figsize=(8, 8), sharex=True)\n",
    "\n",
    "# Plot wheel angle on first subplot\n",
    "ax_angle.plot(\n",
    "    data['t'], data['wheel_angle'],\n",
    "    label='wheel angle (rad)', linewidth=4,\n",
    ")\n",
    "ax_angle.grid()\n",
    "ax_angle.legend(fontsize=16)\n",
    "ax_angle.tick_params(labelsize=14)\n",
    "\n",
    "# Plot wheel velocity on second subplot\n",
    "ax_velocity.plot(\n",
    "    data['t'], data['wheel_velocity'],\n",
    "    label='wheel velocity (rad / s)', linewidth=4,\n",
    ")\n",
    "ax_velocity.grid()\n",
    "ax_velocity.legend(fontsize=16)\n",
    "ax_velocity.tick_params(labelsize=14)\n",
    "\n",
    "# Plot wheel torque on third subplot\n",
    "ax_torque.plot(\n",
    "    data['t'], data['wheel_torque_command'],\n",
    "    label='wheel torque command (N-m)', linewidth=4,\n",
    ")\n",
    "ax_torque.plot(\n",
    "    data['t'], data['wheel_torque'],\n",
    "    '--', label='wheel torque (N-m)', linewidth=4,\n",
    ")\n",
    "ax_torque.plot(\n",
    "    data['t'], np.ones_like(data['t']) * simulator.tau_max,\n",
    "    ':', label='max wheel torque', linewidth=4, color='C2', zorder=0,\n",
    ")\n",
    "ax_torque.plot(\n",
    "    data['t'], -np.ones_like(data['t']) * simulator.tau_max,\n",
    "    ':', linewidth=4, color='C2', zorder=0,\n",
    ")\n",
    "ax_torque.grid()\n",
    "ax_torque.legend(fontsize=16)\n",
    "ax_torque.tick_params(labelsize=14)\n",
    "\n",
    "# Set x-axis properties (only need to do this on the third\n",
    "# subplot since all three subplots share the same x-axis)\n",
    "ax_torque.set_xlabel('time (s)', fontsize=20)\n",
    "ax_torque.set_xlim([data['t'][0], data['t'][-1]])\n",
    "ax_torque.set_ylim(-1.2 * simulator.tau_max, 1.2 * simulator.tau_max)\n",
    "\n",
    "# Make the arrangement of subplots look nice\n",
    "fig.tight_layout()"
   ]
  },
  {
   "cell_type": "markdown",
   "id": "520822de",
   "metadata": {},
   "source": [
    "Save the figure (without transparent background)."
   ]
  },
  {
   "cell_type": "code",
   "execution_count": null,
   "id": "3ce3e7cd",
   "metadata": {},
   "outputs": [],
   "source": [
    "fig.savefig('my_figure.png', facecolor='white', transparent=False)"
   ]
  }
 ],
 "metadata": {
  "kernelspec": {
   "display_name": "Python 3 (ipykernel)",
   "language": "python",
   "name": "python3"
  },
  "language_info": {
   "codemirror_mode": {
    "name": "ipython",
    "version": 3
   },
   "file_extension": ".py",
   "mimetype": "text/x-python",
   "name": "python",
   "nbconvert_exporter": "python",
   "pygments_lexer": "ipython3",
   "version": "3.11.0"
  }
 },
 "nbformat": 4,
 "nbformat_minor": 5
}
