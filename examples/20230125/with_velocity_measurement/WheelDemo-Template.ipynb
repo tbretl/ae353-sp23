{
 "cells": [
  {
   "cell_type": "markdown",
   "id": "middle-acoustic",
   "metadata": {},
   "source": [
    "# Demo: Control of a wheel by linear state feedback"
   ]
  },
  {
   "cell_type": "markdown",
   "id": "working-minority",
   "metadata": {},
   "source": [
    "Import modules and configure the notebook."
   ]
  },
  {
   "cell_type": "code",
   "execution_count": null,
   "id": "dimensional-contamination",
   "metadata": {},
   "outputs": [],
   "source": [
    "# These are standard modules\n",
    "import time\n",
    "import numpy as np\n",
    "import matplotlib.pyplot as plt\n",
    "\n",
    "# This is a custom interface to the pybullet simulator\n",
    "import ae353_wheel"
   ]
  },
  {
   "cell_type": "markdown",
   "id": "protective-retreat",
   "metadata": {},
   "source": [
    "Create an instance of the `Simulator` class, which is an interface to the [pybullet](http://pybullet.org) simulation engine.\n",
    "\n",
    "There are two optional arguments:\n",
    "\n",
    "* `display` (`True` or `False`) is whether or not to show the simulation window;\n",
    "* `damping` (a non-negative floating-point number) is the coefficient of viscous friction at the wheel joint;\n",
    "* `roll` (a floating-point number) is the angle of the ground;\n",
    "* `mass` (a non-negative floating-point number) is the mass in kilograms of the orange marker that is attached to the wheel.\n",
    "\n",
    "You can also change `damping`, `roll`, or `mass` on the fly by using the functions `simulator.set_damping()`, `simulator.set_roll()`, and `simulator.set_mass()`. If you use these functions, you **must** call `simulator.reset(...)` (with appropriate initial conditions) and `controller.reset()` before running the simulator again, or your results may be unreliable."
   ]
  },
  {
   "cell_type": "code",
   "execution_count": null,
   "id": "placed-messenger",
   "metadata": {},
   "outputs": [],
   "source": [
    "simulator = ae353_wheel.Simulator(\n",
    "    display=True,\n",
    "    damping=0.,\n",
    "    roll=0.,\n",
    "    mass=0.,\n",
    ")"
   ]
  },
  {
   "cell_type": "markdown",
   "id": "3f9ebffb",
   "metadata": {},
   "source": [
    "Define a controller that maps sensor measurements (`wheel_angle` and `wheel_velocity`) to actuator commands (`wheel_torque`). By default, it chooses to apply zero torque to the wheel. Modify the `run` function to make the controller behave differently. This function will be called 100 times per second (i.e., at 100 Hz) by the simulator."
   ]
  },
  {
   "cell_type": "code",
   "execution_count": null,
   "id": "bf439d71",
   "metadata": {},
   "outputs": [],
   "source": [
    "class Controller:\n",
    "    def __init__(self):\n",
    "        pass\n",
    "    \n",
    "    def reset(self):\n",
    "        pass\n",
    "    \n",
    "    def run(self, t, wheel_angle, wheel_velocity):\n",
    "        \"\"\"\n",
    "        INPUTS\n",
    "         t = current time (s)\n",
    "         wheel_angle = angle of wheel (rad)\n",
    "         wheel_velocity = angular of wheel (rad / s)\n",
    "        \n",
    "        OUTPUTS\n",
    "         wheel_torque = torque applied to wheel by motor on ground (N m)\n",
    "        \"\"\"\n",
    "        \n",
    "        # FIXME: replace the following line\n",
    "        wheel_torque = 0.\n",
    "        \n",
    "        return wheel_torque"
   ]
  },
  {
   "cell_type": "markdown",
   "id": "40059b98",
   "metadata": {},
   "source": [
    "Create an instance of the controller."
   ]
  },
  {
   "cell_type": "code",
   "execution_count": null,
   "id": "1168ff65",
   "metadata": {},
   "outputs": [],
   "source": [
    "controller = Controller()"
   ]
  },
  {
   "cell_type": "markdown",
   "id": "19c52b8d",
   "metadata": {},
   "source": [
    "Reset the simulator. Optional arguments allow you to specify the initial wheel angle and velocity. If the value of either argument is `None` (or if the argument is left unspecified), then its value will be chosen at random."
   ]
  },
  {
   "cell_type": "code",
   "execution_count": null,
   "id": "e9fc6510",
   "metadata": {},
   "outputs": [],
   "source": [
    "simulator.reset(\n",
    "    wheel_angle=0.,\n",
    "    wheel_velocity=0.,\n",
    ")"
   ]
  },
  {
   "cell_type": "markdown",
   "id": "a0c7b67a",
   "metadata": {},
   "source": [
    "Reset the controller."
   ]
  },
  {
   "cell_type": "code",
   "execution_count": null,
   "id": "d169e3c4",
   "metadata": {},
   "outputs": [],
   "source": [
    "controller.reset()"
   ]
  },
  {
   "cell_type": "markdown",
   "id": "5cb3dacd",
   "metadata": {},
   "source": [
    "Run the simulator."
   ]
  },
  {
   "cell_type": "code",
   "execution_count": null,
   "id": "8e649e63",
   "metadata": {},
   "outputs": [],
   "source": [
    "data = simulator.run(\n",
    "    controller,           # <-- required (an instance of your Controller class)\n",
    "    max_time=5.0,         # <-- optional (how long you want to run the simulation in seconds)\n",
    "    data_filename=None,   # <-- optional (name of file to which you want data saved, e.g., 'my_data.json')\n",
    "    video_filename=None,  # <-- optional (name of file to which you want video saved, e.g., 'my_video.mov')\n",
    ")"
   ]
  },
  {
   "cell_type": "markdown",
   "id": "c3e2d2d7",
   "metadata": {},
   "source": [
    "Get, show, and save a snapshot of the simulation after the last time step."
   ]
  },
  {
   "cell_type": "code",
   "execution_count": null,
   "id": "7657f10b",
   "metadata": {},
   "outputs": [],
   "source": [
    "# Get snapshot as height x width x 4 numpy array of RGBA values\n",
    "rgba = simulator.snapshot()\n",
    "\n",
    "# Display snapshot\n",
    "plt.figure(figsize=(8, 8))\n",
    "plt.imshow(rgba)\n",
    "\n",
    "# Save snapshot\n",
    "plt.imsave('my_snapshot.png', rgba)"
   ]
  },
  {
   "cell_type": "markdown",
   "id": "38a9c4a6",
   "metadata": {},
   "source": [
    "Plot the results."
   ]
  },
  {
   "cell_type": "code",
   "execution_count": null,
   "id": "0cce775b",
   "metadata": {},
   "outputs": [],
   "source": [
    "# Create a figure with three subplots, all of which share the same x-axis\n",
    "fig, (\n",
    "    ax_angle,\n",
    "    ax_velocity,\n",
    "    ax_torque,\n",
    ") = plt.subplots(3, 1, figsize=(8, 8), sharex=True)\n",
    "\n",
    "# Plot wheel angle on first subplot\n",
    "ax_angle.plot(\n",
    "    data['t'], data['wheel_angle'],\n",
    "    label='wheel angle (rad)', linewidth=4,\n",
    ")\n",
    "ax_angle.grid()\n",
    "ax_angle.legend(fontsize=16)\n",
    "ax_angle.tick_params(labelsize=14)\n",
    "\n",
    "# Plot wheel velocity on second subplot\n",
    "ax_velocity.plot(\n",
    "    data['t'], data['wheel_velocity'],\n",
    "    label='wheel velocity (rad / s)', linewidth=4,\n",
    ")\n",
    "ax_velocity.grid()\n",
    "ax_velocity.legend(fontsize=16)\n",
    "ax_velocity.tick_params(labelsize=14)\n",
    "\n",
    "# Plot wheel torque on third subplot\n",
    "ax_torque.plot(\n",
    "    data['t'], data['wheel_torque_command'],\n",
    "    label='wheel torque command (N-m)', linewidth=4,\n",
    ")\n",
    "ax_torque.plot(\n",
    "    data['t'], data['wheel_torque'],\n",
    "    '--', label='wheel torque (N-m)', linewidth=4,\n",
    ")\n",
    "ax_torque.plot(\n",
    "    data['t'], np.ones_like(data['t']) * simulator.tau_max,\n",
    "    ':', label='max wheel torque', linewidth=4, color='C2', zorder=0,\n",
    ")\n",
    "ax_torque.plot(\n",
    "    data['t'], -np.ones_like(data['t']) * simulator.tau_max,\n",
    "    ':', linewidth=4, color='C2', zorder=0,\n",
    ")\n",
    "ax_torque.grid()\n",
    "ax_torque.legend(fontsize=16)\n",
    "ax_torque.tick_params(labelsize=14)\n",
    "\n",
    "# Set x-axis properties (only need to do this on the third\n",
    "# subplot since all three subplots share the same x-axis)\n",
    "ax_torque.set_xlabel('time (s)', fontsize=20)\n",
    "ax_torque.set_xlim([data['t'][0], data['t'][-1]])\n",
    "ax_torque.set_ylim(-1.2 * simulator.tau_max, 1.2 * simulator.tau_max)\n",
    "\n",
    "# Make the arrangement of subplots look nice\n",
    "fig.tight_layout()"
   ]
  },
  {
   "cell_type": "markdown",
   "id": "520822de",
   "metadata": {},
   "source": [
    "Save the figure (without transparent background)."
   ]
  },
  {
   "cell_type": "code",
   "execution_count": null,
   "id": "3ce3e7cd",
   "metadata": {},
   "outputs": [],
   "source": [
    "fig.savefig('my_figure.png', facecolor='white', transparent=False)"
   ]
  }
 ],
 "metadata": {
  "kernelspec": {
   "display_name": "Python 3 (ipykernel)",
   "language": "python",
   "name": "python3"
  },
  "language_info": {
   "codemirror_mode": {
    "name": "ipython",
    "version": 3
   },
   "file_extension": ".py",
   "mimetype": "text/x-python",
   "name": "python",
   "nbconvert_exporter": "python",
   "pygments_lexer": "ipython3",
   "version": "3.11.0"
  }
 },
 "nbformat": 4,
 "nbformat_minor": 5
}
