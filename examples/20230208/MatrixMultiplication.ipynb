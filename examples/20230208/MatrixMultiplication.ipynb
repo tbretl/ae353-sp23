{
 "cells": [
  {
   "cell_type": "markdown",
   "id": "fe2eed6f",
   "metadata": {},
   "source": [
    "Import modules."
   ]
  },
  {
   "cell_type": "code",
   "execution_count": 1,
   "id": "2228fe12",
   "metadata": {},
   "outputs": [],
   "source": [
    "import sympy as sym\n",
    "from IPython.display import display, Latex, Markdown"
   ]
  },
  {
   "cell_type": "markdown",
   "id": "0f470209",
   "metadata": {},
   "source": [
    "Define symbols."
   ]
  },
  {
   "cell_type": "code",
   "execution_count": 2,
   "id": "3eb48b04",
   "metadata": {},
   "outputs": [],
   "source": [
    "s1, s2 = sym.symbols('s1, s2')\n",
    "V11, V12, V21, V22 = sym.symbols('V11, V12, V21, V22')\n",
    "F11, F12, F21, F22 = sym.symbols('F11, F12, F21, F22')"
   ]
  },
  {
   "cell_type": "markdown",
   "id": "8bed2e0c",
   "metadata": {},
   "source": [
    "Define matrices."
   ]
  },
  {
   "cell_type": "code",
   "execution_count": 3,
   "id": "e14e2f3d",
   "metadata": {},
   "outputs": [],
   "source": [
    "V = sym.Matrix([\n",
    "    [V11, V12],\n",
    "    [V21, V22],\n",
    "])\n",
    "\n",
    "S = sym.diag(s1, s2)\n",
    "\n",
    "F = sym.Matrix([\n",
    "    [F11, F12],\n",
    "    [F21, F22],\n",
    "])"
   ]
  },
  {
   "cell_type": "code",
   "execution_count": 4,
   "id": "a9ba7265",
   "metadata": {},
   "outputs": [
    {
     "data": {
      "text/latex": [
       "$\\displaystyle \\left[\\begin{matrix}V_{11} & V_{12}\\\\V_{21} & V_{22}\\end{matrix}\\right]$"
      ],
      "text/plain": [
       "Matrix([\n",
       "[V11, V12],\n",
       "[V21, V22]])"
      ]
     },
     "execution_count": 4,
     "metadata": {},
     "output_type": "execute_result"
    }
   ],
   "source": [
    "V"
   ]
  },
  {
   "cell_type": "code",
   "execution_count": 5,
   "id": "217c7c77",
   "metadata": {},
   "outputs": [
    {
     "data": {
      "text/latex": [
       "$\\displaystyle \\left[\\begin{matrix}s_{1} & 0\\\\0 & s_{2}\\end{matrix}\\right]$"
      ],
      "text/plain": [
       "Matrix([\n",
       "[s1,  0],\n",
       "[ 0, s2]])"
      ]
     },
     "execution_count": 5,
     "metadata": {},
     "output_type": "execute_result"
    }
   ],
   "source": [
    "S"
   ]
  },
  {
   "cell_type": "markdown",
   "id": "8d099a79",
   "metadata": {},
   "source": [
    "Define columns $v_1$ and $v_2$ of $V$, so we can write\n",
    "\n",
    "$$V = \\begin{bmatrix} v_1 & v_2 \\end{bmatrix}.$$"
   ]
  },
  {
   "cell_type": "code",
   "execution_count": 6,
   "id": "a19dfe5f",
   "metadata": {},
   "outputs": [],
   "source": [
    "v1 = V[:, 0]\n",
    "v2 = V[:, 1]"
   ]
  },
  {
   "cell_type": "code",
   "execution_count": 7,
   "id": "e7c6a025",
   "metadata": {},
   "outputs": [
    {
     "data": {
      "text/latex": [
       "$\\displaystyle \\left[\\begin{matrix}V_{11}\\\\V_{21}\\end{matrix}\\right]$"
      ],
      "text/plain": [
       "Matrix([\n",
       "[V11],\n",
       "[V21]])"
      ]
     },
     "execution_count": 7,
     "metadata": {},
     "output_type": "execute_result"
    }
   ],
   "source": [
    "v1"
   ]
  },
  {
   "cell_type": "code",
   "execution_count": 8,
   "id": "f75f9a83",
   "metadata": {},
   "outputs": [
    {
     "data": {
      "text/latex": [
       "$\\displaystyle \\left[\\begin{matrix}V_{11} & V_{12}\\\\V_{21} & V_{22}\\end{matrix}\\right]$"
      ],
      "text/plain": [
       "Matrix([\n",
       "[V11, V12],\n",
       "[V21, V22]])"
      ]
     },
     "execution_count": 8,
     "metadata": {},
     "output_type": "execute_result"
    }
   ],
   "source": [
    "V"
   ]
  },
  {
   "cell_type": "markdown",
   "id": "75021a80",
   "metadata": {},
   "source": [
    "Show that\n",
    "\n",
    "$$VS = \\begin{bmatrix} v_1s_1 & v_2s_2 \\end{bmatrix}.$$"
   ]
  },
  {
   "cell_type": "code",
   "execution_count": 9,
   "id": "8e5742db",
   "metadata": {},
   "outputs": [
    {
     "data": {
      "text/markdown": [
       "$$\\begin{align*}VS &=\\left[\\begin{matrix}V_{11} s_{1} & V_{12} s_{2}\\\\V_{21} s_{1} & V_{22} s_{2}\\end{matrix}\\right]\\\\[1em]\\begin{bmatrix} v_1s_1 & v_2s_2 \\end{bmatrix} &=\\left[\\begin{matrix}V_{11} s_{1} & V_{12} s_{2}\\\\V_{21} s_{1} & V_{22} s_{2}\\end{matrix}\\right]\\\\[1em]VS - \\begin{bmatrix} v_1s_1 & v_2s_2 \\end{bmatrix} &=\\left[\\begin{matrix}0 & 0\\\\0 & 0\\end{matrix}\\right]\\end{align*}$$"
      ],
      "text/plain": [
       "<IPython.core.display.Markdown object>"
      ]
     },
     "metadata": {},
     "output_type": "display_data"
    }
   ],
   "source": [
    "expr_1 = V @ S\n",
    "expr_2 = sym.Matrix.hstack(v1 * s1, v2 * s2)\n",
    "expr_diff = sym.simplify(expr_1 - expr_2)\n",
    "\n",
    "display(Markdown(\n",
    "    r'$$\\begin{align*}' + \\\n",
    "    r'VS &=' + sym.latex(expr_1) + r'\\\\[1em]' + \\\n",
    "    r'\\begin{bmatrix} v_1s_1 & v_2s_2 \\end{bmatrix} &=' + sym.latex(expr_2) + r'\\\\[1em]' \\\n",
    "    r'VS - \\begin{bmatrix} v_1s_1 & v_2s_2 \\end{bmatrix} &=' + sym.latex(expr_diff) + \\\n",
    "    r'\\end{align*}$$'\n",
    "))"
   ]
  },
  {
   "cell_type": "markdown",
   "id": "a9318d7b",
   "metadata": {},
   "source": [
    "Show that\n",
    "\n",
    "$$FV = \\begin{bmatrix} Fv_1 & Fv_2 \\end{bmatrix}.$$"
   ]
  },
  {
   "cell_type": "code",
   "execution_count": 10,
   "id": "a3e28ff1",
   "metadata": {},
   "outputs": [
    {
     "data": {
      "text/markdown": [
       "$$\\begin{align*}FV &=\\left[\\begin{matrix}F_{11} V_{11} + F_{12} V_{21} & F_{11} V_{12} + F_{12} V_{22}\\\\F_{21} V_{11} + F_{22} V_{21} & F_{21} V_{12} + F_{22} V_{22}\\end{matrix}\\right]\\\\[1em]\\begin{bmatrix} Fv_1 & Fv_2 \\end{bmatrix} &=\\left[\\begin{matrix}F_{11} V_{11} + F_{12} V_{21} & F_{11} V_{12} + F_{12} V_{22}\\\\F_{21} V_{11} + F_{22} V_{21} & F_{21} V_{12} + F_{22} V_{22}\\end{matrix}\\right]\\\\[1em]FV - \\begin{bmatrix} Fv_1 & Fv_2 \\end{bmatrix} &=\\left[\\begin{matrix}0 & 0\\\\0 & 0\\end{matrix}\\right]\\end{align*}$$"
      ],
      "text/plain": [
       "<IPython.core.display.Markdown object>"
      ]
     },
     "metadata": {},
     "output_type": "display_data"
    }
   ],
   "source": [
    "expr_1 = F @ V\n",
    "expr_2 = sym.Matrix.hstack(F @ v1, F @ v2)\n",
    "expr_diff = sym.simplify(expr_1 - expr_2)\n",
    "\n",
    "display(Markdown(\n",
    "    r'$$\\begin{align*}' + \\\n",
    "    r'FV &=' + sym.latex(expr_1) + r'\\\\[1em]' + \\\n",
    "    r'\\begin{bmatrix} Fv_1 & Fv_2 \\end{bmatrix} &=' + sym.latex(expr_2) + r'\\\\[1em]' \\\n",
    "    r'FV - \\begin{bmatrix} Fv_1 & Fv_2 \\end{bmatrix} &=' + sym.latex(expr_diff) + \\\n",
    "    r'\\end{align*}$$'\n",
    "))"
   ]
  },
  {
   "cell_type": "code",
   "execution_count": null,
   "id": "82ef18db",
   "metadata": {},
   "outputs": [],
   "source": []
  }
 ],
 "metadata": {
  "kernelspec": {
   "display_name": "Python 3 (ipykernel)",
   "language": "python",
   "name": "python3"
  },
  "language_info": {
   "codemirror_mode": {
    "name": "ipython",
    "version": 3
   },
   "file_extension": ".py",
   "mimetype": "text/x-python",
   "name": "python",
   "nbconvert_exporter": "python",
   "pygments_lexer": "ipython3",
   "version": "3.11.0"
  }
 },
 "nbformat": 4,
 "nbformat_minor": 5
}
