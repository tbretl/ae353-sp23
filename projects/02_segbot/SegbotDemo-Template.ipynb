{
 "cells": [
  {
   "cell_type": "markdown",
   "id": "middle-acoustic",
   "metadata": {},
   "source": [
    "# Differential drive robot (i.e., \"segbot\") in artificial gravity"
   ]
  },
  {
   "cell_type": "markdown",
   "id": "working-minority",
   "metadata": {},
   "source": [
    "Import modules and configure the notebook."
   ]
  },
  {
   "cell_type": "code",
   "execution_count": null,
   "id": "dimensional-contamination",
   "metadata": {},
   "outputs": [],
   "source": [
    "# This module is part of the python standard library\n",
    "import time\n",
    "\n",
    "# These modules are part of other existing libraries\n",
    "import numpy as np\n",
    "import matplotlib.pyplot as plt\n",
    "import ipywidgets as widgets\n",
    "from IPython.display import display\n",
    "import asyncio\n",
    "\n",
    "# This is my own script (it is an interface to the pybullet simulator)\n",
    "import ae353_segbot"
   ]
  },
  {
   "cell_type": "markdown",
   "id": "02b723c8",
   "metadata": {},
   "source": [
    "Create an instance of the `Simulator` class, which is an interface to the [pybullet](http://pybullet.org) simulation engine.\n",
    "\n",
    "There are several optional arguments:\n",
    "\n",
    "* `display` (`True` or `False`) is whether or not to show the simulation window;\n",
    "* `bumpy` (`True` or `False`) is whether or not the station is \"bumpy\"."
   ]
  },
  {
   "cell_type": "code",
   "execution_count": null,
   "id": "359ab3ab",
   "metadata": {},
   "outputs": [],
   "source": [
    "simulator = ae353_segbot.Simulator(\n",
    "    display=True,\n",
    "    bumpy=True,\n",
    ")"
   ]
  },
  {
   "cell_type": "markdown",
   "id": "cc2c9d86",
   "metadata": {},
   "source": [
    "Create a slider to allow steering the robot."
   ]
  },
  {
   "cell_type": "code",
   "execution_count": null,
   "id": "fd0421db",
   "metadata": {},
   "outputs": [],
   "source": [
    "slider = widgets.FloatSlider(\n",
    "    value=0.,\n",
    "    min=-3.,\n",
    "    max=3.,\n",
    "    step=0.01,\n",
    "    description='Centerline:',\n",
    "    disabled=False,\n",
    "    continuous_update=True,\n",
    "    orientation='horizontal',\n",
    "    readout=True,\n",
    "    readout_format='.2f',\n",
    "    layout=widgets.Layout(width='75%', border='solid 2px', margin='10px')\n",
    ")"
   ]
  },
  {
   "cell_type": "markdown",
   "id": "c1a0f224",
   "metadata": {},
   "source": [
    "Choose a camera view from the following options:\n",
    "* `camera_sideview()`\n",
    "* `camera_backview()`\n",
    "* `camera_wideview()`"
   ]
  },
  {
   "cell_type": "code",
   "execution_count": null,
   "id": "96875836",
   "metadata": {},
   "outputs": [],
   "source": [
    "simulator.camera_backview()"
   ]
  },
  {
   "cell_type": "markdown",
   "id": "75738c69",
   "metadata": {},
   "source": [
    "Define a controller that maps sensor measurements to actuator commands. By default, it chooses to apply zero torque to both the right and left wheels. Modify the `run` function to make the controller behave differently. This function will be called 100 times per second (i.e., at 100 Hz) by the simulator."
   ]
  },
  {
   "cell_type": "code",
   "execution_count": null,
   "id": "e8164ad0",
   "metadata": {},
   "outputs": [],
   "source": [
    "class Controller:\n",
    "    def __init__(self):\n",
    "        pass\n",
    "    \n",
    "    def reset(self):\n",
    "        pass\n",
    "    \n",
    "    def run(\n",
    "            self,\n",
    "            t,\n",
    "            lateral_error,\n",
    "            heading_error,\n",
    "            forward_speed,\n",
    "            turning_rate,\n",
    "            pitch_angle,\n",
    "            pitch_rate,\n",
    "        ):\n",
    "        \n",
    "        # FIXME: replace the following lines\n",
    "        right_wheel_torque = 0.\n",
    "        left_wheel_torque = 0.\n",
    "        \n",
    "        return right_wheel_torque, left_wheel_torque"
   ]
  },
  {
   "cell_type": "markdown",
   "id": "bc096551",
   "metadata": {},
   "source": [
    "Create an instance of the controller."
   ]
  },
  {
   "cell_type": "code",
   "execution_count": null,
   "id": "93300860",
   "metadata": {},
   "outputs": [],
   "source": [
    "controller = Controller()"
   ]
  },
  {
   "cell_type": "markdown",
   "id": "bcf56b66",
   "metadata": {},
   "source": [
    "Reset the simulator with given initial conditions. You may also change the angular velocity of the station if you like, but - beware! - doing so will change the amount of artificial gravity."
   ]
  },
  {
   "cell_type": "code",
   "execution_count": null,
   "id": "cf8a455d",
   "metadata": {},
   "outputs": [],
   "source": [
    "simulator.reset(\n",
    "    initial_speed=1.,\n",
    "    initial_lateral_error=0.,\n",
    "    initial_heading_error=0.,\n",
    "    initial_pitch=0.,\n",
    "    station_velocity=-0.5,\n",
    ")"
   ]
  },
  {
   "cell_type": "markdown",
   "id": "74613036",
   "metadata": {},
   "source": [
    "Reset the controller."
   ]
  },
  {
   "cell_type": "code",
   "execution_count": null,
   "id": "9a0fa5ff",
   "metadata": {},
   "outputs": [],
   "source": [
    "controller.reset()"
   ]
  },
  {
   "cell_type": "markdown",
   "id": "f724eeda",
   "metadata": {},
   "source": [
    "Reset the slider."
   ]
  },
  {
   "cell_type": "code",
   "execution_count": null,
   "id": "19b47e40",
   "metadata": {},
   "outputs": [],
   "source": [
    "slider.value = 0."
   ]
  },
  {
   "cell_type": "markdown",
   "id": "c326b31f",
   "metadata": {},
   "source": [
    "Run the simulator with steering. Note that this function runs **asynchronously** to allow user input. You **must** wait until the simulator finishes running before doing anything else in the notebook."
   ]
  },
  {
   "cell_type": "code",
   "execution_count": null,
   "id": "1b037ae2",
   "metadata": {},
   "outputs": [],
   "source": [
    "# Show the slider, to allow steering the robot\n",
    "display(slider)\n",
    "\n",
    "# Run the simulation asynchronously, to allow using the slider\n",
    "obj = asyncio.ensure_future(\n",
    "    simulator.run(\n",
    "        controller,           # <-- required (an instance of your Controller class)\n",
    "        max_time=5.0,         # <-- optional (how long you want to run the simulation in seconds)\n",
    "        data_filename=None,   # <-- optional (save data to this file, e.g., 'my_data.json')\n",
    "        video_filename=None,  # <-- optional (save video to this file, e.g., 'my_video.mov')\n",
    "        slider=slider,        # <-- optional (allow steering)\n",
    "        print_debug=True,     # <-- optional (say when the simulator has finished running)\n",
    "    )\n",
    ")"
   ]
  },
  {
   "cell_type": "markdown",
   "id": "a688b353",
   "metadata": {},
   "source": [
    "Get results of running the simulator with steering."
   ]
  },
  {
   "cell_type": "code",
   "execution_count": null,
   "id": "de960140",
   "metadata": {},
   "outputs": [],
   "source": [
    "if obj.done():\n",
    "    data = obj.result()\n",
    "else:\n",
    "    print('You cannot get results until after the simulator is done running.')"
   ]
  },
  {
   "cell_type": "markdown",
   "id": "99afc2e9",
   "metadata": {},
   "source": [
    "Run the simulator with no steering."
   ]
  },
  {
   "cell_type": "code",
   "execution_count": null,
   "id": "2828993d",
   "metadata": {},
   "outputs": [],
   "source": [
    "data = await simulator.run(\n",
    "    controller,           # <-- required (an instance of your Controller class)\n",
    "    max_time=5.0,         # <-- optional (how long you want to run the simulation in seconds)\n",
    "    data_filename=None,   # <-- optional (save data to this file, e.g., 'my_data.json')\n",
    "    video_filename=None,  # <-- optional (save video to this file, e.g., 'my_video.mov')\n",
    "    slider=None,          # <-- optional (allow no steering)\n",
    ")"
   ]
  },
  {
   "cell_type": "markdown",
   "id": "601a7926",
   "metadata": {},
   "source": [
    "Get, show, and save a snapshot of the simulation after the last time step."
   ]
  },
  {
   "cell_type": "code",
   "execution_count": null,
   "id": "0cff3241",
   "metadata": {},
   "outputs": [],
   "source": [
    "# Get snapshot as height x width x 4 numpy array of RGBA values\n",
    "rgba = simulator.snapshot()\n",
    "\n",
    "# Display snapshot\n",
    "plt.figure(figsize=(8, 8))\n",
    "plt.imshow(rgba)\n",
    "\n",
    "# Save snapshot\n",
    "plt.imsave('my_snapshot.png', rgba)"
   ]
  },
  {
   "cell_type": "markdown",
   "id": "58c95e55",
   "metadata": {},
   "source": [
    "Plot the results."
   ]
  },
  {
   "cell_type": "code",
   "execution_count": null,
   "id": "0ff24bb2",
   "metadata": {},
   "outputs": [],
   "source": [
    "# Create a figure with three subplots, all of which share the same x-axis\n",
    "fig, (ax_pos, ax_vel, ax_pitch, ax_torque) = plt.subplots(4, 1, figsize=(8, 8), sharex=True)\n",
    "\n",
    "# Plot lateral and heading error\n",
    "ax_pos.plot(\n",
    "    data['t'], data['lateral_error'],\n",
    "    label='lateral_error (m)', linewidth=4,\n",
    ")\n",
    "ax_pos.plot(\n",
    "    data['t'], data['heading_error'],\n",
    "    '--', label='heading_error (rad)', linewidth=4,\n",
    ")\n",
    "ax_pos.grid()\n",
    "ax_pos.legend(fontsize=16)\n",
    "ax_pos.tick_params(labelsize=14)\n",
    "\n",
    "# Plot forward speed and turning rate\n",
    "ax_vel.plot(\n",
    "    data['t'], data['forward_speed'],\n",
    "    label='forward speed (m/s)', linewidth=4,\n",
    ")\n",
    "ax_vel.plot(\n",
    "    data['t'], data['turning_rate'],\n",
    "    '--', label='turning rate (rad / s)', linewidth=4,\n",
    ")\n",
    "ax_vel.grid()\n",
    "ax_vel.legend(fontsize=16)\n",
    "ax_vel.tick_params(labelsize=14)\n",
    "\n",
    "# Plot pitch angle and pitch rate\n",
    "ax_pitch.plot(\n",
    "    data['t'], data['pitch_angle'],\n",
    "    label='pitch angle (rad)', linewidth=4,\n",
    ")\n",
    "ax_pitch.plot(\n",
    "    data['t'], data['pitch_rate'],\n",
    "    '--', label='pitch rate (rad)', linewidth=4,\n",
    ")\n",
    "ax_pitch.grid()\n",
    "ax_pitch.legend(fontsize=16)\n",
    "ax_pitch.tick_params(labelsize=14)\n",
    "\n",
    "# Plot torques\n",
    "ax_torque.plot(\n",
    "    data['t'], data['right_wheel_torque_command'],\n",
    "    label='right wheel torque command (N-m)', linewidth=4,\n",
    ")\n",
    "ax_torque.plot(\n",
    "    data['t'], data['right_wheel_torque'],\n",
    "    '--', label='right wheel torque (N-m)', linewidth=4,\n",
    ")\n",
    "ax_torque.plot(\n",
    "    data['t'], data['left_wheel_torque_command'],\n",
    "    label='left wheel torque command (N-m)', linewidth=4,\n",
    ")\n",
    "ax_torque.plot(\n",
    "    data['t'], data['left_wheel_torque'],\n",
    "    '--', label='left wheel torque (N-m)', linewidth=4,\n",
    ")\n",
    "ax_torque.plot(\n",
    "    data['t'], -np.ones_like(data['t']) * simulator.tau_max,\n",
    "    ':', linewidth=4, color='C4', zorder=0,\n",
    ")\n",
    "ax_torque.plot(\n",
    "    data['t'], np.ones_like(data['t']) * simulator.tau_max,\n",
    "    ':', linewidth=4, color='C4', zorder=0,\n",
    ")\n",
    "ax_torque.grid()\n",
    "ax_torque.legend(fontsize=16)\n",
    "ax_torque.tick_params(labelsize=14)\n",
    "ax_torque.set_ylim(-1.2 * simulator.tau_max, 1.2 * simulator.tau_max)\n",
    "\n",
    "# Set x-axis properties (only need to do this on the last\n",
    "# subplot since all subplots share the same x-axis)\n",
    "ax_torque.set_xlabel('time (s)', fontsize=20)\n",
    "ax_torque.set_xlim([data['t'][0], data['t'][-1]])\n",
    "\n",
    "# Make the arrangement of subplots look nice\n",
    "fig.tight_layout()"
   ]
  },
  {
   "cell_type": "markdown",
   "id": "407559d4",
   "metadata": {},
   "source": [
    "Save the figure (without transparent background)."
   ]
  },
  {
   "cell_type": "code",
   "execution_count": null,
   "id": "5d3c1b22",
   "metadata": {},
   "outputs": [],
   "source": [
    "fig.savefig('my_figure.png', facecolor='white', transparent=False)"
   ]
  }
 ],
 "metadata": {
  "kernelspec": {
   "display_name": "Python 3 (ipykernel)",
   "language": "python",
   "name": "python3"
  },
  "language_info": {
   "codemirror_mode": {
    "name": "ipython",
    "version": 3
   },
   "file_extension": ".py",
   "mimetype": "text/x-python",
   "name": "python",
   "nbconvert_exporter": "python",
   "pygments_lexer": "ipython3",
   "version": "3.11.0"
  }
 },
 "nbformat": 4,
 "nbformat_minor": 5
}
