{
 "cells": [
  {
   "cell_type": "markdown",
   "id": "occasional-george",
   "metadata": {},
   "source": [
    "# Equations of motion for control moment gyroscope"
   ]
  },
  {
   "cell_type": "code",
   "execution_count": null,
   "id": "sitting-discount",
   "metadata": {},
   "outputs": [],
   "source": [
    "import sympy as sym\n",
    "import numpy as np"
   ]
  },
  {
   "cell_type": "markdown",
   "id": "delayed-central",
   "metadata": {},
   "source": [
    "The `sympy.physics.mechanics` module makes it easier to work with (and display) time derivatives."
   ]
  },
  {
   "cell_type": "code",
   "execution_count": null,
   "id": "dressed-frank",
   "metadata": {},
   "outputs": [],
   "source": [
    "from sympy.physics import mechanics\n",
    "mechanics.init_vprinting()"
   ]
  },
  {
   "cell_type": "markdown",
   "id": "greater-weekend",
   "metadata": {},
   "source": [
    "Define parameters in symbolic form."
   ]
  },
  {
   "cell_type": "code",
   "execution_count": null,
   "id": "aa1f1399",
   "metadata": {},
   "outputs": [],
   "source": [
    "# Principal moments of inertia\n",
    "J_1x, J_1y, J_1z = sym.symbols('J_1x, J_1y, J_1z')\n",
    "J_2x, J_2y, J_2z = sym.symbols('J_2x, J_2y, J_2z')\n",
    "J_3x, J_3y, J_3z = sym.symbols('J_3x, J_3y, J_3z')\n",
    "\n",
    "# Moment of inertia matrices in body-fixed reference frames\n",
    "J1 = sym.Matrix.diag(J_1x, J_1y, J_1z)\n",
    "J2 = sym.Matrix.diag(J_2x, J_2y, J_2z)\n",
    "J3 = sym.Matrix.diag(J_3x, J_3y, J_3z)\n",
    "\n",
    "# Spar length\n",
    "r = sym.symbols('r')\n",
    "\n",
    "# Load mass\n",
    "m = sym.symbols('m')\n",
    "\n",
    "# Acceleration of gravity\n",
    "g = sym.symbols('g')"
   ]
  },
  {
   "cell_type": "markdown",
   "id": "mental-mileage",
   "metadata": {},
   "source": [
    "Define variables."
   ]
  },
  {
   "cell_type": "code",
   "execution_count": null,
   "id": "ordered-extra",
   "metadata": {},
   "outputs": [],
   "source": [
    "# Time\n",
    "t = sym.Symbol('t')\n",
    "\n",
    "# Joint angles:\n",
    "q1, q2, q3 = mechanics.dynamicsymbols('q1, q2, q3')\n",
    "\n",
    "# Joint velocities\n",
    "v1 = q1.diff(t)\n",
    "v2 = q2.diff(t)\n",
    "v3 = q3.diff(t)\n",
    "\n",
    "# Joint accelerations\n",
    "a1 = v1.diff(t)\n",
    "a2 = v2.diff(t)\n",
    "a3 = v3.diff(t)\n",
    "\n",
    "# Torques:\n",
    "tau2, tau3 = sym.symbols('tau2, tau3')"
   ]
  },
  {
   "cell_type": "markdown",
   "id": "distant-roman",
   "metadata": {},
   "source": [
    "Compute angular velocity of each link with respect to body-fixed reference frames (the choice of frame is very important - using a space-fixed reference frame is a common mistake)."
   ]
  },
  {
   "cell_type": "code",
   "execution_count": null,
   "id": "rental-adapter",
   "metadata": {},
   "outputs": [],
   "source": [
    "c1 = sym.cos(q1)\n",
    "s1 = sym.sin(q1)\n",
    "R_p_in_w = sym.Matrix([[c1, -s1, 0], [s1, c1, 0], [0, 0, 1]])\n",
    "\n",
    "c2 = sym.cos(q2)\n",
    "s2 = sym.sin(q2)\n",
    "R_g_in_p = sym.Matrix([[1, 0, 0], [0, c2, -s2], [0, s2, c2]])\n",
    "\n",
    "w1 = sym.Matrix([[0], [0], [v1]])\n",
    "w2 = R_p_in_w.T * w1 + sym.Matrix([[v2], [0], [0]])\n",
    "w3 = R_g_in_p.T * w2 + sym.Matrix([[0], [-v3], [0]])\n",
    "\n",
    "# Show result\n",
    "w1, w2, w3"
   ]
  },
  {
   "cell_type": "markdown",
   "id": "eff8de8e",
   "metadata": {},
   "source": [
    "Compute position and velocity of load mass."
   ]
  },
  {
   "cell_type": "code",
   "execution_count": null,
   "id": "aaac2a0f",
   "metadata": {},
   "outputs": [],
   "source": [
    "p = R_p_in_w * sym.Matrix([-r, 0, 0])\n",
    "v = p.diff(t)\n",
    "\n",
    "# Show result\n",
    "p, v"
   ]
  },
  {
   "cell_type": "markdown",
   "id": "antique-climb",
   "metadata": {},
   "source": [
    "Compute Lagrangian."
   ]
  },
  {
   "cell_type": "code",
   "execution_count": null,
   "id": "tutorial-cleaning",
   "metadata": {},
   "outputs": [],
   "source": [
    "T = ((w1.T * J1 * w1) + (w2.T * J2 * w2) + (w3.T * J3 * w3) + (v.T * m * v)) / 2\n",
    "V = m * g * (sym.Matrix([1, 0, 0]).T * p)\n",
    "L = sym.simplify(T - V)\n",
    "\n",
    "# Show result\n",
    "L"
   ]
  },
  {
   "cell_type": "markdown",
   "id": "distinguished-poultry",
   "metadata": {},
   "source": [
    "Compute equations of motion."
   ]
  },
  {
   "cell_type": "code",
   "execution_count": null,
   "id": "crude-acquisition",
   "metadata": {},
   "outputs": [],
   "source": [
    "EOM = L.jacobian([v1, v2, v3]).diff(t) - L.jacobian([q1, q2, q3]) - sym.Matrix([0, tau2, tau3]).T"
   ]
  },
  {
   "cell_type": "markdown",
   "id": "meaning-disposal",
   "metadata": {},
   "source": [
    "Simplify equations of motion by solving for accelerations."
   ]
  },
  {
   "cell_type": "code",
   "execution_count": null,
   "id": "usual-oliver",
   "metadata": {},
   "outputs": [],
   "source": [
    "sol = sym.solve(EOM, [a1, a2, a3])\n",
    "h = sym.together(sym.simplify(sym.Matrix([sol[a1], sol[a2], sol[a3]]), full=True))"
   ]
  },
  {
   "cell_type": "markdown",
   "id": "46fcb948",
   "metadata": {},
   "source": [
    "Assume $\\tau_3=0$ and look only at the equations of motion that govern the platform and the gimbal:"
   ]
  },
  {
   "cell_type": "code",
   "execution_count": null,
   "id": "4adb0509",
   "metadata": {},
   "outputs": [],
   "source": [
    "h = h[0:2, 0].subs(tau3, 0)"
   ]
  },
  {
   "cell_type": "markdown",
   "id": "bc4b6686",
   "metadata": {},
   "source": [
    "Display the vector-valued function $h$ for which the equations of motion can be written as\n",
    "\n",
    "$$\\begin{bmatrix} \\ddot{q}_1 \\\\ \\ddot{q}_2 \\end{bmatrix} = h(q_1, q_2, \\dot{q}_1, \\dot{q}_2, \\tau_2)$$\n",
    "\n",
    "where everything else (mass and inertial parameters, spar length, acceleration of gravity, and rotor velocity $\\dot{q}_3$) is assumed constant."
   ]
  },
  {
   "cell_type": "code",
   "execution_count": null,
   "id": "3b479b59",
   "metadata": {},
   "outputs": [],
   "source": [
    "h"
   ]
  },
  {
   "cell_type": "markdown",
   "id": "collected-zoning",
   "metadata": {},
   "source": [
    "Display $h$ as latex-formatted text that could be copy/pasted into a $\\LaTeX$ document (or into markdown)."
   ]
  },
  {
   "cell_type": "code",
   "execution_count": null,
   "id": "electoral-hotel",
   "metadata": {},
   "outputs": [],
   "source": [
    "print(f'{mechanics.mlatex(h)}')"
   ]
  }
 ],
 "metadata": {
  "kernelspec": {
   "display_name": "Python 3 (ipykernel)",
   "language": "python",
   "name": "python3"
  },
  "language_info": {
   "codemirror_mode": {
    "name": "ipython",
    "version": 3
   },
   "file_extension": ".py",
   "mimetype": "text/x-python",
   "name": "python",
   "nbconvert_exporter": "python",
   "pygments_lexer": "ipython3",
   "version": "3.11.0"
  }
 },
 "nbformat": 4,
 "nbformat_minor": 5
}
