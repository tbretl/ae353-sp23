{
 "cells": [
  {
   "cell_type": "markdown",
   "id": "middle-acoustic",
   "metadata": {},
   "source": [
    "# Quadrotor (aka \"the drone\")"
   ]
  },
  {
   "cell_type": "markdown",
   "id": "future-divide",
   "metadata": {},
   "source": [
    "## Example of how to set everything up (do this only once)"
   ]
  },
  {
   "cell_type": "markdown",
   "id": "faced-least",
   "metadata": {},
   "source": [
    "Import modules."
   ]
  },
  {
   "cell_type": "code",
   "execution_count": null,
   "id": "informed-qatar",
   "metadata": {},
   "outputs": [],
   "source": [
    "import os\n",
    "import time\n",
    "import numpy as np\n",
    "import matplotlib.pyplot as plt\n",
    "import secrets\n",
    "import ae353_drone\n",
    "\n",
    "# Suppress the use of scientific notation when printing small numbers\n",
    "np.set_printoptions(suppress=True)"
   ]
  },
  {
   "cell_type": "markdown",
   "id": "final-distinction",
   "metadata": {},
   "source": [
    "Create and print a seed for the random number generator so it is possible to reproduce the results. Here are a few best practices:\n",
    "\n",
    "* By default, keep this code unchanged.\n",
    "* When producing final results for your report, (1) run this cell once to create a seed, (2) copy/paste this seed into the line of code that creates a simulator, and (3) replace the code cell that creates a seed with a markdown cell saying that you took this approach to choose a seed for testing."
   ]
  },
  {
   "cell_type": "code",
   "execution_count": null,
   "id": "ceramic-evanescence",
   "metadata": {},
   "outputs": [],
   "source": [
    "seed = secrets.randbits(32)\n",
    "print(seed)"
   ]
  },
  {
   "cell_type": "markdown",
   "id": "environmental-refrigerator",
   "metadata": {},
   "source": [
    "Create simulator with seed. Here are a few best practices:\n",
    "\n",
    "* By default, use `display=True`.\n",
    "* If your simulator runs much slower than real-time, try `display=False` and `display_pybullet=True`.\n",
    "* When producing aggregate results, use `display=False` and `display_pybullet=False`."
   ]
  },
  {
   "cell_type": "code",
   "execution_count": null,
   "id": "needed-motion",
   "metadata": {},
   "outputs": [],
   "source": [
    "simulator = ae353_drone.Simulator(\n",
    "    display=True,\n",
    "    display_pybullet=False,\n",
    "    seed=seed,\n",
    ")"
   ]
  },
  {
   "cell_type": "markdown",
   "id": "strategic-moore",
   "metadata": {},
   "source": [
    "## Example of how to add a drone and run a simulation"
   ]
  },
  {
   "cell_type": "markdown",
   "id": "f0f1d092",
   "metadata": {},
   "source": [
    "Clear all drones (there aren't any yet, if you are running this notebook from the start, but we call this function just in case)."
   ]
  },
  {
   "cell_type": "code",
   "execution_count": null,
   "id": "69d0a794",
   "metadata": {},
   "outputs": [],
   "source": [
    "simulator.clear_drones()"
   ]
  },
  {
   "cell_type": "markdown",
   "id": "electronic-repository",
   "metadata": {},
   "source": [
    "Define a controller for the drone."
   ]
  },
  {
   "cell_type": "code",
   "execution_count": null,
   "id": "mathematical-emphasis",
   "metadata": {},
   "outputs": [],
   "source": [
    "class Controller:\n",
    "    def __init__(self):\n",
    "        \"\"\"\n",
    "        List all class variables you want the simulator to log. For\n",
    "        example, if you want the simulator to log \"self.xhat\", then\n",
    "        do this:\n",
    "        \n",
    "            self.variables_to_log = ['xhat']\n",
    "        \n",
    "        Similarly, if you want the simulator to log \"self.xhat\" and\n",
    "        \"self.y\", then do this:\n",
    "        \n",
    "            self.variables_to_log = ['xhat', 'y']\n",
    "        \n",
    "        Etc. These variables have to exist in order to be logged.\n",
    "        \"\"\"\n",
    "        self.variables_to_log = []\n",
    "\n",
    "    def get_color(self):\n",
    "        \"\"\"\n",
    "        If desired, change these three numbers - RGB values between\n",
    "        0 and 1 - to change the color of your drone.\n",
    "        \"\"\"\n",
    "        return [\n",
    "            0., # <-- how much red (between 0 and 1)\n",
    "            1., # <-- how much green (between 0 and 1)\n",
    "            0., # <-- how much blue (between 0 and 1)\n",
    "        ]\n",
    "\n",
    "    def reset(\n",
    "            self,\n",
    "            p_x, p_y, p_z, # <-- approximate initial position of drone (meters)\n",
    "            yaw,           # <-- approximate initial yaw angle of drone (radians)\n",
    "        ):\n",
    "        \"\"\"\n",
    "        Replace the following line (a placeholder) with your\n",
    "        own code.\n",
    "        \"\"\"\n",
    "        pass\n",
    "\n",
    "    def run(\n",
    "            self,\n",
    "            pos_markers,\n",
    "            pos_ring,\n",
    "            dir_ring,\n",
    "            is_last_ring,                 # <-- True if next ring is the last ring, False otherwise\n",
    "            pos_others,                   # <-- 2d array of size n x 3, where n is the number\n",
    "                                          #     of all *other* drones - the ith row in this array\n",
    "                                          #     has the coordinates [x_i, y_i, z_i], in meters, of\n",
    "                                          #     the ith other drone\n",
    "        ):\n",
    "        \"\"\"\n",
    "        pos_markers is a 1d array of length 6:\n",
    "        \n",
    "            [\n",
    "                measured x position of marker on front rotor (meters),\n",
    "                measured y position of marker on front rotor (meters),\n",
    "                measured z position of marker on front rotor (meters),\n",
    "                measured x position of marker on back rotor (meters),\n",
    "                measured y position of marker on back rotor (meters),\n",
    "                measured z position of marker on back rotor (meters),\n",
    "            ]\n",
    "        \n",
    "        pos_ring is a 1d array of length 3:\n",
    "        \n",
    "            [\n",
    "                x position of next ring center (meters),\n",
    "                y position of next ring center (meters),\n",
    "                z position of next ring center (meters),\n",
    "            ]\n",
    "        \n",
    "        dir_ring is a 1d array of length 3:\n",
    "        \n",
    "            [\n",
    "                x component of vector normal to next ring (meters),\n",
    "                y component of vector normal to next ring (meters),\n",
    "                z component of vector normal to next ring (meters),\n",
    "            ]\n",
    "        \n",
    "        is_last_ring is a boolean that is True if the next ring is the\n",
    "                     last ring, and False otherwise\n",
    "        \n",
    "        pos_others is a 2d array of size n x 3, where n is the number of\n",
    "                   all *other* drones:\n",
    "            \n",
    "            [\n",
    "                [x_1, y_1, z_1], # <-- position of 1st drone (meters)\n",
    "                [x_2, y_2, z_2], # <-- position of 2nd drone (meters)\n",
    "                \n",
    "                ...\n",
    "                \n",
    "                [x_n, y_n, z_n], # <-- position of nth drone (meters)\n",
    "            ]      \n",
    "        \"\"\"\n",
    "        \n",
    "        tau_x = 0.\n",
    "        tau_y = 0.\n",
    "        tau_z = 0.\n",
    "        f_z = 0.\n",
    "\n",
    "        return tau_x, tau_y, tau_z, f_z"
   ]
  },
  {
   "cell_type": "markdown",
   "id": "9f1dd2ee",
   "metadata": {},
   "source": [
    "Add the drone to the simulator. There are three arguments:\n",
    "\n",
    "* `Controller` is the class definition\n",
    "* `'template'` is the name of the drone\n",
    "* `'template.png'` is the name of an image to use as a label (can be `None`, can be a file path)\n",
    "\n",
    "You can call this function more than once, so long as you call it with a different drone name each time. An exception will be raised if you try to add two drones of the same name to the simulator."
   ]
  },
  {
   "cell_type": "code",
   "execution_count": null,
   "id": "164c306e",
   "metadata": {},
   "outputs": [],
   "source": [
    "simulator.add_drone(Controller, 'template', 'template.png')"
   ]
  },
  {
   "cell_type": "markdown",
   "id": "basic-variance",
   "metadata": {},
   "source": [
    "Reset the drone (i.e., place it at a random location in the start ring)."
   ]
  },
  {
   "cell_type": "code",
   "execution_count": null,
   "id": "scientific-friendly",
   "metadata": {},
   "outputs": [],
   "source": [
    "simulator.reset()"
   ]
  },
  {
   "cell_type": "markdown",
   "id": "dress-product",
   "metadata": {},
   "source": [
    "Run simulation until `max_time` is reached or until the drone has either reached the finish ring or been disqualified."
   ]
  },
  {
   "cell_type": "code",
   "execution_count": null,
   "id": "streaming-narrative",
   "metadata": {},
   "outputs": [],
   "source": [
    "simulator.run(\n",
    "    max_time=5.,       # <-- if None, then simulation will run until all drones fail or finish\n",
    "    print_debug=True,  # <-- if False, then nothing will be printed (good for data collection)\n",
    ")"
   ]
  },
  {
   "cell_type": "markdown",
   "id": "registered-faith",
   "metadata": {},
   "source": [
    "## Example of how to get and plot results\n",
    "\n",
    "Assume that we already did two things:\n",
    "\n",
    "* Added a drone with the name `template` to the simulator\n",
    "* Ran the simulation"
   ]
  },
  {
   "cell_type": "markdown",
   "id": "ec57964f",
   "metadata": {},
   "source": [
    "Get result."
   ]
  },
  {
   "cell_type": "code",
   "execution_count": null,
   "id": "e41d5a61",
   "metadata": {},
   "outputs": [],
   "source": [
    "(\n",
    "    did_it_fail,\n",
    "    did_it_finish,\n",
    "    what_time_did_it_finish,\n",
    ") = simulator.get_result('template')"
   ]
  },
  {
   "cell_type": "markdown",
   "id": "8967e6bd",
   "metadata": {},
   "source": [
    "Show result."
   ]
  },
  {
   "cell_type": "code",
   "execution_count": null,
   "id": "7d2272c6",
   "metadata": {},
   "outputs": [],
   "source": [
    "if did_it_fail:\n",
    "    print('The drone failed before finishing.')\n",
    "elif did_it_finish:\n",
    "    print(f'The drone finished at time {what_time_did_it_finish}')\n",
    "else:\n",
    "    print('The drone did not finish (yet).')"
   ]
  },
  {
   "cell_type": "markdown",
   "id": "polished-advisory",
   "metadata": {},
   "source": [
    "Get data."
   ]
  },
  {
   "cell_type": "code",
   "execution_count": null,
   "id": "liked-handle",
   "metadata": {},
   "outputs": [],
   "source": [
    "data = simulator.get_data('template')"
   ]
  },
  {
   "cell_type": "markdown",
   "id": "cognitive-nomination",
   "metadata": {},
   "source": [
    "Plot data."
   ]
  },
  {
   "cell_type": "code",
   "execution_count": null,
   "id": "57d41980",
   "metadata": {},
   "outputs": [],
   "source": [
    "# Create a figure with subplots that all share the same x-axis\n",
    "fig, (ax_meas, ax_pos, ax_ori, ax_act) = plt.subplots(4, 1, figsize=(12, 12), sharex=True)\n",
    "\n",
    "# Measurements\n",
    "ax_meas.plot(data['t'], data['pos_markers'][:, 0], '.', markersize=4, label=r'$p_{F, x}$')\n",
    "ax_meas.plot(data['t'], data['pos_markers'][:, 1], '.', markersize=4, label=r'$p_{F, y}$')\n",
    "ax_meas.plot(data['t'], data['pos_markers'][:, 2], '.', markersize=4, label=r'$p_{F, z}$')\n",
    "ax_meas.plot(data['t'], data['pos_markers'][:, 3], '.', markersize=4, label=r'$p_{B, x}$')\n",
    "ax_meas.plot(data['t'], data['pos_markers'][:, 4], '.', markersize=4, label=r'$p_{B, y}$')\n",
    "ax_meas.plot(data['t'], data['pos_markers'][:, 5], '.', markersize=4, label=r'$p_{B, z}$')\n",
    "ax_meas.grid()\n",
    "ax_meas.legend(fontsize=16, bbox_to_anchor=(1., 1.))\n",
    "ax_meas.tick_params(labelsize=14)\n",
    "\n",
    "# Position\n",
    "ax_pos.plot(data['t'], data['p_x'], label='x (m)', linewidth=3, color='C0')\n",
    "ax_pos.plot(data['t'], data['p_y'], label='y (m)', linewidth=3, color='C1')\n",
    "ax_pos.plot(data['t'], data['p_z'], label='z (m)', linewidth=3, color='C2')\n",
    "ax_pos.grid()\n",
    "ax_pos.legend(fontsize=16, bbox_to_anchor=(1., 1.))\n",
    "ax_pos.tick_params(labelsize=14)\n",
    "\n",
    "# Orientation\n",
    "ax_ori.plot(data['t'], data['yaw'], label='yaw (rad)', linewidth=3)\n",
    "ax_ori.plot(data['t'], data['pitch'], label='pitch (rad)', linewidth=3)\n",
    "ax_ori.plot(data['t'], data['roll'], label='roll (rad)', linewidth=3)\n",
    "ax_ori.grid()\n",
    "ax_ori.legend(fontsize=16, bbox_to_anchor=(1., 1.))\n",
    "ax_ori.tick_params(labelsize=14)\n",
    "\n",
    "# Actuator commands\n",
    "ax_act.plot(data['t'], data['tau_x'], label='tau_x (N-m)', linewidth=4)\n",
    "ax_act.plot(data['t'], data['tau_x_cmd'], '--', label='commanded tau_x (N-m)', linewidth=4)\n",
    "ax_act.plot(data['t'], data['tau_y'], label='tau_y (N-m)', linewidth=4)\n",
    "ax_act.plot(data['t'], data['tau_y_cmd'], '--', label='commanded tau_y (N-m)', linewidth=4)\n",
    "ax_act.plot(data['t'], data['tau_z'], label='tau_z (N-m)', linewidth=4)\n",
    "ax_act.plot(data['t'], data['tau_z_cmd'], '--', label='commanded tau_z (N-m)', linewidth=4)\n",
    "ax_act.plot(data['t'], data['f_z'] - (0.5 * 9.81), label='f_z - m g (N)', linewidth=4) # <-- FIXME\n",
    "ax_act.plot(data['t'], data['f_z_cmd'] - (0.5 * 9.81), '--', label='commanded f_z - m g (N)', linewidth=4) # <-- FIXME\n",
    "ax_act.grid()\n",
    "ax_act.legend(fontsize=16, bbox_to_anchor=(1., 1.))\n",
    "ax_act.tick_params(labelsize=14)\n",
    "\n",
    "# Set shared x-axis properties\n",
    "ax_act.set_xlabel('time (s)', fontsize=20)\n",
    "ax_act.set_xlim([data['t'][0], data['t'][-1]])\n",
    "\n",
    "# Make the arrangement of subplots look nice\n",
    "fig.tight_layout()\n",
    "plt.show()"
   ]
  },
  {
   "cell_type": "markdown",
   "id": "03d089f6",
   "metadata": {},
   "source": [
    "Save the figure (without transparent background). Here are some best practices:\n",
    "\n",
    "* Use the extension `.png` for rasterized, low-res images (e.g., to include in a notebook or on a website).\n",
    "* Use the extension `.pdf` for vectorized, high-res images (e.g., to include in a report)."
   ]
  },
  {
   "cell_type": "code",
   "execution_count": null,
   "id": "8a97dcec",
   "metadata": {},
   "outputs": [],
   "source": [
    "fig.savefig('my_figure.png', facecolor='white', transparent=False)"
   ]
  },
  {
   "cell_type": "markdown",
   "id": "0439cf3a",
   "metadata": {},
   "source": [
    "Plot histogram of controller run times."
   ]
  },
  {
   "cell_type": "code",
   "execution_count": null,
   "id": "4921eddc",
   "metadata": {},
   "outputs": [],
   "source": [
    "plt.hist(data['run_time'])\n",
    "plt.ticklabel_format(style='scientific', scilimits=(0, 0), axis='x')\n",
    "plt.tick_params(labelsize=14)\n",
    "plt.xlabel('run time (s)', fontsize=14)\n",
    "plt.ylabel('count', fontsize=14)\n",
    "plt.tight_layout()\n",
    "plt.show()"
   ]
  },
  {
   "cell_type": "markdown",
   "id": "9155e43b",
   "metadata": {},
   "source": [
    "Note that it is required to also plot state estimates (in comparison to states) in order to check that your observer is working - no example is provided here, since no state estimates are being generated by the template `Controller` class."
   ]
  },
  {
   "cell_type": "markdown",
   "id": "secondary-condition",
   "metadata": {},
   "source": [
    "## Example of how to load drones from the \"students\" directory"
   ]
  },
  {
   "cell_type": "markdown",
   "id": "2cb89282",
   "metadata": {},
   "source": [
    "Clear all drones."
   ]
  },
  {
   "cell_type": "code",
   "execution_count": null,
   "id": "9658851c",
   "metadata": {},
   "outputs": [],
   "source": [
    "simulator.clear_drones()"
   ]
  },
  {
   "cell_type": "markdown",
   "id": "proprietary-camel",
   "metadata": {},
   "source": [
    "Load drones from `students` directory."
   ]
  },
  {
   "cell_type": "code",
   "execution_count": null,
   "id": "adolescent-anime",
   "metadata": {},
   "outputs": [],
   "source": [
    "failures = simulator.load_drones()"
   ]
  },
  {
   "cell_type": "markdown",
   "id": "progressive-catch",
   "metadata": {},
   "source": [
    "Reset drones (places drones at random positions within the start ring)."
   ]
  },
  {
   "cell_type": "code",
   "execution_count": null,
   "id": "noted-filter",
   "metadata": {},
   "outputs": [],
   "source": [
    "simulator.reset()"
   ]
  },
  {
   "cell_type": "markdown",
   "id": "broke-water",
   "metadata": {},
   "source": [
    "Run simulation for `max_time` seconds or until all drones finish."
   ]
  },
  {
   "cell_type": "code",
   "execution_count": null,
   "id": "russian-thunder",
   "metadata": {},
   "outputs": [],
   "source": [
    "simulator.run(max_time=5.0)"
   ]
  },
  {
   "cell_type": "markdown",
   "id": "small-nation",
   "metadata": {},
   "source": [
    "## Example of how to show results, change views, keep running"
   ]
  },
  {
   "cell_type": "markdown",
   "id": "engaged-award",
   "metadata": {},
   "source": [
    "Show results (so far)."
   ]
  },
  {
   "cell_type": "code",
   "execution_count": null,
   "id": "exclusive-orlando",
   "metadata": {},
   "outputs": [],
   "source": [
    "simulator.show_results()"
   ]
  },
  {
   "cell_type": "markdown",
   "id": "superior-sydney",
   "metadata": {},
   "source": [
    "View from behind a particular drone (assuming one exists that is named `template`)."
   ]
  },
  {
   "cell_type": "code",
   "execution_count": null,
   "id": "cutting-ecuador",
   "metadata": {},
   "outputs": [],
   "source": [
    "simulator.camera_droneview('template')"
   ]
  },
  {
   "cell_type": "markdown",
   "id": "american-corpus",
   "metadata": {},
   "source": [
    "Continue running simulation from same point for `max_time` seconds or until all drones either finish or are disqualified."
   ]
  },
  {
   "cell_type": "code",
   "execution_count": null,
   "id": "known-retail",
   "metadata": {},
   "outputs": [],
   "source": [
    "simulator.run(max_time=5.0)"
   ]
  },
  {
   "cell_type": "markdown",
   "id": "herbal-twenty",
   "metadata": {},
   "source": [
    "View from finish ring instead of from start ring."
   ]
  },
  {
   "cell_type": "code",
   "execution_count": null,
   "id": "trained-martin",
   "metadata": {},
   "outputs": [],
   "source": [
    "simulator.camera_finishview()"
   ]
  },
  {
   "cell_type": "markdown",
   "id": "joined-nature",
   "metadata": {},
   "source": [
    "Continue running simulation from same point for `max_time` seconds or until all drones finish."
   ]
  },
  {
   "cell_type": "code",
   "execution_count": null,
   "id": "supposed-amplifier",
   "metadata": {},
   "outputs": [],
   "source": [
    "simulator.run(max_time=5.0)"
   ]
  },
  {
   "cell_type": "markdown",
   "id": "engaged-indonesian",
   "metadata": {},
   "source": [
    "Show results (so far)."
   ]
  },
  {
   "cell_type": "code",
   "execution_count": null,
   "id": "minor-superintendent",
   "metadata": {},
   "outputs": [],
   "source": [
    "simulator.show_results()"
   ]
  },
  {
   "cell_type": "markdown",
   "id": "earned-somewhere",
   "metadata": {},
   "source": [
    "## Example of how to clear and reload drones"
   ]
  },
  {
   "cell_type": "markdown",
   "id": "civilian-interface",
   "metadata": {},
   "source": [
    "Clear all drones."
   ]
  },
  {
   "cell_type": "code",
   "execution_count": null,
   "id": "economic-miller",
   "metadata": {},
   "outputs": [],
   "source": [
    "simulator.clear_drones()"
   ]
  },
  {
   "cell_type": "markdown",
   "id": "smoking-animation",
   "metadata": {},
   "source": [
    "Load drones again from `students` directory."
   ]
  },
  {
   "cell_type": "code",
   "execution_count": null,
   "id": "rental-member",
   "metadata": {},
   "outputs": [],
   "source": [
    "failures = simulator.load_drones()"
   ]
  },
  {
   "cell_type": "markdown",
   "id": "democratic-advocacy",
   "metadata": {},
   "source": [
    "Reset drones (places drones at random positions within the start ring)."
   ]
  },
  {
   "cell_type": "code",
   "execution_count": null,
   "id": "every-times",
   "metadata": {},
   "outputs": [],
   "source": [
    "simulator.reset()"
   ]
  },
  {
   "cell_type": "markdown",
   "id": "special-camel",
   "metadata": {},
   "source": [
    "Run simulation until `max_time` is reached or until all drones finish."
   ]
  },
  {
   "cell_type": "code",
   "execution_count": null,
   "id": "present-analyst",
   "metadata": {},
   "outputs": [],
   "source": [
    "simulator.run(max_time=5.0)"
   ]
  },
  {
   "cell_type": "markdown",
   "id": "aquatic-saint",
   "metadata": {},
   "source": [
    "## Example of how to rearrange the rings"
   ]
  },
  {
   "cell_type": "markdown",
   "id": "natural-drunk",
   "metadata": {},
   "source": [
    "Rearrange the rings."
   ]
  },
  {
   "cell_type": "code",
   "execution_count": null,
   "id": "premium-mexico",
   "metadata": {},
   "outputs": [],
   "source": [
    "simulator.place_rings()"
   ]
  },
  {
   "cell_type": "markdown",
   "id": "allied-genealogy",
   "metadata": {},
   "source": [
    "Reset drones (places drones at random positions within the start ring)."
   ]
  },
  {
   "cell_type": "code",
   "execution_count": null,
   "id": "reasonable-writer",
   "metadata": {},
   "outputs": [],
   "source": [
    "simulator.reset()"
   ]
  },
  {
   "cell_type": "markdown",
   "id": "strange-provision",
   "metadata": {},
   "source": [
    "Run simulation until `max_time` is reached or until all drones finish."
   ]
  },
  {
   "cell_type": "code",
   "execution_count": null,
   "id": "narrative-worse",
   "metadata": {},
   "outputs": [],
   "source": [
    "simulator.run(max_time=5.0)"
   ]
  },
  {
   "cell_type": "markdown",
   "id": "realistic-virgin",
   "metadata": {},
   "source": [
    "## Example of how to take a snapshot"
   ]
  },
  {
   "cell_type": "markdown",
   "id": "rough-rally",
   "metadata": {},
   "source": [
    "View from behind a particular drone."
   ]
  },
  {
   "cell_type": "code",
   "execution_count": null,
   "id": "described-yukon",
   "metadata": {},
   "outputs": [],
   "source": [
    "simulator.camera_droneview('template')"
   ]
  },
  {
   "cell_type": "markdown",
   "id": "instant-scott",
   "metadata": {},
   "source": [
    "Display a snapshot."
   ]
  },
  {
   "cell_type": "code",
   "execution_count": null,
   "id": "thrown-harvard",
   "metadata": {},
   "outputs": [],
   "source": [
    "# Get snapshot as 480 x 480 x 4 numpy array of RGBA values\n",
    "rgba = simulator.snapshot()\n",
    "\n",
    "# Display snapshot\n",
    "plt.figure(figsize=(9, 9))\n",
    "plt.imshow(rgba)"
   ]
  },
  {
   "cell_type": "markdown",
   "id": "frequent-housing",
   "metadata": {},
   "source": [
    "Save the snapshot."
   ]
  },
  {
   "cell_type": "code",
   "execution_count": null,
   "id": "serial-tampa",
   "metadata": {},
   "outputs": [],
   "source": [
    "plt.imsave('my_snapshot.png', rgba)"
   ]
  },
  {
   "cell_type": "markdown",
   "id": "preliminary-washington",
   "metadata": {},
   "source": [
    "## Example of how to record a movie"
   ]
  },
  {
   "cell_type": "markdown",
   "id": "missing-administrator",
   "metadata": {},
   "source": [
    "Reset drones (places drones at random positions within the start ring)."
   ]
  },
  {
   "cell_type": "code",
   "execution_count": null,
   "id": "economic-tribe",
   "metadata": {},
   "outputs": [],
   "source": [
    "simulator.reset()"
   ]
  },
  {
   "cell_type": "markdown",
   "id": "usual-retention",
   "metadata": {},
   "source": [
    "View from behind a particular drone."
   ]
  },
  {
   "cell_type": "code",
   "execution_count": null,
   "id": "dental-eight",
   "metadata": {},
   "outputs": [],
   "source": [
    "simulator.camera_droneview('template')"
   ]
  },
  {
   "cell_type": "markdown",
   "id": "cutting-guide",
   "metadata": {},
   "source": [
    "Run simulation until `max_time` is reached or until all drones finish, saving movie to `my_video.mp4`."
   ]
  },
  {
   "cell_type": "code",
   "execution_count": null,
   "id": "comprehensive-taxation",
   "metadata": {},
   "outputs": [],
   "source": [
    "simulator.run(max_time=1.0, video_filename='my_video.mp4')"
   ]
  },
  {
   "cell_type": "markdown",
   "id": "190e07f5",
   "metadata": {},
   "source": [
    "## Example of how to allow print statements, long run times, and inactivity"
   ]
  },
  {
   "cell_type": "markdown",
   "id": "c686ae49",
   "metadata": {},
   "source": [
    "By default, your controller will fail if either of the following conditions is met:\n",
    "\n",
    "* It prints something to `stdout`.\n",
    "* It exceeds the maximum runtime of `1` second for `init`, `1` second for `reset`, and `5e-3` seconds for `run`.\n",
    "* It moves less than `0.5` meters in `5.0` seconds.\n",
    "\n",
    "You can relax these rules for the purpose of development if you want, as follows."
   ]
  },
  {
   "cell_type": "code",
   "execution_count": null,
   "id": "6b070406",
   "metadata": {},
   "outputs": [],
   "source": [
    "simulator.set_rules(\n",
    "    error_on_print=False,    # <-- allow print statements in controller code\n",
    "    error_on_timeout=False,  # <-- allow long runtimes in controller code\n",
    "    error_on_inactive=False, # <-- allow inactivity\n",
    ")"
   ]
  },
  {
   "cell_type": "markdown",
   "id": "07868924",
   "metadata": {},
   "source": [
    "## Example of how to find the position, orientation, and radius of each ring"
   ]
  },
  {
   "cell_type": "markdown",
   "id": "58365d59",
   "metadata": {},
   "source": [
    "This information should only be used for analysis."
   ]
  },
  {
   "cell_type": "code",
   "execution_count": null,
   "id": "53e0118c",
   "metadata": {},
   "outputs": [],
   "source": [
    "for i, ring in enumerate(simulator.rings):\n",
    "    p = ring['p']        # <--- position of ring\n",
    "    v = ring['R'][:, 0]  # <--- unit vector normal to ring (pointing through it)\n",
    "    r = ring['radius']   # <--- radius of ring\n",
    "    s = f'ring {i:2d}' + \\\n",
    "        f' : p ({p[0]:6.2f}, {p[1]:6.2f}, {p[2]:6.2f})' + \\\n",
    "        f' : v ({v[0]:6.2f}, {v[1]:6.2f}, {v[2]:6.2f})' + \\\n",
    "        f' : r ({r:6.2f})'\n",
    "    print(s)"
   ]
  },
  {
   "cell_type": "markdown",
   "id": "721be42f",
   "metadata": {},
   "source": [
    "## Example of how to specify initial conditions"
   ]
  },
  {
   "cell_type": "markdown",
   "id": "febdb5c8",
   "metadata": {},
   "source": [
    "Show view from start."
   ]
  },
  {
   "cell_type": "code",
   "execution_count": null,
   "id": "b17640e3",
   "metadata": {},
   "outputs": [],
   "source": [
    "simulator.camera_startview()"
   ]
  },
  {
   "cell_type": "markdown",
   "id": "c6019bb7",
   "metadata": {},
   "source": [
    "Reset the simulator with given initial conditions. The argument `initial_conditions` must be a dictionary. This dictionary must have an key/value pair for each drone in the simulator. The key must be the name of the corresponding drone. The value must, itself, be a dictionary with a key/value pair for each initial state and each initial measurement."
   ]
  },
  {
   "cell_type": "code",
   "execution_count": null,
   "id": "6ddb776b",
   "metadata": {},
   "outputs": [],
   "source": [
    "simulator.reset(\n",
    "    initial_conditions={\n",
    "        'template': {\n",
    "            'p_x': -10.,\n",
    "            'p_y': 0.,\n",
    "            'p_z': 0.5,\n",
    "            'yaw': 0.,\n",
    "            'pitch': 0.,\n",
    "            'roll': 0.,\n",
    "            'v_x': 0.,\n",
    "            'v_y': 0.,\n",
    "            'v_z': 0.,\n",
    "            'w_x': 0.,\n",
    "            'w_y': 0.,\n",
    "            'w_z': 0.,\n",
    "            'p_x_meas': -10.,\n",
    "            'p_y_meas': 0.,\n",
    "            'p_z_meas': 0.5,\n",
    "            'yaw_meas': 0.,\n",
    "        },\n",
    "    },\n",
    ")"
   ]
  },
  {
   "cell_type": "markdown",
   "id": "ae8346ee",
   "metadata": {},
   "source": [
    "Run simulation for `max_time` seconds or until all drones finish."
   ]
  },
  {
   "cell_type": "code",
   "execution_count": null,
   "id": "f4a6d547",
   "metadata": {},
   "outputs": [],
   "source": [
    "simulator.run(max_time=5.0)"
   ]
  }
 ],
 "metadata": {
  "kernelspec": {
   "display_name": "Python 3 (ipykernel)",
   "language": "python",
   "name": "python3"
  },
  "language_info": {
   "codemirror_mode": {
    "name": "ipython",
    "version": 3
   },
   "file_extension": ".py",
   "mimetype": "text/x-python",
   "name": "python",
   "nbconvert_exporter": "python",
   "pygments_lexer": "ipython3",
   "version": "3.11.0"
  }
 },
 "nbformat": 4,
 "nbformat_minor": 5
}
