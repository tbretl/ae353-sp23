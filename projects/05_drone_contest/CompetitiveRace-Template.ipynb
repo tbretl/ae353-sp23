{
 "cells": [
  {
   "cell_type": "markdown",
   "id": "middle-acoustic",
   "metadata": {},
   "source": [
    "# Competitive race"
   ]
  },
  {
   "cell_type": "markdown",
   "id": "aggregate-exception",
   "metadata": {},
   "source": [
    "Before you start working with this notebook, remember to:\n",
    "\n",
    "* Ensure that `imagemagick` is installed (e.g., `conda install imagemagick`) for the command-line utility `convert`.\n",
    "* Ensure that the directory `DP04-Race-Submissions` has student submissions.\n",
    "* Ensure that the file `students.json` (an array of dictionaries with keys `netid`, `first_name`, `last_name`, and `dp4_partner`) has the student roster.\n",
    "\n",
    "You may also need to activate a conda environment with `python-control`, depending on whether or not students expect that module to be available.\n",
    "\n",
    "Notes:\n",
    "\n",
    "* If text stops being printed to the notebook, do `Kernel -> Reconnect`."
   ]
  },
  {
   "cell_type": "markdown",
   "id": "faced-least",
   "metadata": {},
   "source": [
    "Import modules and configure the notebook."
   ]
  },
  {
   "cell_type": "code",
   "execution_count": null,
   "id": "informed-qatar",
   "metadata": {},
   "outputs": [],
   "source": [
    "import os\n",
    "import time\n",
    "from datetime import datetime\n",
    "import numpy as np\n",
    "import matplotlib.pyplot as plt\n",
    "import secrets\n",
    "import json\n",
    "import shutil\n",
    "import subprocess\n",
    "import ae353_drone\n",
    "import importlib\n",
    "importlib.reload(ae353_drone)"
   ]
  },
  {
   "cell_type": "markdown",
   "id": "3d4cd55c",
   "metadata": {},
   "source": [
    "Prevent students from importing `ae353_drone` in their own code."
   ]
  },
  {
   "cell_type": "code",
   "execution_count": null,
   "id": "016b5b5e",
   "metadata": {},
   "outputs": [],
   "source": [
    "import sys\n",
    "sys.modules['ae353_drone'] = None"
   ]
  },
  {
   "cell_type": "markdown",
   "id": "final-distinction",
   "metadata": {},
   "source": [
    "Create and print seed so it is possible to reproduce the results."
   ]
  },
  {
   "cell_type": "code",
   "execution_count": null,
   "id": "ceramic-evanescence",
   "metadata": {},
   "outputs": [],
   "source": [
    "seed = secrets.randbits(32)\n",
    "print(seed)"
   ]
  },
  {
   "cell_type": "markdown",
   "id": "environmental-refrigerator",
   "metadata": {},
   "source": [
    "Create simulator."
   ]
  },
  {
   "cell_type": "code",
   "execution_count": null,
   "id": "convertible-cross",
   "metadata": {},
   "outputs": [],
   "source": [
    "simulator = ae353_drone.Simulator(display=True, seed=seed)"
   ]
  },
  {
   "cell_type": "markdown",
   "id": "4f32116e",
   "metadata": {},
   "source": [
    "Copy student submissions and student roster."
   ]
  },
  {
   "cell_type": "code",
   "execution_count": null,
   "id": "c02905e2",
   "metadata": {},
   "outputs": [],
   "source": [
    "# Get string with current date and time\n",
    "datetimestr = datetime.now().strftime('%Y%m%dT%H%M%S')\n",
    "\n",
    "# Copy student submissions\n",
    "srcdir_designs = f'{datetimestr}-designs'\n",
    "results = shutil.copytree(\n",
    "    'DP04-Race-Submissions',\n",
    "    srcdir_designs,\n",
    ")\n",
    "\n",
    "# Copy student roster\n",
    "filename_students = f'{datetimestr}-students.json'\n",
    "results = shutil.copyfile(\n",
    "    'students.json',\n",
    "    filename_students,\n",
    ")"
   ]
  },
  {
   "cell_type": "markdown",
   "id": "b5be6fe4",
   "metadata": {},
   "source": [
    "Load student roster."
   ]
  },
  {
   "cell_type": "code",
   "execution_count": null,
   "id": "60f5bf81",
   "metadata": {},
   "outputs": [],
   "source": [
    "with open(filename_students, 'r') as infile:\n",
    "    students = json.load(infile)\n",
    "\n",
    "def get_student(students, netid):\n",
    "    for student in students:\n",
    "        if student['netid'] == netid:\n",
    "            return student\n",
    "    return None\n",
    "\n",
    "def get_partners(students, student):\n",
    "    partner_netids = np.array(student['dp4_partner']).flatten().tolist()\n",
    "    partner_students = []\n",
    "    for netid in partner_netids:\n",
    "        partner_students.append(get_student(students, netid))\n",
    "    return partner_students"
   ]
  },
  {
   "cell_type": "markdown",
   "id": "d8ce8633",
   "metadata": {},
   "source": [
    "The amount of time for which to run each simulation."
   ]
  },
  {
   "cell_type": "code",
   "execution_count": null,
   "id": "ff6be162",
   "metadata": {},
   "outputs": [],
   "source": [
    "max_time = 45."
   ]
  },
  {
   "cell_type": "markdown",
   "id": "progressive-commercial",
   "metadata": {},
   "source": [
    "Make sure all files in source directory have lower-case names."
   ]
  },
  {
   "cell_type": "code",
   "execution_count": null,
   "id": "fancy-alabama",
   "metadata": {},
   "outputs": [],
   "source": [
    "srcdir = srcdir_designs\n",
    "for file in os.listdir(srcdir):\n",
    "    os.rename(os.path.join(srcdir, file), os.path.join(srcdir, file.lower()))"
   ]
  },
  {
   "cell_type": "markdown",
   "id": "metric-voltage",
   "metadata": {},
   "source": [
    "Make sure all PNG files in source directory really are PNG files."
   ]
  },
  {
   "cell_type": "code",
   "execution_count": null,
   "id": "bizarre-typing",
   "metadata": {},
   "outputs": [],
   "source": [
    "srcdir = srcdir_designs\n",
    "template_image = 'question_mark.png'\n",
    "for file in os.listdir(srcdir):\n",
    "    if file.endswith('.png'):\n",
    "        completed_process = subprocess.run([\n",
    "                    'convert',\n",
    "                    os.path.join(srcdir, file),\n",
    "                    os.path.join(srcdir, file),\n",
    "                ], capture_output=True)\n",
    "        if completed_process.returncode != 0:\n",
    "            print(f'   ** FAILED on {file} (returncode: {completed_process.returncode}), replacing with template')\n",
    "            shutil.copyfile(template_image, os.path.join(srcdir, file))"
   ]
  },
  {
   "cell_type": "markdown",
   "id": "93294b06",
   "metadata": {},
   "source": [
    "Look for and move submissions with names that do not have the form `netid.py`."
   ]
  },
  {
   "cell_type": "code",
   "execution_count": null,
   "id": "8ac3eae7",
   "metadata": {},
   "outputs": [],
   "source": [
    "srcdir = srcdir_designs\n",
    "for file in os.listdir(srcdir):\n",
    "    if file.endswith('.py'):\n",
    "        netid = file.removesuffix('.py')\n",
    "        student = get_student(students, netid)\n",
    "        if student is None:\n",
    "            print(f'  ** BAD CODE NAME - {file} moved to \"bad-code-name-{file}\"')\n",
    "            src = os.path.join(srcdir, file)\n",
    "            dst = os.path.join(srcdir, f'bad-code-name-{file}')\n",
    "            shutil.move(src, dst)"
   ]
  },
  {
   "cell_type": "markdown",
   "id": "650f803c",
   "metadata": {},
   "source": [
    "Look for and move duplicate submissions."
   ]
  },
  {
   "cell_type": "code",
   "execution_count": null,
   "id": "2d09383d",
   "metadata": {},
   "outputs": [],
   "source": [
    "netids_to_email = []\n",
    "teams = []\n",
    "srcdir = srcdir_designs\n",
    "for file in os.listdir(srcdir):\n",
    "    if file.endswith('.py'):\n",
    "        netid = file.removesuffix('.py')\n",
    "        student = get_student(students, netid)\n",
    "        if student is None:\n",
    "            continue\n",
    "        team = student['dp4_group_name']\n",
    "        if team in teams:\n",
    "            name = f'{student[\"first_name\"]} {student[\"last_name\"]}'\n",
    "            print(f'  ** DUPLICATE SUBMISSION by {name} for {team}\\n       (moved to \"duplicate-{file}\")')\n",
    "            netids_to_email.append(student['netid'] + '@illinois.edu')\n",
    "            partners = get_partners(students, student)\n",
    "            for partner in partners:\n",
    "                netids_to_email.append(partner['netid'] + '@illinois.edu')\n",
    "            src = os.path.join(srcdir, file)\n",
    "            dst = os.path.join(srcdir, f'duplicate-{file}')\n",
    "            shutil.move(src, dst)\n",
    "        teams.append(team)\n",
    "\n",
    "if len(netids_to_email) > 0:\n",
    "    print(f'\\nSTUDENTS TO EMAIL ({len(netids_to_email)}):\\n')\n",
    "    print(' ' + ', '.join(netids_to_email))"
   ]
  },
  {
   "cell_type": "markdown",
   "id": "angry-output",
   "metadata": {},
   "source": [
    "Load drones from source directory, overriding the maximum allowable number."
   ]
  },
  {
   "cell_type": "code",
   "execution_count": null,
   "id": "tired-variable",
   "metadata": {},
   "outputs": [],
   "source": [
    "simulator.clear_drones()\n",
    "failures = simulator.load_drones(srcdir_designs, no_max_num_drones=True)"
   ]
  },
  {
   "cell_type": "markdown",
   "id": "contrary-ghost",
   "metadata": {},
   "source": [
    "List disqualified drones."
   ]
  },
  {
   "cell_type": "code",
   "execution_count": null,
   "id": "civil-bishop",
   "metadata": {},
   "outputs": [],
   "source": [
    "netids_to_email = []\n",
    "print(f'DISQUALIFIED ({len(failures)}):\\n')\n",
    "for failure in failures:\n",
    "    if failure.startswith('bad-code-name'):\n",
    "        continue\n",
    "    \n",
    "    if failure.startswith('duplicate'):\n",
    "        continue\n",
    "    \n",
    "    student = get_student(students, failure)\n",
    "    if student is None:\n",
    "        name = ''\n",
    "    else:\n",
    "        student['dp4_status'] = 'disqualified'\n",
    "        name = f'{student[\"first_name\"]} {student[\"last_name\"]}'\n",
    "        netids_to_email.append(student['netid'] + '@illinois.edu')\n",
    "        partners = get_partners(students, student)\n",
    "        for partner in partners:\n",
    "            partner['dp4_status'] = 'disqualified'\n",
    "            name += f' and {partner[\"first_name\"]} {partner[\"last_name\"]}'\n",
    "            netids_to_email.append(partner['netid'] + '@illinois.edu')\n",
    "    print(f' {failure:20s} : {name}')\n",
    "\n",
    "if len(netids_to_email) > 0:\n",
    "    print(f'\\nSTUDENTS TO EMAIL ({len(netids_to_email)}):\\n')\n",
    "    print(' ' + ', '.join(netids_to_email))"
   ]
  },
  {
   "cell_type": "markdown",
   "id": "promising-cylinder",
   "metadata": {},
   "source": [
    "List qualified drones."
   ]
  },
  {
   "cell_type": "code",
   "execution_count": null,
   "id": "hidden-withdrawal",
   "metadata": {},
   "outputs": [],
   "source": [
    "print(f'QUALIFIED ({len(simulator.drones)}):\\n')\n",
    "for drone in simulator.drones:\n",
    "    student = get_student(students, drone['name'])\n",
    "    if student is None:\n",
    "        raise Exception(f'could not find student for this drone name: {drone[\"name\"]}')\n",
    "    student['dp4_status'] = 'qualified'\n",
    "    name = f'{student[\"first_name\"]} {student[\"last_name\"]}'\n",
    "    partners = get_partners(students, student)\n",
    "    for partner in partners:\n",
    "        partner['dp4_status'] = 'qualified'\n",
    "        name += f' and {partner[\"first_name\"]} {partner[\"last_name\"]}'\n",
    "    print(f' {drone[\"name\"]:15s} : {name}')"
   ]
  },
  {
   "cell_type": "markdown",
   "id": "08eb67db",
   "metadata": {},
   "source": [
    "List non-submissions."
   ]
  },
  {
   "cell_type": "code",
   "execution_count": null,
   "id": "08759a23",
   "metadata": {},
   "outputs": [],
   "source": [
    "netids_to_email = []\n",
    "\n",
    "print(f'NON-SUBMISSIONS:\\n')\n",
    "for student in students:\n",
    "    if not 'dp4_status' in student:\n",
    "        student['dp4_status'] = 'did not submit'\n",
    "        name = f'{student[\"first_name\"]} {student[\"last_name\"]}'\n",
    "        netids_to_email.append(student['netid'] + '@illinois.edu')\n",
    "        partners = get_partners(students, student)\n",
    "        for partner in partners:\n",
    "            partner['dp4_status'] = 'did not submit'\n",
    "            name += f' and {partner[\"first_name\"]} {partner[\"last_name\"]}'\n",
    "            netids_to_email.append(partner['netid'] + '@illinois.edu')\n",
    "        print(f' {name}')\n",
    "\n",
    "if len(netids_to_email) > 0:\n",
    "    print(f'\\nSTUDENTS TO EMAIL ({len(netids_to_email)}):\\n')\n",
    "    print(' ' + ', '.join(netids_to_email))"
   ]
  },
  {
   "cell_type": "markdown",
   "id": "89829be4",
   "metadata": {},
   "source": [
    "Save results of qualification to file."
   ]
  },
  {
   "cell_type": "code",
   "execution_count": null,
   "id": "9d6337a1",
   "metadata": {},
   "outputs": [],
   "source": [
    "with open(f'{datetimestr}-students-qualification.json', 'w') as outfile:\n",
    "    json.dump(students, outfile, indent=4)"
   ]
  },
  {
   "cell_type": "markdown",
   "id": "47c6f519",
   "metadata": {},
   "source": [
    "Define functions to show results."
   ]
  },
  {
   "cell_type": "code",
   "execution_count": null,
   "id": "12502a75",
   "metadata": {},
   "outputs": [],
   "source": [
    "benign_failures = [\n",
    "    'Inactive.',\n",
    "    'Out of bounds.',\n",
    "]\n",
    "\n",
    "def get_netids_to_email(drone_name, students):\n",
    "    student = get_student(students, drone_name)\n",
    "    if student is None:\n",
    "        raise Exception(f'could not find student for this drone name: {drone_name}')\n",
    "    \n",
    "    netids_to_email = []\n",
    "    netids_to_email.append(student['netid'] + '@illinois.edu')\n",
    "    partners = get_partners(students, student)\n",
    "    for partner in partners:\n",
    "        netids_to_email.append(partner['netid'] + '@illinois.edu')\n",
    "    \n",
    "    return netids_to_email\n",
    "\n",
    "def get_student_name(drone_name, students):\n",
    "    student = get_student(students, drone_name)\n",
    "    if student is None:\n",
    "        raise Exception(f'could not find student for this drone name: {drone_name}')\n",
    "    \n",
    "    name = f'{student[\"first_name\"]} {student[\"last_name\"]}'\n",
    "    partners = get_partners(students, student)\n",
    "    for partner in partners:\n",
    "        name += f' and {partner[\"first_name\"]} {partner[\"last_name\"]}'\n",
    "        \n",
    "    return name\n",
    "\n",
    "def disqualify_student(drone_name, drone_error, students):\n",
    "    student = get_student(students, drone_name)\n",
    "    if student is None:\n",
    "        raise Exception(f'could not find student for this drone name: {drone_name}')\n",
    "    student['dp4_status'] = 'disqualified'\n",
    "    student['dp4_error'] = drone_error\n",
    "    partners = get_partners(students, student)\n",
    "    for partner in partners:\n",
    "        partner['dp4_status'] = 'disqualified'\n",
    "        partner['dp4_error'] = drone_error\n",
    "\n",
    "def get_results(simulator, students):\n",
    "    netids_to_email = []\n",
    "    finished = []\n",
    "    still_running = []\n",
    "    failed = []\n",
    "    errors = ''\n",
    "    results = ''\n",
    "    for drone in simulator.drones:\n",
    "        if drone['finish_time'] is not None:\n",
    "            finished.append((drone, drone['finish_time']))\n",
    "        elif drone['running']:\n",
    "            still_running.append(drone)\n",
    "        else:\n",
    "            failed.append(drone)\n",
    "            errors += f'======================\\n{drone[\"error\"]}\\n======================\\n\\n'\n",
    "    finished = sorted(finished, key=lambda f: f[1])\n",
    "    \n",
    "    results += 'FINISHED\\n'\n",
    "    for d in finished:\n",
    "        drone = d[0]\n",
    "        drone_name = drone['name']\n",
    "        student_name = get_student_name(drone_name, students)\n",
    "        results += f' {d[1]:6.2f} : {drone_name:20s} : {student_name}\\n'\n",
    "\n",
    "    results += '\\nSTILL RUNNING\\n'\n",
    "    for d in still_running:\n",
    "        drone = d\n",
    "        drone_name = drone['name']\n",
    "        student_name = get_student_name(drone_name, students)\n",
    "        results += f'        : {drone_name:20s} : {student_name}\\n'\n",
    "    \n",
    "    results += '\\nINACTIVE OR OUT OF BOUNDS\\n'\n",
    "    for d in failed:\n",
    "        drone = d\n",
    "        drone_name = drone['name']\n",
    "        if drone['error'] in benign_failures:\n",
    "            student_name = get_student_name(drone_name, students)\n",
    "            results += f'        : {drone_name:20s} : {student_name}\\n'\n",
    "    \n",
    "    results += '\\nFAILED\\n'\n",
    "    for d in failed:\n",
    "        drone = d\n",
    "        drone_name = drone['name']\n",
    "        if drone['error'] not in benign_failures:\n",
    "            disqualify_student(drone_name, drone['error'], students)\n",
    "            student_name = get_student_name(drone_name, students)\n",
    "            netids_to_email.extend(get_netids_to_email(drone_name, students))\n",
    "            results += f'        : {drone_name:20s} : {student_name}\\n'\n",
    "    \n",
    "    results += '\\nERRORS (REASONS FOR FAILURE)\\n\\n'\n",
    "    results += errors\n",
    "    \n",
    "    results += '\\nNETIDS TO EMAIL ABOUT FAILURE\\n\\n'\n",
    "    results += (' ' + ', '.join(netids_to_email))\n",
    "    \n",
    "    return results"
   ]
  },
  {
   "cell_type": "markdown",
   "id": "118423b5",
   "metadata": {},
   "source": [
    "Choose number of drones to race in each semifinal."
   ]
  },
  {
   "cell_type": "code",
   "execution_count": null,
   "id": "fe84cac9",
   "metadata": {},
   "outputs": [],
   "source": [
    "num_drones_per_semifinal = int(np.ceil(np.sqrt(len(simulator.drones))))\n",
    "num_semifinals = int(np.ceil(len(simulator.drones) / num_drones_per_semifinal))\n",
    "print(f'There will be at most {num_drones_per_semifinal} drones in each of {num_semifinals} semifinals.')"
   ]
  },
  {
   "cell_type": "markdown",
   "id": "abf07c96",
   "metadata": {},
   "source": [
    "Create semifinal races."
   ]
  },
  {
   "cell_type": "code",
   "execution_count": null,
   "id": "0f3a8a0b",
   "metadata": {},
   "outputs": [],
   "source": [
    "# Get list of qualified racers\n",
    "qualified = [drone['name'] for drone in simulator.drones]\n",
    "\n",
    "# Copy list of qualified racers for later use\n",
    "list_of_qualified_racers = qualified.copy()\n",
    "\n",
    "# Shuffle order of this list\n",
    "simulator.rng.shuffle(qualified)\n",
    "\n",
    "# Create each race\n",
    "num_races = 0\n",
    "while True:\n",
    "    racers = qualified[-num_drones_per_semifinal:]\n",
    "    qualified = qualified[:-num_drones_per_semifinal]\n",
    "    \n",
    "    srcdir = srcdir_designs\n",
    "    dstdir = f'{datetimestr}-comp-semifinal-{num_races}'\n",
    "    os.mkdir(dstdir)\n",
    "    for racer in racers:\n",
    "        shutil.copyfile(os.path.join(srcdir, f'{racer}.py'), os.path.join(dstdir, f'{racer}.py'))\n",
    "        shutil.copyfile(os.path.join(srcdir, f'{racer}.png'), os.path.join(dstdir, f'{racer}.png'))\n",
    "    \n",
    "    num_races += 1\n",
    "    if len(qualified) == 0:\n",
    "        break\n",
    "\n",
    "# Say how many semifinal races were created\n",
    "print(f'Created {num_races} semifinal races')\n",
    "\n",
    "# Create directory for final race\n",
    "os.mkdir(f'{datetimestr}-comp-final')"
   ]
  },
  {
   "cell_type": "markdown",
   "id": "7d299451",
   "metadata": {},
   "source": [
    "Initialize the race index."
   ]
  },
  {
   "cell_type": "code",
   "execution_count": null,
   "id": "61aa232f",
   "metadata": {},
   "outputs": [],
   "source": [
    "index_of_race = 0"
   ]
  },
  {
   "cell_type": "markdown",
   "id": "affecting-enhancement",
   "metadata": {},
   "source": [
    "## Semifinal races"
   ]
  },
  {
   "cell_type": "markdown",
   "id": "b4b74958",
   "metadata": {},
   "source": [
    "This section of the notebook should be evaluated once for each semifinal race."
   ]
  },
  {
   "cell_type": "markdown",
   "id": "ranging-wallpaper",
   "metadata": {},
   "source": [
    "Print index of current race."
   ]
  },
  {
   "cell_type": "code",
   "execution_count": null,
   "id": "regulation-southwest",
   "metadata": {},
   "outputs": [],
   "source": [
    "print(f'Running semifinal race {index_of_race + 1} / {num_races}')"
   ]
  },
  {
   "cell_type": "markdown",
   "id": "deluxe-asian",
   "metadata": {},
   "source": [
    "Ready..."
   ]
  },
  {
   "cell_type": "code",
   "execution_count": null,
   "id": "independent-navigator",
   "metadata": {},
   "outputs": [],
   "source": [
    "# Name of directory with racers\n",
    "srcdir = f'{datetimestr}-comp-semifinal-{index_of_race}'\n",
    "\n",
    "# Clear drones\n",
    "simulator.clear_drones()\n",
    "\n",
    "# Move rings\n",
    "simulator.place_rings()\n",
    "\n",
    "# Load drones\n",
    "simulator.load_drones(srcdir)\n",
    "\n",
    "# Reset\n",
    "simulator.reset()"
   ]
  },
  {
   "cell_type": "markdown",
   "id": "average-dependence",
   "metadata": {},
   "source": [
    "Steady..."
   ]
  },
  {
   "cell_type": "code",
   "execution_count": null,
   "id": "subject-ancient",
   "metadata": {
    "scrolled": false
   },
   "outputs": [],
   "source": [
    "simulator.camera_contestview()\n",
    "\n",
    "num_drones = len(simulator.drones)\n",
    "num_columns = 3\n",
    "num_rows = np.ceil(num_drones / num_columns).astype(int)\n",
    "fig, axs = plt.subplots(num_rows, num_columns, figsize=(12, 4 * num_rows))\n",
    "[ax.set_axis_off() for ax in axs.flatten()]\n",
    "for ax, drone in zip(axs.flatten(), simulator.drones):\n",
    "    student = get_student(students, drone['name'])\n",
    "    if student is None:\n",
    "        raise Exception(f'could not find student for this drone name: {drone[\"name\"]}')\n",
    "    name = f'{student[\"first_name\"]} {student[\"last_name\"]}'\n",
    "    partners = get_partners(students, student)\n",
    "    for partner in partners:\n",
    "        name += f'\\n{partner[\"first_name\"]} {partner[\"last_name\"]}'\n",
    "    im = plt.imread(os.path.join(srcdir, f'{drone[\"name\"]}.png'))\n",
    "    ax.imshow(im, aspect='equal')\n",
    "    ax.set_title(f'{drone[\"name\"]}\\n{name}', fontsize=14)\n",
    "    ax.axis('equal')\n",
    "\n",
    "fig.tight_layout(h_pad=5)"
   ]
  },
  {
   "cell_type": "markdown",
   "id": "collected-detail",
   "metadata": {},
   "source": [
    "Go!"
   ]
  },
  {
   "cell_type": "code",
   "execution_count": null,
   "id": "outstanding-mailman",
   "metadata": {},
   "outputs": [],
   "source": [
    "start_time = time.time()\n",
    "simulator.run(max_time=max_time, print_debug=True)\n",
    "print(f'real time elapsed: {time.time() - start_time}')"
   ]
  },
  {
   "cell_type": "markdown",
   "id": "separate-circuit",
   "metadata": {},
   "source": [
    "Find winner."
   ]
  },
  {
   "cell_type": "code",
   "execution_count": null,
   "id": "constitutional-invalid",
   "metadata": {},
   "outputs": [],
   "source": [
    "winning_name = None\n",
    "winning_time = np.inf\n",
    "for drone in simulator.drones:\n",
    "    if drone['finish_time'] is None:\n",
    "        continue\n",
    "    if drone['finish_time'] < winning_time:\n",
    "        winning_name = drone['name']\n",
    "        winning_time = drone['finish_time']\n",
    "\n",
    "if winning_name is None:\n",
    "    print(f'There was no winner (nobody finished).')\n",
    "else:\n",
    "    print(f'The winner was {winning_name} with time {winning_time:.2f} seconds')\n",
    "    srcdir = f'{datetimestr}-comp-semifinal-{index_of_race}'\n",
    "    dstdir = f'{datetimestr}-comp-final'\n",
    "    shutil.copyfile(os.path.join(srcdir, f'{winning_name}.py'), os.path.join(dstdir, f'{winning_name}.py'))\n",
    "    shutil.copyfile(os.path.join(srcdir, f'{winning_name}.png'), os.path.join(dstdir, f'{winning_name}.png'))\n",
    "    student = get_student(students, winning_name)\n",
    "    if student is None:\n",
    "        raise Exception(f'could not find student for this drone name: {winning_name}')\n",
    "    name = f'{student[\"first_name\"]} {student[\"last_name\"]}'\n",
    "    partners = get_partners(students, student)\n",
    "    for partner in partners:\n",
    "        name += f'\\n{partner[\"first_name\"]} {partner[\"last_name\"]}'\n",
    "    fig, ax = plt.subplots(1, 1, figsize=(5, 5))\n",
    "    ax.set_axis_off()\n",
    "    im = plt.imread(os.path.join(srcdir, f'{winning_name}.png'))\n",
    "    ax.imshow(im, aspect='equal')\n",
    "    ax.set_title(f'WINNER ({winning_time:.2f} seconds)\\n\\n{winning_name}\\n{name}', fontsize=24)\n",
    "    ax.axis('equal')"
   ]
  },
  {
   "cell_type": "markdown",
   "id": "3f768798",
   "metadata": {},
   "source": [
    "Show all results."
   ]
  },
  {
   "cell_type": "code",
   "execution_count": null,
   "id": "59e77e40",
   "metadata": {},
   "outputs": [],
   "source": [
    "results = get_results(simulator, students)\n",
    "print(results)\n",
    "\n",
    "with open(f'{datetimestr}-comp-semifinal-{index_of_race}.txt', 'w') as f:\n",
    "    f.write(results)"
   ]
  },
  {
   "cell_type": "markdown",
   "id": "conditional-singles",
   "metadata": {},
   "source": [
    "Increment index of race."
   ]
  },
  {
   "cell_type": "code",
   "execution_count": null,
   "id": "covered-teacher",
   "metadata": {},
   "outputs": [],
   "source": [
    "index_of_race += 1\n",
    "if index_of_race == num_races:\n",
    "    print('STOP! YOU ARE DONE WITH THE SEMIFINALS')"
   ]
  },
  {
   "cell_type": "markdown",
   "id": "authorized-proceeding",
   "metadata": {},
   "source": [
    "## Final race"
   ]
  },
  {
   "cell_type": "markdown",
   "id": "cross-romantic",
   "metadata": {},
   "source": [
    "Ready..."
   ]
  },
  {
   "cell_type": "code",
   "execution_count": null,
   "id": "quiet-plasma",
   "metadata": {},
   "outputs": [],
   "source": [
    "# Name of directory with racers\n",
    "srcdir = f'{datetimestr}-comp-final'\n",
    "\n",
    "# Clear drones\n",
    "simulator.clear_drones()\n",
    "\n",
    "# Move rings\n",
    "simulator.place_rings()\n",
    "\n",
    "# Load drones\n",
    "simulator.load_drones(srcdir)\n",
    "\n",
    "# Reset\n",
    "simulator.reset()"
   ]
  },
  {
   "cell_type": "markdown",
   "id": "nonprofit-lafayette",
   "metadata": {},
   "source": [
    "Steady..."
   ]
  },
  {
   "cell_type": "code",
   "execution_count": null,
   "id": "conceptual-hostel",
   "metadata": {},
   "outputs": [],
   "source": [
    "simulator.camera_contestview()\n",
    "\n",
    "num_drones = len(simulator.drones)\n",
    "num_columns = 3\n",
    "num_rows = np.ceil(num_drones / num_columns).astype(int)\n",
    "fig, axs = plt.subplots(num_rows, num_columns, figsize=(12, 4 * num_rows))\n",
    "[ax.set_axis_off() for ax in axs.flatten()]\n",
    "for ax, drone in zip(axs.flatten(), simulator.drones):\n",
    "    student = get_student(students, drone['name'])\n",
    "    if student is None:\n",
    "        raise Exception(f'could not find student for this drone name: {drone[\"name\"]}')\n",
    "    name = f'{student[\"first_name\"]} {student[\"last_name\"]}'\n",
    "    partners = get_partners(students, student)\n",
    "    for partner in partners:\n",
    "        name += f'\\n{partner[\"first_name\"]} {partner[\"last_name\"]}'\n",
    "    im = plt.imread(os.path.join(srcdir, f'{drone[\"name\"]}.png'))\n",
    "    ax.imshow(im, aspect='equal')\n",
    "    ax.set_title(f'{drone[\"name\"]}\\n{name}', fontsize=14)\n",
    "    ax.axis('equal')\n",
    "\n",
    "fig.tight_layout(h_pad=5)"
   ]
  },
  {
   "cell_type": "markdown",
   "id": "realistic-joyce",
   "metadata": {},
   "source": [
    "Go!"
   ]
  },
  {
   "cell_type": "code",
   "execution_count": null,
   "id": "final-application",
   "metadata": {},
   "outputs": [],
   "source": [
    "start_time = time.time()\n",
    "simulator.run(max_time=max_time, print_debug=True)\n",
    "print(f'real time elapsed: {time.time() - start_time}')"
   ]
  },
  {
   "cell_type": "markdown",
   "id": "superb-geology",
   "metadata": {},
   "source": [
    "Find winner."
   ]
  },
  {
   "cell_type": "code",
   "execution_count": null,
   "id": "parallel-board",
   "metadata": {},
   "outputs": [],
   "source": [
    "winning_name = None\n",
    "winning_time = np.inf\n",
    "for drone in simulator.drones:\n",
    "    if drone['finish_time'] is None:\n",
    "        continue\n",
    "    if drone['finish_time'] < winning_time:\n",
    "        winning_name = drone['name']\n",
    "        winning_time = drone['finish_time']\n",
    "\n",
    "if winning_name is None:\n",
    "    print(f'There was no winner (nobody finished).')\n",
    "else:\n",
    "    print(f'The winner was {winning_name} with time {winning_time:.2f} seconds')\n",
    "    student = get_student(students, winning_name)\n",
    "    if student is None:\n",
    "        raise Exception(f'could not find student for this drone name: {winning_name}')\n",
    "    name = f'{student[\"first_name\"]} {student[\"last_name\"]}'\n",
    "    partners = get_partners(students, student)\n",
    "    for partner in partners:\n",
    "        name += f'\\n{partner[\"first_name\"]} {partner[\"last_name\"]}'\n",
    "    fig, ax = plt.subplots(1, 1, figsize=(5, 5))\n",
    "    ax.set_axis_off()\n",
    "    im = plt.imread(os.path.join(srcdir, f'{winning_name}.png'))\n",
    "    ax.imshow(im, aspect='equal')\n",
    "    ax.set_title(f'WINNER ({winning_time:.2f} seconds)\\n\\n{winning_name}\\n{name}', fontsize=24)\n",
    "    ax.axis('equal')"
   ]
  },
  {
   "cell_type": "markdown",
   "id": "f254e44f",
   "metadata": {},
   "source": [
    "Show all results."
   ]
  },
  {
   "cell_type": "code",
   "execution_count": null,
   "id": "f349330f",
   "metadata": {},
   "outputs": [],
   "source": [
    "results = get_results(simulator, students)\n",
    "print(results)\n",
    "\n",
    "with open(f'{datetimestr}-comp-final.txt', 'w') as f:\n",
    "    f.write(results)"
   ]
  },
  {
   "cell_type": "markdown",
   "id": "addressed-necessity",
   "metadata": {},
   "source": [
    "## Free-for-all (just for fun)"
   ]
  },
  {
   "cell_type": "markdown",
   "id": "14f23343",
   "metadata": {},
   "source": [
    "Define index of free-for-all race (do this only once)."
   ]
  },
  {
   "cell_type": "code",
   "execution_count": null,
   "id": "7a60011c",
   "metadata": {},
   "outputs": [],
   "source": [
    "index_of_race = 0"
   ]
  },
  {
   "cell_type": "markdown",
   "id": "128faa4f",
   "metadata": {},
   "source": [
    "Create free-for-all race."
   ]
  },
  {
   "cell_type": "code",
   "execution_count": null,
   "id": "a99f49a7",
   "metadata": {},
   "outputs": [],
   "source": [
    "# Get list of racers\n",
    "racers = list_of_qualified_racers.copy()\n",
    "\n",
    "# Shuffle the order of this list\n",
    "simulator.rng.shuffle(racers)\n",
    "\n",
    "# Keep only as many racers as one simulation can handle\n",
    "racers = racers[:simulator.max_num_drones]\n",
    "\n",
    "# Create directory with racers\n",
    "srcdir = srcdir_designs\n",
    "dstdir = f'{datetimestr}-free-for-all-{index_of_race}'\n",
    "os.mkdir(dstdir)\n",
    "for racer in racers:\n",
    "    shutil.copyfile(os.path.join(srcdir, f'{racer}.py'), os.path.join(dstdir, f'{racer}.py'))\n",
    "    shutil.copyfile(os.path.join(srcdir, f'{racer}.png'), os.path.join(dstdir, f'{racer}.png'))"
   ]
  },
  {
   "cell_type": "markdown",
   "id": "f07834b3",
   "metadata": {},
   "source": [
    "Ready..."
   ]
  },
  {
   "cell_type": "code",
   "execution_count": null,
   "id": "5daef93a",
   "metadata": {},
   "outputs": [],
   "source": [
    "# Name of directory with racers\n",
    "srcdir = f'{datetimestr}-free-for-all-{index_of_race}'\n",
    "\n",
    "# Clear drones\n",
    "simulator.clear_drones()\n",
    "\n",
    "# Move rings\n",
    "simulator.place_rings()\n",
    "\n",
    "# Load drones\n",
    "simulator.load_drones(srcdir)\n",
    "\n",
    "# Reset\n",
    "while True:\n",
    "    try:\n",
    "        simulator.reset()\n",
    "        break\n",
    "    except Exception:\n",
    "        print('Reset failed - trying again...')\n",
    "        continue"
   ]
  },
  {
   "cell_type": "markdown",
   "id": "6854395a",
   "metadata": {},
   "source": [
    "Steady..."
   ]
  },
  {
   "cell_type": "code",
   "execution_count": null,
   "id": "f73dd157",
   "metadata": {
    "scrolled": false
   },
   "outputs": [],
   "source": [
    "simulator.camera_contestview()\n",
    "\n",
    "num_drones = len(simulator.drones)\n",
    "num_columns = 3\n",
    "num_rows = np.ceil(num_drones / num_columns).astype(int)\n",
    "fig, axs = plt.subplots(num_rows, num_columns, figsize=(12, 4 * num_rows))\n",
    "[ax.set_axis_off() for ax in axs.flatten()]\n",
    "for ax, drone in zip(axs.flatten(), simulator.drones):\n",
    "    student = get_student(students, drone['name'])\n",
    "    if student is None:\n",
    "        raise Exception(f'could not find student for this drone name: {drone[\"name\"]}')\n",
    "    name = f'{student[\"first_name\"]} {student[\"last_name\"]}'\n",
    "    partners = get_partners(students, student)\n",
    "    for partner in partners:\n",
    "        name += f'\\n{partner[\"first_name\"]} {partner[\"last_name\"]}'\n",
    "    im = plt.imread(os.path.join(srcdir, f'{drone[\"name\"]}.png'))\n",
    "    ax.imshow(im, aspect='equal')\n",
    "    ax.set_title(f'{drone[\"name\"]}\\n{name}', fontsize=14)\n",
    "    ax.axis('equal')\n",
    "\n",
    "fig.tight_layout(h_pad=5)"
   ]
  },
  {
   "cell_type": "markdown",
   "id": "fd741a3a",
   "metadata": {},
   "source": [
    "Go!"
   ]
  },
  {
   "cell_type": "code",
   "execution_count": null,
   "id": "5ae3f674",
   "metadata": {},
   "outputs": [],
   "source": [
    "start_time = time.time()\n",
    "simulator.run(max_time=max_time, print_debug=True)\n",
    "print(f'real time elapsed: {time.time() - start_time}')"
   ]
  },
  {
   "cell_type": "markdown",
   "id": "ac46f8e7",
   "metadata": {},
   "source": [
    "Find winner."
   ]
  },
  {
   "cell_type": "code",
   "execution_count": null,
   "id": "17518d60",
   "metadata": {},
   "outputs": [],
   "source": [
    "winning_name = None\n",
    "winning_time = np.inf\n",
    "for drone in simulator.drones:\n",
    "    if drone['finish_time'] is None:\n",
    "        continue\n",
    "    if drone['finish_time'] < winning_time:\n",
    "        winning_name = drone['name']\n",
    "        winning_time = drone['finish_time']\n",
    "\n",
    "if winning_name is None:\n",
    "    print(f'There was no winner (nobody finished).')\n",
    "else:\n",
    "    print(f'The winner was {winning_name} with time {winning_time:.2f} seconds')\n",
    "    student = get_student(students, winning_name)\n",
    "    if student is None:\n",
    "        raise Exception(f'could not find student for this drone name: {winning_name}')\n",
    "    name = f'{student[\"first_name\"]} {student[\"last_name\"]}'\n",
    "    partners = get_partners(students, student)\n",
    "    for partner in partners:\n",
    "        name += f'\\n{partner[\"first_name\"]} {partner[\"last_name\"]}'\n",
    "    fig, ax = plt.subplots(1, 1, figsize=(5, 5))\n",
    "    ax.set_axis_off()\n",
    "    im = plt.imread(os.path.join(srcdir, f'{winning_name}.png'))\n",
    "    ax.imshow(im, aspect='equal')\n",
    "    ax.set_title(f'FREE-FOR-ALL WINNER ({winning_time:.2f} seconds)\\n\\n{winning_name}\\n{name}', fontsize=24)\n",
    "    ax.axis('equal')"
   ]
  },
  {
   "cell_type": "markdown",
   "id": "682595bd",
   "metadata": {},
   "source": [
    "Show all results."
   ]
  },
  {
   "cell_type": "code",
   "execution_count": null,
   "id": "085db3bd",
   "metadata": {},
   "outputs": [],
   "source": [
    "results = get_results(simulator, students)\n",
    "print(results)\n",
    "\n",
    "with open(f'{datetimestr}-free-for-all-{index_of_race}.txt', 'w') as f:\n",
    "    f.write(results)"
   ]
  },
  {
   "cell_type": "markdown",
   "id": "971c3758",
   "metadata": {},
   "source": [
    "Increment index of race."
   ]
  },
  {
   "cell_type": "code",
   "execution_count": null,
   "id": "4b1f891b",
   "metadata": {},
   "outputs": [],
   "source": [
    "index_of_race += 1"
   ]
  },
  {
   "cell_type": "markdown",
   "id": "cac12cff",
   "metadata": {},
   "source": [
    "## Save final status"
   ]
  },
  {
   "cell_type": "code",
   "execution_count": null,
   "id": "11fd87db",
   "metadata": {},
   "outputs": [],
   "source": [
    "with open(f'{datetimestr}-students-qualification-final.json', 'w') as outfile:\n",
    "    json.dump(students, outfile, indent=4)"
   ]
  },
  {
   "cell_type": "code",
   "execution_count": null,
   "id": "e5d5eaec",
   "metadata": {},
   "outputs": [],
   "source": []
  }
 ],
 "metadata": {
  "kernelspec": {
   "display_name": "Python 3 (ipykernel)",
   "language": "python",
   "name": "python3"
  },
  "language_info": {
   "codemirror_mode": {
    "name": "ipython",
    "version": 3
   },
   "file_extension": ".py",
   "mimetype": "text/x-python",
   "name": "python",
   "nbconvert_exporter": "python",
   "pygments_lexer": "ipython3",
   "version": "3.11.0"
  }
 },
 "nbformat": 4,
 "nbformat_minor": 5
}
