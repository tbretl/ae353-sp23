{
 "cells": [
  {
   "cell_type": "markdown",
   "id": "middle-acoustic",
   "metadata": {},
   "source": [
    "# Control of a \"spacecraft\" platform with a reaction wheel"
   ]
  },
  {
   "cell_type": "markdown",
   "id": "44989aeb",
   "metadata": {},
   "source": [
    "Do all imports:"
   ]
  },
  {
   "cell_type": "code",
   "execution_count": null,
   "id": "dimensional-contamination",
   "metadata": {},
   "outputs": [],
   "source": [
    "# These are standard modules\n",
    "import time\n",
    "import numpy as np\n",
    "from scipy import linalg\n",
    "from scipy import signal\n",
    "import sympy as sym\n",
    "import matplotlib.pyplot as plt\n",
    "from IPython.display import display, Latex, Markdown\n",
    "\n",
    "# This is a custom interface to the pybullet simulator\n",
    "import ae353_platform\n",
    "\n",
    "# Suppress the use of scientific notation when printing small numbers\n",
    "np.set_printoptions(suppress=True)"
   ]
  },
  {
   "cell_type": "markdown",
   "id": "35729d20",
   "metadata": {},
   "source": [
    "## Theory"
   ]
  },
  {
   "cell_type": "markdown",
   "id": "99e54854",
   "metadata": {},
   "source": [
    "### Derive state-space model"
   ]
  },
  {
   "cell_type": "markdown",
   "id": "254d68be",
   "metadata": {},
   "source": [
    "Define the equations of motion."
   ]
  },
  {
   "cell_type": "code",
   "execution_count": null,
   "id": "fafe2033",
   "metadata": {},
   "outputs": [],
   "source": [
    "# Define variables\n",
    "q1, v1, v2, tau = sym.symbols('q1, v1, v2, tau')\n",
    "\n",
    "# Define parameters\n",
    "J1, J2, m, g, l = sym.symbols('J1, J2, m, g, l')\n",
    "\n",
    "# Define right-hand side of ODEs\n",
    "f = sym.Matrix([\n",
    "    v1,\n",
    "    (1 / J1) * (tau - m * g * l * sym.sin(q1)),\n",
    "    (1 / J2) * (- ((J1 + J2) / J1) * tau + (J2 / J1) * m * g * l * sym.sin(q1))\n",
    "])"
   ]
  },
  {
   "cell_type": "markdown",
   "id": "e661ea99",
   "metadata": {},
   "source": [
    "Choose equilibrium point."
   ]
  },
  {
   "cell_type": "code",
   "execution_count": null,
   "id": "1b56b588",
   "metadata": {},
   "outputs": [],
   "source": [
    "q1e = sym.pi\n",
    "v1e = 0\n",
    "v2e = 5 * sym.pi / 3\n",
    "taue = 0\n",
    "\n",
    "eq = {\n",
    "    q1: q1e,\n",
    "    v1: v1e,\n",
    "    v2: v2e,\n",
    "    tau: taue,\n",
    "}"
   ]
  },
  {
   "cell_type": "markdown",
   "id": "68746a6b",
   "metadata": {},
   "source": [
    "Verify equilibrium point (should produce all zeros)."
   ]
  },
  {
   "cell_type": "code",
   "execution_count": null,
   "id": "12e6ccde",
   "metadata": {},
   "outputs": [],
   "source": [
    "f.subs(eq)"
   ]
  },
  {
   "cell_type": "markdown",
   "id": "5b981b58",
   "metadata": {},
   "source": [
    "Linearize about equilibrium point."
   ]
  },
  {
   "cell_type": "code",
   "execution_count": null,
   "id": "c30e36ac",
   "metadata": {},
   "outputs": [],
   "source": [
    "A = f.jacobian([q1, v1, v2]).subs(eq)\n",
    "B = f.jacobian([tau]).subs(eq)"
   ]
  },
  {
   "cell_type": "markdown",
   "id": "7b7fc6df",
   "metadata": {},
   "source": [
    "Show result."
   ]
  },
  {
   "cell_type": "code",
   "execution_count": null,
   "id": "d87220ee",
   "metadata": {},
   "outputs": [],
   "source": [
    "A"
   ]
  },
  {
   "cell_type": "code",
   "execution_count": null,
   "id": "84040eec",
   "metadata": {},
   "outputs": [],
   "source": [
    "B"
   ]
  },
  {
   "cell_type": "markdown",
   "id": "34604c0d",
   "metadata": {},
   "source": [
    "### Design linear state feedback"
   ]
  },
  {
   "cell_type": "markdown",
   "id": "d1af4ef0",
   "metadata": {},
   "source": [
    "Choose peak time and peak overshoot."
   ]
  },
  {
   "cell_type": "code",
   "execution_count": null,
   "id": "946ca4b4",
   "metadata": {},
   "outputs": [],
   "source": [
    "Mp = 1 / sym.exp(sym.pi / 2)\n",
    "Tp = sym.pi / 4"
   ]
  },
  {
   "cell_type": "markdown",
   "id": "2aed2c25",
   "metadata": {},
   "source": [
    "Choose eigenvalue locations to achieve peak time and peak overshoot (approximately)."
   ]
  },
  {
   "cell_type": "code",
   "execution_count": null,
   "id": "d2666a00",
   "metadata": {},
   "outputs": [],
   "source": [
    "# Place dominant eigenvalues to achieve specifications\n",
    "sigma = -sym.ln(Mp) / Tp\n",
    "omega = sym.pi / Tp\n",
    "s1 = -sigma + omega * sym.I\n",
    "s2 = -sigma - omega * sym.I\n",
    "\n",
    "# Place third eigenvalue to have little effect on closed-loop response\n",
    "s3 = -5 * sigma"
   ]
  },
  {
   "cell_type": "markdown",
   "id": "9d01944d",
   "metadata": {},
   "source": [
    "Find and show coefficients of characteristic polynomial we want."
   ]
  },
  {
   "cell_type": "code",
   "execution_count": null,
   "id": "139532db",
   "metadata": {},
   "outputs": [],
   "source": [
    "# Define variable in polynomial\n",
    "s = sym.symbols('s')\n",
    "\n",
    "# Find coefficients\n",
    "c_want = sym.simplify(sym.Poly((s - s1) * (s - s2) * (s - s3))).coeffs()\n",
    "\n",
    "# Show coefficients\n",
    "c_want"
   ]
  },
  {
   "cell_type": "markdown",
   "id": "8053b902",
   "metadata": {},
   "source": [
    "Find and show coefficients of characteristic polynomial we have."
   ]
  },
  {
   "cell_type": "code",
   "execution_count": null,
   "id": "fd9d842a",
   "metadata": {},
   "outputs": [],
   "source": [
    "# Define gain matrix in terms of symbolic variables\n",
    "k1, k2, k3 = sym.symbols('k1, k2, k3')\n",
    "K = sym.Matrix([[k1, k2, k3]])\n",
    "\n",
    "# Find coefficients\n",
    "c_have = sym.simplify((A - B @ K).charpoly()).coeffs()\n",
    "\n",
    "# Show coefficients\n",
    "c_have"
   ]
  },
  {
   "cell_type": "markdown",
   "id": "943c44d3",
   "metadata": {},
   "source": [
    "Equate coefficients and solve for gains."
   ]
  },
  {
   "cell_type": "code",
   "execution_count": null,
   "id": "ddad345e",
   "metadata": {},
   "outputs": [],
   "source": [
    "# Solve\n",
    "sol = sym.simplify(sym.solve(sym.Matrix(c_want) - sym.Matrix(c_have), [k1, k2, k3]))\n",
    "\n",
    "# Plug into gain matrix\n",
    "K = K.subs(sol)\n",
    "\n",
    "# Show gain matrix\n",
    "K"
   ]
  },
  {
   "cell_type": "markdown",
   "id": "40e3333a",
   "metadata": {},
   "source": [
    "## Implementation"
   ]
  },
  {
   "cell_type": "markdown",
   "id": "8db19252",
   "metadata": {},
   "source": [
    "Convert equilibrium point from symbolic to numeric."
   ]
  },
  {
   "cell_type": "code",
   "execution_count": null,
   "id": "0744dbe4",
   "metadata": {},
   "outputs": [],
   "source": [
    "q1e = float(q1e)\n",
    "v1e = float(v1e)\n",
    "v2e = float(v2e)\n",
    "taue = float(taue)"
   ]
  },
  {
   "cell_type": "markdown",
   "id": "88e381e9",
   "metadata": {},
   "source": [
    "Define lambda functions that will allow us to convert $A$, $B$, and $K$ from symbolic to numeric."
   ]
  },
  {
   "cell_type": "code",
   "execution_count": null,
   "id": "2a8b4fab",
   "metadata": {},
   "outputs": [],
   "source": [
    "A_num = sym.lambdify([J1, J2, m, g, l], A)\n",
    "B_num = sym.lambdify([J1, J2, m, g, l], B)\n",
    "K_num = sym.lambdify([J1, J2, m, g, l], K)"
   ]
  },
  {
   "cell_type": "markdown",
   "id": "8bea1b10",
   "metadata": {},
   "source": [
    "Define parameter values."
   ]
  },
  {
   "cell_type": "code",
   "execution_count": null,
   "id": "4bf1c254",
   "metadata": {},
   "outputs": [],
   "source": [
    "# distance from platform axis to wheel axis\n",
    "l = 1.\n",
    "\n",
    "# radius of wheel\n",
    "rw = 0.5\n",
    "\n",
    "# mass of wheel\n",
    "mw = 0.25\n",
    "\n",
    "# moi of wheel\n",
    "Jw = 0.5 * mw * rw**2\n",
    "\n",
    "# mass of platform\n",
    "mp = 12. * (1. - mw * l**2) / (3.**2 + 2.**2)\n",
    "\n",
    "# moment of inertia of platform\n",
    "Jp = (1. / 12.) * mp * (3.**2 + 2.**2)\n",
    "\n",
    "# gravity\n",
    "g = 9.81\n",
    "\n",
    "# composite parameters\n",
    "J1 = Jp + mw * l**2\n",
    "J2 = Jw\n",
    "m = mw"
   ]
  },
  {
   "cell_type": "markdown",
   "id": "31b0ab43",
   "metadata": {},
   "source": [
    "Do the conversion and show the result."
   ]
  },
  {
   "cell_type": "code",
   "execution_count": null,
   "id": "28abb5e6",
   "metadata": {},
   "outputs": [],
   "source": [
    "A = A_num(J1, J2, m, g, l).astype(float)\n",
    "B = B_num(J1, J2, m, g, l).astype(float)\n",
    "K = K_num(J1, J2, m, g, l).astype(float)\n",
    "\n",
    "print(f'A =\\n{A}\\n')\n",
    "print(f'B =\\n{B}\\n')\n",
    "print(f'K =\\n{K}\\n')"
   ]
  },
  {
   "cell_type": "markdown",
   "id": "37015146",
   "metadata": {},
   "source": [
    "Define functions for implementation and analysis."
   ]
  },
  {
   "cell_type": "code",
   "execution_count": null,
   "id": "60389fbb",
   "metadata": {},
   "outputs": [],
   "source": [
    "# Define a controller that implements linear state feedback.\n",
    "class Controller:\n",
    "    def __init__(self, K, q1e, v1e, v2e, taue):\n",
    "        self.K = K\n",
    "        self.q1e = q1e\n",
    "        self.v1e = v1e\n",
    "        self.v2e = v2e\n",
    "        self.taue = taue\n",
    "    \n",
    "    def reset(self):\n",
    "        pass\n",
    "    \n",
    "    def run(\n",
    "            self,\n",
    "            t,\n",
    "            platform_angle,\n",
    "            platform_velocity,\n",
    "            wheel_angle,\n",
    "            wheel_velocity,\n",
    "        ):\n",
    "        \n",
    "        # Find state\n",
    "        x = np.array([\n",
    "            platform_angle - self.q1e,\n",
    "            platform_velocity - self.v1e,\n",
    "            wheel_velocity - self.v2e,\n",
    "        ])\n",
    "        \n",
    "        # Find input\n",
    "        u = - self.K @ x\n",
    "        \n",
    "        # Find actuator command\n",
    "        tau = u[0]\n",
    "        \n",
    "        wheel_torque = -tau\n",
    "        return wheel_torque\n",
    "    \n",
    "# Define a function to get data from simulation for a given choice\n",
    "# of equilibrium point, gain matrix, and initial condition.\n",
    "def get_data(simulator, q1e, v1e, v2e, taue, K, q1i, v1i, v2i, max_time=5.0):\n",
    "    # Create controller\n",
    "    controller = Controller(K, q1e, v1e, v2e, taue)\n",
    "    \n",
    "    # Reset simulator\n",
    "    simulator.reset(\n",
    "        platform_angle=q1i,\n",
    "        platform_velocity=v1i,\n",
    "        wheel_angle=0.,\n",
    "        wheel_velocity=v2i,\n",
    "    )\n",
    "\n",
    "    # Reset controller\n",
    "    controller.reset()\n",
    "\n",
    "    # Run simulator\n",
    "    data = simulator.run(\n",
    "        controller,\n",
    "        max_time=max_time,\n",
    "    )\n",
    "    \n",
    "    # Return data\n",
    "    return data\n",
    "\n",
    "# Define a function to find numeric solution to closed-loop (linear) system.\n",
    "def get_x_numeric(data, q1e, v1e, v2e, A, B):\n",
    "    # Define initial conditions\n",
    "    x0 = np.array([\n",
    "        data['platform_angle'][0] - q1e,\n",
    "        data['platform_velocity'][0] - v1e,\n",
    "        data['wheel_velocity'][0] - v2e,\n",
    "    ])\n",
    "\n",
    "    # Create empty array to hold state at each time\n",
    "    x = []\n",
    "\n",
    "    # Compute state at each time\n",
    "    for t in data['t']:\n",
    "        x.append(linalg.expm((A - B @ K) * t) @ x0)\n",
    "    x = np.array(x)\n",
    "    \n",
    "    # Return state at each time\n",
    "    return x\n",
    "    \n",
    "# Define a function to show results.\n",
    "def show_results(\n",
    "            data,\n",
    "            q1e, v1e, v2e, taue,\n",
    "            A, B, K,\n",
    "            q1i, v1i, v2i,\n",
    "            show_pred=False,\n",
    "            filename=None,\n",
    "            fontsize=16,\n",
    "        ):\n",
    "    t = data['t']\n",
    "    q1 = data['platform_angle']\n",
    "    v1 = data['platform_velocity']\n",
    "    v2 = data['wheel_velocity']\n",
    "    tau = - data['wheel_torque']\n",
    "    x1 = q1 - q1e\n",
    "    x2 = v1 - v1e\n",
    "    x3 = v2 - v2e\n",
    "    \n",
    "    fig, (ax_q1, ax_v1, ax_v2, ax_tau) = plt.subplots(4, 1, figsize=(10, 12), sharex=True)\n",
    "\n",
    "    ax_q1.plot(t, q1, label='$q_1$', linewidth=2)\n",
    "    ax_q1.plot(t, np.ones_like(t) * q1e, '--', label=r'$q_{1e}$', linewidth=2)\n",
    "    \n",
    "    ax_v1.plot(t, v1, label='$v_1$', linewidth=2)\n",
    "    ax_v1.plot(t, np.ones_like(t) * v1e, '--', label=r'$v_{1e}$', linewidth=2)\n",
    "    \n",
    "    ax_v2.plot(t, v2, label='$v_2$', linewidth=2)\n",
    "    ax_v2.plot(t, np.ones_like(t) * v2e, '--', label=r'$v_{2e}$', linewidth=2)\n",
    "    \n",
    "    ax_tau.plot(t, tau, label=r'$\\tau$', linewidth=2)\n",
    "    ax_tau.plot(t, np.ones_like(t) * taue, '--', label=r'$\\tau_{e}$', linewidth=2)\n",
    "    ax_tau.plot(t, simulator.tau_max * np.ones_like(t), '--', linewidth=2, color='C2')\n",
    "    ax_tau.plot(t, - simulator.tau_max * np.ones_like(t), '--', linewidth=2, color='C2')\n",
    "    \n",
    "    if show_pred:\n",
    "        # Get x(t) and extract components\n",
    "        x_num = get_x_numeric(data, q1e, v1e, v2e, A, B)\n",
    "        x1_num = x_num[:, 0]\n",
    "        x2_num = x_num[:, 1]\n",
    "        x3_num = x_num[:, 2]\n",
    "        \n",
    "        # Get u(t)\n",
    "        u_num = - (K @ x_num.T).T\n",
    "        u1_num = u_num[:, 0]\n",
    "        \n",
    "        # Compute q1(t), v1(t), and v2(t) from x(t)\n",
    "        q1_num = x1_num + q1e\n",
    "        v1_num = x2_num + v1e\n",
    "        v2_num = x3_num + v2e\n",
    "        \n",
    "        # Compute tau(t) from u(t)\n",
    "        tau_num = u1_num + taue\n",
    "        \n",
    "        # Add everything to plots\n",
    "        ax_q1.plot(t, q1_num, ':', label='$q_1$ (from linear model)', linewidth=4, color='C3')\n",
    "        ax_v1.plot(t, v1_num, ':', label='$v_1$ (from linear model)', linewidth=4, color='C3')\n",
    "        ax_v2.plot(t, v2_num, ':', label='$v_2$ (from linear model)', linewidth=4, color='C3')\n",
    "        ax_tau.plot(t, tau_num, ':', label=r'$\\tau$ (from linear model)', linewidth=4, color='C3')\n",
    "        \n",
    "    ax_q1.grid()\n",
    "    ax_q1.legend(fontsize=fontsize, ncol=3, loc='upper right')\n",
    "    ax_q1.tick_params(labelsize=fontsize)\n",
    "    ax_q1.set_ylim(q1e - 0.5, q1e + 0.5)\n",
    "    ax_q1.set_ylabel('angle (rad)', fontsize=14)\n",
    "    \n",
    "    ax_v1.grid()\n",
    "    ax_v1.legend(fontsize=fontsize, ncol=3, loc='upper right')\n",
    "    ax_v1.tick_params(labelsize=fontsize)\n",
    "    ax_v1.set_ylim(v1e - 1, v1e + 1)\n",
    "    ax_v1.set_ylabel('angular velocity (rad/s)', fontsize=14)\n",
    "    \n",
    "    ax_v2.grid()\n",
    "    ax_v2.legend(fontsize=fontsize, ncol=3, loc='upper right')\n",
    "    ax_v2.tick_params(labelsize=fontsize)\n",
    "    ax_v2.set_ylim(v2e - 20, v2e + 20)\n",
    "    ax_v2.set_ylabel('angular velocity (rad/s)', fontsize=14)\n",
    "\n",
    "    ax_tau.grid()\n",
    "    ax_tau.legend(fontsize=fontsize, ncol=3, loc='upper right')\n",
    "    ax_tau.tick_params(labelsize=fontsize)\n",
    "    ax_tau.set_ylim(-1.2 * simulator.tau_max, 1.2 * simulator.tau_max)\n",
    "    ax_tau.set_ylabel('torque (N-m)', fontsize=14)\n",
    "        \n",
    "    ax_tau.set_xlabel('time (s)', fontsize=fontsize)\n",
    "    ax_tau.set_xlim([data['t'][0], data['t'][-1]])\n",
    "    \n",
    "    fig.tight_layout()\n",
    "    if filename is not None:\n",
    "        fig.savefig(filename)\n",
    "    \n",
    "    plt.show()"
   ]
  },
  {
   "cell_type": "markdown",
   "id": "2823ab5d",
   "metadata": {},
   "source": [
    "Create an instance of the simulator with no display."
   ]
  },
  {
   "cell_type": "code",
   "execution_count": null,
   "id": "3d9dc31c",
   "metadata": {},
   "outputs": [],
   "source": [
    "simulator = ae353_platform.Simulator(\n",
    "    display=False,\n",
    "    roll=(np.pi / 2),\n",
    ")"
   ]
  },
  {
   "cell_type": "markdown",
   "id": "2e8bd16a",
   "metadata": {},
   "source": [
    "Save a snapshot of the simulation window to include in the report."
   ]
  },
  {
   "cell_type": "code",
   "execution_count": null,
   "id": "7ce228dd",
   "metadata": {},
   "outputs": [],
   "source": [
    "# Reset simulator to equilibrium\n",
    "simulator.reset(\n",
    "    platform_angle=q1e,\n",
    "    platform_velocity=v1e,\n",
    "    wheel_angle=0.,\n",
    "    wheel_velocity=v2e,\n",
    ")\n",
    "\n",
    "# Get snapshot as height x width x 4 numpy array of RGBA values\n",
    "rgba = simulator.snapshot()\n",
    "\n",
    "# Display snapshot\n",
    "plt.figure(figsize=(8, 8))\n",
    "plt.imshow(rgba)\n",
    "\n",
    "# Save snapshot\n",
    "plt.imsave('fig00.pdf', rgba)"
   ]
  },
  {
   "cell_type": "markdown",
   "id": "5432580c",
   "metadata": {},
   "source": [
    "Show example results for small error in initial platform angle."
   ]
  },
  {
   "cell_type": "code",
   "execution_count": null,
   "id": "d6041b90",
   "metadata": {},
   "outputs": [],
   "source": [
    "(q1i, v1i, v2i) = (q1e + 0.1, v1e + 0.0, v2e + 0.0)\n",
    "data = get_data(simulator, q1e, v1e, v2e, taue, K, q1i, v1i, v2i, max_time=5.0)\n",
    "show_results(\n",
    "    data,\n",
    "    q1e, v1e, v2e, taue,\n",
    "    A, B, K,\n",
    "    q1i, v1i, v2i,\n",
    "    show_pred=True,\n",
    "    filename='fig01.pdf',\n",
    ")"
   ]
  },
  {
   "cell_type": "markdown",
   "id": "1cfa13d3",
   "metadata": {},
   "source": [
    "Compute peak time and peak overshoot for this example."
   ]
  },
  {
   "cell_type": "code",
   "execution_count": null,
   "id": "a2e029a0",
   "metadata": {},
   "outputs": [],
   "source": [
    "# Get index of peak (in this case, the index at which the\n",
    "# platform is at its minimum - not true in general!)\n",
    "i_peak = np.argmin(data['platform_angle'])\n",
    "\n",
    "# Get peak time\n",
    "Tp = data['t'][i_peak]\n",
    "\n",
    "# Get peak overshoot\n",
    "Mp = np.abs((data['platform_angle'][i_peak] - q1e) / (q1i - q1e))\n",
    "\n",
    "# Show peak time and peak overshoot\n",
    "print(f'Tp = {Tp:.2f}')\n",
    "print(f'Mp = {Mp:.2f}')"
   ]
  },
  {
   "cell_type": "markdown",
   "id": "cd088c52",
   "metadata": {},
   "source": [
    "Show example results for large error in initial platform angle."
   ]
  },
  {
   "cell_type": "code",
   "execution_count": null,
   "id": "f5fb556c",
   "metadata": {},
   "outputs": [],
   "source": [
    "(q1i, v1i, v2i) = (q1e + 0.5, v1e + 0.0, v2e + 0.0)\n",
    "data = get_data(simulator, q1e, v1e, v2e, taue, K, q1i, v1i, v2i, max_time=5.0)\n",
    "show_results(\n",
    "    data,\n",
    "    q1e, v1e, v2e, taue,\n",
    "    A, B, K,\n",
    "    q1i, v1i, v2i,\n",
    "    show_pred=True,\n",
    "    filename='fig02.pdf',\n",
    ")"
   ]
  },
  {
   "cell_type": "markdown",
   "id": "ee2221c2",
   "metadata": {},
   "source": [
    "Find set of initial conditions for which system converges in at most four seconds."
   ]
  },
  {
   "cell_type": "code",
   "execution_count": null,
   "id": "e87731e5",
   "metadata": {},
   "outputs": [],
   "source": [
    "# Define a function to check of all states converge within four seconds\n",
    "def is_stable_in_simulation(data, q1e, v1e, v2e, taue):\n",
    "    # Get last second of data\n",
    "    t = data['t'][-100:]\n",
    "    q1 = data['platform_angle'][-100:]\n",
    "    v1 = data['platform_velocity'][-100:]\n",
    "    v2 = data['wheel_velocity'][-100:]\n",
    "    \n",
    "    # Check if x(t) is near zero throughout this last second\n",
    "    q1_converged = np.allclose(q1 - q1e, 0., rtol=1e-2, atol=1e-2)\n",
    "    v1_converged = np.allclose(v1 - v1e, 0., rtol=1e-2, atol=1e-2)\n",
    "    v2_converged = np.allclose(v2 - v2e, 0., rtol=1e-2, atol=1e-2)\n",
    "    return q1_converged and v1_converged and v2_converged\n",
    "\n",
    "# Always start v2 at equilibrium value\n",
    "v2i = v2e\n",
    "\n",
    "# Create lists to hold results\n",
    "q1_bnd = []\n",
    "v1_bnd = []\n",
    "\n",
    "# Search for the largest initial error in a particular direction\n",
    "# (in the space of q1, v1) that results in closed-loop stability\n",
    "d_step = 0.01\n",
    "for a in np.linspace(0, 2 * np.pi, 100):\n",
    "    d = d_step\n",
    "    while True:\n",
    "        q1i = q1e + (d * np.cos(a))\n",
    "        v1i = v1e + (d * np.sin(a))\n",
    "        data = get_data(simulator, q1e, v1e, v2e, taue, K, q1i, v1i, v2i)\n",
    "        if not is_stable_in_simulation(data, q1e, v1e, v2e, taue):\n",
    "            q1_bnd.append(q1i - q1e)\n",
    "            v1_bnd.append(v1i - v1e)\n",
    "            print(f' {a:.2f} : ({(q1i - q1e):.2f}, {(v1i - v1e):.2f})')\n",
    "            break\n",
    "        d += d_step"
   ]
  },
  {
   "cell_type": "markdown",
   "id": "936ffd5e",
   "metadata": {},
   "source": [
    "Plot set of initial conditions for which all states converge within four seconds."
   ]
  },
  {
   "cell_type": "code",
   "execution_count": null,
   "id": "4ccaac90",
   "metadata": {},
   "outputs": [],
   "source": [
    "fig, ax = plt.subplots(1, 1, figsize=(10, 8), tight_layout=True)\n",
    "ax.fill(\n",
    "    q1_bnd,\n",
    "    v1_bnd,\n",
    "    linestyle='-',\n",
    "    linewidth=2,\n",
    "    edgecolor='C0',\n",
    "    facecolor='C1',\n",
    "    label='stable',\n",
    ")\n",
    "ax.grid()\n",
    "ax.legend(fontsize=14)\n",
    "# ax.set_aspect('equal')\n",
    "ax.set_xlabel('initial error in platform angle (rad)', fontsize=14)\n",
    "ax.set_ylabel('initial error in platform velocity (rad/s)', fontsize=14)\n",
    "ax.set_xlim([-0.5, 0.5])\n",
    "ax.set_ylim([-0.35, 0.35])\n",
    "ax.tick_params(labelsize=14)\n",
    "\n",
    "fig.tight_layout()\n",
    "fig.savefig('fig03.pdf')\n",
    "\n",
    "plt.show()"
   ]
  },
  {
   "cell_type": "code",
   "execution_count": null,
   "id": "4ac763be",
   "metadata": {},
   "outputs": [],
   "source": []
  }
 ],
 "metadata": {
  "kernelspec": {
   "display_name": "Python 3 (ipykernel)",
   "language": "python",
   "name": "python3"
  },
  "language_info": {
   "codemirror_mode": {
    "name": "ipython",
    "version": 3
   },
   "file_extension": ".py",
   "mimetype": "text/x-python",
   "name": "python",
   "nbconvert_exporter": "python",
   "pygments_lexer": "ipython3",
   "version": "3.11.0"
  }
 },
 "nbformat": 4,
 "nbformat_minor": 5
}
